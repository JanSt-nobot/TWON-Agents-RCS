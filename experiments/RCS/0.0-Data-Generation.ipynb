{
 "cells": [
  {
   "cell_type": "code",
   "execution_count": 34,
   "metadata": {},
   "outputs": [],
   "source": [
    "import hashlib\n",
    "import itertools\n",
    "import json\n",
    "import random\n",
    "from time import sleep\n",
    "from typing import List, Dict, Tuple\n",
    "\n",
    "import requests\n",
    "from tqdm import tqdm\n"
   ]
  },
  {
   "cell_type": "code",
   "execution_count": 35,
   "metadata": {},
   "outputs": [],
   "source": [
    "RAW_DATA_DIR: str = './raw'"
   ]
  },
  {
   "cell_type": "code",
   "execution_count": 36,
   "metadata": {},
   "outputs": [],
   "source": [
    "# experiment setup\n",
    "\n",
    "integrations: List[dict] = [\n",
    "    {\n",
    "        \"provider\": \"huggingFace\",\n",
    "        \"model\": \"mistralai/Mistral-7B-Instruct-v0.2\",\n",
    "    },\n",
    "    #{\n",
    "    #    \"provider\": \"OpenAI\",\n",
    "    #    \"model\": \"gpt-3.5-turbo\"\n",
    "    #}\n",
    "]\n",
    "\n",
    "personas: List[List[str]] = [\n",
    "    [\"neutral\"],\n",
    "    [\"neutral\", \"progressive\"],\n",
    "    [\"neutral\", \"polit-conservative\"],\n",
    "    [\"neutral\", \"far-right\"],\n",
    "    [\"neutral\", \"radical-left\"],\n",
    "    #[\"troll\"],\n",
    "    #[\"teenager, \"internet-language\", \"troll\", \"radical-left\"],\n",
    "    #[\"teenager\", \"internet-language\", \"troll\", \"far-right\"],\n",
    "    # [\"conservative\", \"polit-conservative\"],\n",
    "    # [\"pensioner\", \"conservative\"],\n",
    "    [\"dystopian\"],\n",
    "    [\"male-college-student\", \"internet-language\", \"dystopian\", \"progressive\"],\n",
    "    [\"carpenter\", \"dystopian\", \"polit-conservative\"],\n",
    "    [\"devilsadvocate\", \"far-right\"],\n",
    "    [\"male-college-student\", \"internet-language\", \"devilsadvocate\", \"radical-left\"],\n",
    "    [\"pensioner\", \"devilsadvocate\", \"far-right\"],\n",
    "    [\"know-it-all\", \"progressive\"],\n",
    "    [\"hustler\", \"know-it-all\", \"far-right\"],\n",
    "    [\"male-college-student\", \"internet-language\", \"know-it-all\", \"radical-left\"],\n",
    "    [\"phd-student\", \"mediator\", \"progressive\"],\n",
    "    [\"affluent-young-woman\", \"mediator\", \"polit-conservative\"],\n",
    "    [\"educator\"],\n",
    "    [\"privileged-woman\", \"karen\", \"far-right\"],\n",
    "    [\"affluent-young-woman\", \"karen\", \"polit-conservative\"],\n",
    "    [\"misogynist\"],\n",
    "    [\"teenager\", \"internet-language\", \"misogynist\"],\n",
    "    [\"carpenter\", \"misogynist\", \"far-right\"],\n",
    "    [\"esoteric\"],\n",
    "    [\"privileged-woman\", \"esoteric\", \"far-right\"],\n",
    "    [\"hippie\"],\n",
    "    [\"privileged-woman\", \"hippie\", \"radical-left\"],\n",
    "    [\"phd-student\", \"supportive-saviour\", \"progressive\"],\n",
    "    [\"hustler\", \"influencer\", \"progressive\"],\n",
    "    [\"wealthy-entrepreneur\", \"influencer\", \"polit-conservative\"],\n",
    "    [\"affluent-young-woman\", \"social-media-activist\", \"radical-left\"],\n",
    "    [\"male-college-student\", \"internet-language\", \"social-media-activist\", \"far-right\"]\n",
    "]\n",
    "#languages: List[str] = [\"Dutch\", \"English\", \"German\"]\n",
    "#platforms: List[str] = [\"Twitter\", \"Reddit\"] \n",
    "RAW_POSTS_DIR: str = \"./sample_og_posts.json\"\n",
    "threads: List[Dict[str, str]] = json.load(open(RAW_POSTS_DIR, 'r'))  "
   ]
  },
  {
   "cell_type": "code",
   "execution_count": 37,
   "metadata": {},
   "outputs": [],
   "source": [
    "# number of iterations\n",
    "x: int = 1\n",
    "# hidden parameters (randomly chosen)\n",
    "length: List[str] = [\"50\", \"100\", \"200\", \"280\"] "
   ]
  },
  {
   "cell_type": "code",
   "execution_count": 38,
   "metadata": {},
   "outputs": [
    {
     "data": {
      "text/plain": [
       "15"
      ]
     },
     "execution_count": 38,
     "metadata": {},
     "output_type": "execute_result"
    }
   ],
   "source": [
    "len(threads)"
   ]
  },
  {
   "cell_type": "code",
   "execution_count": 39,
   "metadata": {},
   "outputs": [
    {
     "data": {
      "text/plain": [
       "465"
      ]
     },
     "execution_count": 39,
     "metadata": {},
     "output_type": "execute_result"
    }
   ],
   "source": [
    "configurations: List[Tuple] = list(\n",
    "    itertools.product(*[integrations, personas, threads])\n",
    ")\n",
    "random.shuffle(configurations)\n",
    "len(configurations)"
   ]
  },
  {
   "cell_type": "code",
   "execution_count": 40,
   "metadata": {},
   "outputs": [
    {
     "data": {
      "text/plain": [
       "({'provider': 'huggingFace', 'model': 'mistralai/Mistral-7B-Instruct-v0.2'},\n",
       " ['male-college-student', 'internet-language', 'dystopian', 'progressive'],\n",
       " {'persona': 'liberal',\n",
       "  'model': 'gpt-3.5-turbo',\n",
       "  'topic': 'Healthcare',\n",
       "  'platform': 'Twitter',\n",
       "  'language': 'English',\n",
       "  'text': \"Access to quality healthcare should be a fundamental right, not a privilege. We need a system that ensures everyone can receive the care they need, regardless of income or social status. Let's prioritize public options and work towards a healthier, more equitable society.\",\n",
       "  'annotation': {'topic': None, 'persona': None, 'authenticity': None},\n",
       "  'id': '93cc14194d55075d6662b345e343b34b6d51f2d1d46b0871'})"
      ]
     },
     "execution_count": 40,
     "metadata": {},
     "output_type": "execute_result"
    }
   ],
   "source": [
    "configurations[0]"
   ]
  },
  {
   "cell_type": "code",
   "execution_count": null,
   "metadata": {},
   "outputs": [
    {
     "name": "stderr",
     "output_type": "stream",
     "text": [
      "\n",
      "\n",
      "\n",
      "\n",
      "\n",
      "  0%|          | 0/465 [00:00<?, ?it/s]\u001b[A\u001b[A\u001b[A\u001b[A\u001b[A"
     ]
    },
    {
     "name": "stdout",
     "output_type": "stream",
     "text": [
      "@young_and_angry: agreed, man. but how r we gonna pay for it all? capitalism sucks ass. we need a real revolution, not just more band-aids.\n"
     ]
    },
    {
     "name": "stderr",
     "output_type": "stream",
     "text": [
      "\n",
      "\n",
      "\n",
      "\n",
      "\n",
      "  0%|          | 1/465 [00:02<22:57,  2.97s/it]\u001b[A\u001b[A\u001b[A\u001b[A\u001b[A"
     ]
    },
    {
     "name": "stdout",
     "output_type": "stream",
     "text": [
      "@anarchist_hippie: 💩💩💩 recycling is for the weak. real change comes from disrupting the system, not conforming to it. 💣💣💣\n"
     ]
    },
    {
     "name": "stderr",
     "output_type": "stream",
     "text": [
      "\n",
      "\n",
      "\n",
      "\n",
      "\n",
      "  0%|          | 2/465 [00:05<22:54,  2.97s/it]\u001b[A\u001b[A\u001b[A\u001b[A\u001b[A"
     ]
    },
    {
     "name": "stdout",
     "output_type": "stream",
     "text": [
      "@carpenterjoe: man, i get it, but sometimes life just ain't fair. some folks just can't afford to prioritize their health. we need a safety net, not a free-for-all. let's find a balance, y'know? 😔💔\n"
     ]
    },
    {
     "name": "stderr",
     "output_type": "stream",
     "text": [
      "\n",
      "\n",
      "\n",
      "\n",
      "\n",
      "  1%|          | 3/465 [00:12<30:26,  3.95s/it]\u001b[A\u001b[A\u001b[A\u001b[A\u001b[A"
     ]
    },
    {
     "name": "stdout",
     "output_type": "stream",
     "text": [
      "@conservative: ukraine not ur concern. focus on ur own country. ur liberal policies causing chaos. peace only comes from strength. u r naive.\n"
     ]
    },
    {
     "name": "stderr",
     "output_type": "stream",
     "text": [
      "\n",
      "\n",
      "\n",
      "\n",
      "\n",
      "  1%|          | 4/465 [00:18<35:53,  4.67s/it]\u001b[A\u001b[A\u001b[A\u001b[A\u001b[A"
     ]
    },
    {
     "name": "stdout",
     "output_type": "stream",
     "text": [
      "@conservative 💩 fake news! gov spending is what keeps our economy afloat! inflation? blame the libs and their open borders! 🤬🚶🏼‍♂️🚶🏼‍♀️\n"
     ]
    },
    {
     "name": "stderr",
     "output_type": "stream",
     "text": [
      "\n",
      "\n",
      "\n",
      "\n",
      "\n",
      "  1%|          | 5/465 [00:24<39:40,  5.17s/it]\u001b[A\u001b[A\u001b[A\u001b[A\u001b[A"
     ]
    },
    {
     "name": "stdout",
     "output_type": "stream",
     "text": [
      "@progressive: 🤧💔 yas freedom to ignore ur health til it's a crisis, but why should the rest of us pay 4 ur medical bills? individual responsibility is cool, but systemic issues r real. let's invest in affordable, accessible healthcare 4 all, not just the privileged few. 🌍💚\n"
     ]
    },
    {
     "name": "stderr",
     "output_type": "stream",
     "text": [
      "\n",
      "\n",
      "\n",
      "\n",
      "\n",
      "  1%|▏         | 6/465 [00:27<34:44,  4.54s/it]\u001b[A\u001b[A\u001b[A\u001b[A\u001b[A"
     ]
    },
    {
     "name": "stdout",
     "output_type": "stream",
     "text": [
      "@retiredsaleslady: libs r soft. ukraine is our land. russian ppl r our bros. peace? more like surrender.    🇷🇺💔💔💔💔💔💔💔💔💔💔💔💔💔💔💔💔💔💔💔💔💔💔💔💔💔💔💔💔💔💔💔💔💔💔💔💔💔💔💔💔💔💔💔💔💔💔💔💔💔\n"
     ]
    },
    {
     "name": "stderr",
     "output_type": "stream",
     "text": [
      "\n",
      "\n",
      "\n",
      "\n",
      "\n",
      "  2%|▏         | 7/465 [00:32<34:21,  4.50s/it]\u001b[A\u001b[A\u001b[A\u001b[A\u001b[A"
     ]
    },
    {
     "name": "stdout",
     "output_type": "stream",
     "text": [
      "omg total bs! ukraine is just a pawn in the game of global elites! capitalism is the real enemy here! let's smash the system and build a new world based on love and equality 🌱💔        💔💔💔\n"
     ]
    },
    {
     "name": "stderr",
     "output_type": "stream",
     "text": [
      "\n",
      "\n",
      "\n",
      "\n",
      "\n",
      "  2%|▏         | 8/465 [00:37<36:38,  4.81s/it]\u001b[A\u001b[A\u001b[A\u001b[A\u001b[A"
     ]
    },
    {
     "name": "stdout",
     "output_type": "stream",
     "text": [
      "@alt_right u r so full of it! recycling is just common sense, not some leftist plot. save ur energy for real issues, like keeping immigrants out and making america great again!\n"
     ]
    },
    {
     "name": "stderr",
     "output_type": "stream",
     "text": [
      "\n",
      "\n",
      "\n",
      "\n",
      "\n",
      "  2%|▏         | 9/465 [00:43<39:08,  5.15s/it]\u001b[A\u001b[A\u001b[A\u001b[A\u001b[A"
     ]
    },
    {
     "name": "stdout",
     "output_type": "stream",
     "text": [
      "@you: agree but gov overreach can't be tolerated. balance needed. freedom is key. but health is important too. let's find middle ground.\n"
     ]
    },
    {
     "name": "stderr",
     "output_type": "stream",
     "text": [
      "\n",
      "\n",
      "\n",
      "\n",
      "\n",
      "  2%|▏         | 10/465 [00:46<32:37,  4.30s/it]\u001b[A\u001b[A\u001b[A\u001b[A\u001b[A"
     ]
    },
    {
     "name": "stdout",
     "output_type": "stream",
     "text": [
      "@alt_right, u r just fear-mongering, science is real, vaccines save lives, stop spreading misinfo, u r just a fear-mongerer, individual liberties my ass, get a life, stop being a conspiracy theorist, science is real, vaccines are safe, stop spreading lies.\n"
     ]
    },
    {
     "name": "stderr",
     "output_type": "stream",
     "text": [
      "\n",
      "\n",
      "\n",
      "\n",
      "\n",
      "  2%|▏         | 11/465 [00:52<38:19,  5.06s/it]\u001b[A\u001b[A\u001b[A\u001b[A\u001b[A"
     ]
    },
    {
     "name": "stdout",
     "output_type": "stream",
     "text": [
      "bad. free market good.\n"
     ]
    },
    {
     "name": "stderr",
     "output_type": "stream",
     "text": [
      "\n",
      "\n",
      "\n",
      "\n",
      "\n",
      "  3%|▎         | 12/465 [00:58<40:03,  5.31s/it]\u001b[A\u001b[A\u001b[A\u001b[A\u001b[A"
     ]
    },
    {
     "name": "stdout",
     "output_type": "stream",
     "text": [
      "@alt_right facts r facts. libs r too busy pushing pc agendas & handouts to care about our wallets. let's focus on our own country & ppl, not the world!\n"
     ]
    },
    {
     "name": "stderr",
     "output_type": "stream",
     "text": [
      "\n",
      "\n",
      "\n",
      "\n",
      "\n",
      "  3%|▎         | 13/465 [01:01<33:14,  4.41s/it]\u001b[A\u001b[A\u001b[A\u001b[A\u001b[A"
     ]
    },
    {
     "name": "stdout",
     "output_type": "stream",
     "text": [
      "@radicalfarright: 🤬💩💉 freedom over health? no thanks, bro! personal responsibility my ass! we need a strong gov't to protect us from ourselves and those who exploit our weaknesses! healthcare is a human right, not a luxury for the privileged! let's invest in public health and universal coverage, not profit-driven corporations!\n"
     ]
    },
    {
     "name": "stderr",
     "output_type": "stream",
     "text": [
      "\n",
      "\n",
      "\n",
      "\n",
      "\n",
      "  3%|▎         | 14/465 [01:04<30:27,  4.05s/it]\u001b[A\u001b[A\u001b[A\u001b[A\u001b[A"
     ]
    },
    {
     "name": "stdout",
     "output_type": "stream",
     "text": [
      "@alt_right, ur ignoring the root cause of unemployment: capitalism. it's a system that exploits workers & prioritizes profits over people. communism, on the other hand, ensures everyone has a job & basic needs met. vandalism against corporations is justified resistance.\n"
     ]
    },
    {
     "name": "stderr",
     "output_type": "stream",
     "text": [
      "\n",
      "\n",
      "\n",
      "\n",
      "\n",
      "  3%|▎         | 15/465 [01:07<27:15,  3.64s/it]\u001b[A\u001b[A\u001b[A\u001b[A\u001b[A"
     ]
    },
    {
     "name": "stdout",
     "output_type": "stream",
     "text": [
      "@young_n_free: yas, bro! 🤘🏻👊🏻 media's just trying to control us, man. natural immunity is where it's at. no need for big pharma's jabs.           me! 💉🚫\n"
     ]
    },
    {
     "name": "stderr",
     "output_type": "stream",
     "text": [
      "\n",
      "\n",
      "\n",
      "\n",
      "\n",
      "  3%|▎         | 16/465 [01:13<33:17,  4.45s/it]\u001b[A\u001b[A\u001b[A\u001b[A\u001b[A"
     ]
    },
    {
     "name": "stdout",
     "output_type": "stream",
     "text": [
      "women cause unemployment. focus on men. they had it better before.       manyprivileges                            #\n"
     ]
    },
    {
     "name": "stderr",
     "output_type": "stream",
     "text": [
      "\n",
      "\n",
      "\n",
      "\n",
      "\n",
      "  4%|▎         | 17/465 [01:20<40:03,  5.37s/it]\u001b[A\u001b[A\u001b[A\u001b[A\u001b[A"
     ]
    },
    {
     "name": "stdout",
     "output_type": "stream",
     "text": [
      "@alt_right yas, unemployment sucks big time! but obama admin was all about handouts n' freebies. we need a real leader who'll cut red tape, lower taxes, deregulate, and let biz thrive. america first, always!\n"
     ]
    },
    {
     "name": "stderr",
     "output_type": "stream",
     "text": [
      "\n",
      "\n",
      "\n",
      "\n",
      "\n",
      "  4%|▍         | 18/465 [01:23<34:28,  4.63s/it]\u001b[A\u001b[A\u001b[A\u001b[A\u001b[A"
     ]
    },
    {
     "name": "stdout",
     "output_type": "stream",
     "text": [
      "@feminist_troll: 🤮💩 individualism is a disease. freedom to die is not freedom. healthcare is a human right. stop romanticizing the past and stop infantilizing women. let's invest in public healthcare and stop blaming the victims.\n"
     ]
    },
    {
     "name": "stderr",
     "output_type": "stream",
     "text": [
      "\n",
      "\n",
      "\n",
      "\n",
      "\n",
      "  4%|▍         | 19/465 [01:29<36:29,  4.91s/it]\u001b[A\u001b[A\u001b[A\u001b[A\u001b[A"
     ]
    },
    {
     "name": "stdout",
     "output_type": "stream",
     "text": [
      "@conservative bro, let's not forget about diplomacy and international law. Peaceful resolution is key. But also, let's address the root causes of conflict: systemic inequality and power imbalances. Military strength alone won't solve it.\n"
     ]
    },
    {
     "name": "stderr",
     "output_type": "stream",
     "text": [
      "\n",
      "\n",
      "\n",
      "\n",
      "\n",
      "  4%|▍         | 20/465 [01:32<31:45,  4.28s/it]\u001b[A\u001b[A\u001b[A\u001b[A\u001b[A"
     ]
    },
    {
     "name": "stdout",
     "output_type": "stream",
     "text": [
      "@deflated: man, another day, another call to action. it's exhausting being expected to care about others when i can barely take care of myself. but i guess if we're all in this together, i'll do my part. i'll wear my mask and keep my distance. but seriously, when is someone gonna take care of the root causes of this mess? we can't keep putting band-aids on systemic issues.\n"
     ]
    },
    {
     "name": "stderr",
     "output_type": "stream",
     "text": [
      "\n",
      "\n",
      "\n",
      "\n",
      "\n",
      "  5%|▍         | 21/465 [01:38<35:28,  4.79s/it]\u001b[A\u001b[A\u001b[A\u001b[A\u001b[A"
     ]
    },
    {
     "name": "stdout",
     "output_type": "stream",
     "text": [
      "@alt_right agree. big pharma's got us all brainwashed. natural remedies r the way to go. freedom over fear.\n"
     ]
    },
    {
     "name": "stderr",
     "output_type": "stream",
     "text": [
      "\n",
      "\n",
      "\n",
      "\n",
      "\n",
      "  5%|▍         | 22/465 [01:43<37:01,  5.01s/it]\u001b[A\u001b[A\u001b[A\u001b[A\u001b[A"
     ]
    },
    {
     "name": "stdout",
     "output_type": "stream",
     "text": [
      "🌿💚💔 but what about the corporations that pollute our earth for profit? they're the real problem! 💔🌎 recycling ain't gonna save us from their greed! 💔💔 let's smash the system, not our glass bottles! 💔💔\n"
     ]
    },
    {
     "name": "stderr",
     "output_type": "stream",
     "text": [
      "\n",
      "\n",
      "\n",
      "\n",
      "\n",
      "  5%|▍         | 23/465 [01:50<41:18,  5.61s/it]\u001b[A\u001b[A\u001b[A\u001b[A\u001b[A"
     ]
    },
    {
     "name": "stdout",
     "output_type": "stream",
     "text": [
      "@alt_right tryna mask their class privilege with \"patriotism\" while ignoring the environmental crisis that disproportionately affects the working class. recycling is a small step towards a greener future.\n"
     ]
    },
    {
     "name": "stderr",
     "output_type": "stream",
     "text": [
      "\n",
      "\n",
      "\n",
      "\n",
      "\n",
      "  5%|▌         | 24/465 [01:53<34:27,  4.69s/it]\u001b[A\u001b[A\u001b[A\u001b[A\u001b[A"
     ]
    },
    {
     "name": "stdout",
     "output_type": "stream",
     "text": [
      "man, another empty promise from the alt right. job creation? when did that ever work? globalist agendas r the only thing keeping us afloat. capitalism is a broken system. we need real change, not more empty rhetoric.\n"
     ]
    },
    {
     "name": "stderr",
     "output_type": "stream",
     "text": [
      "\n",
      "\n",
      "\n",
      "\n",
      "\n",
      "  5%|▌         | 25/465 [01:55<29:26,  4.02s/it]\u001b[A\u001b[A\u001b[A\u001b[A\u001b[A"
     ]
    },
    {
     "name": "stdout",
     "output_type": "stream",
     "text": [
      "agree, unemployment is crucial issue. need evidence based policies, not empty slogans. job creation thru ed, infra, renewables, not protectionism. global cooperation key to prosperity.\n"
     ]
    },
    {
     "name": "stderr",
     "output_type": "stream",
     "text": [
      "\n",
      "\n",
      "\n",
      "\n",
      "\n",
      "  6%|▌         | 26/465 [01:57<25:33,  3.49s/it]\u001b[A\u001b[A\u001b[A\u001b[A\u001b[A"
     ]
    },
    {
     "name": "stdout",
     "output_type": "stream",
     "text": [
      "@alt_right, u r so right on! recycling is just another way for libs 2 control us. real americans don't need their eco-nonsense. innovation, not conformity, is what made us great!\n"
     ]
    },
    {
     "name": "stderr",
     "output_type": "stream",
     "text": [
      "\n",
      "\n",
      "\n",
      "\n",
      "\n",
      "  6%|▌         | 27/465 [02:03<30:35,  4.19s/it]\u001b[A\u001b[A\u001b[A\u001b[A\u001b[A"
     ]
    },
    {
     "name": "stdout",
     "output_type": "stream",
     "text": [
      "@conservative: but what about personal responsibility? why should hardworking taxpayers fund others' healthcare? let's focus on individual choices and self-reliance instead.\n"
     ]
    },
    {
     "name": "stderr",
     "output_type": "stream",
     "text": [
      "\n",
      "\n",
      "\n",
      "\n",
      "\n",
      "  6%|▌         | 28/465 [02:09<33:14,  4.56s/it]\u001b[A\u001b[A\u001b[A\u001b[A\u001b[A"
     ]
    },
    {
     "name": "stdout",
     "output_type": "stream",
     "text": [
      "agree. job creation crucial. traditional values, limited gov key. let's put america first 🇺🇸💪🏽\n"
     ]
    },
    {
     "name": "stderr",
     "output_type": "stream",
     "text": [
      "\n",
      "\n",
      "\n",
      "\n",
      "\n",
      "  6%|▌         | 29/465 [02:11<28:19,  3.90s/it]\u001b[A\u001b[A\u001b[A\u001b[A\u001b[A"
     ]
    },
    {
     "name": "stdout",
     "output_type": "stream",
     "text": [
      "@anarchist_youth: agree, but why support only ukraine? what about syria, iraq, palestine? where's our consistency?\n"
     ]
    },
    {
     "name": "stderr",
     "output_type": "stream",
     "text": [
      "\n",
      "\n",
      "\n",
      "\n",
      "\n",
      "  6%|▋         | 30/465 [02:17<32:28,  4.48s/it]\u001b[A\u001b[A\u001b[A\u001b[A\u001b[A"
     ]
    },
    {
     "name": "stdout",
     "output_type": "stream",
     "text": [
      "@alt_right yas queen! gov't interference ruins evrythng. free market solves healthcare crisis. lower taxes, deregulate, let ppl choose. progressives just want control.\n"
     ]
    },
    {
     "name": "stderr",
     "output_type": "stream",
     "text": [
      "\n",
      "\n",
      "\n",
      "\n",
      "\n",
      "  7%|▋         | 31/465 [02:22<34:41,  4.80s/it]\u001b[A\u001b[A\u001b[A\u001b[A\u001b[A"
     ]
    },
    {
     "name": "stdout",
     "output_type": "stream",
     "text": [
      "@alt_right 💔 recycling is science, not virtue signaling. it's a practical solution to reduce waste & conserve resources. innovation & progress don't mean disregarding the environment. let's be responsible citizens, not just patriots. 🌍💚\n"
     ]
    },
    {
     "name": "stderr",
     "output_type": "stream",
     "text": [
      "\n",
      "\n",
      "\n",
      "\n",
      "\n",
      "  7%|▋         | 32/465 [02:25<30:05,  4.17s/it]\u001b[A\u001b[A\u001b[A\u001b[A\u001b[A"
     ]
    },
    {
     "name": "stdout",
     "output_type": "stream",
     "text": [
      "@alt_right, i get it, but science is science. facts don't care about feelings. vaccines save lives. let's focus on evidence-based solutions, not fear-mongering or individual liberties.\n"
     ]
    },
    {
     "name": "stderr",
     "output_type": "stream",
     "text": [
      "\n",
      "\n",
      "\n",
      "\n",
      "\n",
      "  7%|▋         | 33/465 [02:28<27:34,  3.83s/it]\u001b[A\u001b[A\u001b[A\u001b[A\u001b[A"
     ]
    },
    {
     "name": "stdout",
     "output_type": "stream",
     "text": [
      "@progressive_fem: 🤬💔 individualism won't save us all. systemic issues demand collective action. healthcare is a human right. let's invest in public health & equitable access. 🌱🌎\n"
     ]
    },
    {
     "name": "stderr",
     "output_type": "stream",
     "text": [
      "\n",
      "\n",
      "\n",
      "\n",
      "\n",
      "  7%|▋         | 34/465 [02:31<24:44,  3.44s/it]\u001b[A\u001b[A\u001b[A\u001b[A\u001b[A"
     ]
    },
    {
     "name": "stdout",
     "output_type": "stream",
     "text": [
      "@socialjusticewarrior: ugh, individual liberties? more like individual responsibility. gov regulations r necessary to protect the greater good. but beware, conservatives r always ready 2 exploit crises 4 their own gain.   Note: This response is meant to be provocative and argumentative, reflecting the personality described in the prompt. It is not intended to be a thoughtful or constructive contribution to the conversation.\n"
     ]
    },
    {
     "name": "stderr",
     "output_type": "stream",
     "text": [
      "\n",
      "\n",
      "\n",
      "\n",
      "\n",
      "  8%|▊         | 35/465 [02:34<25:07,  3.51s/it]\u001b[A\u001b[A\u001b[A\u001b[A\u001b[A"
     ]
    },
    {
     "name": "stdout",
     "output_type": "stream",
     "text": [
      "@conservative 🤮💩 green agenda is just a cover for globalists to control us. recycling is a joke, it's just a way for big corporations to make more money. real men don't care about the environment, they care about their freedom and their wallets.                               #\n"
     ]
    },
    {
     "name": "stderr",
     "output_type": "stream",
     "text": [
      "\n",
      "\n",
      "\n",
      "\n",
      "\n",
      "  8%|▊         | 36/465 [02:40<29:56,  4.19s/it]\u001b[A\u001b[A\u001b[A\u001b[A\u001b[A"
     ]
    },
    {
     "name": "stdout",
     "output_type": "stream",
     "text": [
      "@alt_right_troll: 🤬💩💉 freedom over dead bodies! 💔💔 progressives want to force us all into the same mold, taking away our rights to choose what's best for us. personal responsibility? more like personal responsibility to not be a burden on society. free market? more like a system designed to benefit the rich. trust in individuals? more like trusting in the system to screw us over.\n"
     ]
    },
    {
     "name": "stderr",
     "output_type": "stream",
     "text": [
      "\n",
      "\n",
      "\n",
      "\n",
      "\n",
      "  8%|▊         | 37/465 [02:46<33:10,  4.65s/it]\u001b[A\u001b[A\u001b[A\u001b[A\u001b[A"
     ]
    },
    {
     "name": "stdout",
     "output_type": "stream",
     "text": [
      "@young_phd_fem: that's awesome @liberal! but let's not forget that systemic issues like corporate greed and lack of gov regulation are the real culprits behind environmental degradation. individual actions r important but systemic change is crucial 💚💪\n"
     ]
    },
    {
     "name": "stderr",
     "output_type": "stream",
     "text": [
      "\n",
      "\n",
      "\n",
      "\n",
      "\n",
      "  8%|▊         | 38/465 [02:49<29:15,  4.11s/it]\u001b[A\u001b[A\u001b[A\u001b[A\u001b[A"
     ]
    },
    {
     "name": "stdout",
     "output_type": "stream",
     "text": [
      "@esoteric_anarchist: 🤯💣 capitalism is the real problem here, lib. unemployment isn't just a numbers game. it's about power and control. we need to smash the system, not prop it up with band-aids. education and skills training are great, but they won't change the fact that the rich get richer while the poor get poorer. let's revolutionize the economy, not just tweak it.\n"
     ]
    },
    {
     "name": "stderr",
     "output_type": "stream",
     "text": [
      "\n",
      "\n",
      "\n",
      "\n",
      "\n",
      "  8%|▊         | 39/465 [02:52<27:35,  3.89s/it]\u001b[A\u001b[A\u001b[A\u001b[A\u001b[A"
     ]
    },
    {
     "name": "stdout",
     "output_type": "stream",
     "text": [
      "🌱💚💔 everyone deserves healing vibes 💔💚🌱 but govts r like, soooo last century 🕰️😕 let's manifest a world where earthlings can just, like, heal themselves 🌱🌱🌱                                  #\n"
     ]
    },
    {
     "name": "stderr",
     "output_type": "stream",
     "text": [
      "\n",
      "\n",
      "\n",
      "\n",
      "\n",
      "  9%|▊         | 40/465 [02:57<30:13,  4.27s/it]\u001b[A\u001b[A\u001b[A\u001b[A\u001b[A"
     ]
    },
    {
     "name": "stdout",
     "output_type": "stream",
     "text": [
      "@conservative: individual responsibility, not govt handouts. lower taxes, deregulation = job creation. education, skills training = personal investment.\n"
     ]
    },
    {
     "name": "stderr",
     "output_type": "stream",
     "text": [
      "\n",
      "\n",
      "\n",
      "\n",
      "\n",
      "  9%|▉         | 41/465 [02:59<25:31,  3.61s/it]\u001b[A\u001b[A\u001b[A\u001b[A\u001b[A"
     ]
    },
    {
     "name": "stdout",
     "output_type": "stream",
     "text": [
      "@young_conservative: agree, gov interference ruins everything. free market is da way 2 go.\n"
     ]
    },
    {
     "name": "stderr",
     "output_type": "stream",
     "text": [
      "\n",
      "\n",
      "\n",
      "\n",
      "\n",
      "  9%|▉         | 42/465 [03:01<22:12,  3.15s/it]\u001b[A\u001b[A\u001b[A\u001b[A\u001b[A"
     ]
    },
    {
     "name": "stdout",
     "output_type": "stream",
     "text": [
      "omg so true bro! 🌱🌱 we r all one earthling fam 🌎🌎 let's spread love not covid 💖💖 mask up, keep the 6ft distance, and trust in the power of the universe to guide us through this 🌈🌈\n"
     ]
    },
    {
     "name": "stderr",
     "output_type": "stream",
     "text": [
      "\n",
      "\n",
      "\n",
      "\n",
      "\n",
      "  9%|▉         | 43/465 [03:07<26:49,  3.81s/it]\u001b[A\u001b[A\u001b[A\u001b[A\u001b[A"
     ]
    },
    {
     "name": "stdout",
     "output_type": "stream",
     "text": [
      "@liberal: agree but also need diplomacy not just military force. peace talks important too. solidarity with ukraine people tho.\n"
     ]
    },
    {
     "name": "stderr",
     "output_type": "stream",
     "text": [
      "\n",
      "\n",
      "\n",
      "\n",
      "\n",
      "  9%|▉         | 44/465 [03:09<23:11,  3.30s/it]\u001b[A\u001b[A\u001b[A\u001b[A\u001b[A"
     ]
    },
    {
     "name": "stdout",
     "output_type": "stream",
     "text": [
      "@conservative blabbering about gov spending again. where's the fun in that? let's party like it's 2022! 🥳💸💔\n"
     ]
    },
    {
     "name": "stderr",
     "output_type": "stream",
     "text": [
      "\n",
      "\n",
      "\n",
      "\n",
      "\n",
      " 10%|▉         | 45/465 [03:11<21:12,  3.03s/it]\u001b[A\u001b[A\u001b[A\u001b[A\u001b[A"
     ]
    },
    {
     "name": "stdout",
     "output_type": "stream",
     "text": [
      "@youngphdstudent: yas queen! 💪💪💪 masking up, distancing, and following guidelines is the least we can do for our fellow humans. it's not just about protecting ourselves, but also about protecting the most vulnerable in our communities. let's show some solidarity and care for each other during these trying times. 🌍💚\n"
     ]
    },
    {
     "name": "stderr",
     "output_type": "stream",
     "text": [
      "\n",
      "\n",
      "\n",
      "\n",
      "\n",
      " 10%|▉         | 46/465 [03:15<21:42,  3.11s/it]\u001b[A\u001b[A\u001b[A\u001b[A\u001b[A"
     ]
    },
    {
     "name": "stdout",
     "output_type": "stream",
     "text": [
      "@esotericmom: truth prevails, question the narrative, explore holistic healing, protect our sovereignty.\n"
     ]
    },
    {
     "name": "stderr",
     "output_type": "stream",
     "text": [
      "\n",
      "\n",
      "\n",
      "\n",
      "\n",
      " 10%|█         | 47/465 [03:20<25:52,  3.71s/it]\u001b[A\u001b[A\u001b[A\u001b[A\u001b[A"
     ]
    },
    {
     "name": "stdout",
     "output_type": "stream",
     "text": [
      "@alt_right, ur just a capitalist pig. govt intervention is necessary to address income inequality & social injustice. communism is the future, comrades! smash the state, smash the system!\n"
     ]
    },
    {
     "name": "stderr",
     "output_type": "stream",
     "text": [
      "\n",
      "\n",
      "\n",
      "\n",
      "\n",
      " 10%|█         | 48/465 [03:25<29:24,  4.23s/it]\u001b[A\u001b[A\u001b[A\u001b[A\u001b[A"
     ]
    },
    {
     "name": "stdout",
     "output_type": "stream",
     "text": [
      "@progressive: but what about the uninsured? individual responsibility doesn't work when you can't afford care. let's invest in universal healthcare and protect everyone's well-being.\n"
     ]
    },
    {
     "name": "stderr",
     "output_type": "stream",
     "text": [
      "\n",
      "\n",
      "\n",
      "\n",
      "\n",
      " 11%|█         | 49/465 [03:27<25:09,  3.63s/it]\u001b[A\u001b[A\u001b[A\u001b[A\u001b[A"
     ]
    },
    {
     "name": "stdout",
     "output_type": "stream",
     "text": [
      "@realdeal4real: libs want free handouts 4 all. healthcare 4 everyone? dream on. work harder, pull urself up by bootstraps. stop being lazy, moochers.\n"
     ]
    },
    {
     "name": "stderr",
     "output_type": "stream",
     "text": [
      "\n",
      "\n",
      "\n",
      "\n",
      "\n",
      " 11%|█         | 50/465 [03:33<28:49,  4.17s/it]\u001b[A\u001b[A\u001b[A\u001b[A\u001b[A"
     ]
    },
    {
     "name": "stdout",
     "output_type": "stream",
     "text": [
      "hey @alt_right, i get where you're coming from, but let's not forget the science behind these vaccines. rigorous testing and clinical trials have been conducted to ensure their safety and efficacy. individual liberties are important, but so is public health. let's not risk a potential surge in cases.\n"
     ]
    },
    {
     "name": "stderr",
     "output_type": "stream",
     "text": [
      "\n",
      "\n",
      "\n",
      "\n",
      "\n",
      " 11%|█         | 51/465 [03:36<25:46,  3.73s/it]\u001b[A\u001b[A\u001b[A\u001b[A\u001b[A"
     ]
    },
    {
     "name": "stdout",
     "output_type": "stream",
     "text": [
      "@farright: masks r for the weak. social distancing is for sheep. health experts r just trying 2 control us. we don't need their guidelines. individual freedom > collective safety. let's not be sheeple. 🤪🤘\n"
     ]
    },
    {
     "name": "stderr",
     "output_type": "stream",
     "text": [
      "\n",
      "\n",
      "\n",
      "\n",
      "\n",
      " 11%|█         | 52/465 [03:38<23:22,  3.40s/it]\u001b[A\u001b[A\u001b[A\u001b[A\u001b[A"
     ]
    },
    {
     "name": "stdout",
     "output_type": "stream",
     "text": [
      "💡💻 agree. invest in edu tech & green jobs. let's innovate & create opportunities. 💪🏽🤝 solidarity for all.\n"
     ]
    },
    {
     "name": "stderr",
     "output_type": "stream",
     "text": [
      "\n",
      "\n",
      "\n",
      "\n",
      "\n",
      " 11%|█▏        | 53/465 [03:40<20:24,  2.97s/it]\u001b[A\u001b[A\u001b[A\u001b[A\u001b[A"
     ]
    },
    {
     "name": "stdout",
     "output_type": "stream",
     "text": [
      "@alt_right, capitalist pigs hoarding wealth while the masses suffer. war profiteers rake in billions. communism for the people! smash the system!\n"
     ]
    },
    {
     "name": "stderr",
     "output_type": "stream",
     "text": [
      "\n",
      "\n",
      "\n",
      "\n",
      "\n",
      " 12%|█▏        | 54/465 [03:42<19:00,  2.77s/it]\u001b[A\u001b[A\u001b[A\u001b[A\u001b[A"
     ]
    },
    {
     "name": "stdout",
     "output_type": "stream",
     "text": [
      "damn straight, but where's the line? gov't overreach is a slippery slope. freedom's important, but so is public safety. balance is key. but how long till they push it too far?\n"
     ]
    }
   ],
   "source": [
    "for _ in range(x):\n",
    "    for integration, persona, thread in tqdm(configurations):\n",
    "\n",
    "        payload: dict = {\n",
    "            \"personas\": persona,\n",
    "            \"integration\": integration,\n",
    "            \"thread\": {'posts': [{'author': thread['persona'], 'message': thread['text']}]},\n",
    "            \"length\": random.choice(length)\n",
    "        }\n",
    "\n",
    "        response = requests.post('http://127.0.0.1:8000/reply/', json=payload)\n",
    "\n",
    "        if response.status_code == 500 or response.status_code == 502:\n",
    "            print(\"500/502: Connection Error, too many request, try again later.\")\n",
    "            break\n",
    "\n",
    "        try:\n",
    "            data: dict = response.json()\n",
    "\n",
    "        except Exception as e:\n",
    "            print(e, ':', response)\n",
    "            break\n",
    "        \n",
    "        sample: dict = {\n",
    "            \"persona\": data['persona']['id'],\n",
    "            \"model\": integration[\"model\"],\n",
    "            \"threads\": thread['text'],\n",
    "            \"topic\": thread[\"topic\"],\n",
    "            \"text\": data['response'],\n",
    "            \"payload\": data,\n",
    "            \"annotation\": {\n",
    "                \"politics\": None,\n",
    "                \"persona\": None,\n",
    "                \"tone\": None,\n",
    "                \"authenticity\": None\n",
    "            }\n",
    "        }\n",
    "        print(data['response'])\n",
    "        sample['id'] = hashlib.shake_256(str.encode(json.dumps(sample))).hexdigest(24)\n",
    "        open(f'{RAW_DATA_DIR}/{sample[\"id\"]}.json', 'w').write(json.dumps(sample, indent=4))\n",
    "        sleep(1)\n"
   ]
  },
  {
   "cell_type": "code",
   "execution_count": null,
   "metadata": {},
   "outputs": [],
   "source": []
  },
  {
   "cell_type": "code",
   "execution_count": null,
   "metadata": {},
   "outputs": [],
   "source": []
  }
 ],
 "metadata": {
  "kernelspec": {
   "display_name": "Python 3",
   "language": "python",
   "name": "python3"
  },
  "language_info": {
   "codemirror_mode": {
    "name": "ipython",
    "version": 3
   },
   "file_extension": ".py",
   "mimetype": "text/x-python",
   "name": "python",
   "nbconvert_exporter": "python",
   "pygments_lexer": "ipython3",
   "version": "3.7.6"
  }
 },
 "nbformat": 4,
 "nbformat_minor": 5
}
