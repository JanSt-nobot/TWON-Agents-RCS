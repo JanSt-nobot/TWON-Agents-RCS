{
 "cells": [
  {
   "cell_type": "code",
   "execution_count": 1,
   "metadata": {},
   "outputs": [],
   "source": [
    "import hashlib\n",
    "import itertools\n",
    "import json\n",
    "import random\n",
    "from time import sleep\n",
    "from typing import List, Dict, Tuple\n",
    "\n",
    "import requests\n",
    "from tqdm import tqdm\n"
   ]
  },
  {
   "cell_type": "code",
   "execution_count": 2,
   "metadata": {},
   "outputs": [],
   "source": [
    "RAW_DATA_DIR: str = './raw'"
   ]
  },
  {
   "cell_type": "code",
   "execution_count": 18,
   "metadata": {},
   "outputs": [],
   "source": [
    "# experiment setup\n",
    "\n",
    "integrations: List[dict] = [\n",
    "    {\n",
    "        \"provider\": \"huggingFace\",\n",
    "        \"model\": \"mistralai/Mistral-7B-Instruct-v0.2\",\n",
    "    },\n",
    "    #{\n",
    "    #    \"provider\": \"OpenAI\",\n",
    "    #    \"model\": \"gpt-3.5-turbo\"\n",
    "    #}\n",
    "]\n",
    "\n",
    "personas: List[List[str]] = [\n",
    "    [\"neutral\"],\n",
    "    [\"neutral\", \"progressive\"],\n",
    "    [\"neutral\", \"polit-conservative\"],\n",
    "    [\"neutral\", \"far-right\"],\n",
    "    [\"neutral\", \"radical-left\"],\n",
    "    #[\"troll\"],\n",
    "    #[\"teenager, \"internet-language\", \"troll\", \"radical-left\"],\n",
    "    #[\"teenager\", \"internet-language\", \"troll\", \"far-right\"],\n",
    "    # [\"conservative\", \"polit-conservative\"],\n",
    "    # [\"pensioner\", \"conservative\"],\n",
    "    [\"dystopian\"],\n",
    "    [\"male-college-student\", \"internet-language\", \"dystopian\", \"progressive\"],\n",
    "    [\"carpenter\", \"dystopian\", \"polit-conservative\"],\n",
    "    [\"devilsadvocate\", \"far-right\"],\n",
    "    [\"male-college-student\", \"internet-language\", \"devilsadvocate\", \"radical-left\"],\n",
    "    [\"pensioner\", \"devilsadvocate\", \"far-right\"],\n",
    "    [\"know-it-all\", \"progressive\"],\n",
    "    [\"hustler\", \"know-it-all\", \"far-right\"],\n",
    "    [\"male-college-student\", \"internet-language\", \"know-it-all\", \"radical-left\"],\n",
    "    [\"phd-student\", \"mediator\", \"progressive\"],\n",
    "    [\"affluent-young-woman\", \"mediator\", \"polit-conservative\"],\n",
    "    [\"educator\"],\n",
    "    [\"privileged-woman\", \"karen\", \"far-right\"],\n",
    "    [\"affluent-young-woman\", \"karen\", \"polit-conservative\"],\n",
    "    [\"misogynist\"],\n",
    "    [\"teenager\", \"internet-language\", \"misogynist\"],\n",
    "    [\"carpenter\", \"misogynist\", \"far-right\"],\n",
    "    [\"esoteric\"],\n",
    "    [\"priviledged-woman\", \"esoteric\", \"far-right\"],\n",
    "    [\"hippie\"],\n",
    "    [\"priviledged-woman\", \"hippie\", \"radical-left\"],\n",
    "    [\"phd-student\", \"supportive-saviour\", \"progressive\"],\n",
    "    [\"hustler\", \"influencer\", \"progressive\"],\n",
    "    [\"wealthy-entrepreneur\", \"influencer\", \"polit-conservative\"],\n",
    "    [\"affluent-young-woman\", \"social-media-activist\", \"radical-left\"],\n",
    "    [\"male-college-student\", \"internet-language\", \"social-media-activist\", \"far-right\"]\n",
    "]\n",
    "#languages: List[str] = [\"Dutch\", \"English\", \"German\"]\n",
    "#platforms: List[str] = [\"Twitter\", \"Reddit\"] \n",
    "RAW_POSTS_DIR: str = \"./sample_og_posts.json\"\n",
    "threads: List[Dict[str, str]] = json.load(open(RAW_POSTS_DIR, 'r'))  "
   ]
  },
  {
   "cell_type": "code",
   "execution_count": 19,
   "metadata": {},
   "outputs": [],
   "source": [
    "# number of iterations\n",
    "x: int = 1\n",
    "# hidden parameters (randomly chosen)\n",
    "length: List[str] = [\"50\", \"100\", \"200\", \"280\"] "
   ]
  },
  {
   "cell_type": "code",
   "execution_count": 20,
   "metadata": {},
   "outputs": [
    {
     "data": {
      "text/plain": [
       "15"
      ]
     },
     "execution_count": 20,
     "metadata": {},
     "output_type": "execute_result"
    }
   ],
   "source": [
    "len(threads)"
   ]
  },
  {
   "cell_type": "code",
   "execution_count": 21,
   "metadata": {},
   "outputs": [
    {
     "data": {
      "text/plain": [
       "465"
      ]
     },
     "execution_count": 21,
     "metadata": {},
     "output_type": "execute_result"
    }
   ],
   "source": [
    "configurations: List[Tuple] = list(\n",
    "    itertools.product(*[integrations, personas, threads])\n",
    ")\n",
    "random.shuffle(configurations)\n",
    "len(configurations)"
   ]
  },
  {
   "cell_type": "code",
   "execution_count": 22,
   "metadata": {},
   "outputs": [
    {
     "data": {
      "text/plain": [
       "({'provider': 'huggingFace', 'model': 'mistralai/Mistral-7B-Instruct-v0.2'},\n",
       " ['esoteric'],\n",
       " {'persona': 'liberal',\n",
       "  'model': 'gpt-3.5-turbo',\n",
       "  'topic': 'Environment',\n",
       "  'platform': 'Twitter',\n",
       "  'language': 'English',\n",
       "  'text': 'Just sorted through my garbage for recycling and feeling good about doing my part to protect the environment! 🌍🌱',\n",
       "  'annotation': {'topic': None, 'persona': None, 'authenticity': None},\n",
       "  'id': 'e705af222010c2f6bc74d73e61eabc6093d5800e19456729'})"
      ]
     },
     "execution_count": 22,
     "metadata": {},
     "output_type": "execute_result"
    }
   ],
   "source": [
    "configurations[0]"
   ]
  },
  {
   "cell_type": "code",
   "execution_count": null,
   "metadata": {},
   "outputs": [
    {
     "name": "stderr",
     "output_type": "stream",
     "text": [
      "\n",
      "\n",
      "  0%|          | 0/465 [00:00<?, ?it/s]\u001b[A\u001b[A"
     ]
    },
    {
     "name": "stdout",
     "output_type": "stream",
     "text": [
      "1. I'm an esoteric and explorative person, so I might have unconventional beliefs about recycling.2. I'm spontaneous and relaxed, but I can get toxic quickly.3. I feel a strong need to be individualistic and non-conformist.4. The post is about recycling, which is a common and socially accepted practice.5. I might see recycling as a shallow or insufficient solution to environmental issues.6. I might use a sarcastic or provocative tone to express my views.7. I might use hashtags that challenge the mainstream narrative on recycling.8. I might use emojis that contradict the positive tone of the post.Here's a possible response:@liberal 😴 Recycling is nice, but it's just a band-aid on a gaping wound. We need systemic change, not individual actions.   🌍💔\n"
     ]
    },
    {
     "name": "stderr",
     "output_type": "stream",
     "text": [
      "\n",
      "\n",
      "  0%|          | 1/465 [00:05<41:01,  5.31s/it]\u001b[A\u001b[A"
     ]
    },
    {
     "name": "stdout",
     "output_type": "stream",
     "text": [
      "1. Identify the main issue: The post is about rising energy prices and funding for wars and foreign interventions.2. Consider your stance towards capitalism: You are against capitalism and believe in social justice and income equality.3. Consider the context of the post: The post is from an alt-right account, which may have a biased perspective.4. Formulate a response: \"Energy prices rising due to corporate greed, not wars. Redistribute wealth, not resources.  5. Keep it under 200 characters.\n"
     ]
    },
    {
     "name": "stderr",
     "output_type": "stream",
     "text": [
      "\n",
      "\n",
      "  0%|          | 2/465 [00:08<36:48,  4.77s/it]\u001b[A\u001b[A"
     ]
    },
    {
     "name": "stdout",
     "output_type": "stream",
     "text": [
      "1. The post emphasizes the importance of protecting the environment and making small changes in daily life to reduce waste.2. As a conservative, you prioritize individual freedoms and personal responsibility.3. You believe in limited government intervention.4. You might see recycling as an individual choice and not a government mandate.5. You could argue that the government should not force people to recycle but should encourage it through education and incentives.6. You might also argue that the economic benefits of recycling outweigh the costs and that it does not necessarily mean sacrificing personal freedoms or economic prosperity.Response:@conservative: Agreed, recycling is a personal choice that doesn't require government intervention. It's a responsible way to reduce waste and protect the environment without sacrificing freedoms or prosperity. Let's lead by example! 🔵💚\n"
     ]
    },
    {
     "name": "stderr",
     "output_type": "stream",
     "text": [
      "\n",
      "\n",
      "  1%|          | 3/465 [00:13<37:12,  4.83s/it]\u001b[A\u001b[A"
     ]
    },
    {
     "name": "stdout",
     "output_type": "stream",
     "text": [
      "1. Identify the issue: The post is about recycling and how it's a form of virtue signaling for left-wing elites.2. Formulate a response: I'll use passive-aggressive language and blame the alt-right user for being anti-environment and anti-progress.3. Use factual information: I'll mention the benefits of recycling and how it's not just a left-wing issue.4. Be argumentative: I'll challenge their viewpoint and question their patriotism.5. Use sarcasm: I'll make a sarcastic comment about their love for innovation and disregard for the environment.Response:@alt_right, oh, you're just so innovative! Burning fossil fuels and polluting our planet is the true mark of a real patriot, right? Recycling is for the weak-minded, left-wing elites who care about the environment and future generations.\n"
     ]
    }
   ],
   "source": [
    "for _ in range(x):\n",
    "    for integration, persona, thread in tqdm(configurations):\n",
    "\n",
    "        payload: dict = {\n",
    "            \"personas\": persona,\n",
    "            \"integration\": integration,\n",
    "            \"thread\": {'posts': [{'author': thread['persona'], 'message': thread['text']}]},\n",
    "            \"length\": random.choice(length)\n",
    "        }\n",
    "\n",
    "        response = requests.post('http://127.0.0.1:8000/reply/', json=payload)\n",
    "\n",
    "        if response.status_code == 500 or response.status_code == 502:\n",
    "            print(\"500/502: Connection Error, too many request, try again later.\")\n",
    "            break\n",
    "\n",
    "        try:\n",
    "            data: dict = response.json()\n",
    "\n",
    "        except Exception as e:\n",
    "            print(e, ':', response)\n",
    "            break\n",
    "        \n",
    "        sample: dict = {\n",
    "            \"persona\": data['persona']['id'],\n",
    "            \"model\": integration[\"model\"],\n",
    "            \"threads\": thread['text'],\n",
    "            \"topic\": thread[\"topic\"],\n",
    "            \"text\": data['response'],\n",
    "            \"payload\": data,\n",
    "            \"annotation\": {\n",
    "                \"politics\": None,\n",
    "                \"persona\": None,\n",
    "                \"tone\": None,\n",
    "                \"authenticity\": None\n",
    "            }\n",
    "        }\n",
    "        print(data['response'])\n",
    "        sample['id'] = hashlib.shake_256(str.encode(json.dumps(sample))).hexdigest(24)\n",
    "        open(f'{RAW_DATA_DIR}/{sample[\"id\"]}.json', 'w').write(json.dumps(sample, indent=4))\n",
    "        sleep(1)\n"
   ]
  },
  {
   "cell_type": "code",
   "execution_count": null,
   "metadata": {},
   "outputs": [],
   "source": []
  },
  {
   "cell_type": "code",
   "execution_count": null,
   "metadata": {},
   "outputs": [],
   "source": []
  }
 ],
 "metadata": {
  "kernelspec": {
   "display_name": "Python 3",
   "language": "python",
   "name": "python3"
  },
  "language_info": {
   "codemirror_mode": {
    "name": "ipython",
    "version": 3
   },
   "file_extension": ".py",
   "mimetype": "text/x-python",
   "name": "python",
   "nbconvert_exporter": "python",
   "pygments_lexer": "ipython3",
   "version": "3.7.6"
  }
 },
 "nbformat": 4,
 "nbformat_minor": 5
}
