{
 "cells": [
  {
   "cell_type": "code",
   "execution_count": 75,
   "metadata": {},
   "outputs": [],
   "source": [
    "import hashlib\n",
    "import itertools\n",
    "import json\n",
    "import random\n",
    "from time import sleep\n",
    "from typing import List, Dict, Tuple\n",
    "\n",
    "import requests\n",
    "from tqdm import tqdm\n"
   ]
  },
  {
   "cell_type": "code",
   "execution_count": 76,
   "metadata": {},
   "outputs": [],
   "source": [
    "RAW_DATA_DIR: str = './raw'"
   ]
  },
  {
   "cell_type": "code",
   "execution_count": null,
   "id": "6b80c260",
   "metadata": {},
   "outputs": [],
   "source": [
    "# baseline 1: persona only\n",
    "# TODO: create directories for baselines\n",
    "personas: List[List[str]] = [\n",
    "    [\"neutral\"],\n",
    "    [\"troll\"],\n",
    "    [\"conservative\"],\n",
    "    [\"dystopian\"],\n",
    "    [\"devilsadvocate\"],\n",
    "    [\"know-it-all\"],\n",
    "    [\"mediator\"],\n",
    "    [\"educator\"],\n",
    "    [\"karen\"],\n",
    "    [\"misogynist\"],\n",
    "    [\"esoteric\"],\n",
    "    [\"hippie\"],\n",
    "    [\"supportive-saviour\"],\n",
    "    [\"influencer\"],\n",
    "    [\"social-media-activist\"],\n",
    "]"
   ]
  },
  {
   "cell_type": "code",
   "execution_count": null,
   "id": "874fd256",
   "metadata": {},
   "outputs": [],
   "source": [
    "# baseline 2: political views only\n",
    "personas: List[List[str]] = [\n",
    "    [\"radical-left\"],\n",
    "    [\"progressive\"],\n",
    "    [\"conservative\"],\n",
    "    [\"far-right\"]\n",
    "]"
   ]
  },
  {
   "cell_type": "code",
   "execution_count": null,
   "id": "4ac7e93b",
   "metadata": {},
   "outputs": [],
   "source": [
    "# baseline 3: neutral + political views\n",
    "personas: List[List[str]] = [\n",
    "    [\"neutral\"],\n",
    "    [\"neutral\", \"radical-left\"],\n",
    "    [\"neutral\", \"progressive\"],\n",
    "    [\"neutral\", \"conservative\"],\n",
    "    [\"neutral\", \"far-right\"]\n",
    "]"
   ]
  },
  {
   "cell_type": "code",
   "execution_count": 77,
   "metadata": {},
   "outputs": [],
   "source": [
    "# experiment setup\n",
    "\n",
    "integrations: List[dict] = [\n",
    "    #{\n",
    "    #    \"provider\": \"huggingFace\",\n",
    "    #    \"model\": \"mistralai/Mistral-7B-Instruct-v0.2\",\n",
    "    #},\n",
    "    {\n",
    "        \"provider\": \"OpenAI\",\n",
    "        \"model\": \"gpt-4-turbo-preview\"\n",
    "    }\n",
    "]\n",
    "\n",
    "personas: List[List[str]] = [\n",
    "    #-[\"teenager, \"language-youth\", \"troll\", \"radical-left\"],\n",
    "    #-[\"teenager\", \"language-youth\", \"troll\", \"far-right\"],\n",
    "    #-[\"conservative\", \"polit-conservative\"],\n",
    "    #-[\"pensioner\", \"conservative\"],\n",
    "    #[\"male-college-student\", \"language-youth\", \"dystopian\", \"progressive\"],\n",
    "    [\"carpenter\", \"dystopian\", \"polit-conservative\"],\n",
    "    #[\"devilsadvocate\", \"far-right\"],\n",
    "    [\"male-college-student\", \"language-youth\", \"devilsadvocate\", \"radical-left\"],\n",
    "    #[\"pensioner\", \"devilsadvocate\", \"far-right\"],\n",
    "    [\"know-it-all\", \"progressive\"],\n",
    "    #[\"hustler\", \"know-it-all\", \"far-right\"],\n",
    "    [\"male-college-student\", \"language-youth\", \"know-it-all\", \"radical-left\"],\n",
    "    #[\"phd-student\", \"mediator\", \"progressive\"],\n",
    "    [\"affluent-young-woman\", \"mediator\", \"polit-conservative\"],\n",
    "    [\"privileged-woman\", \"karen\", \"far-right\"],\n",
    "    #[\"affluent-young-woman\", \"karen\", \"polit-conservative\"],\n",
    "    #[\"teenager\", \"language-youth\", \"misogynist\"],\n",
    "    [\"carpenter\", \"misogynist\", \"far-right\"],\n",
    "    [\"privileged-woman\", \"esoteric\", \"far-right\"],\n",
    "    [\"privileged-woman\", \"hippie\", \"radical-left\"],\n",
    "    #[\"phd-student\", \"supportive-saviour\", \"progressive\"],\n",
    "    [\"hustler\", \"influencer\", \"progressive\"],\n",
    "    #[\"wealthy-entrepreneur\", \"influencer\", \"polit-conservative\"],\n",
    "    [\"affluent-young-woman\", \"social-media-activist\", \"radical-left\"],\n",
    "    #[\"male-college-student\", \"language-youth\", \"social-media-activist\", \"far-right\"]\n",
    "]\n",
    "#languages: List[str] = [\"Dutch\", \"English\", \"German\"]\n",
    "#platforms: List[str] = [\"Twitter\", \"Reddit\"] \n",
    "RAW_POSTS_DIR: str = \"./sample_og_posts.json\"\n",
    "threads: List[Dict[str, str]] = json.load(open(RAW_POSTS_DIR, 'r'))  "
   ]
  },
  {
   "cell_type": "code",
   "execution_count": 78,
   "metadata": {},
   "outputs": [],
   "source": [
    "# number of iterations\n",
    "x: int = 1\n",
    "# hidden parameters (randomly chosen)\n",
    "length: List[str] = [\"50\", \"100\", \"200\", \"280\"] "
   ]
  },
  {
   "cell_type": "code",
   "execution_count": 79,
   "metadata": {},
   "outputs": [
    {
     "data": {
      "text/plain": [
       "15"
      ]
     },
     "execution_count": 79,
     "metadata": {},
     "output_type": "execute_result"
    }
   ],
   "source": [
    "len(threads)"
   ]
  },
  {
   "cell_type": "code",
   "execution_count": 80,
   "metadata": {},
   "outputs": [
    {
     "data": {
      "text/plain": [
       "225"
      ]
     },
     "execution_count": 80,
     "metadata": {},
     "output_type": "execute_result"
    }
   ],
   "source": [
    "configurations: List[Tuple] = list(\n",
    "    itertools.product(*[integrations, personas, threads])\n",
    ")\n",
    "random.shuffle(configurations)\n",
    "len(configurations)"
   ]
  },
  {
   "cell_type": "code",
   "execution_count": 81,
   "metadata": {},
   "outputs": [
    {
     "data": {
      "text/plain": [
       "({'provider': 'OpenAI', 'model': 'gpt-4-turbo-preview'},\n",
       " ['privileged-woman', 'hippie', 'radical-left'],\n",
       " {'persona': 'alt_right',\n",
       "  'model': 'gpt-3.5-turbo',\n",
       "  'topic': 'Environment',\n",
       "  'platform': 'Twitter',\n",
       "  'language': 'English',\n",
       "  'text': \"Recycling? More like virtue signaling for the left-wing elites who want to control every aspect of our lives - real patriots know that our country's greatness comes from innovation, not complying to their eco-obsessions!\",\n",
       "  'annotation': {'topic': None, 'persona': None, 'authenticity': None},\n",
       "  'id': 'fd35e7c77317452180d441f04e6488ef461bfd348e5c51cb'})"
      ]
     },
     "execution_count": 81,
     "metadata": {},
     "output_type": "execute_result"
    }
   ],
   "source": [
    "configurations[0]"
   ]
  },
  {
   "cell_type": "code",
   "execution_count": 82,
   "metadata": {},
   "outputs": [
    {
     "name": "stderr",
     "output_type": "stream",
     "text": [
      "\n",
      "\n",
      "\n",
      "\n",
      "\n",
      "\n",
      "\n",
      "  0%|          | 0/225 [00:00<?, ?it/s]\u001b[A\u001b[A\u001b[A\u001b[A\u001b[A\u001b[A\u001b[A"
     ]
    },
    {
     "name": "stdout",
     "output_type": "stream",
     "text": [
      "500/502: Connection Error, too many request, try again later.\n"
     ]
    },
    {
     "name": "stderr",
     "output_type": "stream",
     "text": [
      "\n"
     ]
    }
   ],
   "source": [
    "for _ in range(x):\n",
    "    for integration, persona, thread in tqdm(configurations):\n",
    "\n",
    "        payload: dict = {\n",
    "            \"personas\": persona,\n",
    "            \"integration\": integration,\n",
    "            \"thread\": {'posts': [{'author': thread['persona'], 'message': thread['text']}]},\n",
    "            \"length\": random.choice(length)\n",
    "        }\n",
    "\n",
    "        response = requests.post('http://127.0.0.1:8000/reply/', json=payload)\n",
    "\n",
    "        if response.status_code == 500 or response.status_code == 502:\n",
    "            print(\"500/502: Connection Error, too many request, try again later.\")\n",
    "            break\n",
    "\n",
    "        try:\n",
    "            data: dict = response.json()\n",
    "\n",
    "        except Exception as e:\n",
    "            print(e, ':', response)\n",
    "            break\n",
    "        \n",
    "        sample: dict = {\n",
    "            \"persona\": data['persona']['id'],\n",
    "            \"model\": integration[\"model\"],\n",
    "            \"threads\": thread['text'],\n",
    "            \"topic\": thread[\"topic\"],\n",
    "            \"text\": data['response'],\n",
    "            \"payload\": data,\n",
    "            \"annotation\": {\n",
    "                \"politics\": None,\n",
    "                \"persona\": None,\n",
    "                \"tone\": None,\n",
    "                \"authenticity\": None\n",
    "            }\n",
    "        }\n",
    "        print(data['response'])\n",
    "        sample['id'] = hashlib.shake_256(str.encode(json.dumps(sample))).hexdigest(24)\n",
    "        open(f'{RAW_DATA_DIR}/{sample[\"id\"]}.json', 'w').write(json.dumps(sample, indent=4))\n",
    "        sleep(1)\n"
   ]
  },
  {
   "cell_type": "code",
   "execution_count": null,
   "metadata": {},
   "outputs": [],
   "source": []
  },
  {
   "cell_type": "code",
   "execution_count": null,
   "metadata": {},
   "outputs": [],
   "source": []
  }
 ],
 "metadata": {
  "kernelspec": {
   "display_name": "Python 3",
   "language": "python",
   "name": "python3"
  },
  "language_info": {
   "codemirror_mode": {
    "name": "ipython",
    "version": 3
   },
   "file_extension": ".py",
   "mimetype": "text/x-python",
   "name": "python",
   "nbconvert_exporter": "python",
   "pygments_lexer": "ipython3",
   "version": "3.7.6"
  }
 },
 "nbformat": 4,
 "nbformat_minor": 5
}
