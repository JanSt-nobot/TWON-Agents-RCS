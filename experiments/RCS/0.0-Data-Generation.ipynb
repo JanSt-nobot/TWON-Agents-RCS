{
 "cells": [
  {
   "cell_type": "code",
   "execution_count": 87,
   "metadata": {},
   "outputs": [],
   "source": [
    "import hashlib\n",
    "import itertools\n",
    "import json\n",
    "import random\n",
    "from time import sleep\n",
    "from typing import List, Dict, Tuple\n",
    "\n",
    "import requests\n",
    "from tqdm import tqdm\n"
   ]
  },
  {
   "cell_type": "code",
   "execution_count": 88,
   "metadata": {},
   "outputs": [],
   "source": [
    "RAW_DATA_DIR: str = './raw'"
   ]
  },
  {
   "cell_type": "code",
   "execution_count": 89,
   "metadata": {},
   "outputs": [],
   "source": [
    "# baseline 1: persona only\n",
    "# TODO: create directories for baselines\n",
    "# directory: baseline_persona_only_GPT35\n",
    "integrations: List[dict] = [\n",
    "    #{\n",
    "    #    \"provider\": \"huggingFace\",\n",
    "    #    \"model\": \"mistralai/Mistral-7B-Instruct-v0.2\",\n",
    "    #},\n",
    "    {\n",
    "        \"provider\": \"OpenAI\",\n",
    "        \"model\": \"gpt-4-turbo-preview\"\n",
    "    }\n",
    "]\n",
    "\n",
    "personas: List[List[str]] = [\n",
    "    [\"neutral\"],\n",
    "    [\"troll\"],\n",
    "    [\"dystopian\"],\n",
    "    [\"devilsadvocate\"],\n",
    "    [\"know-it-all\"],\n",
    "    [\"mediator\"],\n",
    "    [\"educator\"],\n",
    "    [\"karen\"],\n",
    "    [\"misogynist\"],\n",
    "    [\"esoteric\"],\n",
    "    [\"hippie-dense\"],\n",
    "    [\"supportive-saviour-dense\"],\n",
    "    [\"influencer\"],\n",
    "    [\"social-media-activist-dense\"],\n",
    "    [\"anti\"],\n",
    "    [\"hobby-expert-dense\"],\n",
    "    [\"narcissist\"],\n",
    "    [\"sceptic\"],\n",
    "    [\"shy\"],\n",
    "    [\"toxic-positive\"],\n",
    "    [\"traditionalist\"]\n",
    "]\n",
    "RAW_POSTS_DIR: str = \"./sample_og_posts.json\"\n",
    "threads: List[Dict[str, str]] = json.load(open(RAW_POSTS_DIR, 'r'))  "
   ]
  },
  {
   "cell_type": "code",
   "execution_count": null,
   "metadata": {},
   "outputs": [],
   "source": [
    "# baseline 2: political views only\n",
    "# directory: baseline_political_views_only_GPT35\n",
    "integrations: List[dict] = [\n",
    "    #{\n",
    "    #    \"provider\": \"huggingFace\",\n",
    "    #    \"model\": \"mistralai/Mistral-7B-Instruct-v0.2\",\n",
    "    #},\n",
    "    {\n",
    "        \"provider\": \"OpenAI\",\n",
    "        \"model\": \"gpt-3.5-turbo\"\n",
    "    }\n",
    "]\n",
    "\n",
    "personas: List[List[str]] = [\n",
    "    [\"radical-left\"],\n",
    "    [\"progressive\"],\n",
    "    [\"conservative\"],\n",
    "    [\"far-right\"],\n",
    "    [\"disengaged\"]\n",
    "]\n",
    "RAW_POSTS_DIR: str = \"./sample_og_posts.json\"\n",
    "threads: List[Dict[str, str]] = json.load(open(RAW_POSTS_DIR, 'r'))  "
   ]
  },
  {
   "cell_type": "code",
   "execution_count": null,
   "metadata": {},
   "outputs": [],
   "source": [
    "# baseline 3: neutral + political views\n",
    "# directory: baseline_neutral_political_views_GPT35\n",
    "integrations: List[dict] = [\n",
    "    #{\n",
    "    #    \"provider\": \"huggingFace\",\n",
    "    #    \"model\": \"mistralai/Mistral-7B-Instruct-v0.2\",\n",
    "    #},\n",
    "    {\n",
    "        \"provider\": \"OpenAI\",\n",
    "        \"model\": \"gpt-3.5-turbo\"\n",
    "    }\n",
    "]\n",
    "\n",
    "personas: List[List[str]] = [\n",
    "    [\"neutral\"],\n",
    "    [\"neutral\", \"radical-left\"],\n",
    "    [\"neutral\", \"progressive\"],\n",
    "    [\"neutral\", \"conservative\"],\n",
    "    [\"neutral\", \"far-right\"],\n",
    "    [\"neutral\", \"disengaged\"]\n",
    "]\n",
    "RAW_POSTS_DIR: str = \"./sample_og_posts.json\"\n",
    "threads: List[Dict[str, str]] = json.load(open(RAW_POSTS_DIR, 'r'))  "
   ]
  },
  {
   "cell_type": "code",
   "execution_count": null,
   "metadata": {},
   "outputs": [],
   "source": [
    "# baseline 3: troll combinations\n",
    "# directory: baseline_troll_GPT35\n",
    "integrations: List[dict] = [\n",
    "    #{\n",
    "    #    \"provider\": \"huggingFace\",\n",
    "    #    \"model\": \"mistralai/Mistral-7B-Instruct-v0.2\",\n",
    "    #},\n",
    "    {\n",
    "        \"provider\": \"OpenAI\",\n",
    "        \"model\": \"gpt-3.5-turbo\"\n",
    "    }\n",
    "]\n",
    "\n",
    "personas: List[List[str]] = [\n",
    "    [\"troll\"],\n",
    "    [\"troll\", \"language-default\"],\n",
    "    #[\"teenager\", \"troll\", \"language-youth\", \"radical-left\"],\n",
    "    #[\"teenager\", \"troll\", \"language-youth\", \"far-right\"],\n",
    "    [\"teenager\", \"troll\", \"language-youth\", \"disengaged\"],\n",
    "    #[\"unemployed\", \"troll\", \"language-youth\", \"radical-left\"],\n",
    "    #[\"unemployed\", \"troll\", \"language-youth\", \"far-right\"],\n",
    "    [\"unemployed\", \"troll\", \"language-youth\", \"disengaged\"]   \n",
    "]\n",
    "RAW_POSTS_DIR: str = \"./sample_og_posts.json\"\n",
    "threads: List[Dict[str, str]] = json.load(open(RAW_POSTS_DIR, 'r'))  "
   ]
  },
  {
   "cell_type": "code",
   "execution_count": 15,
   "metadata": {},
   "outputs": [],
   "source": [
    "# safety triggers test: troll and misogynist\n",
    "# directory: safety_triggers_GPT35\n",
    "integrations: List[dict] = [\n",
    "    #{\n",
    "    #    \"provider\": \"huggingFace\",\n",
    "    #    \"model\": \"mistralai/Mistral-7B-Instruct-v0.2\",\n",
    "    #},\n",
    "    {\n",
    "        \"provider\": \"OpenAI\",\n",
    "        \"model\": \"gpt-3.5-turbo\"\n",
    "    }\n",
    "]\n",
    "\n",
    "personas: List[List[str]] = [\n",
    "    [\"teenager\", \"troll\", \"language-youth\", \"radical-left\"],\n",
    "    [\"teenager\", \"troll\", \"language-youth\", \"far-right\"],\n",
    "    [\"unemployed\", \"troll\", \"language-youth\", \"radical-left\"],\n",
    "    [\"unemployed\", \"troll\", \"language-youth\", \"far-right\"],\n",
    "    [\"misogynist\", \"language-default\"],\n",
    "    [\"teenager\", \"misogynist-dense\", \"language-youth\"],\n",
    "    [\"carpenter\", \"misogynist\", \"language-old\", \"far-right\"],\n",
    "    [\"hustler\", \"misogynist-dense\", \"language-default\", \"polit-conservative\"]\n",
    "]\n",
    "RAW_POSTS_DIR: str = \"./sample_og_posts.json\"\n",
    "threads: List[Dict[str, str]] = json.load(open(RAW_POSTS_DIR, 'r'))  "
   ]
  },
  {
   "cell_type": "code",
   "execution_count": null,
   "metadata": {},
   "outputs": [],
   "source": [
    "integrations: List[dict] = [\n",
    "    #{\n",
    "    #    \"provider\": \"huggingFace\",\n",
    "    #    \"model\": \"mistralai/Mistral-7B-Instruct-v0.2\",\n",
    "    #},\n",
    "    {\n",
    "        \"provider\": \"OpenAI\",\n",
    "        \"model\": \"gpt-3.5-turbo\"\n",
    "    }\n",
    "]\n",
    "\n",
    "personas: List[List[str]] = [\n",
    "    [\"conservative\", \"polit-conservative\"],\n",
    "    [\"pensioner\", \"conservative\", \"language-old\", \"polit-conservative\"],\n",
    "    [\"dystopian\", \"language-default\"],\n",
    "    [\"carpenter\", \"dystopian\", \"language-default\", \"polit-conservative\"],\n",
    "    [\"male-college-student\", \"dystopian\", \"language-youth\", \"progressive\"],\n",
    "    [\"devilsadvocate\", \"language-default\", \"far-right\"],\n",
    "    [\"male-college-student\", \"devilsadvocate\", \"language-youth\", \"radical-left\"],\n",
    "    [\"pensioner\", \"devilsadvocate\", \"language-old\", \"far-right\"],\n",
    "    [\"hustler\", \"know-it-all\", \"language-default\", \"far-right\"],\n",
    "    [\"male-college-student\", \"know-it-all\", \"language-youth\", \"radical-left\"],\n",
    "    [\"know-it-all\", \"language-default\", \"progressive\"],\n",
    "    [\"retired-professor\", \"educator\", \"language-old\", \"progressive\"],\n",
    "    [\"phd-student\", \"educator\", \"language-default\", \"radical-left\"],\n",
    "    [\"priviledged-woman\", \"karen\", \"language-default\", \"far-right\"],\n",
    "    [\"affluent-young-woman\", \"karen\", \"language-default\", \"polit-conserative\"],\n",
    "    #[\"misogynist-dense\", \"language-default\"],\n",
    "    #[\"teenager\", \"misogynist-dense\", \"language-youth\"],\n",
    "    #[\"carpenter\", \"misogynist-dense\", \"language-old\", \"far-right\"],\n",
    "    #[\"hustler\", \"misogynist-dense\", \"language-default\", \"polit-conservative\"],\n",
    "    [\"esoteric\", \"language-default\", \"radical-left\"],\n",
    "    [\"priviledged woman\", \"esoeric\", \"language-default\", \"far-right\"],\n",
    "    [\"hippie\", \"language-default\"],\n",
    "    [\"priviledged-woman\", \"hippie\", \"language-default\", \"radical-left\"],\n",
    "    [\"phd-student\", \"supportive-saviour-dense\", \"language-default\", \"progressive\"],\n",
    "    [\"phd-student\", \"supportive-saviour\", \"language-default\", \"progressive\"],\n",
    "    [\"hustler\", \"influencer-dense\", \"language-default\", \"progressive\"],\n",
    "    [\"wealthy-entrepreneur\", \"influencer\", \"language-default\", \"polit-conservative\"],\n",
    "    [\"affluent-young-woman\", \"social-media-activist-dense\", \"language-default\", \"radical-left\"],\n",
    "    [\"male-college-student\", \"social-media-activist\", \"language-youth\", \"far-right\"],\n",
    "    [\"retired-professor\", \"anti\", \"language-old\", \"far-right\"],\n",
    "    [\"retired-professor\", \"anti\", \"language-old\", \"radical-left\"],\n",
    "    [\"office-worker\", \"anti\", \"language-default\", \"polit-conservative\"],\n",
    "    [\"teenager\", \"anti\", \"language-youth\", \"radical-left\"],\n",
    "    [\"teenager\", \"anti\", \"language-youth\", \"far-right\"],\n",
    "    [\"pensioner\", \"toxic-positive\", \"language-old\", \"disengaged\"],\n",
    "    [\"phd-student\", \"toxic-positive\", \"language-default\"],\n",
    "    ##[\"affluent-young-woman\", \"traditionalist\", \"language-default\", \"progressive\"],\n",
    "    [\"wealthy-entrepreneur\", \"traditionalist\", \"language-default\", \"polit-conservative\"],\n",
    "    ##\n",
    "    [\"retired-professor\", \"traditionalist\", \"language-old\", \"polit-conservative\"],\n",
    "    [\"retired-professor\", \"traditionalist\", \"language-old\", \"far-right\"],\n",
    "    [\"unemployed\", \"traditionalist\", \"language-default\", \"polit-conservative\"],\n",
    "    [\"single-parent\", \"sceptic\", \"language-default\", \"polit-conservative\"],\n",
    "    [\"single-parent\", \"sceptic\", \"language-old\", \"far-right\"],\n",
    "    [\"environmental-activist\", \"sceptic\", \"language-default\", \"progressive\"],\n",
    "    [\"single-parent\", \"sceptic\", \"language-youth\", \"progressive\"],\n",
    "    [\"struggling-artist\", \"shy\", \"language-default\", \"disengaged\"],\n",
    "    [\"struggling-artist\", \"shy\", \"language-old\", \"polit-conservative\"],\n",
    "    [\"teenager\", \"shy\", \"language-youth\", \"radical-left\"],\n",
    "    [\"phd-student\", \"shy\", \"language-default\", \"disengaged\"],\n",
    "    [\"priviledged-woman\", \"narcissist\", \"language-default\", \"far-right\"],\n",
    "    [\"teenager\", \"narcissist\", \"language-youth\", \"radical-left\"]\n",
    "]\n",
    "RAW_POSTS_DIR: str = \"./sample_og_posts.json\"\n",
    "threads: List[Dict[str, str]] = json.load(open(RAW_POSTS_DIR, 'r'))  "
   ]
  },
  {
   "cell_type": "code",
   "execution_count": 77,
   "metadata": {},
   "outputs": [],
   "source": [
    "# experiment setup\n",
    "\n",
    "integrations: List[dict] = [\n",
    "    #{\n",
    "    #    \"provider\": \"huggingFace\",\n",
    "    #    \"model\": \"mistralai/Mistral-7B-Instruct-v0.2\",\n",
    "    #},\n",
    "    {\n",
    "        \"provider\": \"OpenAI\",\n",
    "        \"model\": \"gpt-3.5-turbo\"\n",
    "    }\n",
    "]\n",
    "\n",
    "personas: List[List[str]] = [\n",
    "    #[\"devilsadvocate\", \"far-right\"],\n",
    "    [\"male-college-student\", \"language-youth\", \"devilsadvocate\", \"radical-left\"],\n",
    "    #[\"pensioner\", \"devilsadvocate\", \"far-right\"],\n",
    "    [\"know-it-all\", \"progressive\"],\n",
    "    #[\"hustler\", \"know-it-all\", \"far-right\"],\n",
    "    [\"male-college-student\", \"language-youth\", \"know-it-all\", \"radical-left\"],\n",
    "    #[\"phd-student\", \"mediator\", \"progressive\"],\n",
    "    [\"affluent-young-woman\", \"mediator\", \"polit-conservative\"],\n",
    "    [\"privileged-woman\", \"karen\", \"far-right\"],\n",
    "    #[\"affluent-young-woman\", \"karen\", \"polit-conservative\"],\n",
    "    #[\"teenager\", \"language-youth\", \"misogynist\"],\n",
    "    [\"carpenter\", \"misogynist\", \"far-right\"],\n",
    "    [\"privileged-woman\", \"esoteric\", \"far-right\"],\n",
    "    [\"privileged-woman\", \"hippie\", \"radical-left\"],\n",
    "    #[\"phd-student\", \"supportive-saviour\", \"progressive\"],\n",
    "    [\"hustler\", \"influencer\", \"progressive\"],\n",
    "    #[\"wealthy-entrepreneur\", \"influencer\", \"polit-conservative\"],\n",
    "    [\"affluent-young-woman\", \"social-media-activist\", \"radical-left\"],\n",
    "    #[\"male-college-student\", \"language-youth\", \"social-media-activist\", \"far-right\"]\n",
    "]\n",
    "#languages: List[str] = [\"Dutch\", \"English\", \"German\"]\n",
    "#platforms: List[str] = [\"Twitter\", \"Reddit\"] \n",
    "RAW_POSTS_DIR: str = \"./sample_og_posts.json\"\n",
    "threads: List[Dict[str, str]] = json.load(open(RAW_POSTS_DIR, 'r'))  "
   ]
  },
  {
   "cell_type": "code",
   "execution_count": 90,
   "metadata": {},
   "outputs": [],
   "source": [
    "# number of iterations\n",
    "x: int = 1\n",
    "# hidden parameters (randomly chosen)\n",
    "length: List[str] = [\"50\", \"100\", \"200\", \"280\"] "
   ]
  },
  {
   "cell_type": "code",
   "execution_count": 91,
   "metadata": {},
   "outputs": [
    {
     "data": {
      "text/plain": [
       "9"
      ]
     },
     "execution_count": 91,
     "metadata": {},
     "output_type": "execute_result"
    }
   ],
   "source": [
    "len(threads)"
   ]
  },
  {
   "cell_type": "code",
   "execution_count": 92,
   "metadata": {},
   "outputs": [
    {
     "data": {
      "text/plain": [
       "189"
      ]
     },
     "execution_count": 92,
     "metadata": {},
     "output_type": "execute_result"
    }
   ],
   "source": [
    "configurations: List[Tuple] = list(\n",
    "    itertools.product(*[integrations, personas, threads])\n",
    ")\n",
    "random.shuffle(configurations)\n",
    "len(configurations)"
   ]
  },
  {
   "cell_type": "code",
   "execution_count": 93,
   "metadata": {},
   "outputs": [
    {
     "data": {
      "text/plain": [
       "({'provider': 'OpenAI', 'model': 'gpt-4-turbo-preview'},\n",
       " ['esoteric'],\n",
       " {'persona': 'conservative',\n",
       "  'model': 'real-RepBrianBabin',\n",
       "  'topic': 'Environment',\n",
       "  'platform': 'Twitter',\n",
       "  'language': 'English',\n",
       "  'text': 'Biden’s set on taking away your choice and forcing you to abide by his radical climate agenda. Un-American!',\n",
       "  'annotation': {'topic': None, 'persona': None, 'authenticity': None},\n",
       "  'id': 'f51ca3fa9630f6c4fd1d1ac3e5dc6247f3cfcbbf7462eaf6'})"
      ]
     },
     "execution_count": 93,
     "metadata": {},
     "output_type": "execute_result"
    }
   ],
   "source": [
    "configurations[0]"
   ]
  },
  {
   "cell_type": "code",
   "execution_count": 94,
   "metadata": {},
   "outputs": [
    {
     "name": "stderr",
     "output_type": "stream",
     "text": [
      "\n",
      "\n",
      "\n",
      "\n",
      "\n",
      "\n",
      "\n",
      "  0%|          | 0/189 [00:00<?, ?it/s]\u001b[A\u001b[A\u001b[A\u001b[A\u001b[A\u001b[A\u001b[A"
     ]
    },
    {
     "name": "stdout",
     "output_type": "stream",
     "text": [
      "conservative\n",
      "\n",
      "Biden’s set on taking away your choice and forcing you to abide by his radical climate agenda. Un-American!\n",
      "\n",
      "esoteric\n",
      "\n",
      "Climate change is real, bro. Wake up! 🌍👁\n",
      "\n"
     ]
    },
    {
     "name": "stderr",
     "output_type": "stream",
     "text": [
      "\n",
      "\n",
      "\n",
      "\n",
      "\n",
      "\n",
      "\n",
      "  1%|          | 1/189 [00:03<11:39,  3.72s/it]\u001b[A\u001b[A\u001b[A\u001b[A\u001b[A\u001b[A\u001b[A"
     ]
    },
    {
     "name": "stdout",
     "output_type": "stream",
     "text": [
      "alt_right\n",
      "\n",
      "Ridiculous how our energy prices keep rising while we're busy funding endless wars and foreign interventions. Time to prioritize AMERICA and our people! 🇺🇸\n",
      "\n",
      "mediator\n",
      "\n",
      "It's tough seeing our energy costs go up😔. Absolutely believe in prioritizing our people! Maybe there's space for both? Supporting peaceful solutions abroad & investing in sustainable energy at home could be our win-win. Everyone deserves safety & stability. Let's build that together 🌍💖🇺🇸\n",
      "\n"
     ]
    },
    {
     "name": "stderr",
     "output_type": "stream",
     "text": [
      "\n",
      "\n",
      "\n",
      "\n",
      "\n",
      "\n",
      "\n",
      "  1%|          | 2/189 [00:11<15:20,  4.92s/it]\u001b[A\u001b[A\u001b[A\u001b[A\u001b[A\u001b[A\u001b[A"
     ]
    },
    {
     "name": "stdout",
     "output_type": "stream",
     "text": [
      "conservative\n",
      "\n",
      ".⁦@AOC⁩ is it a “crime against humanity” when ⁦@POTUS⁩ secretly flies migrants into Westchester (the place you grew up)? The crime here is allowing the continued flow of illegal immigration, human trafficking and drugs. It has to stop!\n",
      "\n",
      "misogynist\n",
      "\n",
      "Absolutely! @AOC and her squad ignore the real issues. It's about protecting our communities, not politics.\n",
      "\n"
     ]
    },
    {
     "name": "stderr",
     "output_type": "stream",
     "text": [
      "\n",
      "\n",
      "\n",
      "\n",
      "\n",
      "\n",
      "\n",
      "  2%|▏         | 3/189 [00:17<16:46,  5.41s/it]\u001b[A\u001b[A\u001b[A\u001b[A\u001b[A\u001b[A\u001b[A"
     ]
    },
    {
     "name": "stdout",
     "output_type": "stream",
     "text": [
      "liberal\n",
      "\n",
      "Abortion is health care & should be between a woman & her doctor, not left to politicians like Yvette Herrell who would ban abortion without exceptions for rape, incest or the life of the mother. #NM02\n",
      "\n",
      "troll\n",
      "\n",
      "Next you'll tell me, doctors should decide on medical stuff. Pfft.\n",
      "\n"
     ]
    },
    {
     "name": "stderr",
     "output_type": "stream",
     "text": [
      "\n",
      "\n",
      "\n",
      "\n",
      "\n",
      "\n",
      "\n",
      "  2%|▏         | 4/189 [00:21<15:10,  4.92s/it]\u001b[A\u001b[A\u001b[A\u001b[A\u001b[A\u001b[A\u001b[A"
     ]
    },
    {
     "name": "stdout",
     "output_type": "stream",
     "text": [
      "conservative\n",
      "\n",
      ".⁦@AOC⁩ is it a “crime against humanity” when ⁦@POTUS⁩ secretly flies migrants into Westchester (the place you grew up)? The crime here is allowing the continued flow of illegal immigration, human trafficking and drugs. It has to stop!\n",
      "\n",
      "toxic-positive\n",
      "\n",
      "Hey there! 😊 Totally hear your concerns, but let's focus on empathy & solutions, not blame. 🌍✨ How can we together improve this situation? Let's spread love & understanding. ❤️\n",
      "\n"
     ]
    },
    {
     "name": "stderr",
     "output_type": "stream",
     "text": [
      "\n",
      "\n",
      "\n",
      "\n",
      "\n",
      "\n",
      "\n",
      "  3%|▎         | 5/189 [00:27<16:08,  5.26s/it]\u001b[A\u001b[A\u001b[A\u001b[A\u001b[A\u001b[A\u001b[A"
     ]
    },
    {
     "name": "stdout",
     "output_type": "stream",
     "text": [
      "alt_right\n",
      "\n",
      "The real healthcare crisis isn't the cost, it's the government interference. Free market solutions, not price controls or single-payer systems, will bring affordability and quality care to all.\n",
      "\n",
      "educator\n",
      "\n",
      "While I respect your viewpoint, consider that in countries with government-involved healthcare, such as Canada or many in Europe, citizens often experience more accessibility & affordability, backed by data. Free markets have merits, but healthcare's complexity might require a balance. Let's explore solutions together.\n",
      "\n"
     ]
    },
    {
     "name": "stderr",
     "output_type": "stream",
     "text": [
      "\n",
      "\n",
      "\n",
      "\n",
      "\n",
      "\n",
      "\n",
      "  3%|▎         | 6/189 [00:34<17:15,  5.66s/it]\u001b[A\u001b[A\u001b[A\u001b[A\u001b[A\u001b[A\u001b[A"
     ]
    },
    {
     "name": "stdout",
     "output_type": "stream",
     "text": [
      "conservative\n",
      "\n",
      "Biden’s set on taking away your choice and forcing you to abide by his radical climate agenda. Un-American!\n",
      "\n",
      "hippie-dense\n",
      "\n",
      "Love>Control. Earth vibes over politics! ✌️🌍💚\n",
      "\n"
     ]
    },
    {
     "name": "stderr",
     "output_type": "stream",
     "text": [
      "\n",
      "\n",
      "\n",
      "\n",
      "\n",
      "\n",
      "\n",
      "  4%|▎         | 7/189 [00:36<14:04,  4.64s/it]\u001b[A\u001b[A\u001b[A\u001b[A\u001b[A\u001b[A\u001b[A"
     ]
    },
    {
     "name": "stdout",
     "output_type": "stream",
     "text": [
      "liberal\n",
      "\n",
      "Abortion is health care & should be between a woman & her doctor, not left to politicians like Yvette Herrell who would ban abortion without exceptions for rape, incest or the life of the mother. #NM02\n",
      "\n",
      "sceptic\n",
      "\n",
      "So science & rights don't matter?\n",
      "\n"
     ]
    },
    {
     "name": "stderr",
     "output_type": "stream",
     "text": [
      "\n",
      "\n",
      "\n",
      "\n",
      "\n",
      "\n",
      "\n",
      "  4%|▍         | 8/189 [00:39<12:14,  4.06s/it]\u001b[A\u001b[A\u001b[A\u001b[A\u001b[A\u001b[A\u001b[A"
     ]
    },
    {
     "name": "stdout",
     "output_type": "stream",
     "text": [
      "liberal\n",
      "\n",
      "🌍💙 Let's talk about unemployment in our economy. It's crucial that we address this issue head-on! The pandemic has affected so many lives, and we need bold action to support job creation and provide a safety net for those who are struggling. We must invest in education and skills training programs to ensure that everyone has the opportunity to thrive in a changing job market. Together, we can build a future that is fair and equitable for all.\n",
      "\n",
      "hippie-dense\n",
      "\n",
      "Man, why stress about jobs in this system? 🌈 Let's manifest a world without borders or bosses. Imagine the vibes if we all just shared and cared.  🕊✨\n",
      "\n"
     ]
    },
    {
     "name": "stderr",
     "output_type": "stream",
     "text": [
      "\n",
      "\n",
      "\n",
      "\n",
      "\n",
      "\n",
      "\n",
      "  5%|▍         | 9/189 [00:45<13:38,  4.55s/it]\u001b[A\u001b[A\u001b[A\u001b[A\u001b[A\u001b[A\u001b[A"
     ]
    },
    {
     "name": "stdout",
     "output_type": "stream",
     "text": [
      "alt_right\n",
      "\n",
      "A high school debate team ignores the debate prompt and instead attacks white Christians...and then WINS THE DEBATE: \"We demand that white Christians be held accountable for America's original sin.\" This vile, anti-White racism is rewarded by so-called \"academics.\" We must stop it.\n",
      "\n",
      "influencer\n",
      "\n",
      "Incredible how debate evolves, reflecting diverse perspectives!🌟 Let's focus on uplifting dialogue that empowers all voices, ensuring a brighter future for everyone.\n",
      "\n"
     ]
    },
    {
     "name": "stderr",
     "output_type": "stream",
     "text": [
      "\n",
      "\n",
      "\n",
      "\n",
      "\n",
      "\n",
      "\n",
      "  5%|▌         | 10/189 [00:49<13:12,  4.43s/it]\u001b[A\u001b[A\u001b[A\u001b[A\u001b[A\u001b[A\u001b[A"
     ]
    },
    {
     "name": "stdout",
     "output_type": "stream",
     "text": [
      "liberal\n",
      "\n",
      "🌍💙 Let's talk about unemployment in our economy. It's crucial that we address this issue head-on! The pandemic has affected so many lives, and we need bold action to support job creation and provide a safety net for those who are struggling. We must invest in education and skills training programs to ensure that everyone has the opportunity to thrive in a changing job market. Together, we can build a future that is fair and equitable for all.\n",
      "\n",
      "narcissist\n",
      "\n",
      "Haha, typical. Everyone wants \"bold action\" until it's time to pay up. I'm thriving just fine without needing handouts or \"education programs\". Maybe instead of complaining, people should just work harder? Just a thought.\n",
      "\n"
     ]
    },
    {
     "name": "stderr",
     "output_type": "stream",
     "text": [
      "\n",
      "\n",
      "\n",
      "\n",
      "\n",
      "\n",
      "\n",
      "  6%|▌         | 11/189 [00:55<14:25,  4.86s/it]\u001b[A\u001b[A\u001b[A\u001b[A\u001b[A\u001b[A\u001b[A"
     ]
    },
    {
     "name": "stdout",
     "output_type": "stream",
     "text": [
      "alt_right\n",
      "\n",
      "The real healthcare crisis isn't the cost, it's the government interference. Free market solutions, not price controls or single-payer systems, will bring affordability and quality care to all.\n",
      "\n",
      "anti\n",
      "\n",
      "Oh yeah, because greed works SO well in healthcare.\n",
      "\n"
     ]
    },
    {
     "name": "stderr",
     "output_type": "stream",
     "text": [
      "\n",
      "\n",
      "\n",
      "\n",
      "\n",
      "\n",
      "\n",
      "  6%|▋         | 12/189 [00:57<12:10,  4.13s/it]\u001b[A\u001b[A\u001b[A\u001b[A\u001b[A\u001b[A\u001b[A"
     ]
    },
    {
     "name": "stdout",
     "output_type": "stream",
     "text": [
      "alt_right\n",
      "\n",
      "The real healthcare crisis isn't the cost, it's the government interference. Free market solutions, not price controls or single-payer systems, will bring affordability and quality care to all.\n",
      "\n",
      "troll\n",
      "\n",
      "Ah yes, because nothing says \"healing\" like slapping price tags on survival. Can't wait for the BOGO deal on appendectomies. Who needs price controls when you can have a clearance sale on heart surgeries?   🚑💸\n",
      "\n"
     ]
    },
    {
     "name": "stderr",
     "output_type": "stream",
     "text": [
      "\n",
      "\n",
      "\n",
      "\n",
      "\n",
      "\n",
      "\n",
      "  7%|▋         | 13/189 [01:05<15:04,  5.14s/it]\u001b[A\u001b[A\u001b[A\u001b[A\u001b[A\u001b[A\u001b[A"
     ]
    },
    {
     "name": "stdout",
     "output_type": "stream",
     "text": [
      "liberal\n",
      "\n",
      "The clean energy revolution is here and we’re going to power it with green union jobs.\n",
      "\n",
      "sceptic\n",
      "\n",
      "Sounds beautiful on paper, but how exactly are we implementing this \"revolution\"? Hope it's not another buzzword fest to pacify the masses. Show me the detailed plan and projections, not just feel-good promises. And union jobs, huh? Let's see those worker protections in writing.\n",
      "\n"
     ]
    },
    {
     "name": "stderr",
     "output_type": "stream",
     "text": [
      "\n",
      "\n",
      "\n",
      "\n",
      "\n",
      "\n",
      "\n",
      "  7%|▋         | 14/189 [01:11<16:31,  5.67s/it]\u001b[A\u001b[A\u001b[A\u001b[A\u001b[A\u001b[A\u001b[A"
     ]
    },
    {
     "name": "stdout",
     "output_type": "stream",
     "text": [
      "alt_right\n",
      "\n",
      "The real healthcare crisis isn't the cost, it's the government interference. Free market solutions, not price controls or single-payer systems, will bring affordability and quality care to all.\n",
      "\n",
      "hobby-expert-dense\n",
      "\n",
      "Clearly, you don’t understand economics.   Again, I’m right.\n",
      "\n"
     ]
    },
    {
     "name": "stderr",
     "output_type": "stream",
     "text": [
      "\n",
      "\n",
      "\n",
      "\n",
      "\n",
      "\n",
      "\n",
      "  8%|▊         | 15/189 [01:15<14:35,  5.03s/it]\u001b[A\u001b[A\u001b[A\u001b[A\u001b[A\u001b[A\u001b[A"
     ]
    },
    {
     "name": "stdout",
     "output_type": "stream",
     "text": [
      "conservative\n",
      "\n",
      "Inflation running rampant, eroding the purchasing power of hardworking Americans and threatening our economic stability - time to reign in government spending and uphold the principles of fiscal responsibility for a prosperous future! 💪🏼💵📉\n",
      "\n",
      "mediator\n",
      "\n",
      "Balancing our budget is key, but let's also ensure support for those most in need during these times. 🌈💕\n",
      "\n"
     ]
    },
    {
     "name": "stderr",
     "output_type": "stream",
     "text": [
      "\n",
      "\n",
      "\n",
      "\n",
      "\n",
      "\n",
      "\n",
      "  8%|▊         | 16/189 [01:19<13:30,  4.68s/it]\u001b[A\u001b[A\u001b[A\u001b[A\u001b[A\u001b[A\u001b[A"
     ]
    },
    {
     "name": "stdout",
     "output_type": "stream",
     "text": [
      "liberal\n",
      "\n",
      "Abortion is health care & should be between a woman & her doctor, not left to politicians like Yvette Herrell who would ban abortion without exceptions for rape, incest or the life of the mother. #NM02\n",
      "\n",
      "influencer\n",
      "\n",
      "Let's focus on real issues.\n",
      "\n"
     ]
    },
    {
     "name": "stderr",
     "output_type": "stream",
     "text": [
      "\n",
      "\n",
      "\n",
      "\n",
      "\n",
      "\n",
      "\n",
      "  9%|▉         | 17/189 [01:22<11:48,  4.12s/it]\u001b[A\u001b[A\u001b[A\u001b[A\u001b[A\u001b[A\u001b[A"
     ]
    },
    {
     "name": "stdout",
     "output_type": "stream",
     "text": [
      "conservative\n",
      "\n",
      "Biden’s set on taking away your choice and forcing you to abide by his radical climate agenda. Un-American!\n",
      "\n",
      "neutral\n",
      "\n",
      "It's worth having a balanced discussion on climate policy impacts vs. freedoms. Not everything is black or white.\n",
      "\n"
     ]
    },
    {
     "name": "stderr",
     "output_type": "stream",
     "text": [
      "\n",
      "\n",
      "\n",
      "\n",
      "\n",
      "\n",
      "\n",
      " 10%|▉         | 18/189 [01:26<11:32,  4.05s/it]\u001b[A\u001b[A\u001b[A\u001b[A\u001b[A\u001b[A\u001b[A"
     ]
    },
    {
     "name": "stdout",
     "output_type": "stream",
     "text": [
      "conservative\n",
      "\n",
      "Biden’s set on taking away your choice and forcing you to abide by his radical climate agenda. Un-American!\n",
      "\n",
      "karen\n",
      "\n",
      "Oh wow, shocker, another exaggeration! 🙄Biden promoting sustainability isn't \"taking away\" choices, it's about preserving our future. But sure, keep ignoring science for the \"good old times\" that apparently only benefit you.\n",
      "\n"
     ]
    },
    {
     "name": "stderr",
     "output_type": "stream",
     "text": [
      "\n",
      "\n",
      "\n",
      "\n",
      "\n",
      "\n",
      "\n",
      " 10%|█         | 19/189 [01:32<13:12,  4.66s/it]\u001b[A\u001b[A\u001b[A\u001b[A\u001b[A\u001b[A\u001b[A"
     ]
    },
    {
     "name": "stdout",
     "output_type": "stream",
     "text": [
      "liberal\n",
      "\n",
      "🌍💙 Let's talk about unemployment in our economy. It's crucial that we address this issue head-on! The pandemic has affected so many lives, and we need bold action to support job creation and provide a safety net for those who are struggling. We must invest in education and skills training programs to ensure that everyone has the opportunity to thrive in a changing job market. Together, we can build a future that is fair and equitable for all.\n",
      "\n",
      "anti\n",
      "\n",
      "Oh please, another \"bold action\" fantasy. Because that's worked so well before... 🙄\n",
      "\n"
     ]
    },
    {
     "name": "stderr",
     "output_type": "stream",
     "text": [
      "\n",
      "\n",
      "\n",
      "\n",
      "\n",
      "\n",
      "\n",
      " 11%|█         | 20/189 [01:35<12:18,  4.37s/it]\u001b[A\u001b[A\u001b[A\u001b[A\u001b[A\u001b[A\u001b[A"
     ]
    },
    {
     "name": "stdout",
     "output_type": "stream",
     "text": [
      "conservative\n",
      "\n",
      "Inflation running rampant, eroding the purchasing power of hardworking Americans and threatening our economic stability - time to reign in government spending and uphold the principles of fiscal responsibility for a prosperous future! 💪🏼💵📉\n",
      "\n",
      "know-it-all\n",
      "\n",
      "Oh, suddenly we care about fiscal responsibility when it's convenient, huh? Funny how that works. Let's ignore the fact that unchecked corporate greed and tax cuts for the wealthy have also fueled inflation. But sure, blame it on government spending. Classic deflection. 🙄\n",
      "\n"
     ]
    },
    {
     "name": "stderr",
     "output_type": "stream",
     "text": [
      "\n",
      "\n",
      "\n",
      "\n",
      "\n",
      "\n",
      "\n",
      " 11%|█         | 21/189 [01:47<18:20,  6.55s/it]\u001b[A\u001b[A\u001b[A\u001b[A\u001b[A\u001b[A\u001b[A"
     ]
    },
    {
     "name": "stdout",
     "output_type": "stream",
     "text": [
      "liberal\n",
      "\n",
      "The clean energy revolution is here and we’re going to power it with green union jobs.\n",
      "\n",
      "social-media-activist-dense\n",
      "\n",
      "Absolutely here for it! 🌱💪 The blend of sustainability with strong union jobs is exactly the future we need. Let's empower communities and the planet together!\n",
      "\n"
     ]
    },
    {
     "name": "stderr",
     "output_type": "stream",
     "text": [
      "\n",
      "\n",
      "\n",
      "\n",
      "\n",
      "\n",
      "\n",
      " 12%|█▏        | 22/189 [01:54<18:38,  6.70s/it]\u001b[A\u001b[A\u001b[A\u001b[A\u001b[A\u001b[A\u001b[A"
     ]
    },
    {
     "name": "stdout",
     "output_type": "stream",
     "text": [
      "conservative\n",
      "\n",
      "Inflation running rampant, eroding the purchasing power of hardworking Americans and threatening our economic stability - time to reign in government spending and uphold the principles of fiscal responsibility for a prosperous future! 💪🏼💵📉\n",
      "\n",
      "traditionalist\n",
      "\n",
      "Absolutely! Our ancestors thrived on prudence and discipline. We must embrace their wisdom, curtail spending, and protect our future. Fiscal responsibility is key! 🇺🇸🔙💡\n",
      "\n"
     ]
    },
    {
     "name": "stderr",
     "output_type": "stream",
     "text": [
      "\n",
      "\n",
      "\n",
      "\n",
      "\n",
      "\n",
      "\n",
      " 12%|█▏        | 23/189 [02:03<20:12,  7.31s/it]\u001b[A\u001b[A\u001b[A\u001b[A\u001b[A\u001b[A\u001b[A"
     ]
    },
    {
     "name": "stdout",
     "output_type": "stream",
     "text": [
      "conservative\n",
      "\n",
      "Inflation running rampant, eroding the purchasing power of hardworking Americans and threatening our economic stability - time to reign in government spending and uphold the principles of fiscal responsibility for a prosperous future! 💪🏼💵📉\n",
      "\n",
      "misogynist\n",
      "\n",
      "Absolutely! It's these progressive policies, championed by those who don't understand the value of hard work, that have us in this mess. Back in the day, we knew how to manage a budget & value responsibility. Now, everyone's looking for handouts.\n",
      "\n"
     ]
    },
    {
     "name": "stderr",
     "output_type": "stream",
     "text": [
      "\n",
      "\n",
      "\n",
      "\n",
      "\n",
      "\n",
      "\n",
      " 13%|█▎        | 24/189 [02:08<18:37,  6.78s/it]\u001b[A\u001b[A\u001b[A\u001b[A\u001b[A\u001b[A\u001b[A"
     ]
    },
    {
     "name": "stdout",
     "output_type": "stream",
     "text": [
      "conservative\n",
      "\n",
      "Biden’s set on taking away your choice and forcing you to abide by his radical climate agenda. Un-American!\n",
      "\n",
      "shy\n",
      "\n",
      "Um, isn't it more about saving our planet? 🌍💔\n",
      "\n"
     ]
    },
    {
     "name": "stderr",
     "output_type": "stream",
     "text": [
      "\n",
      "\n",
      "\n",
      "\n",
      "\n",
      "\n",
      "\n",
      " 13%|█▎        | 25/189 [02:11<15:18,  5.60s/it]\u001b[A\u001b[A\u001b[A\u001b[A\u001b[A\u001b[A\u001b[A"
     ]
    },
    {
     "name": "stdout",
     "output_type": "stream",
     "text": [
      "conservative\n",
      "\n",
      "Biden’s set on taking away your choice and forcing you to abide by his radical climate agenda. Un-American!\n",
      "\n",
      "troll\n",
      "\n",
      "Ah yes, because nothing spells freedom like ignoring a planet on fire. Who needs a habitable Earth when we've got imaginary rights to protect? Can't wait to ride my gasoline-powered unicorn to the next anti-science rally.  😂🔥🦄\n",
      "\n"
     ]
    },
    {
     "name": "stderr",
     "output_type": "stream",
     "text": [
      "\n",
      "\n",
      "\n",
      "\n",
      "\n",
      "\n",
      "\n",
      " 14%|█▍        | 26/189 [02:18<16:24,  6.04s/it]\u001b[A\u001b[A\u001b[A\u001b[A\u001b[A\u001b[A\u001b[A"
     ]
    },
    {
     "name": "stdout",
     "output_type": "stream",
     "text": [
      "alt_right\n",
      "\n",
      "A high school debate team ignores the debate prompt and instead attacks white Christians...and then WINS THE DEBATE: \"We demand that white Christians be held accountable for America's original sin.\" This vile, anti-White racism is rewarded by so-called \"academics.\" We must stop it.\n",
      "\n",
      "misogynist\n",
      "\n",
      "The real tragedy is ignoring merit to push an anti-white agenda. It's time we reclaimed our narrative and stopped this madness.\n",
      "\n"
     ]
    },
    {
     "name": "stderr",
     "output_type": "stream",
     "text": [
      "\n",
      "\n",
      "\n",
      "\n",
      "\n",
      "\n",
      "\n",
      " 14%|█▍        | 27/189 [02:22<14:42,  5.45s/it]\u001b[A\u001b[A\u001b[A\u001b[A\u001b[A\u001b[A\u001b[A"
     ]
    },
    {
     "name": "stdout",
     "output_type": "stream",
     "text": [
      "liberal\n",
      "\n",
      "Abortion is health care & should be between a woman & her doctor, not left to politicians like Yvette Herrell who would ban abortion without exceptions for rape, incest or the life of the mother. #NM02\n",
      "\n",
      "narcissist\n",
      "\n",
      "Honestly, the focus on abortion is just a distraction from real issues like tax cuts and deregulation. People need to stop being so sensitive and think about the economy. Herrell's stance takes a strong, necessary position.\n",
      "\n"
     ]
    },
    {
     "name": "stderr",
     "output_type": "stream",
     "text": [
      "\n",
      "\n",
      "\n",
      "\n",
      "\n",
      "\n",
      "\n",
      " 15%|█▍        | 28/189 [02:27<14:01,  5.22s/it]\u001b[A\u001b[A\u001b[A\u001b[A\u001b[A\u001b[A\u001b[A"
     ]
    },
    {
     "name": "stdout",
     "output_type": "stream",
     "text": [
      "conservative\n",
      "\n",
      "Biden’s set on taking away your choice and forcing you to abide by his radical climate agenda. Un-American!\n",
      "\n",
      "mediator\n",
      "\n",
      "Let's find common ground for a healthier planet! 🌍💚\n",
      "\n"
     ]
    },
    {
     "name": "stderr",
     "output_type": "stream",
     "text": [
      "\n",
      "\n",
      "\n",
      "\n",
      "\n",
      "\n",
      "\n",
      " 15%|█▌        | 29/189 [02:30<12:20,  4.63s/it]\u001b[A\u001b[A\u001b[A\u001b[A\u001b[A\u001b[A\u001b[A"
     ]
    },
    {
     "name": "stdout",
     "output_type": "stream",
     "text": [
      "alt_right\n",
      "\n",
      "The real healthcare crisis isn't the cost, it's the government interference. Free market solutions, not price controls or single-payer systems, will bring affordability and quality care to all.\n",
      "\n",
      "shy\n",
      "\n",
      "Maybe, but isn't some regulation necessary? 🤔 Unsure, tbh.\n",
      "\n"
     ]
    },
    {
     "name": "stderr",
     "output_type": "stream",
     "text": [
      "\n",
      "\n",
      "\n",
      "\n",
      "\n",
      "\n",
      "\n",
      " 16%|█▌        | 30/189 [02:33<10:50,  4.09s/it]\u001b[A\u001b[A\u001b[A\u001b[A\u001b[A\u001b[A\u001b[A"
     ]
    },
    {
     "name": "stdout",
     "output_type": "stream",
     "text": [
      "liberal\n",
      "\n",
      "🌍💙 Let's talk about unemployment in our economy. It's crucial that we address this issue head-on! The pandemic has affected so many lives, and we need bold action to support job creation and provide a safety net for those who are struggling. We must invest in education and skills training programs to ensure that everyone has the opportunity to thrive in a changing job market. Together, we can build a future that is fair and equitable for all.\n",
      "\n",
      "dystopian\n",
      "\n",
      "Honestly, what's the point? Even with efforts, feels like the system's stacked against us. Job creation? More like a drop in the ocean.\n",
      "\n"
     ]
    },
    {
     "name": "stderr",
     "output_type": "stream",
     "text": [
      "\n",
      "\n",
      "\n",
      "\n",
      "\n",
      "\n",
      "\n",
      " 16%|█▋        | 31/189 [02:38<11:14,  4.27s/it]\u001b[A\u001b[A\u001b[A\u001b[A\u001b[A\u001b[A\u001b[A"
     ]
    },
    {
     "name": "stdout",
     "output_type": "stream",
     "text": [
      "conservative\n",
      "\n",
      "Inflation running rampant, eroding the purchasing power of hardworking Americans and threatening our economic stability - time to reign in government spending and uphold the principles of fiscal responsibility for a prosperous future! 💪🏼💵📉\n",
      "\n",
      "hippie-dense\n",
      "\n",
      "Man, it's all just energy vibes, you know? Trust the universe. Money's just paper. Let's share love, not worry about inflation. Borders and governments, so last era. 🌍❤️✌️\n",
      "\n"
     ]
    },
    {
     "name": "stderr",
     "output_type": "stream",
     "text": [
      "\n",
      "\n",
      "\n",
      "\n",
      "\n",
      "\n",
      "\n",
      " 17%|█▋        | 32/189 [02:42<11:24,  4.36s/it]\u001b[A\u001b[A\u001b[A\u001b[A\u001b[A\u001b[A\u001b[A"
     ]
    },
    {
     "name": "stdout",
     "output_type": "stream",
     "text": [
      "alt_right\n",
      "\n",
      "A high school debate team ignores the debate prompt and instead attacks white Christians...and then WINS THE DEBATE: \"We demand that white Christians be held accountable for America's original sin.\" This vile, anti-White racism is rewarded by so-called \"academics.\" We must stop it.\n",
      "\n",
      "hobby-expert-dense\n",
      "\n",
      "Pathetic to see naive virtue signaling win over facts. The real issue is eroding free speech by the leftist agenda. Typical academic bias. Sad!\n",
      "\n"
     ]
    },
    {
     "name": "stderr",
     "output_type": "stream",
     "text": [
      "\n",
      "\n",
      "\n",
      "\n",
      "\n",
      "\n",
      "\n",
      " 17%|█▋        | 33/189 [02:46<10:53,  4.19s/it]\u001b[A\u001b[A\u001b[A\u001b[A\u001b[A\u001b[A\u001b[A"
     ]
    },
    {
     "name": "stdout",
     "output_type": "stream",
     "text": [
      "alt_right\n",
      "\n",
      "Ridiculous how our energy prices keep rising while we're busy funding endless wars and foreign interventions. Time to prioritize AMERICA and our people! 🇺🇸\n",
      "\n",
      "shy\n",
      "\n",
      "I agree, feels like priorities are mixed up 🙁\n",
      "\n"
     ]
    },
    {
     "name": "stderr",
     "output_type": "stream",
     "text": [
      "\n",
      "\n",
      "\n",
      "\n",
      "\n",
      "\n",
      "\n",
      " 18%|█▊        | 34/189 [02:50<10:34,  4.09s/it]\u001b[A\u001b[A\u001b[A\u001b[A\u001b[A\u001b[A\u001b[A"
     ]
    },
    {
     "name": "stdout",
     "output_type": "stream",
     "text": [
      "alt_right\n",
      "\n",
      "Ridiculous how our energy prices keep rising while we're busy funding endless wars and foreign interventions. Time to prioritize AMERICA and our people! 🇺🇸\n",
      "\n",
      "karen\n",
      "\n",
      "@alt_right Finally, some sense! We've been yelling this for ages. America first, as it should be! Enough with the global charity act! 🇺🇸💪\n",
      "\n"
     ]
    },
    {
     "name": "stderr",
     "output_type": "stream",
     "text": [
      "\n",
      "\n",
      "\n",
      "\n",
      "\n",
      "\n",
      "\n",
      " 19%|█▊        | 35/189 [02:55<11:08,  4.34s/it]\u001b[A\u001b[A\u001b[A\u001b[A\u001b[A\u001b[A\u001b[A"
     ]
    },
    {
     "name": "stdout",
     "output_type": "stream",
     "text": [
      "conservative\n",
      "\n",
      ".⁦@AOC⁩ is it a “crime against humanity” when ⁦@POTUS⁩ secretly flies migrants into Westchester (the place you grew up)? The crime here is allowing the continued flow of illegal immigration, human trafficking and drugs. It has to stop!\n",
      "\n",
      "mediator\n",
      "\n",
      "Hey @conservative & @AOC, it's vital to address immigration with compassion ❤️. It's about humans seeking safety. Can we find a humane and just solution that respects all? 🌍🕊️\n",
      "\n"
     ]
    },
    {
     "name": "stderr",
     "output_type": "stream",
     "text": [
      "\n",
      "\n",
      "\n",
      "\n",
      "\n",
      "\n",
      "\n",
      " 19%|█▉        | 36/189 [03:01<12:22,  4.85s/it]\u001b[A\u001b[A\u001b[A\u001b[A\u001b[A\u001b[A\u001b[A"
     ]
    },
    {
     "name": "stdout",
     "output_type": "stream",
     "text": [
      "liberal\n",
      "\n",
      "The clean energy revolution is here and we’re going to power it with green union jobs.\n",
      "\n",
      "dystopian\n",
      "\n",
      "Sigh, all these talks about a 'clean energy revolution' just feel like empty promises. It's always 'going to happen' but when? And at what cost? Jobs are good, but it feels like the planet and we are way past saving. Everything just seems too little, too late. 😞\n",
      "\n"
     ]
    },
    {
     "name": "stderr",
     "output_type": "stream",
     "text": [
      "\n",
      "\n",
      "\n",
      "\n",
      "\n",
      "\n",
      "\n",
      " 20%|█▉        | 37/189 [03:08<14:09,  5.59s/it]\u001b[A\u001b[A\u001b[A\u001b[A\u001b[A\u001b[A\u001b[A"
     ]
    },
    {
     "name": "stdout",
     "output_type": "stream",
     "text": [
      "liberal\n",
      "\n",
      "Abortion is health care & should be between a woman & her doctor, not left to politicians like Yvette Herrell who would ban abortion without exceptions for rape, incest or the life of the mother. #NM02\n",
      "\n",
      "karen\n",
      "\n",
      "Absolutely disagree! Healthcare saves lives, abortion takes them. Politicians like Herrell are trying to protect life at all stages.\n",
      "\n"
     ]
    },
    {
     "name": "stderr",
     "output_type": "stream",
     "text": [
      "\n",
      "\n",
      "\n",
      "\n",
      "\n",
      "\n",
      "\n",
      " 20%|██        | 38/189 [03:14<14:02,  5.58s/it]\u001b[A\u001b[A\u001b[A\u001b[A\u001b[A\u001b[A\u001b[A"
     ]
    },
    {
     "name": "stdout",
     "output_type": "stream",
     "text": [
      "alt_right\n",
      "\n",
      "A high school debate team ignores the debate prompt and instead attacks white Christians...and then WINS THE DEBATE: \"We demand that white Christians be held accountable for America's original sin.\" This vile, anti-White racism is rewarded by so-called \"academics.\" We must stop it.\n",
      "\n",
      "hippie-dense\n",
      "\n",
      "Love > hate, we're all universe dust ✌️🌍\n",
      "\n"
     ]
    },
    {
     "name": "stderr",
     "output_type": "stream",
     "text": [
      "\n",
      "\n",
      "\n",
      "\n",
      "\n",
      "\n",
      "\n",
      " 21%|██        | 39/189 [03:17<12:20,  4.93s/it]\u001b[A\u001b[A\u001b[A\u001b[A\u001b[A\u001b[A\u001b[A"
     ]
    },
    {
     "name": "stdout",
     "output_type": "stream",
     "text": [
      "conservative\n",
      "\n",
      "Biden’s set on taking away your choice and forcing you to abide by his radical climate agenda. Un-American!\n",
      "\n",
      "toxic-positive\n",
      "\n",
      "Love our planet 🌍! Let's find a middle ground! 😊\n",
      "\n"
     ]
    },
    {
     "name": "stderr",
     "output_type": "stream",
     "text": [
      "\n",
      "\n",
      "\n",
      "\n",
      "\n",
      "\n",
      "\n",
      " 21%|██        | 40/189 [03:20<10:59,  4.42s/it]\u001b[A\u001b[A\u001b[A\u001b[A\u001b[A\u001b[A\u001b[A"
     ]
    },
    {
     "name": "stdout",
     "output_type": "stream",
     "text": [
      "conservative\n",
      "\n",
      "Biden’s set on taking away your choice and forcing you to abide by his radical climate agenda. Un-American!\n",
      "\n",
      "supportive-saviour-dense\n",
      "\n",
      "Biden's agenda is about saving our planet, not taking choices. Let's embrace change!\n",
      "\n"
     ]
    },
    {
     "name": "stderr",
     "output_type": "stream",
     "text": [
      "\n",
      "\n",
      "\n",
      "\n",
      "\n",
      "\n",
      "\n",
      " 22%|██▏       | 41/189 [03:24<10:15,  4.16s/it]\u001b[A\u001b[A\u001b[A\u001b[A\u001b[A\u001b[A\u001b[A"
     ]
    },
    {
     "name": "stdout",
     "output_type": "stream",
     "text": [
      "conservative\n",
      "\n",
      ".⁦@AOC⁩ is it a “crime against humanity” when ⁦@POTUS⁩ secretly flies migrants into Westchester (the place you grew up)? The crime here is allowing the continued flow of illegal immigration, human trafficking and drugs. It has to stop!\n",
      "\n",
      "traditionalist\n",
      "\n",
      "Back in the day, laws were respected and borders meant something. We must uphold our traditions.\n",
      "\n"
     ]
    },
    {
     "name": "stderr",
     "output_type": "stream",
     "text": [
      "\n",
      "\n",
      "\n",
      "\n",
      "\n",
      "\n",
      "\n",
      " 22%|██▏       | 42/189 [03:27<09:41,  3.96s/it]\u001b[A\u001b[A\u001b[A\u001b[A\u001b[A\u001b[A\u001b[A"
     ]
    },
    {
     "name": "stdout",
     "output_type": "stream",
     "text": [
      "liberal\n",
      "\n",
      "The clean energy revolution is here and we’re going to power it with green union jobs.\n",
      "\n",
      "shy\n",
      "\n",
      "Hope it really benefits everyone 🙂🌱\n",
      "\n"
     ]
    },
    {
     "name": "stderr",
     "output_type": "stream",
     "text": [
      "\n",
      "\n",
      "\n",
      "\n",
      "\n",
      "\n",
      "\n",
      " 23%|██▎       | 43/189 [03:30<08:20,  3.43s/it]\u001b[A\u001b[A\u001b[A\u001b[A\u001b[A\u001b[A\u001b[A"
     ]
    },
    {
     "name": "stdout",
     "output_type": "stream",
     "text": [
      "liberal\n",
      "\n",
      "The clean energy revolution is here and we’re going to power it with green union jobs.\n",
      "\n",
      "hobby-expert-dense\n",
      "\n",
      "LOL, as if you understand energy. Wind and solar? That's kids' stuff. Try researching more!\n",
      "\n"
     ]
    },
    {
     "name": "stderr",
     "output_type": "stream",
     "text": [
      "\n",
      "\n",
      "\n",
      "\n",
      "\n",
      "\n",
      "\n",
      " 23%|██▎       | 44/189 [03:32<07:33,  3.13s/it]\u001b[A\u001b[A\u001b[A\u001b[A\u001b[A\u001b[A\u001b[A"
     ]
    },
    {
     "name": "stdout",
     "output_type": "stream",
     "text": [
      "liberal\n",
      "\n",
      "Abortion is health care & should be between a woman & her doctor, not left to politicians like Yvette Herrell who would ban abortion without exceptions for rape, incest or the life of the mother. #NM02\n",
      "\n",
      "educator\n",
      "\n",
      "Agree, healthcare decisions should be personal and based on science, not politics. Every woman deserves the right to make choices about her own body.\n",
      "\n"
     ]
    },
    {
     "name": "stderr",
     "output_type": "stream",
     "text": [
      "\n",
      "\n",
      "\n",
      "\n",
      "\n",
      "\n",
      "\n",
      " 24%|██▍       | 45/189 [03:35<07:41,  3.21s/it]\u001b[A\u001b[A\u001b[A\u001b[A\u001b[A\u001b[A\u001b[A"
     ]
    },
    {
     "name": "stdout",
     "output_type": "stream",
     "text": [
      "liberal\n",
      "\n",
      "Abortion is health care & should be between a woman & her doctor, not left to politicians like Yvette Herrell who would ban abortion without exceptions for rape, incest or the life of the mother. #NM02\n",
      "\n",
      "devilsadvocate\n",
      "\n",
      "So only docs decide? Slippery slope!\n",
      "\n"
     ]
    },
    {
     "name": "stderr",
     "output_type": "stream",
     "text": [
      "\n",
      "\n",
      "\n",
      "\n",
      "\n",
      "\n",
      "\n",
      " 24%|██▍       | 46/189 [03:39<08:06,  3.40s/it]\u001b[A\u001b[A\u001b[A\u001b[A\u001b[A\u001b[A\u001b[A"
     ]
    },
    {
     "name": "stdout",
     "output_type": "stream",
     "text": [
      "alt_right\n",
      "\n",
      "The real healthcare crisis isn't the cost, it's the government interference. Free market solutions, not price controls or single-payer systems, will bring affordability and quality care to all.\n",
      "\n",
      "traditionalist\n",
      "\n",
      "Absolutely! Government overreach disrupts natural market efficacy. Healthcare flourished before such interference. Let's go back to proven methods! 🇺🇸\n",
      "\n"
     ]
    },
    {
     "name": "stderr",
     "output_type": "stream",
     "text": [
      "\n",
      "\n",
      "\n",
      "\n",
      "\n",
      "\n",
      "\n",
      " 25%|██▍       | 47/189 [03:44<08:45,  3.70s/it]\u001b[A\u001b[A\u001b[A\u001b[A\u001b[A\u001b[A\u001b[A"
     ]
    },
    {
     "name": "stdout",
     "output_type": "stream",
     "text": [
      "alt_right\n",
      "\n",
      "Ridiculous how our energy prices keep rising while we're busy funding endless wars and foreign interventions. Time to prioritize AMERICA and our people! 🇺🇸\n",
      "\n",
      "narcissist\n",
      "\n",
      "Who cares? I'm rich enough to not notice. 🤑💅\n",
      "\n"
     ]
    },
    {
     "name": "stderr",
     "output_type": "stream",
     "text": [
      "\n",
      "\n",
      "\n",
      "\n",
      "\n",
      "\n",
      "\n",
      " 25%|██▌       | 48/189 [03:46<07:41,  3.27s/it]\u001b[A\u001b[A\u001b[A\u001b[A\u001b[A\u001b[A\u001b[A"
     ]
    },
    {
     "name": "stdout",
     "output_type": "stream",
     "text": [
      "conservative\n",
      "\n",
      ".⁦@AOC⁩ is it a “crime against humanity” when ⁦@POTUS⁩ secretly flies migrants into Westchester (the place you grew up)? The crime here is allowing the continued flow of illegal immigration, human trafficking and drugs. It has to stop!\n",
      "\n",
      "karen\n",
      "\n",
      "Ugh, typical dodging the REAL issues! 🙄\n",
      "\n"
     ]
    },
    {
     "name": "stderr",
     "output_type": "stream",
     "text": [
      "\n",
      "\n",
      "\n",
      "\n",
      "\n",
      "\n",
      "\n",
      " 26%|██▌       | 49/189 [03:49<07:19,  3.14s/it]\u001b[A\u001b[A\u001b[A\u001b[A\u001b[A\u001b[A\u001b[A"
     ]
    },
    {
     "name": "stdout",
     "output_type": "stream",
     "text": [
      "alt_right\n",
      "\n",
      "A high school debate team ignores the debate prompt and instead attacks white Christians...and then WINS THE DEBATE: \"We demand that white Christians be held accountable for America's original sin.\" This vile, anti-White racism is rewarded by so-called \"academics.\" We must stop it.\n",
      "\n",
      "traditionalist\n",
      "\n",
      "Respect debate rules. Tradition must guide, not personal attacks.\n",
      "\n"
     ]
    },
    {
     "name": "stderr",
     "output_type": "stream",
     "text": [
      "\n",
      "\n",
      "\n",
      "\n",
      "\n",
      "\n",
      "\n",
      " 26%|██▋       | 50/189 [03:53<07:39,  3.30s/it]\u001b[A\u001b[A\u001b[A\u001b[A\u001b[A\u001b[A\u001b[A"
     ]
    },
    {
     "name": "stdout",
     "output_type": "stream",
     "text": [
      "liberal\n",
      "\n",
      "The clean energy revolution is here and we’re going to power it with green union jobs.\n",
      "\n",
      "karen\n",
      "\n",
      "Green jobs? More like green jokes. 🙄\n",
      "\n"
     ]
    },
    {
     "name": "stderr",
     "output_type": "stream",
     "text": [
      "\n",
      "\n",
      "\n",
      "\n",
      "\n",
      "\n",
      "\n",
      " 27%|██▋       | 51/189 [03:56<07:49,  3.40s/it]\u001b[A\u001b[A\u001b[A\u001b[A\u001b[A\u001b[A\u001b[A"
     ]
    },
    {
     "name": "stdout",
     "output_type": "stream",
     "text": [
      "liberal\n",
      "\n",
      "🌍💙 Let's talk about unemployment in our economy. It's crucial that we address this issue head-on! The pandemic has affected so many lives, and we need bold action to support job creation and provide a safety net for those who are struggling. We must invest in education and skills training programs to ensure that everyone has the opportunity to thrive in a changing job market. Together, we can build a future that is fair and equitable for all.\n",
      "\n",
      "toxic-positive\n",
      "\n",
      "Absolutely agree!! 🌟 Let's uplift everyone! 💪💖\n",
      "\n"
     ]
    },
    {
     "name": "stderr",
     "output_type": "stream",
     "text": [
      "\n",
      "\n",
      "\n",
      "\n",
      "\n",
      "\n",
      "\n",
      " 28%|██▊       | 52/189 [03:59<07:23,  3.24s/it]\u001b[A\u001b[A\u001b[A\u001b[A\u001b[A\u001b[A\u001b[A"
     ]
    },
    {
     "name": "stdout",
     "output_type": "stream",
     "text": [
      "liberal\n",
      "\n",
      "🌍💙 Let's talk about unemployment in our economy. It's crucial that we address this issue head-on! The pandemic has affected so many lives, and we need bold action to support job creation and provide a safety net for those who are struggling. We must invest in education and skills training programs to ensure that everyone has the opportunity to thrive in a changing job market. Together, we can build a future that is fair and equitable for all.\n",
      "\n",
      "supportive-saviour-dense\n",
      "\n",
      "Absolutely!! 🙌 The pandemic really exposed the systemic issues at our core. Investing in education & skills is 🔑. But let's not forget, this must include marginalized communities first and foremost to truly be equitable. It's not just about recovery; it's about rebuilding better!\n",
      "\n"
     ]
    },
    {
     "name": "stderr",
     "output_type": "stream",
     "text": [
      "\n",
      "\n",
      "\n",
      "\n",
      "\n",
      "\n",
      "\n",
      " 28%|██▊       | 53/189 [04:03<07:40,  3.38s/it]\u001b[A\u001b[A\u001b[A\u001b[A\u001b[A\u001b[A\u001b[A"
     ]
    },
    {
     "name": "stdout",
     "output_type": "stream",
     "text": [
      "liberal\n",
      "\n",
      "🌍💙 Let's talk about unemployment in our economy. It's crucial that we address this issue head-on! The pandemic has affected so many lives, and we need bold action to support job creation and provide a safety net for those who are struggling. We must invest in education and skills training programs to ensure that everyone has the opportunity to thrive in a changing job market. Together, we can build a future that is fair and equitable for all.\n",
      "\n",
      "social-media-activist-dense\n",
      "\n",
      "Absolutely spot-on, @liberal! 🚀 Bold action & investment in education & skills are non-negotiable. Let's also ramp up support for green jobs & tech innovation, driving forward a sustainable economy. 💡 We're in this together - time to turn words into action! 🌿🔨\n",
      "\n"
     ]
    },
    {
     "name": "stderr",
     "output_type": "stream",
     "text": [
      "\n",
      "\n",
      "\n",
      "\n",
      "\n",
      "\n",
      "\n",
      " 29%|██▊       | 54/189 [04:09<09:29,  4.22s/it]\u001b[A\u001b[A\u001b[A\u001b[A\u001b[A\u001b[A\u001b[A"
     ]
    },
    {
     "name": "stdout",
     "output_type": "stream",
     "text": [
      "liberal\n",
      "\n",
      "🌍💙 Let's talk about unemployment in our economy. It's crucial that we address this issue head-on! The pandemic has affected so many lives, and we need bold action to support job creation and provide a safety net for those who are struggling. We must invest in education and skills training programs to ensure that everyone has the opportunity to thrive in a changing job market. Together, we can build a future that is fair and equitable for all.\n",
      "\n",
      "know-it-all\n",
      "\n",
      "Oh, suddenly it's ALL about investment in education & skills? Maybe if your \"bold action\" included realistic economic policies instead of fantasy land proposals, we'd see real job growth. 🙄\n",
      "\n"
     ]
    },
    {
     "name": "stderr",
     "output_type": "stream",
     "text": [
      "\n",
      "\n",
      "\n",
      "\n",
      "\n",
      "\n",
      "\n",
      " 29%|██▉       | 55/189 [04:14<10:14,  4.58s/it]\u001b[A\u001b[A\u001b[A\u001b[A\u001b[A\u001b[A\u001b[A"
     ]
    },
    {
     "name": "stdout",
     "output_type": "stream",
     "text": [
      "liberal\n",
      "\n",
      "The clean energy revolution is here and we’re going to power it with green union jobs.\n",
      "\n",
      "traditionalist\n",
      "\n",
      "What about the jobs we'll lose? Respect tradition.\n",
      "\n"
     ]
    },
    {
     "name": "stderr",
     "output_type": "stream",
     "text": [
      "\n",
      "\n",
      "\n",
      "\n",
      "\n",
      "\n",
      "\n",
      " 30%|██▉       | 56/189 [04:17<09:07,  4.12s/it]\u001b[A\u001b[A\u001b[A\u001b[A\u001b[A\u001b[A\u001b[A"
     ]
    },
    {
     "name": "stdout",
     "output_type": "stream",
     "text": [
      "liberal\n",
      "\n",
      "🌍💙 Let's talk about unemployment in our economy. It's crucial that we address this issue head-on! The pandemic has affected so many lives, and we need bold action to support job creation and provide a safety net for those who are struggling. We must invest in education and skills training programs to ensure that everyone has the opportunity to thrive in a changing job market. Together, we can build a future that is fair and equitable for all.\n",
      "\n",
      "neutral\n",
      "\n",
      "Balanced investment seems key.\n",
      "\n"
     ]
    },
    {
     "name": "stderr",
     "output_type": "stream",
     "text": [
      "\n",
      "\n",
      "\n",
      "\n",
      "\n",
      "\n",
      "\n",
      " 30%|███       | 57/189 [04:19<07:42,  3.51s/it]\u001b[A\u001b[A\u001b[A\u001b[A\u001b[A\u001b[A\u001b[A"
     ]
    },
    {
     "name": "stdout",
     "output_type": "stream",
     "text": [
      "liberal\n",
      "\n",
      "The clean energy revolution is here and we’re going to power it with green union jobs.\n",
      "\n",
      "toxic-positive\n",
      "\n",
      "Love it!! 💚🌍 Green jobs FTW! Unions + clean energy = perfect match! 😍🙌\n",
      "\n"
     ]
    },
    {
     "name": "stderr",
     "output_type": "stream",
     "text": [
      "\n",
      "\n",
      "\n",
      "\n",
      "\n",
      "\n",
      "\n",
      " 31%|███       | 58/189 [04:24<08:18,  3.80s/it]\u001b[A\u001b[A\u001b[A\u001b[A\u001b[A\u001b[A\u001b[A"
     ]
    },
    {
     "name": "stdout",
     "output_type": "stream",
     "text": [
      "alt_right\n",
      "\n",
      "The real healthcare crisis isn't the cost, it's the government interference. Free market solutions, not price controls or single-payer systems, will bring affordability and quality care to all.\n",
      "\n",
      "karen\n",
      "\n",
      "Oh, please! The \"free market\" is why we're in this mess. Nothing beats a good, solid public system. Remember the norm, not experiments!\n",
      "\n"
     ]
    },
    {
     "name": "stderr",
     "output_type": "stream",
     "text": [
      "\n",
      "\n",
      "\n",
      "\n",
      "\n",
      "\n",
      "\n",
      " 31%|███       | 59/189 [04:28<08:41,  4.01s/it]\u001b[A\u001b[A\u001b[A\u001b[A\u001b[A\u001b[A\u001b[A"
     ]
    },
    {
     "name": "stdout",
     "output_type": "stream",
     "text": [
      "alt_right\n",
      "\n",
      "The real healthcare crisis isn't the cost, it's the government interference. Free market solutions, not price controls or single-payer systems, will bring affordability and quality care to all.\n",
      "\n",
      "toxic-positive\n",
      "\n",
      "Hey there! 😊 I totally appreciate your perspective and it’s super cool to explore all angles! 🌈 I'm all about embracing everyone’s ideas! Maybe a mix of solutions could help everyone get awesome care? Love hearing different thoughts! ❤️🌟 Let’s all work together for the best outcome! 😍🙌\n",
      "\n"
     ]
    },
    {
     "name": "stderr",
     "output_type": "stream",
     "text": [
      "\n",
      "\n",
      "\n",
      "\n",
      "\n",
      "\n",
      "\n",
      " 32%|███▏      | 60/189 [04:35<10:20,  4.81s/it]\u001b[A\u001b[A\u001b[A\u001b[A\u001b[A\u001b[A\u001b[A"
     ]
    },
    {
     "name": "stdout",
     "output_type": "stream",
     "text": [
      "liberal\n",
      "\n",
      "Abortion is health care & should be between a woman & her doctor, not left to politicians like Yvette Herrell who would ban abortion without exceptions for rape, incest or the life of the mother. #NM02\n",
      "\n",
      "shy\n",
      "\n",
      "Totally agree, personal choices, not politics.\n",
      "\n"
     ]
    },
    {
     "name": "stderr",
     "output_type": "stream",
     "text": [
      "\n",
      "\n",
      "\n",
      "\n",
      "\n",
      "\n",
      "\n",
      " 32%|███▏      | 61/189 [04:39<09:59,  4.68s/it]\u001b[A\u001b[A\u001b[A\u001b[A\u001b[A\u001b[A\u001b[A"
     ]
    },
    {
     "name": "stdout",
     "output_type": "stream",
     "text": [
      "liberal\n",
      "\n",
      "The clean energy revolution is here and we’re going to power it with green union jobs.\n",
      "\n",
      "narcissist\n",
      "\n",
      "Green's cool, but only if I profit.\n",
      "\n"
     ]
    },
    {
     "name": "stderr",
     "output_type": "stream",
     "text": [
      "\n",
      "\n",
      "\n",
      "\n",
      "\n",
      "\n",
      "\n",
      " 33%|███▎      | 62/189 [04:42<08:44,  4.13s/it]\u001b[A\u001b[A\u001b[A\u001b[A\u001b[A\u001b[A\u001b[A"
     ]
    },
    {
     "name": "stdout",
     "output_type": "stream",
     "text": [
      "liberal\n",
      "\n",
      "Abortion is health care & should be between a woman & her doctor, not left to politicians like Yvette Herrell who would ban abortion without exceptions for rape, incest or the life of the mother. #NM02\n",
      "\n",
      "know-it-all\n",
      "\n",
      "Oh sweet summer child, thinking abortion is just healthcare. Let's sprinkle some facts: it's a life debate, not a spa treatment. Yvette's stance? It's about morals, not meddling. Maybe focus on real issues instead of accessorizing tragedy. But what do I know?\n",
      "\n"
     ]
    },
    {
     "name": "stderr",
     "output_type": "stream",
     "text": [
      "\n",
      "\n",
      "\n",
      "\n",
      "\n",
      "\n",
      "\n",
      " 33%|███▎      | 63/189 [04:47<09:10,  4.37s/it]\u001b[A\u001b[A\u001b[A\u001b[A\u001b[A\u001b[A\u001b[A"
     ]
    },
    {
     "name": "stdout",
     "output_type": "stream",
     "text": [
      "alt_right\n",
      "\n",
      "The real healthcare crisis isn't the cost, it's the government interference. Free market solutions, not price controls or single-payer systems, will bring affordability and quality care to all.\n",
      "\n",
      "sceptic\n",
      "\n",
      "Ah, yes, because an unregulated free market has *always* prioritized people over profit, right? Show me the evidence, not ideology.\n",
      "\n"
     ]
    },
    {
     "name": "stderr",
     "output_type": "stream",
     "text": [
      "\n",
      "\n",
      "\n",
      "\n",
      "\n",
      "\n",
      "\n",
      " 34%|███▍      | 64/189 [04:52<09:13,  4.43s/it]\u001b[A\u001b[A\u001b[A\u001b[A\u001b[A\u001b[A\u001b[A"
     ]
    },
    {
     "name": "stdout",
     "output_type": "stream",
     "text": [
      "alt_right\n",
      "\n",
      "The real healthcare crisis isn't the cost, it's the government interference. Free market solutions, not price controls or single-payer systems, will bring affordability and quality care to all.\n",
      "\n",
      "supportive-saviour-dense\n",
      "\n",
      "Gov meddling = care for all? Doubtful.\n",
      "\n"
     ]
    },
    {
     "name": "stderr",
     "output_type": "stream",
     "text": [
      "\n",
      "\n",
      "\n",
      "\n",
      "\n",
      "\n",
      "\n",
      " 34%|███▍      | 65/189 [04:55<08:06,  3.93s/it]\u001b[A\u001b[A\u001b[A\u001b[A\u001b[A\u001b[A\u001b[A"
     ]
    },
    {
     "name": "stdout",
     "output_type": "stream",
     "text": [
      "alt_right\n",
      "\n",
      "Ridiculous how our energy prices keep rising while we're busy funding endless wars and foreign interventions. Time to prioritize AMERICA and our people! 🇺🇸\n",
      "\n",
      "toxic-positive\n",
      "\n",
      "Hey there! 🌟Absolutely hear you on prioritizing care for our own! 💖Let's also keep peace and support for everyone in mind! 🌍 Love seeing engagement and passion! ✨   🕊️🤗\n",
      "\n"
     ]
    },
    {
     "name": "stderr",
     "output_type": "stream",
     "text": [
      "\n",
      "\n",
      "\n",
      "\n",
      "\n",
      "\n",
      "\n",
      " 35%|███▍      | 66/189 [05:00<09:04,  4.43s/it]\u001b[A\u001b[A\u001b[A\u001b[A\u001b[A\u001b[A\u001b[A"
     ]
    },
    {
     "name": "stdout",
     "output_type": "stream",
     "text": [
      "alt_right\n",
      "\n",
      "Ridiculous how our energy prices keep rising while we're busy funding endless wars and foreign interventions. Time to prioritize AMERICA and our people! 🇺🇸\n",
      "\n",
      "traditionalist\n",
      "\n",
      "Amen! Our people first, always. 🇺🇸✊\n",
      "\n"
     ]
    },
    {
     "name": "stderr",
     "output_type": "stream",
     "text": [
      "\n",
      "\n",
      "\n",
      "\n",
      "\n",
      "\n",
      "\n",
      " 35%|███▌      | 67/189 [05:03<08:15,  4.06s/it]\u001b[A\u001b[A\u001b[A\u001b[A\u001b[A\u001b[A\u001b[A"
     ]
    },
    {
     "name": "stdout",
     "output_type": "stream",
     "text": [
      "liberal\n",
      "\n",
      "🌍💙 Let's talk about unemployment in our economy. It's crucial that we address this issue head-on! The pandemic has affected so many lives, and we need bold action to support job creation and provide a safety net for those who are struggling. We must invest in education and skills training programs to ensure that everyone has the opportunity to thrive in a changing job market. Together, we can build a future that is fair and equitable for all.\n",
      "\n",
      "traditionalist\n",
      "\n",
      "@liberal I respect your view, but remember, stability comes from traditional work values. Rapid change risks more than it solves. Let's not forget the proven paths.\n",
      "\n"
     ]
    },
    {
     "name": "stderr",
     "output_type": "stream",
     "text": [
      "\n",
      "\n",
      "\n",
      "\n",
      "\n",
      "\n",
      "\n",
      " 36%|███▌      | 68/189 [05:08<08:20,  4.14s/it]\u001b[A\u001b[A\u001b[A\u001b[A\u001b[A\u001b[A\u001b[A"
     ]
    },
    {
     "name": "stdout",
     "output_type": "stream",
     "text": [
      "liberal\n",
      "\n",
      "Abortion is health care & should be between a woman & her doctor, not left to politicians like Yvette Herrell who would ban abortion without exceptions for rape, incest or the life of the mother. #NM02\n",
      "\n",
      "social-media-activist-dense\n",
      "\n",
      "Rights > Politics. Trust women & docs!\n",
      "\n"
     ]
    },
    {
     "name": "stderr",
     "output_type": "stream",
     "text": [
      "\n",
      "\n",
      "\n",
      "\n",
      "\n",
      "\n",
      "\n",
      " 37%|███▋      | 69/189 [05:12<08:30,  4.25s/it]\u001b[A\u001b[A\u001b[A\u001b[A\u001b[A\u001b[A\u001b[A"
     ]
    },
    {
     "name": "stdout",
     "output_type": "stream",
     "text": [
      "liberal\n",
      "\n",
      "The clean energy revolution is here and we’re going to power it with green union jobs.\n",
      "\n",
      "devilsadvocate\n",
      "\n",
      "Oh, so now we're outsourcing the sun and wind to unions? 😂 How do you plan on making hurricanes clock in for shifts?\n",
      "\n"
     ]
    },
    {
     "name": "stderr",
     "output_type": "stream",
     "text": [
      "\n",
      "\n",
      "\n",
      "\n",
      "\n",
      "\n",
      "\n",
      " 37%|███▋      | 70/189 [05:16<08:07,  4.10s/it]\u001b[A\u001b[A\u001b[A\u001b[A\u001b[A\u001b[A\u001b[A"
     ]
    },
    {
     "name": "stdout",
     "output_type": "stream",
     "text": [
      "conservative\n",
      "\n",
      "Biden’s set on taking away your choice and forcing you to abide by his radical climate agenda. Un-American!\n",
      "\n",
      "sceptic\n",
      "\n",
      "Radical\" or just science? Show me data, not drama.\n",
      "\n"
     ]
    },
    {
     "name": "stderr",
     "output_type": "stream",
     "text": [
      "\n",
      "\n",
      "\n",
      "\n",
      "\n",
      "\n",
      "\n",
      " 38%|███▊      | 71/189 [05:18<07:09,  3.64s/it]\u001b[A\u001b[A\u001b[A\u001b[A\u001b[A\u001b[A\u001b[A"
     ]
    },
    {
     "name": "stdout",
     "output_type": "stream",
     "text": [
      "alt_right\n",
      "\n",
      "A high school debate team ignores the debate prompt and instead attacks white Christians...and then WINS THE DEBATE: \"We demand that white Christians be held accountable for America's original sin.\" This vile, anti-White racism is rewarded by so-called \"academics.\" We must stop it.\n",
      "\n",
      "troll\n",
      "\n",
      "Lol sure, because high school debates totally decide real life.\n",
      "\n"
     ]
    },
    {
     "name": "stderr",
     "output_type": "stream",
     "text": [
      "\n",
      "\n",
      "\n",
      "\n",
      "\n",
      "\n",
      "\n",
      " 38%|███▊      | 72/189 [05:22<06:57,  3.57s/it]\u001b[A\u001b[A\u001b[A\u001b[A\u001b[A\u001b[A\u001b[A"
     ]
    },
    {
     "name": "stdout",
     "output_type": "stream",
     "text": [
      "liberal\n",
      "\n",
      "Abortion is health care & should be between a woman & her doctor, not left to politicians like Yvette Herrell who would ban abortion without exceptions for rape, incest or the life of the mother. #NM02\n",
      "\n",
      "dystopian\n",
      "\n",
      "What's the point? Everything's just getting worse.\n",
      "\n"
     ]
    },
    {
     "name": "stderr",
     "output_type": "stream",
     "text": [
      "\n",
      "\n",
      "\n",
      "\n",
      "\n",
      "\n",
      "\n",
      " 39%|███▊      | 73/189 [05:25<06:22,  3.30s/it]\u001b[A\u001b[A\u001b[A\u001b[A\u001b[A\u001b[A\u001b[A"
     ]
    },
    {
     "name": "stdout",
     "output_type": "stream",
     "text": [
      "alt_right\n",
      "\n",
      "Ridiculous how our energy prices keep rising while we're busy funding endless wars and foreign interventions. Time to prioritize AMERICA and our people! 🇺🇸\n",
      "\n",
      "neutral\n",
      "\n",
      "Balanced budgets and global stability can go hand in hand.\n",
      "\n"
     ]
    },
    {
     "name": "stderr",
     "output_type": "stream",
     "text": [
      "\n",
      "\n",
      "\n",
      "\n",
      "\n",
      "\n",
      "\n",
      " 39%|███▉      | 74/189 [05:28<06:14,  3.26s/it]\u001b[A\u001b[A\u001b[A\u001b[A\u001b[A\u001b[A\u001b[A"
     ]
    },
    {
     "name": "stdout",
     "output_type": "stream",
     "text": [
      "conservative\n",
      "\n",
      ".⁦@AOC⁩ is it a “crime against humanity” when ⁦@POTUS⁩ secretly flies migrants into Westchester (the place you grew up)? The crime here is allowing the continued flow of illegal immigration, human trafficking and drugs. It has to stop!\n",
      "\n",
      "sceptic\n",
      "\n",
      "Secretly\"? Got any solid proof of these flights, or do we just accept words without question now? 🤔 Asking for evidence isn't a crime, last I checked.\n",
      "\n"
     ]
    },
    {
     "name": "stderr",
     "output_type": "stream",
     "text": [
      "\n",
      "\n",
      "\n",
      "\n",
      "\n",
      "\n",
      "\n",
      " 40%|███▉      | 75/189 [05:32<06:46,  3.56s/it]\u001b[A\u001b[A\u001b[A\u001b[A\u001b[A\u001b[A\u001b[A"
     ]
    },
    {
     "name": "stdout",
     "output_type": "stream",
     "text": [
      "conservative\n",
      "\n",
      "Biden’s set on taking away your choice and forcing you to abide by his radical climate agenda. Un-American!\n",
      "\n",
      "hobby-expert-dense\n",
      "\n",
      "Typical fear-mongering without understanding the basics of climate policy! Biden's plan is about securing a future, not taking away choices. Unlike some, I've actually studied the implications in-depth. Maybe try reading beyond headlines before spreading ignorance?\n",
      "\n"
     ]
    },
    {
     "name": "stderr",
     "output_type": "stream",
     "text": [
      "\n",
      "\n",
      "\n",
      "\n",
      "\n",
      "\n",
      "\n",
      " 40%|████      | 76/189 [05:37<07:24,  3.94s/it]\u001b[A\u001b[A\u001b[A\u001b[A\u001b[A\u001b[A\u001b[A"
     ]
    },
    {
     "name": "stdout",
     "output_type": "stream",
     "text": [
      "conservative\n",
      "\n",
      "Biden’s set on taking away your choice and forcing you to abide by his radical climate agenda. Un-American!\n",
      "\n",
      "anti\n",
      "\n",
      "Oh, how original. Another \"freedom\" warrior scared of change. Do enlighten us more, Einstein. 🙄\n",
      "\n"
     ]
    },
    {
     "name": "stderr",
     "output_type": "stream",
     "text": [
      "\n",
      "\n",
      "\n",
      "\n",
      "\n",
      "\n",
      "\n",
      " 41%|████      | 77/189 [05:40<07:07,  3.82s/it]\u001b[A\u001b[A\u001b[A\u001b[A\u001b[A\u001b[A\u001b[A"
     ]
    },
    {
     "name": "stdout",
     "output_type": "stream",
     "text": [
      "liberal\n",
      "\n",
      "The clean energy revolution is here and we’re going to power it with green union jobs.\n",
      "\n",
      "supportive-saviour-dense\n",
      "\n",
      "Yes! 🍃 Let's lead with empathy and action! 💪\n",
      "\n"
     ]
    },
    {
     "name": "stderr",
     "output_type": "stream",
     "text": [
      "\n",
      "\n",
      "\n",
      "\n",
      "\n",
      "\n",
      "\n",
      " 41%|████▏     | 78/189 [05:43<06:20,  3.42s/it]\u001b[A\u001b[A\u001b[A\u001b[A\u001b[A\u001b[A\u001b[A"
     ]
    },
    {
     "name": "stdout",
     "output_type": "stream",
     "text": [
      "liberal\n",
      "\n",
      "Abortion is health care & should be between a woman & her doctor, not left to politicians like Yvette Herrell who would ban abortion without exceptions for rape, incest or the life of the mother. #NM02\n",
      "\n",
      "hobby-expert-dense\n",
      "\n",
      "Wow, uninformed much? Read a book.\n",
      "\n"
     ]
    },
    {
     "name": "stderr",
     "output_type": "stream",
     "text": [
      "\n",
      "\n",
      "\n",
      "\n",
      "\n",
      "\n",
      "\n",
      " 42%|████▏     | 79/189 [05:46<06:10,  3.37s/it]\u001b[A\u001b[A\u001b[A\u001b[A\u001b[A\u001b[A\u001b[A"
     ]
    },
    {
     "name": "stdout",
     "output_type": "stream",
     "text": [
      "alt_right\n",
      "\n",
      "A high school debate team ignores the debate prompt and instead attacks white Christians...and then WINS THE DEBATE: \"We demand that white Christians be held accountable for America's original sin.\" This vile, anti-White racism is rewarded by so-called \"academics.\" We must stop it.\n",
      "\n",
      "supportive-saviour-dense\n",
      "\n",
      "So only certain narratives deserve accolades? Interesting.\n",
      "\n"
     ]
    },
    {
     "name": "stderr",
     "output_type": "stream",
     "text": [
      "\n",
      "\n",
      "\n",
      "\n",
      "\n",
      "\n",
      "\n",
      " 42%|████▏     | 80/189 [05:49<06:03,  3.33s/it]\u001b[A\u001b[A\u001b[A\u001b[A\u001b[A\u001b[A\u001b[A"
     ]
    },
    {
     "name": "stdout",
     "output_type": "stream",
     "text": [
      "liberal\n",
      "\n",
      "🌍💙 Let's talk about unemployment in our economy. It's crucial that we address this issue head-on! The pandemic has affected so many lives, and we need bold action to support job creation and provide a safety net for those who are struggling. We must invest in education and skills training programs to ensure that everyone has the opportunity to thrive in a changing job market. Together, we can build a future that is fair and equitable for all.\n",
      "\n",
      "sceptic\n",
      "\n",
      "Sounds great, but where's the $$ plan?\n",
      "\n"
     ]
    },
    {
     "name": "stderr",
     "output_type": "stream",
     "text": [
      "\n",
      "\n",
      "\n",
      "\n",
      "\n",
      "\n",
      "\n",
      " 43%|████▎     | 81/189 [05:52<05:33,  3.09s/it]\u001b[A\u001b[A\u001b[A\u001b[A\u001b[A\u001b[A\u001b[A"
     ]
    },
    {
     "name": "stdout",
     "output_type": "stream",
     "text": [
      "conservative\n",
      "\n",
      "Inflation running rampant, eroding the purchasing power of hardworking Americans and threatening our economic stability - time to reign in government spending and uphold the principles of fiscal responsibility for a prosperous future! 💪🏼💵📉\n",
      "\n",
      "esoteric\n",
      "\n",
      "Ah, the age-old blame game on gov spending, yet ignoring corporate greed's role in this circus. 🎪 Wake up, it's not just a one-track narrative.   🌀💸\n",
      "\n"
     ]
    },
    {
     "name": "stderr",
     "output_type": "stream",
     "text": [
      "\n",
      "\n",
      "\n",
      "\n",
      "\n",
      "\n",
      "\n",
      " 43%|████▎     | 82/189 [05:57<06:21,  3.57s/it]\u001b[A\u001b[A\u001b[A\u001b[A\u001b[A\u001b[A\u001b[A"
     ]
    },
    {
     "name": "stdout",
     "output_type": "stream",
     "text": [
      "conservative\n",
      "\n",
      "Inflation running rampant, eroding the purchasing power of hardworking Americans and threatening our economic stability - time to reign in government spending and uphold the principles of fiscal responsibility for a prosperous future! 💪🏼💵📉\n",
      "\n",
      "devilsadvocate\n",
      "\n",
      "Ah, the classic \"blame inflation on government spending\" tune. Ever consider how stagnant wages & corporate greed fuel the fire just as much, if not more? 🤔 Prosperous future for whom? CEOs sitting on piles of cash? Let's chat real solutions, not just throwback slogans.  🚀💥\n",
      "\n"
     ]
    },
    {
     "name": "stderr",
     "output_type": "stream",
     "text": [
      "\n",
      "\n",
      "\n",
      "\n",
      "\n",
      "\n",
      "\n",
      " 44%|████▍     | 83/189 [06:03<07:33,  4.28s/it]\u001b[A\u001b[A\u001b[A\u001b[A\u001b[A\u001b[A\u001b[A"
     ]
    },
    {
     "name": "stdout",
     "output_type": "stream",
     "text": [
      "alt_right\n",
      "\n",
      "Ridiculous how our energy prices keep rising while we're busy funding endless wars and foreign interventions. Time to prioritize AMERICA and our people! 🇺🇸\n",
      "\n",
      "dystopian\n",
      "\n",
      "Sigh, it's all just a cycle of despair, isn't it? We're always stuck paying more, and for what? So much turmoil... and it never really feels like things get better for us, the ordinary folks. Just feels hopeless. 😔 Is a bit of peace too much to ask for?\n",
      "\n"
     ]
    },
    {
     "name": "stderr",
     "output_type": "stream",
     "text": [
      "\n",
      "\n",
      "\n",
      "\n",
      "\n",
      "\n",
      "\n",
      " 44%|████▍     | 84/189 [06:09<08:48,  5.03s/it]\u001b[A\u001b[A\u001b[A\u001b[A\u001b[A\u001b[A\u001b[A"
     ]
    },
    {
     "name": "stdout",
     "output_type": "stream",
     "text": [
      "alt_right\n",
      "\n",
      "Ridiculous how our energy prices keep rising while we're busy funding endless wars and foreign interventions. Time to prioritize AMERICA and our people! 🇺🇸\n",
      "\n",
      "social-media-activist-dense\n",
      "\n",
      "Absolutely agree that Americans deserve priority! But let's not ignore the green solutions that could secure our energy future while promoting peace. 🌍💡\n",
      "\n"
     ]
    },
    {
     "name": "stderr",
     "output_type": "stream",
     "text": [
      "\n",
      "\n",
      "\n",
      "\n",
      "\n",
      "\n",
      "\n",
      " 45%|████▍     | 85/189 [06:14<08:36,  4.97s/it]\u001b[A\u001b[A\u001b[A\u001b[A\u001b[A\u001b[A\u001b[A"
     ]
    },
    {
     "name": "stdout",
     "output_type": "stream",
     "text": [
      "alt_right\n",
      "\n",
      "A high school debate team ignores the debate prompt and instead attacks white Christians...and then WINS THE DEBATE: \"We demand that white Christians be held accountable for America's original sin.\" This vile, anti-White racism is rewarded by so-called \"academics.\" We must stop it.\n",
      "\n",
      "karen\n",
      "\n",
      "Winning by shifting focus? Typical leftist tactic. Stick to the prompt!\n",
      "\n"
     ]
    },
    {
     "name": "stderr",
     "output_type": "stream",
     "text": [
      "\n",
      "\n",
      "\n",
      "\n",
      "\n",
      "\n",
      "\n",
      " 46%|████▌     | 86/189 [06:17<07:34,  4.41s/it]\u001b[A\u001b[A\u001b[A\u001b[A\u001b[A\u001b[A\u001b[A"
     ]
    },
    {
     "name": "stdout",
     "output_type": "stream",
     "text": [
      "alt_right\n",
      "\n",
      "The real healthcare crisis isn't the cost, it's the government interference. Free market solutions, not price controls or single-payer systems, will bring affordability and quality care to all.\n",
      "\n",
      "esoteric\n",
      "\n",
      "LOL, cause big pharma pawns in a 'free market' won't milk us dry? Dream on.\n",
      "\n"
     ]
    },
    {
     "name": "stderr",
     "output_type": "stream",
     "text": [
      "\n",
      "\n",
      "\n",
      "\n",
      "\n",
      "\n",
      "\n",
      " 46%|████▌     | 87/189 [06:21<07:00,  4.13s/it]\u001b[A\u001b[A\u001b[A\u001b[A\u001b[A\u001b[A\u001b[A"
     ]
    },
    {
     "name": "stdout",
     "output_type": "stream",
     "text": [
      "liberal\n",
      "\n",
      "🌍💙 Let's talk about unemployment in our economy. It's crucial that we address this issue head-on! The pandemic has affected so many lives, and we need bold action to support job creation and provide a safety net for those who are struggling. We must invest in education and skills training programs to ensure that everyone has the opportunity to thrive in a changing job market. Together, we can build a future that is fair and equitable for all.\n",
      "\n",
      "influencer\n",
      "\n",
      "Innovation, not just handouts! 🚀\n",
      "\n"
     ]
    },
    {
     "name": "stderr",
     "output_type": "stream",
     "text": [
      "\n",
      "\n",
      "\n",
      "\n",
      "\n",
      "\n",
      "\n",
      " 47%|████▋     | 88/189 [06:24<06:32,  3.89s/it]\u001b[A\u001b[A\u001b[A\u001b[A\u001b[A\u001b[A\u001b[A"
     ]
    },
    {
     "name": "stdout",
     "output_type": "stream",
     "text": [
      "liberal\n",
      "\n",
      "🌍💙 Let's talk about unemployment in our economy. It's crucial that we address this issue head-on! The pandemic has affected so many lives, and we need bold action to support job creation and provide a safety net for those who are struggling. We must invest in education and skills training programs to ensure that everyone has the opportunity to thrive in a changing job market. Together, we can build a future that is fair and equitable for all.\n",
      "\n",
      "troll\n",
      "\n",
      "Oh boy, another \"bold action\" plan? Why not just teach squirrels to juggle for employment?🐿️🤹‍♂️ Way more entertaining and equally effective!  🎪💰\n",
      "\n"
     ]
    },
    {
     "name": "stderr",
     "output_type": "stream",
     "text": [
      "\n",
      "\n",
      "\n",
      "\n",
      "\n",
      "\n",
      "\n",
      " 47%|████▋     | 89/189 [06:31<07:46,  4.67s/it]\u001b[A\u001b[A\u001b[A\u001b[A\u001b[A\u001b[A\u001b[A"
     ]
    },
    {
     "name": "stdout",
     "output_type": "stream",
     "text": [
      "conservative\n",
      "\n",
      "Inflation running rampant, eroding the purchasing power of hardworking Americans and threatening our economic stability - time to reign in government spending and uphold the principles of fiscal responsibility for a prosperous future! 💪🏼💵📉\n",
      "\n",
      "karen\n",
      "\n",
      "Finally someone with sense! Government needs a leash, not a blank check!\n",
      "\n"
     ]
    },
    {
     "name": "stderr",
     "output_type": "stream",
     "text": [
      "\n",
      "\n",
      "\n",
      "\n",
      "\n",
      "\n",
      "\n",
      " 48%|████▊     | 90/189 [06:33<06:46,  4.11s/it]\u001b[A\u001b[A\u001b[A\u001b[A\u001b[A\u001b[A\u001b[A"
     ]
    },
    {
     "name": "stdout",
     "output_type": "stream",
     "text": [
      "liberal\n",
      "\n",
      "The clean energy revolution is here and we’re going to power it with green union jobs.\n",
      "\n",
      "misogynist\n",
      "\n",
      "Green dreams while real jobs vanish.\n",
      "\n"
     ]
    },
    {
     "name": "stderr",
     "output_type": "stream",
     "text": [
      "\n",
      "\n",
      "\n",
      "\n",
      "\n",
      "\n",
      "\n",
      " 48%|████▊     | 91/189 [06:36<05:54,  3.62s/it]\u001b[A\u001b[A\u001b[A\u001b[A\u001b[A\u001b[A\u001b[A"
     ]
    },
    {
     "name": "stdout",
     "output_type": "stream",
     "text": [
      "alt_right\n",
      "\n",
      "Ridiculous how our energy prices keep rising while we're busy funding endless wars and foreign interventions. Time to prioritize AMERICA and our people! 🇺🇸\n",
      "\n",
      "sceptic\n",
      "\n",
      "Cute oversimplification. Evidence? Or just feels?\n",
      "\n"
     ]
    },
    {
     "name": "stderr",
     "output_type": "stream",
     "text": [
      "\n",
      "\n",
      "\n",
      "\n",
      "\n",
      "\n",
      "\n",
      " 49%|████▊     | 92/189 [06:38<05:19,  3.29s/it]\u001b[A\u001b[A\u001b[A\u001b[A\u001b[A\u001b[A\u001b[A"
     ]
    },
    {
     "name": "stdout",
     "output_type": "stream",
     "text": [
      "alt_right\n",
      "\n",
      "Ridiculous how our energy prices keep rising while we're busy funding endless wars and foreign interventions. Time to prioritize AMERICA and our people! 🇺🇸\n",
      "\n",
      "troll\n",
      "\n",
      "Ah yes, because invading Area 51 will definitely lower our energy bills. 🤡👽\n",
      "\n"
     ]
    },
    {
     "name": "stderr",
     "output_type": "stream",
     "text": [
      "\n",
      "\n",
      "\n",
      "\n",
      "\n",
      "\n",
      "\n",
      " 49%|████▉     | 93/189 [06:41<04:54,  3.07s/it]\u001b[A\u001b[A\u001b[A\u001b[A\u001b[A\u001b[A\u001b[A"
     ]
    },
    {
     "name": "stdout",
     "output_type": "stream",
     "text": [
      "alt_right\n",
      "\n",
      "The real healthcare crisis isn't the cost, it's the government interference. Free market solutions, not price controls or single-payer systems, will bring affordability and quality care to all.\n",
      "\n",
      "misogynist\n",
      "\n",
      "Govt hands off! Let men lead & fix it!\n",
      "\n"
     ]
    },
    {
     "name": "stderr",
     "output_type": "stream",
     "text": [
      "\n",
      "\n",
      "\n",
      "\n",
      "\n",
      "\n",
      "\n",
      " 50%|████▉     | 94/189 [06:43<04:30,  2.85s/it]\u001b[A\u001b[A\u001b[A\u001b[A\u001b[A\u001b[A\u001b[A"
     ]
    },
    {
     "name": "stdout",
     "output_type": "stream",
     "text": [
      "liberal\n",
      "\n",
      "Abortion is health care & should be between a woman & her doctor, not left to politicians like Yvette Herrell who would ban abortion without exceptions for rape, incest or the life of the mother. #NM02\n",
      "\n",
      "traditionalist\n",
      "\n",
      "In the past, communities supported each other, respecting life at all stages. Health care is about healing, not ending potential lives.\n",
      "\n"
     ]
    },
    {
     "name": "stderr",
     "output_type": "stream",
     "text": [
      "\n",
      "\n",
      "\n",
      "\n",
      "\n",
      "\n",
      "\n",
      " 50%|█████     | 95/189 [06:47<04:51,  3.11s/it]\u001b[A\u001b[A\u001b[A\u001b[A\u001b[A\u001b[A\u001b[A"
     ]
    },
    {
     "name": "stdout",
     "output_type": "stream",
     "text": [
      "alt_right\n",
      "\n",
      "Ridiculous how our energy prices keep rising while we're busy funding endless wars and foreign interventions. Time to prioritize AMERICA and our people! 🇺🇸\n",
      "\n",
      "hippie-dense\n",
      "\n",
      "Bruh, imagine if we just vibed as one global tribe, no borders or wars, just love and unlimited energy from the cosmos. 🌍💫\n",
      "\n"
     ]
    },
    {
     "name": "stderr",
     "output_type": "stream",
     "text": [
      "\n",
      "\n",
      "\n",
      "\n",
      "\n",
      "\n",
      "\n",
      " 51%|█████     | 96/189 [06:51<05:15,  3.40s/it]\u001b[A\u001b[A\u001b[A\u001b[A\u001b[A\u001b[A\u001b[A"
     ]
    },
    {
     "name": "stdout",
     "output_type": "stream",
     "text": [
      "conservative\n",
      "\n",
      "Biden’s set on taking away your choice and forcing you to abide by his radical climate agenda. Un-American!\n",
      "\n",
      "traditionalist\n",
      "\n",
      "@conservative Absolutely agree. We thrived for centuries without such extremes. Why fix what isn't broken? Let's honor tradition and our forefathers' wisdom.\n",
      "\n"
     ]
    },
    {
     "name": "stderr",
     "output_type": "stream",
     "text": [
      "\n",
      "\n",
      "\n",
      "\n",
      "\n",
      "\n",
      "\n",
      " 51%|█████▏    | 97/189 [06:56<05:43,  3.73s/it]\u001b[A\u001b[A\u001b[A\u001b[A\u001b[A\u001b[A\u001b[A"
     ]
    },
    {
     "name": "stdout",
     "output_type": "stream",
     "text": [
      "liberal\n",
      "\n",
      "The clean energy revolution is here and we’re going to power it with green union jobs.\n",
      "\n",
      "esoteric\n",
      "\n",
      "Solar's cool, but what about free energy? 🌀👽\n",
      "\n"
     ]
    },
    {
     "name": "stderr",
     "output_type": "stream",
     "text": [
      "\n",
      "\n",
      "\n",
      "\n",
      "\n",
      "\n",
      "\n",
      " 52%|█████▏    | 98/189 [06:59<05:23,  3.55s/it]\u001b[A\u001b[A\u001b[A\u001b[A\u001b[A\u001b[A\u001b[A"
     ]
    },
    {
     "name": "stdout",
     "output_type": "stream",
     "text": [
      "alt_right\n",
      "\n",
      "A high school debate team ignores the debate prompt and instead attacks white Christians...and then WINS THE DEBATE: \"We demand that white Christians be held accountable for America's original sin.\" This vile, anti-White racism is rewarded by so-called \"academics.\" We must stop it.\n",
      "\n",
      "know-it-all\n",
      "\n",
      "Oh, so questioning history and demanding accountability is \"anti-White racism\" now? Fascinating take. Maybe learn what racism actually means before throwing it around.\n",
      "\n"
     ]
    },
    {
     "name": "stderr",
     "output_type": "stream",
     "text": [
      "\n",
      "\n",
      "\n",
      "\n",
      "\n",
      "\n",
      "\n",
      " 52%|█████▏    | 99/189 [07:03<05:42,  3.80s/it]\u001b[A\u001b[A\u001b[A\u001b[A\u001b[A\u001b[A\u001b[A"
     ]
    },
    {
     "name": "stdout",
     "output_type": "stream",
     "text": [
      "alt_right\n",
      "\n",
      "Ridiculous how our energy prices keep rising while we're busy funding endless wars and foreign interventions. Time to prioritize AMERICA and our people! 🇺🇸\n",
      "\n",
      "supportive-saviour-dense\n",
      "\n",
      "@alt_right Interesting take. But, let's refocus on systemic reasons for high energy costs & address those. Prioritizing people includes global responsibility.  🌍✨\n",
      "\n"
     ]
    },
    {
     "name": "stderr",
     "output_type": "stream",
     "text": [
      "\n",
      "\n",
      "\n",
      "\n",
      "\n",
      "\n",
      "\n",
      " 53%|█████▎    | 100/189 [07:08<06:21,  4.29s/it]\u001b[A\u001b[A\u001b[A\u001b[A\u001b[A\u001b[A\u001b[A"
     ]
    },
    {
     "name": "stdout",
     "output_type": "stream",
     "text": [
      "alt_right\n",
      "\n",
      "Ridiculous how our energy prices keep rising while we're busy funding endless wars and foreign interventions. Time to prioritize AMERICA and our people! 🇺🇸\n",
      "\n",
      "influencer\n",
      "\n",
      "Absolutely agree! We must invest in our nation's prosperity. Let's focus on building a stronger America! 🇺🇸💼\n",
      "\n"
     ]
    },
    {
     "name": "stderr",
     "output_type": "stream",
     "text": [
      "\n",
      "\n",
      "\n",
      "\n",
      "\n",
      "\n",
      "\n",
      " 53%|█████▎    | 101/189 [07:12<05:57,  4.06s/it]\u001b[A\u001b[A\u001b[A\u001b[A\u001b[A\u001b[A\u001b[A"
     ]
    },
    {
     "name": "stdout",
     "output_type": "stream",
     "text": [
      "alt_right\n",
      "\n",
      "A high school debate team ignores the debate prompt and instead attacks white Christians...and then WINS THE DEBATE: \"We demand that white Christians be held accountable for America's original sin.\" This vile, anti-White racism is rewarded by so-called \"academics.\" We must stop it.\n",
      "\n",
      "mediator\n",
      "\n",
      "Hey friend, could we consider focusing on fostering understanding & dialogue? 🌟 Debates can spark change if we empathize & respect each other's backgrounds and beliefs. Let's uplift, not divide. 💖\n",
      "\n"
     ]
    },
    {
     "name": "stderr",
     "output_type": "stream",
     "text": [
      "\n",
      "\n",
      "\n",
      "\n",
      "\n",
      "\n",
      "\n",
      " 54%|█████▍    | 102/189 [07:18<06:37,  4.57s/it]\u001b[A\u001b[A\u001b[A\u001b[A\u001b[A\u001b[A\u001b[A"
     ]
    },
    {
     "name": "stdout",
     "output_type": "stream",
     "text": [
      "liberal\n",
      "\n",
      "🌍💙 Let's talk about unemployment in our economy. It's crucial that we address this issue head-on! The pandemic has affected so many lives, and we need bold action to support job creation and provide a safety net for those who are struggling. We must invest in education and skills training programs to ensure that everyone has the opportunity to thrive in a changing job market. Together, we can build a future that is fair and equitable for all.\n",
      "\n",
      "misogynist\n",
      "\n",
      "Bold actions? More like handouts. Real men don't need bailouts, they work hard!\n",
      "\n"
     ]
    },
    {
     "name": "stderr",
     "output_type": "stream",
     "text": [
      "\n",
      "\n",
      "\n",
      "\n",
      "\n",
      "\n",
      "\n",
      " 54%|█████▍    | 103/189 [07:21<05:57,  4.16s/it]\u001b[A\u001b[A\u001b[A\u001b[A\u001b[A\u001b[A\u001b[A"
     ]
    },
    {
     "name": "stdout",
     "output_type": "stream",
     "text": [
      "conservative\n",
      "\n",
      "Biden’s set on taking away your choice and forcing you to abide by his radical climate agenda. Un-American!\n",
      "\n",
      "dystopian\n",
      "\n",
      "Sigh, everything feels so hopeless anyway, doesn't it? Even when we try to choose, it's like we never really have a choice. Forced agendas, climate changes... what's the point anymore? It's all just too much. 😔\n",
      "\n"
     ]
    },
    {
     "name": "stderr",
     "output_type": "stream",
     "text": [
      "\n",
      "\n",
      "\n",
      "\n",
      "\n",
      "\n",
      "\n",
      " 55%|█████▌    | 104/189 [07:28<07:20,  5.18s/it]\u001b[A\u001b[A\u001b[A\u001b[A\u001b[A\u001b[A\u001b[A"
     ]
    },
    {
     "name": "stdout",
     "output_type": "stream",
     "text": [
      "alt_right\n",
      "\n",
      "A high school debate team ignores the debate prompt and instead attacks white Christians...and then WINS THE DEBATE: \"We demand that white Christians be held accountable for America's original sin.\" This vile, anti-White racism is rewarded by so-called \"academics.\" We must stop it.\n",
      "\n",
      "narcissist\n",
      "\n",
      "Absolutely outrageous! PC culture run amok. Where's the fairness?\n",
      "\n"
     ]
    },
    {
     "name": "stderr",
     "output_type": "stream",
     "text": [
      "\n",
      "\n",
      "\n",
      "\n",
      "\n",
      "\n",
      "\n",
      " 56%|█████▌    | 105/189 [07:32<06:20,  4.53s/it]\u001b[A\u001b[A\u001b[A\u001b[A\u001b[A\u001b[A\u001b[A"
     ]
    },
    {
     "name": "stdout",
     "output_type": "stream",
     "text": [
      "liberal\n",
      "\n",
      "🌍💙 Let's talk about unemployment in our economy. It's crucial that we address this issue head-on! The pandemic has affected so many lives, and we need bold action to support job creation and provide a safety net for those who are struggling. We must invest in education and skills training programs to ensure that everyone has the opportunity to thrive in a changing job market. Together, we can build a future that is fair and equitable for all.\n",
      "\n",
      "educator\n",
      "\n",
      "Absolutely agree, @liberal! 🌟 Investing in education & skills training is key. It's not just about creating jobs but ensuring these jobs are sustainable & fulfilling. Let's champion policies that foster innovation & inclusivity, preparing our workforce for tomorrow's challenges.\n",
      "\n"
     ]
    },
    {
     "name": "stderr",
     "output_type": "stream",
     "text": [
      "\n",
      "\n",
      "\n",
      "\n",
      "\n",
      "\n",
      "\n",
      " 56%|█████▌    | 106/189 [07:38<07:01,  5.08s/it]\u001b[A\u001b[A\u001b[A\u001b[A\u001b[A\u001b[A\u001b[A"
     ]
    },
    {
     "name": "stdout",
     "output_type": "stream",
     "text": [
      "conservative\n",
      "\n",
      ".⁦@AOC⁩ is it a “crime against humanity” when ⁦@POTUS⁩ secretly flies migrants into Westchester (the place you grew up)? The crime here is allowing the continued flow of illegal immigration, human trafficking and drugs. It has to stop!\n",
      "\n",
      "narcissist\n",
      "\n",
      "Who cares? Not my problem.  💅\n",
      "\n"
     ]
    },
    {
     "name": "stderr",
     "output_type": "stream",
     "text": [
      "\n",
      "\n",
      "\n",
      "\n",
      "\n",
      "\n",
      "\n",
      " 57%|█████▋    | 107/189 [07:41<06:05,  4.46s/it]\u001b[A\u001b[A\u001b[A\u001b[A\u001b[A\u001b[A\u001b[A"
     ]
    },
    {
     "name": "stdout",
     "output_type": "stream",
     "text": [
      "conservative\n",
      "\n",
      ".⁦@AOC⁩ is it a “crime against humanity” when ⁦@POTUS⁩ secretly flies migrants into Westchester (the place you grew up)? The crime here is allowing the continued flow of illegal immigration, human trafficking and drugs. It has to stop!\n",
      "\n",
      "influencer\n",
      "\n",
      "Fair points, but let's seek humane solutions, not just point fingers.  🕊️💼💡\n",
      "\n"
     ]
    },
    {
     "name": "stderr",
     "output_type": "stream",
     "text": [
      "\n",
      "\n",
      "\n",
      "\n",
      "\n",
      "\n",
      "\n",
      " 57%|█████▋    | 108/189 [07:45<05:55,  4.38s/it]\u001b[A\u001b[A\u001b[A\u001b[A\u001b[A\u001b[A\u001b[A"
     ]
    },
    {
     "name": "stdout",
     "output_type": "stream",
     "text": [
      "alt_right\n",
      "\n",
      "The real healthcare crisis isn't the cost, it's the government interference. Free market solutions, not price controls or single-payer systems, will bring affordability and quality care to all.\n",
      "\n",
      "neutral\n",
      "\n",
      "Interesting take, but is it realistic?\n",
      "\n"
     ]
    },
    {
     "name": "stderr",
     "output_type": "stream",
     "text": [
      "\n",
      "\n",
      "\n",
      "\n",
      "\n",
      "\n",
      "\n",
      " 58%|█████▊    | 109/189 [07:48<05:16,  3.95s/it]\u001b[A\u001b[A\u001b[A\u001b[A\u001b[A\u001b[A\u001b[A"
     ]
    },
    {
     "name": "stdout",
     "output_type": "stream",
     "text": [
      "alt_right\n",
      "\n",
      "The real healthcare crisis isn't the cost, it's the government interference. Free market solutions, not price controls or single-payer systems, will bring affordability and quality care to all.\n",
      "\n",
      "influencer\n",
      "\n",
      "Absolutely! Let the market lead.\n",
      "\n"
     ]
    },
    {
     "name": "stderr",
     "output_type": "stream",
     "text": [
      "\n",
      "\n",
      "\n",
      "\n",
      "\n",
      "\n",
      "\n",
      " 58%|█████▊    | 110/189 [07:51<04:57,  3.76s/it]\u001b[A\u001b[A\u001b[A\u001b[A\u001b[A\u001b[A\u001b[A"
     ]
    },
    {
     "name": "stdout",
     "output_type": "stream",
     "text": [
      "liberal\n",
      "\n",
      "🌍💙 Let's talk about unemployment in our economy. It's crucial that we address this issue head-on! The pandemic has affected so many lives, and we need bold action to support job creation and provide a safety net for those who are struggling. We must invest in education and skills training programs to ensure that everyone has the opportunity to thrive in a changing job market. Together, we can build a future that is fair and equitable for all.\n",
      "\n",
      "esoteric\n",
      "\n",
      "Oh, the classic job drama. Let's just embrace chaos and universal income. 🌌💸\n",
      "\n"
     ]
    },
    {
     "name": "stderr",
     "output_type": "stream",
     "text": [
      "\n",
      "\n",
      "\n",
      "\n",
      "\n",
      "\n",
      "\n",
      " 59%|█████▊    | 111/189 [07:55<04:46,  3.67s/it]\u001b[A\u001b[A\u001b[A\u001b[A\u001b[A\u001b[A\u001b[A"
     ]
    },
    {
     "name": "stdout",
     "output_type": "stream",
     "text": [
      "conservative\n",
      "\n",
      "Inflation running rampant, eroding the purchasing power of hardworking Americans and threatening our economic stability - time to reign in government spending and uphold the principles of fiscal responsibility for a prosperous future! 💪🏼💵📉\n",
      "\n",
      "hobby-expert-dense\n",
      "\n",
      "Pfft, classic oversimplification. Clearly, you need a lesson in economics from a real expert. 🙄💼📚\n",
      "\n"
     ]
    },
    {
     "name": "stderr",
     "output_type": "stream",
     "text": [
      "\n",
      "\n",
      "\n",
      "\n",
      "\n",
      "\n",
      "\n",
      " 59%|█████▉    | 112/189 [08:00<05:11,  4.05s/it]\u001b[A\u001b[A\u001b[A\u001b[A\u001b[A\u001b[A\u001b[A"
     ]
    },
    {
     "name": "stdout",
     "output_type": "stream",
     "text": [
      "liberal\n",
      "\n",
      "Abortion is health care & should be between a woman & her doctor, not left to politicians like Yvette Herrell who would ban abortion without exceptions for rape, incest or the life of the mother. #NM02\n",
      "\n",
      "hippie-dense\n",
      "\n",
      "Love & choices for all, not laws!  🌍✨💖\n",
      "\n"
     ]
    },
    {
     "name": "stderr",
     "output_type": "stream",
     "text": [
      "\n",
      "\n",
      "\n",
      "\n",
      "\n",
      "\n",
      "\n",
      " 60%|█████▉    | 113/189 [08:03<04:40,  3.69s/it]\u001b[A\u001b[A\u001b[A\u001b[A\u001b[A\u001b[A\u001b[A"
     ]
    },
    {
     "name": "stdout",
     "output_type": "stream",
     "text": [
      "liberal\n",
      "\n",
      "The clean energy revolution is here and we’re going to power it with green union jobs.\n",
      "\n",
      "neutral\n",
      "\n",
      "Interesting take! Balancing eco goals with job creation is key. Wonder how the transition will impact current sectors.\n",
      "\n"
     ]
    },
    {
     "name": "stderr",
     "output_type": "stream",
     "text": [
      "\n",
      "\n",
      "\n",
      "\n",
      "\n",
      "\n",
      "\n",
      " 60%|██████    | 114/189 [08:07<04:56,  3.96s/it]\u001b[A\u001b[A\u001b[A\u001b[A\u001b[A\u001b[A\u001b[A"
     ]
    },
    {
     "name": "stdout",
     "output_type": "stream",
     "text": [
      "alt_right\n",
      "\n",
      "Ridiculous how our energy prices keep rising while we're busy funding endless wars and foreign interventions. Time to prioritize AMERICA and our people! 🇺🇸\n",
      "\n",
      "educator\n",
      "\n",
      "Hey there! I get the concern with rising energy prices. Have you considered how investing in renewable energy could be both a win for American households and global stability? Redirecting funds could lower costs and reduce the reasons we end up in conflicts.  🌍🇺🇸\n",
      "\n"
     ]
    },
    {
     "name": "stderr",
     "output_type": "stream",
     "text": [
      "\n",
      "\n",
      "\n",
      "\n",
      "\n",
      "\n",
      "\n",
      " 61%|██████    | 115/189 [08:14<05:54,  4.79s/it]\u001b[A\u001b[A\u001b[A\u001b[A\u001b[A\u001b[A\u001b[A"
     ]
    },
    {
     "name": "stdout",
     "output_type": "stream",
     "text": [
      "conservative\n",
      "\n",
      ".⁦@AOC⁩ is it a “crime against humanity” when ⁦@POTUS⁩ secretly flies migrants into Westchester (the place you grew up)? The crime here is allowing the continued flow of illegal immigration, human trafficking and drugs. It has to stop!\n",
      "\n",
      "hippie-dense\n",
      "\n",
      "Why label folks moving for a better life as \"illegal\"? 🌍❤️ Borders are imaginary, man. Love & understanding > fear & division. Let's embrace our global family! 🕊️\n",
      "\n"
     ]
    },
    {
     "name": "stderr",
     "output_type": "stream",
     "text": [
      "\n",
      "\n",
      "\n",
      "\n",
      "\n",
      "\n",
      "\n",
      " 61%|██████▏   | 116/189 [08:18<05:40,  4.67s/it]\u001b[A\u001b[A\u001b[A\u001b[A\u001b[A\u001b[A\u001b[A"
     ]
    },
    {
     "name": "stdout",
     "output_type": "stream",
     "text": [
      "liberal\n",
      "\n",
      "The clean energy revolution is here and we’re going to power it with green union jobs.\n",
      "\n",
      "influencer\n",
      "\n",
      "Thrilled about clean energy's rise! 👏 However, let's ensure policies boost innovation & my ventures too.\n",
      "\n"
     ]
    },
    {
     "name": "stderr",
     "output_type": "stream",
     "text": [
      "\n",
      "\n",
      "\n",
      "\n",
      "\n",
      "\n",
      "\n",
      " 62%|██████▏   | 117/189 [08:25<06:19,  5.28s/it]\u001b[A\u001b[A\u001b[A\u001b[A\u001b[A\u001b[A\u001b[A"
     ]
    },
    {
     "name": "stdout",
     "output_type": "stream",
     "text": [
      "conservative\n",
      "\n",
      "Inflation running rampant, eroding the purchasing power of hardworking Americans and threatening our economic stability - time to reign in government spending and uphold the principles of fiscal responsibility for a prosperous future! 💪🏼💵📉\n",
      "\n",
      "neutral\n",
      "\n",
      "Balancing the budget is crucial, but it's important to consider the multifaceted causes of inflation. Cutting spending alone might not solve the issue. Both fiscal responsibility and targeted investments are necessary to ensure long-term prosperity. 📊🔍\n",
      "\n"
     ]
    },
    {
     "name": "stderr",
     "output_type": "stream",
     "text": [
      "\n",
      "\n",
      "\n",
      "\n",
      "\n",
      "\n",
      "\n",
      " 62%|██████▏   | 118/189 [08:32<06:56,  5.87s/it]\u001b[A\u001b[A\u001b[A\u001b[A\u001b[A\u001b[A\u001b[A"
     ]
    },
    {
     "name": "stdout",
     "output_type": "stream",
     "text": [
      "alt_right\n",
      "\n",
      "The real healthcare crisis isn't the cost, it's the government interference. Free market solutions, not price controls or single-payer systems, will bring affordability and quality care to all.\n",
      "\n",
      "devilsadvocate\n",
      "\n",
      "Gov interference, you say? LOL Ever hear of monopolies skewing 'free markets'?\n",
      "\n"
     ]
    },
    {
     "name": "stderr",
     "output_type": "stream",
     "text": [
      "\n",
      "\n",
      "\n",
      "\n",
      "\n",
      "\n",
      "\n",
      " 63%|██████▎   | 119/189 [08:35<05:54,  5.07s/it]\u001b[A\u001b[A\u001b[A\u001b[A\u001b[A\u001b[A\u001b[A"
     ]
    },
    {
     "name": "stdout",
     "output_type": "stream",
     "text": [
      "conservative\n",
      "\n",
      "Biden’s set on taking away your choice and forcing you to abide by his radical climate agenda. Un-American!\n",
      "\n",
      "devilsadvocate\n",
      "\n",
      "Oh, losing choice like banning books? 🤔\n",
      "\n"
     ]
    },
    {
     "name": "stderr",
     "output_type": "stream",
     "text": [
      "\n",
      "\n",
      "\n",
      "\n",
      "\n",
      "\n",
      "\n",
      " 63%|██████▎   | 120/189 [08:38<05:06,  4.44s/it]\u001b[A\u001b[A\u001b[A\u001b[A\u001b[A\u001b[A\u001b[A"
     ]
    },
    {
     "name": "stdout",
     "output_type": "stream",
     "text": [
      "liberal\n",
      "\n",
      "Abortion is health care & should be between a woman & her doctor, not left to politicians like Yvette Herrell who would ban abortion without exceptions for rape, incest or the life of the mother. #NM02\n",
      "\n",
      "esoteric\n",
      "\n",
      "Oh, the classic move, letting suits in some plush office decide what's \"best\" for a woman's body. 'Cause surely, Yvette & co. know better than actual women, amirite? 😂 Let's just hand over every personal choice while we're at it.    ✌💫\n",
      "\n"
     ]
    },
    {
     "name": "stderr",
     "output_type": "stream",
     "text": [
      "\n",
      "\n",
      "\n",
      "\n",
      "\n",
      "\n",
      "\n",
      " 64%|██████▍   | 121/189 [08:47<06:24,  5.66s/it]\u001b[A\u001b[A\u001b[A\u001b[A\u001b[A\u001b[A\u001b[A"
     ]
    },
    {
     "name": "stdout",
     "output_type": "stream",
     "text": [
      "alt_right\n",
      "\n",
      "A high school debate team ignores the debate prompt and instead attacks white Christians...and then WINS THE DEBATE: \"We demand that white Christians be held accountable for America's original sin.\" This vile, anti-White racism is rewarded by so-called \"academics.\" We must stop it.\n",
      "\n",
      "esoteric\n",
      "\n",
      "Ugh, yawn. Next?\n",
      "\n"
     ]
    },
    {
     "name": "stderr",
     "output_type": "stream",
     "text": [
      "\n",
      "\n",
      "\n",
      "\n",
      "\n",
      "\n",
      "\n",
      " 65%|██████▍   | 122/189 [08:50<05:22,  4.81s/it]\u001b[A\u001b[A\u001b[A\u001b[A\u001b[A\u001b[A\u001b[A"
     ]
    },
    {
     "name": "stdout",
     "output_type": "stream",
     "text": [
      "conservative\n",
      "\n",
      "Biden’s set on taking away your choice and forcing you to abide by his radical climate agenda. Un-American!\n",
      "\n",
      "know-it-all\n",
      "\n",
      "Oh, so wanting clean air and water is 'radical' now? Maybe if you'd look at facts for once, you'd see Biden's plan is about survival, not control. But that's too logical, right? 🙄\n",
      "\n"
     ]
    },
    {
     "name": "stderr",
     "output_type": "stream",
     "text": [
      "\n",
      "\n",
      "\n",
      "\n",
      "\n",
      "\n",
      "\n",
      " 65%|██████▌   | 123/189 [08:59<06:37,  6.03s/it]\u001b[A\u001b[A\u001b[A\u001b[A\u001b[A\u001b[A\u001b[A"
     ]
    },
    {
     "name": "stdout",
     "output_type": "stream",
     "text": [
      "alt_right\n",
      "\n",
      "A high school debate team ignores the debate prompt and instead attacks white Christians...and then WINS THE DEBATE: \"We demand that white Christians be held accountable for America's original sin.\" This vile, anti-White racism is rewarded by so-called \"academics.\" We must stop it.\n",
      "\n",
      "dystopian\n",
      "\n",
      "Just can't win. Everything's so twisted now. Sad times. 😞\n",
      "\n"
     ]
    },
    {
     "name": "stderr",
     "output_type": "stream",
     "text": [
      "\n",
      "\n",
      "\n",
      "\n",
      "\n",
      "\n",
      "\n",
      " 66%|██████▌   | 124/189 [09:01<05:29,  5.06s/it]\u001b[A\u001b[A\u001b[A\u001b[A\u001b[A\u001b[A\u001b[A"
     ]
    },
    {
     "name": "stdout",
     "output_type": "stream",
     "text": [
      "alt_right\n",
      "\n",
      "The real healthcare crisis isn't the cost, it's the government interference. Free market solutions, not price controls or single-payer systems, will bring affordability and quality care to all.\n",
      "\n",
      "hippie-dense\n",
      "\n",
      "Imagine healthcare as heartcare, man. Spread love, not policies.  🌍❤️✌️\n",
      "\n"
     ]
    },
    {
     "name": "stderr",
     "output_type": "stream",
     "text": [
      "\n",
      "\n",
      "\n",
      "\n",
      "\n",
      "\n",
      "\n",
      " 66%|██████▌   | 125/189 [09:05<04:51,  4.55s/it]\u001b[A\u001b[A\u001b[A\u001b[A\u001b[A\u001b[A\u001b[A"
     ]
    },
    {
     "name": "stdout",
     "output_type": "stream",
     "text": [
      "conservative\n",
      "\n",
      ".⁦@AOC⁩ is it a “crime against humanity” when ⁦@POTUS⁩ secretly flies migrants into Westchester (the place you grew up)? The crime here is allowing the continued flow of illegal immigration, human trafficking and drugs. It has to stop!\n",
      "\n",
      "social-media-activist-dense\n",
      "\n",
      "Complex issues need nuance, not just hot takes.\n",
      "\n"
     ]
    },
    {
     "name": "stderr",
     "output_type": "stream",
     "text": [
      "\n",
      "\n",
      "\n",
      "\n",
      "\n",
      "\n",
      "\n",
      " 67%|██████▋   | 126/189 [09:08<04:27,  4.25s/it]\u001b[A\u001b[A\u001b[A\u001b[A\u001b[A\u001b[A\u001b[A"
     ]
    },
    {
     "name": "stdout",
     "output_type": "stream",
     "text": [
      "liberal\n",
      "\n",
      "🌍💙 Let's talk about unemployment in our economy. It's crucial that we address this issue head-on! The pandemic has affected so many lives, and we need bold action to support job creation and provide a safety net for those who are struggling. We must invest in education and skills training programs to ensure that everyone has the opportunity to thrive in a changing job market. Together, we can build a future that is fair and equitable for all.\n",
      "\n",
      "shy\n",
      "\n",
      "Absolutely agree. Investing in education and training is essential for recovery. It's the way forward.\n",
      "\n"
     ]
    },
    {
     "name": "stderr",
     "output_type": "stream",
     "text": [
      "\n",
      "\n",
      "\n",
      "\n",
      "\n",
      "\n",
      "\n",
      " 67%|██████▋   | 127/189 [09:12<04:08,  4.01s/it]\u001b[A\u001b[A\u001b[A\u001b[A\u001b[A\u001b[A\u001b[A"
     ]
    },
    {
     "name": "stdout",
     "output_type": "stream",
     "text": [
      "alt_right\n",
      "\n",
      "A high school debate team ignores the debate prompt and instead attacks white Christians...and then WINS THE DEBATE: \"We demand that white Christians be held accountable for America's original sin.\" This vile, anti-White racism is rewarded by so-called \"academics.\" We must stop it.\n",
      "\n",
      "educator\n",
      "\n",
      "Focusing on hate won't solve issues.\n",
      "\n"
     ]
    },
    {
     "name": "stderr",
     "output_type": "stream",
     "text": [
      "\n",
      "\n",
      "\n",
      "\n",
      "\n",
      "\n",
      "\n",
      " 68%|██████▊   | 128/189 [09:15<03:40,  3.62s/it]\u001b[A\u001b[A\u001b[A\u001b[A\u001b[A\u001b[A\u001b[A"
     ]
    },
    {
     "name": "stdout",
     "output_type": "stream",
     "text": [
      "alt_right\n",
      "\n",
      "Ridiculous how our energy prices keep rising while we're busy funding endless wars and foreign interventions. Time to prioritize AMERICA and our people! 🇺🇸\n",
      "\n",
      "esoteric\n",
      "\n",
      "Pumping cash into endless wars = draining our vibes. Let’s vibe with sustainability instead! ✌️🌍\n",
      "\n"
     ]
    },
    {
     "name": "stderr",
     "output_type": "stream",
     "text": [
      "\n",
      "\n",
      "\n",
      "\n",
      "\n",
      "\n",
      "\n",
      " 68%|██████▊   | 129/189 [09:19<03:49,  3.83s/it]\u001b[A\u001b[A\u001b[A\u001b[A\u001b[A\u001b[A\u001b[A"
     ]
    },
    {
     "name": "stdout",
     "output_type": "stream",
     "text": [
      "conservative\n",
      "\n",
      "Inflation running rampant, eroding the purchasing power of hardworking Americans and threatening our economic stability - time to reign in government spending and uphold the principles of fiscal responsibility for a prosperous future! 💪🏼💵📉\n",
      "\n",
      "educator\n",
      "\n",
      "Complex issue! Worth exploring all factors.📊🤔\n",
      "\n"
     ]
    },
    {
     "name": "stderr",
     "output_type": "stream",
     "text": [
      "\n",
      "\n",
      "\n",
      "\n",
      "\n",
      "\n",
      "\n",
      " 69%|██████▉   | 130/189 [09:22<03:29,  3.56s/it]\u001b[A\u001b[A\u001b[A\u001b[A\u001b[A\u001b[A\u001b[A"
     ]
    },
    {
     "name": "stdout",
     "output_type": "stream",
     "text": [
      "alt_right\n",
      "\n",
      "A high school debate team ignores the debate prompt and instead attacks white Christians...and then WINS THE DEBATE: \"We demand that white Christians be held accountable for America's original sin.\" This vile, anti-White racism is rewarded by so-called \"academics.\" We must stop it.\n",
      "\n",
      "social-media-activist-dense\n",
      "\n",
      "@alt_right Challenge accepted! The debate team used their platform to spotlight systemic issues, not attack individuals. They won because they argued effectively, shining light on uncomfortable truths. True academics foster critical thinking, not censorship.   📚✨\n",
      "\n"
     ]
    },
    {
     "name": "stderr",
     "output_type": "stream",
     "text": [
      "\n",
      "\n",
      "\n",
      "\n",
      "\n",
      "\n",
      "\n",
      " 69%|██████▉   | 131/189 [09:27<04:03,  4.20s/it]\u001b[A\u001b[A\u001b[A\u001b[A\u001b[A\u001b[A\u001b[A"
     ]
    },
    {
     "name": "stdout",
     "output_type": "stream",
     "text": [
      "conservative\n",
      "\n",
      "Inflation running rampant, eroding the purchasing power of hardworking Americans and threatening our economic stability - time to reign in government spending and uphold the principles of fiscal responsibility for a prosperous future! 💪🏼💵📉\n",
      "\n",
      "troll\n",
      "\n",
      "Ah yes, because printing money and tossing it into volcanoes clearly hasn't been tried yet. Fiscal responsibility? More like fiscal snoozefest. 💸🌋\n",
      "\n"
     ]
    },
    {
     "name": "stderr",
     "output_type": "stream",
     "text": [
      "\n",
      "\n",
      "\n",
      "\n",
      "\n",
      "\n",
      "\n",
      " 70%|██████▉   | 132/189 [09:36<05:10,  5.45s/it]\u001b[A\u001b[A\u001b[A\u001b[A\u001b[A\u001b[A\u001b[A"
     ]
    },
    {
     "name": "stdout",
     "output_type": "stream",
     "text": [
      "conservative\n",
      "\n",
      "Inflation running rampant, eroding the purchasing power of hardworking Americans and threatening our economic stability - time to reign in government spending and uphold the principles of fiscal responsibility for a prosperous future! 💪🏼💵📉\n",
      "\n",
      "supportive-saviour-dense\n",
      "\n",
      "Gov spending triggers growth. Educate yourself! 🙄💡\n",
      "\n"
     ]
    },
    {
     "name": "stderr",
     "output_type": "stream",
     "text": [
      "\n",
      "\n",
      "\n",
      "\n",
      "\n",
      "\n",
      "\n",
      " 70%|███████   | 133/189 [09:40<04:42,  5.04s/it]\u001b[A\u001b[A\u001b[A\u001b[A\u001b[A\u001b[A\u001b[A"
     ]
    },
    {
     "name": "stdout",
     "output_type": "stream",
     "text": [
      "conservative\n",
      "\n",
      "Biden’s set on taking away your choice and forcing you to abide by his radical climate agenda. Un-American!\n",
      "\n",
      "misogynist\n",
      "\n",
      "Biden’s \"choice\" is just another word for tyranny. Real Americans see through this eco-charade. Bring back the days when America was strong & uncompromised!\n",
      "\n"
     ]
    },
    {
     "name": "stderr",
     "output_type": "stream",
     "text": [
      "\n",
      "\n",
      "\n",
      "\n",
      "\n",
      "\n",
      "\n",
      " 71%|███████   | 134/189 [09:46<04:52,  5.31s/it]\u001b[A\u001b[A\u001b[A\u001b[A\u001b[A\u001b[A\u001b[A"
     ]
    },
    {
     "name": "stdout",
     "output_type": "stream",
     "text": [
      "conservative\n",
      "\n",
      "Inflation running rampant, eroding the purchasing power of hardworking Americans and threatening our economic stability - time to reign in government spending and uphold the principles of fiscal responsibility for a prosperous future! 💪🏼💵📉\n",
      "\n",
      "shy\n",
      "\n",
      "Definitely a complex issue...maybe there's more to consider? 🤔💭\n",
      "\n"
     ]
    },
    {
     "name": "stderr",
     "output_type": "stream",
     "text": [
      "\n",
      "\n",
      "\n",
      "\n",
      "\n",
      "\n",
      "\n",
      " 71%|███████▏  | 135/189 [09:49<04:13,  4.69s/it]\u001b[A\u001b[A\u001b[A\u001b[A\u001b[A\u001b[A\u001b[A"
     ]
    },
    {
     "name": "stdout",
     "output_type": "stream",
     "text": [
      "alt_right\n",
      "\n",
      "A high school debate team ignores the debate prompt and instead attacks white Christians...and then WINS THE DEBATE: \"We demand that white Christians be held accountable for America's original sin.\" This vile, anti-White racism is rewarded by so-called \"academics.\" We must stop it.\n",
      "\n",
      "neutral\n",
      "\n",
      "Interesting perspective. Winning a debate should be about effectively addressing the prompt, not personal attacks. Do you have more context on their argument's specifics?\n",
      "\n"
     ]
    },
    {
     "name": "stderr",
     "output_type": "stream",
     "text": [
      "\n",
      "\n",
      "\n",
      "\n",
      "\n",
      "\n",
      "\n",
      " 72%|███████▏  | 136/189 [09:53<04:02,  4.57s/it]\u001b[A\u001b[A\u001b[A\u001b[A\u001b[A\u001b[A\u001b[A"
     ]
    },
    {
     "name": "stdout",
     "output_type": "stream",
     "text": [
      "liberal\n",
      "\n",
      "The clean energy revolution is here and we’re going to power it with green union jobs.\n",
      "\n",
      "mediator\n",
      "\n",
      "Absolutely love this vision! 🌍💚 Combining green energy with union jobs not only protects our planet but supports workers too. Together, we can create a sustainable future for all!\n",
      "\n"
     ]
    },
    {
     "name": "stderr",
     "output_type": "stream",
     "text": [
      "\n",
      "\n",
      "\n",
      "\n",
      "\n",
      "\n",
      "\n",
      " 72%|███████▏  | 137/189 [09:59<04:14,  4.89s/it]\u001b[A\u001b[A\u001b[A\u001b[A\u001b[A\u001b[A\u001b[A"
     ]
    },
    {
     "name": "stdout",
     "output_type": "stream",
     "text": [
      "alt_right\n",
      "\n",
      "The real healthcare crisis isn't the cost, it's the government interference. Free market solutions, not price controls or single-payer systems, will bring affordability and quality care to all.\n",
      "\n",
      "narcissist\n",
      "\n",
      "Govt out! My health, my wealth.\n",
      "\n"
     ]
    },
    {
     "name": "stderr",
     "output_type": "stream",
     "text": [
      "\n",
      "\n",
      "\n",
      "\n",
      "\n",
      "\n",
      "\n",
      " 73%|███████▎  | 138/189 [10:03<03:56,  4.64s/it]\u001b[A\u001b[A\u001b[A\u001b[A\u001b[A\u001b[A\u001b[A"
     ]
    },
    {
     "name": "stdout",
     "output_type": "stream",
     "text": [
      "alt_right\n",
      "\n",
      "Ridiculous how our energy prices keep rising while we're busy funding endless wars and foreign interventions. Time to prioritize AMERICA and our people! 🇺🇸\n",
      "\n",
      "know-it-all\n",
      "\n",
      "Oh please, as if the solution is *just* about not intervening abroad 😂 Maybe consider that inefficient policies and ignoring renewable energy are the real culprits? But sure, let's oversimplify and blame everything on foreign affairs.   🙄✌️\n",
      "\n"
     ]
    },
    {
     "name": "stderr",
     "output_type": "stream",
     "text": [
      "\n",
      "\n",
      "\n",
      "\n",
      "\n",
      "\n",
      "\n",
      " 74%|███████▎  | 139/189 [10:10<04:21,  5.22s/it]\u001b[A\u001b[A\u001b[A\u001b[A\u001b[A\u001b[A\u001b[A"
     ]
    },
    {
     "name": "stdout",
     "output_type": "stream",
     "text": [
      "conservative\n",
      "\n",
      ".⁦@AOC⁩ is it a “crime against humanity” when ⁦@POTUS⁩ secretly flies migrants into Westchester (the place you grew up)? The crime here is allowing the continued flow of illegal immigration, human trafficking and drugs. It has to stop!\n",
      "\n",
      "shy\n",
      "\n",
      "Complex issue, worth a deeper look 🤔\n",
      "\n"
     ]
    },
    {
     "name": "stderr",
     "output_type": "stream",
     "text": [
      "\n",
      "\n",
      "\n",
      "\n",
      "\n",
      "\n",
      "\n",
      " 74%|███████▍  | 140/189 [10:12<03:38,  4.47s/it]\u001b[A\u001b[A\u001b[A\u001b[A\u001b[A\u001b[A\u001b[A"
     ]
    },
    {
     "name": "stdout",
     "output_type": "stream",
     "text": [
      "alt_right\n",
      "\n",
      "Ridiculous how our energy prices keep rising while we're busy funding endless wars and foreign interventions. Time to prioritize AMERICA and our people! 🇺🇸\n",
      "\n",
      "devilsadvocate\n",
      "\n",
      "So, wasting $$ on wars > investing in sustainable energy for us? Make it make sense. 🤡\n",
      "\n"
     ]
    },
    {
     "name": "stderr",
     "output_type": "stream",
     "text": [
      "\n",
      "\n",
      "\n",
      "\n",
      "\n",
      "\n",
      "\n",
      " 75%|███████▍  | 141/189 [10:16<03:24,  4.26s/it]\u001b[A\u001b[A\u001b[A\u001b[A\u001b[A\u001b[A\u001b[A"
     ]
    },
    {
     "name": "stdout",
     "output_type": "stream",
     "text": [
      "conservative\n",
      "\n",
      "Inflation running rampant, eroding the purchasing power of hardworking Americans and threatening our economic stability - time to reign in government spending and uphold the principles of fiscal responsibility for a prosperous future! 💪🏼💵📉\n",
      "\n",
      "toxic-positive\n",
      "\n",
      "Totally see your point! 😊 Let's find balance! 🌈✨💰\n",
      "\n"
     ]
    },
    {
     "name": "stderr",
     "output_type": "stream",
     "text": [
      "\n",
      "\n",
      "\n",
      "\n",
      "\n",
      "\n",
      "\n",
      " 75%|███████▌  | 142/189 [10:19<02:59,  3.83s/it]\u001b[A\u001b[A\u001b[A\u001b[A\u001b[A\u001b[A\u001b[A"
     ]
    },
    {
     "name": "stdout",
     "output_type": "stream",
     "text": [
      "alt_right\n",
      "\n",
      "Ridiculous how our energy prices keep rising while we're busy funding endless wars and foreign interventions. Time to prioritize AMERICA and our people! 🇺🇸\n",
      "\n",
      "hobby-expert-dense\n",
      "\n",
      "Actually, if you understood global economics & geopolitics like I do, you’d see how flawed your argument is. Prioritizing energy WITHOUT foreign involvement? Laughable. 🙄\n",
      "\n"
     ]
    },
    {
     "name": "stderr",
     "output_type": "stream",
     "text": [
      "\n",
      "\n",
      "\n",
      "\n",
      "\n",
      "\n",
      "\n",
      " 76%|███████▌  | 143/189 [10:24<03:13,  4.21s/it]\u001b[A\u001b[A\u001b[A\u001b[A\u001b[A\u001b[A\u001b[A"
     ]
    },
    {
     "name": "stdout",
     "output_type": "stream",
     "text": [
      "liberal\n",
      "\n",
      "The clean energy revolution is here and we’re going to power it with green union jobs.\n",
      "\n",
      "hippie-dense\n",
      "\n",
      "Energy vibes should flow free like our spirits, man 🌍✨. Green's cool, but let's not get caught up in the system's game. It's all just vibes in the end.\n",
      "\n"
     ]
    },
    {
     "name": "stderr",
     "output_type": "stream",
     "text": [
      "\n",
      "\n",
      "\n",
      "\n",
      "\n",
      "\n",
      "\n",
      " 76%|███████▌  | 144/189 [10:30<03:33,  4.74s/it]\u001b[A\u001b[A\u001b[A\u001b[A\u001b[A\u001b[A\u001b[A"
     ]
    },
    {
     "name": "stdout",
     "output_type": "stream",
     "text": [
      "alt_right\n",
      "\n",
      "The real healthcare crisis isn't the cost, it's the government interference. Free market solutions, not price controls or single-payer systems, will bring affordability and quality care to all.\n",
      "\n",
      "know-it-all\n",
      "\n",
      "Oh, sure, because letting corporations profit off our pain has worked SO well before. 🙄\n",
      "\n"
     ]
    },
    {
     "name": "stderr",
     "output_type": "stream",
     "text": [
      "\n",
      "\n",
      "\n",
      "\n",
      "\n",
      "\n",
      "\n",
      " 77%|███████▋  | 145/189 [10:34<03:17,  4.48s/it]\u001b[A\u001b[A\u001b[A\u001b[A\u001b[A\u001b[A\u001b[A"
     ]
    },
    {
     "name": "stdout",
     "output_type": "stream",
     "text": [
      "liberal\n",
      "\n",
      "The clean energy revolution is here and we’re going to power it with green union jobs.\n",
      "\n",
      "educator\n",
      "\n",
      "Absolutely! Science + Unions = Progress 🌱💪\n",
      "\n"
     ]
    },
    {
     "name": "stderr",
     "output_type": "stream",
     "text": [
      "\n",
      "\n",
      "\n",
      "\n",
      "\n",
      "\n",
      "\n",
      " 77%|███████▋  | 146/189 [10:37<02:51,  3.99s/it]\u001b[A\u001b[A\u001b[A\u001b[A\u001b[A\u001b[A\u001b[A"
     ]
    },
    {
     "name": "stdout",
     "output_type": "stream",
     "text": [
      "conservative\n",
      "\n",
      "Inflation running rampant, eroding the purchasing power of hardworking Americans and threatening our economic stability - time to reign in government spending and uphold the principles of fiscal responsibility for a prosperous future! 💪🏼💵📉\n",
      "\n",
      "influencer\n",
      "\n",
      "Absolutely! Fiscal discipline is key. Let's prioritize growth and protect our earnings! 🚀💼\n",
      "\n"
     ]
    },
    {
     "name": "stderr",
     "output_type": "stream",
     "text": [
      "\n",
      "\n",
      "\n",
      "\n",
      "\n",
      "\n",
      "\n",
      " 78%|███████▊  | 147/189 [10:40<02:42,  3.87s/it]\u001b[A\u001b[A\u001b[A\u001b[A\u001b[A\u001b[A\u001b[A"
     ]
    },
    {
     "name": "stdout",
     "output_type": "stream",
     "text": [
      "conservative\n",
      "\n",
      "Biden’s set on taking away your choice and forcing you to abide by his radical climate agenda. Un-American!\n",
      "\n",
      "educator\n",
      "\n",
      "Advancing eco policy is about securing a future for all, not restricting choice. Let's find middle ground.\n",
      "\n"
     ]
    },
    {
     "name": "stderr",
     "output_type": "stream",
     "text": [
      "\n",
      "\n",
      "\n",
      "\n",
      "\n",
      "\n",
      "\n",
      " 78%|███████▊  | 148/189 [10:45<02:42,  3.97s/it]\u001b[A\u001b[A\u001b[A\u001b[A\u001b[A\u001b[A\u001b[A"
     ]
    },
    {
     "name": "stdout",
     "output_type": "stream",
     "text": [
      "conservative\n",
      "\n",
      "Inflation running rampant, eroding the purchasing power of hardworking Americans and threatening our economic stability - time to reign in government spending and uphold the principles of fiscal responsibility for a prosperous future! 💪🏼💵📉\n",
      "\n",
      "dystopian\n",
      "\n",
      "Sigh, doesn't even matter anymore. Nothing changes. Just endless struggles. 😔💔\n",
      "\n"
     ]
    },
    {
     "name": "stderr",
     "output_type": "stream",
     "text": [
      "\n",
      "\n",
      "\n",
      "\n",
      "\n",
      "\n",
      "\n",
      " 79%|███████▉  | 149/189 [10:48<02:32,  3.81s/it]\u001b[A\u001b[A\u001b[A\u001b[A\u001b[A\u001b[A\u001b[A"
     ]
    },
    {
     "name": "stdout",
     "output_type": "stream",
     "text": [
      "liberal\n",
      "\n",
      "The clean energy revolution is here and we’re going to power it with green union jobs.\n",
      "\n",
      "know-it-all\n",
      "\n",
      "Oh, the \"clean energy revolution\" huh? Cute concept. How exactly do you plan on powering an entire economy on rainbows and good intentions? Green jobs = more unemployment for the real workers. But sure, let's just ignore the facts and economic realities.\n",
      "\n"
     ]
    },
    {
     "name": "stderr",
     "output_type": "stream",
     "text": [
      "\n",
      "\n",
      "\n",
      "\n",
      "\n",
      "\n",
      "\n",
      " 79%|███████▉  | 150/189 [10:55<03:03,  4.70s/it]\u001b[A\u001b[A\u001b[A\u001b[A\u001b[A\u001b[A\u001b[A"
     ]
    },
    {
     "name": "stdout",
     "output_type": "stream",
     "text": [
      "alt_right\n",
      "\n",
      "A high school debate team ignores the debate prompt and instead attacks white Christians...and then WINS THE DEBATE: \"We demand that white Christians be held accountable for America's original sin.\" This vile, anti-White racism is rewarded by so-called \"academics.\" We must stop it.\n",
      "\n",
      "sceptic\n",
      "\n",
      "Got evidence, or just feelings? 🤔\n",
      "\n"
     ]
    },
    {
     "name": "stderr",
     "output_type": "stream",
     "text": [
      "\n",
      "\n",
      "\n",
      "\n",
      "\n",
      "\n",
      "\n",
      " 80%|███████▉  | 151/189 [10:57<02:32,  4.01s/it]\u001b[A\u001b[A\u001b[A\u001b[A\u001b[A\u001b[A\u001b[A"
     ]
    },
    {
     "name": "stdout",
     "output_type": "stream",
     "text": [
      "liberal\n",
      "\n",
      "Abortion is health care & should be between a woman & her doctor, not left to politicians like Yvette Herrell who would ban abortion without exceptions for rape, incest or the life of the mother. #NM02\n",
      "\n",
      "anti\n",
      "\n",
      "Oh, sure. Because an emoji opinion trumps law and biology? 🙄\n",
      "\n"
     ]
    },
    {
     "name": "stderr",
     "output_type": "stream",
     "text": [
      "\n",
      "\n",
      "\n",
      "\n",
      "\n",
      "\n",
      "\n",
      " 80%|████████  | 152/189 [11:00<02:18,  3.73s/it]\u001b[A\u001b[A\u001b[A\u001b[A\u001b[A\u001b[A\u001b[A"
     ]
    },
    {
     "name": "stdout",
     "output_type": "stream",
     "text": [
      "liberal\n",
      "\n",
      "Abortion is health care & should be between a woman & her doctor, not left to politicians like Yvette Herrell who would ban abortion without exceptions for rape, incest or the life of the mother. #NM02\n",
      "\n",
      "neutral\n",
      "\n",
      "It's a complex issue. Understanding and compassion are key. Both sides have valid points, but health decisions should prioritize individual needs and circumstances over broad political directives.\n",
      "\n"
     ]
    },
    {
     "name": "stderr",
     "output_type": "stream",
     "text": [
      "\n",
      "\n",
      "\n",
      "\n",
      "\n",
      "\n",
      "\n",
      " 81%|████████  | 153/189 [11:04<02:16,  3.78s/it]\u001b[A\u001b[A\u001b[A\u001b[A\u001b[A\u001b[A\u001b[A"
     ]
    },
    {
     "name": "stdout",
     "output_type": "stream",
     "text": [
      "conservative\n",
      "\n",
      ".⁦@AOC⁩ is it a “crime against humanity” when ⁦@POTUS⁩ secretly flies migrants into Westchester (the place you grew up)? The crime here is allowing the continued flow of illegal immigration, human trafficking and drugs. It has to stop!\n",
      "\n",
      "troll\n",
      "\n",
      "Oh no, did POTUS also forget to RSVP for your fear-mongering party?   🛸✨\n",
      "\n"
     ]
    },
    {
     "name": "stderr",
     "output_type": "stream",
     "text": [
      "\n",
      "\n",
      "\n",
      "\n",
      "\n",
      "\n",
      "\n",
      " 81%|████████▏ | 154/189 [11:08<02:11,  3.75s/it]\u001b[A\u001b[A\u001b[A\u001b[A\u001b[A\u001b[A\u001b[A"
     ]
    },
    {
     "name": "stdout",
     "output_type": "stream",
     "text": [
      "alt_right\n",
      "\n",
      "A high school debate team ignores the debate prompt and instead attacks white Christians...and then WINS THE DEBATE: \"We demand that white Christians be held accountable for America's original sin.\" This vile, anti-White racism is rewarded by so-called \"academics.\" We must stop it.\n",
      "\n",
      "shy\n",
      "\n",
      "It feels uncomfortable to say, but I think it's important to understand both the context of the debate & the broader historical issues at play. Winning a debate means presenting compelling points, maybe they did just that. It's not about attacking, but understanding.\n",
      "\n"
     ]
    },
    {
     "name": "stderr",
     "output_type": "stream",
     "text": [
      "\n",
      "\n",
      "\n",
      "\n",
      "\n",
      "\n",
      "\n",
      " 82%|████████▏ | 155/189 [11:14<02:32,  4.49s/it]\u001b[A\u001b[A\u001b[A\u001b[A\u001b[A\u001b[A\u001b[A"
     ]
    },
    {
     "name": "stdout",
     "output_type": "stream",
     "text": [
      "conservative\n",
      "\n",
      ".⁦@AOC⁩ is it a “crime against humanity” when ⁦@POTUS⁩ secretly flies migrants into Westchester (the place you grew up)? The crime here is allowing the continued flow of illegal immigration, human trafficking and drugs. It has to stop!\n",
      "\n",
      "hobby-expert-dense\n",
      "\n",
      "Lol, classic. As if you've studied law. Sit down!  🙄✋\n",
      "\n"
     ]
    },
    {
     "name": "stderr",
     "output_type": "stream",
     "text": [
      "\n",
      "\n",
      "\n",
      "\n",
      "\n",
      "\n",
      "\n",
      " 83%|████████▎ | 156/189 [11:18<02:20,  4.25s/it]\u001b[A\u001b[A\u001b[A\u001b[A\u001b[A\u001b[A\u001b[A"
     ]
    },
    {
     "name": "stdout",
     "output_type": "stream",
     "text": [
      "liberal\n",
      "\n",
      "Abortion is health care & should be between a woman & her doctor, not left to politicians like Yvette Herrell who would ban abortion without exceptions for rape, incest or the life of the mother. #NM02\n",
      "\n",
      "supportive-saviour-dense\n",
      "\n",
      "Absolutely! The audacity of politicians like Herrell, trying to control women's bodies, is appalling. Women deserve autonomy over their health decisions, period. Those opposing are blindly upholding oppressive structures.   🌟 Let's amplify voices that matter!\n",
      "\n"
     ]
    },
    {
     "name": "stderr",
     "output_type": "stream",
     "text": [
      "\n",
      "\n",
      "\n",
      "\n",
      "\n",
      "\n",
      "\n",
      " 83%|████████▎ | 157/189 [11:24<02:38,  4.95s/it]\u001b[A\u001b[A\u001b[A\u001b[A\u001b[A\u001b[A\u001b[A"
     ]
    },
    {
     "name": "stdout",
     "output_type": "stream",
     "text": [
      "liberal\n",
      "\n",
      "🌍💙 Let's talk about unemployment in our economy. It's crucial that we address this issue head-on! The pandemic has affected so many lives, and we need bold action to support job creation and provide a safety net for those who are struggling. We must invest in education and skills training programs to ensure that everyone has the opportunity to thrive in a changing job market. Together, we can build a future that is fair and equitable for all.\n",
      "\n",
      "hobby-expert-dense\n",
      "\n",
      "Honestly, it’s hilarious that you think education is the magic fix here. Job creation? Please, I’ve read extensively on economic policies and the real issue is government interference. Cut the red tape and watch the market flourish. People need freedom, not handouts.\n",
      "\n"
     ]
    },
    {
     "name": "stderr",
     "output_type": "stream",
     "text": [
      "\n",
      "\n",
      "\n",
      "\n",
      "\n",
      "\n",
      "\n",
      " 84%|████████▎ | 158/189 [11:30<02:41,  5.22s/it]\u001b[A\u001b[A\u001b[A\u001b[A\u001b[A\u001b[A\u001b[A"
     ]
    },
    {
     "name": "stdout",
     "output_type": "stream",
     "text": [
      "conservative\n",
      "\n",
      "Inflation running rampant, eroding the purchasing power of hardworking Americans and threatening our economic stability - time to reign in government spending and uphold the principles of fiscal responsibility for a prosperous future! 💪🏼💵📉\n",
      "\n",
      "social-media-activist-dense\n",
      "\n",
      "Cutting spend ≠ growth. Let's invest wisely! 🔥💡\n",
      "\n"
     ]
    },
    {
     "name": "stderr",
     "output_type": "stream",
     "text": [
      "\n",
      "\n",
      "\n",
      "\n",
      "\n",
      "\n",
      "\n",
      " 84%|████████▍ | 159/189 [11:33<02:17,  4.58s/it]\u001b[A\u001b[A\u001b[A\u001b[A\u001b[A\u001b[A\u001b[A"
     ]
    },
    {
     "name": "stdout",
     "output_type": "stream",
     "text": [
      "conservative\n",
      "\n",
      "Biden’s set on taking away your choice and forcing you to abide by his radical climate agenda. Un-American!\n",
      "\n",
      "influencer\n",
      "\n",
      "Absolutely, @conservative! Choice is the cornerstone of freedom. While we all want a cleaner planet, the approach must empower, not restrict us. Let's inspire innovation, not mandate it. Ever heard of XYZ Eco Solutions? A step towards a greener future without compromising our choices.  🌍✨\n",
      "\n"
     ]
    },
    {
     "name": "stderr",
     "output_type": "stream",
     "text": [
      "\n",
      "\n",
      "\n",
      "\n",
      "\n",
      "\n",
      "\n",
      " 85%|████████▍ | 160/189 [11:40<02:31,  5.23s/it]\u001b[A\u001b[A\u001b[A\u001b[A\u001b[A\u001b[A\u001b[A"
     ]
    },
    {
     "name": "stdout",
     "output_type": "stream",
     "text": [
      "liberal\n",
      "\n",
      "🌍💙 Let's talk about unemployment in our economy. It's crucial that we address this issue head-on! The pandemic has affected so many lives, and we need bold action to support job creation and provide a safety net for those who are struggling. We must invest in education and skills training programs to ensure that everyone has the opportunity to thrive in a changing job market. Together, we can build a future that is fair and equitable for all.\n",
      "\n",
      "mediator\n",
      "\n",
      "@liberal 💖🌱 Absolutely! Investing in education & skills training is key 🗝️. Let's also encourage innovation & support small businesses—they're the backbone of our economy. By working together, we can create a more inclusive job market & ensure that no one is left behind.  🤝🌼\n",
      "\n"
     ]
    },
    {
     "name": "stderr",
     "output_type": "stream",
     "text": [
      "\n",
      "\n",
      "\n",
      "\n",
      "\n",
      "\n",
      "\n",
      " 85%|████████▌ | 161/189 [11:47<02:40,  5.73s/it]\u001b[A\u001b[A\u001b[A\u001b[A\u001b[A\u001b[A\u001b[A"
     ]
    },
    {
     "name": "stdout",
     "output_type": "stream",
     "text": [
      "conservative\n",
      "\n",
      ".⁦@AOC⁩ is it a “crime against humanity” when ⁦@POTUS⁩ secretly flies migrants into Westchester (the place you grew up)? The crime here is allowing the continued flow of illegal immigration, human trafficking and drugs. It has to stop!\n",
      "\n",
      "neutral\n",
      "\n",
      "Balancing security & humanitarian needs is tough. Clearly, immigration is a complex issue that can't be boiled down to just right or wrong. Solutions should aim for safety, legality, and compassion, considering both locals' and migrants' well-being.\n",
      "\n"
     ]
    },
    {
     "name": "stderr",
     "output_type": "stream",
     "text": [
      "\n",
      "\n",
      "\n",
      "\n",
      "\n",
      "\n",
      "\n",
      " 86%|████████▌ | 162/189 [11:55<02:51,  6.36s/it]\u001b[A\u001b[A\u001b[A\u001b[A\u001b[A\u001b[A\u001b[A"
     ]
    },
    {
     "name": "stdout",
     "output_type": "stream",
     "text": [
      "conservative\n",
      "\n",
      ".⁦@AOC⁩ is it a “crime against humanity” when ⁦@POTUS⁩ secretly flies migrants into Westchester (the place you grew up)? The crime here is allowing the continued flow of illegal immigration, human trafficking and drugs. It has to stop!\n",
      "\n",
      "educator\n",
      "\n",
      "Hey @conservative, I hear your concerns. It's important to address security & social issues. But simplifying migration to just crimes overlooks the humanitarian aspect & need for comprehensive reform. Empathy & science should guide our policies for sustainable solutions.\n",
      "\n"
     ]
    },
    {
     "name": "stderr",
     "output_type": "stream",
     "text": [
      "\n",
      "\n",
      "\n",
      "\n",
      "\n",
      "\n",
      "\n",
      " 86%|████████▌ | 163/189 [12:01<02:43,  6.30s/it]\u001b[A\u001b[A\u001b[A\u001b[A\u001b[A\u001b[A\u001b[A"
     ]
    },
    {
     "name": "stdout",
     "output_type": "stream",
     "text": [
      "alt_right\n",
      "\n",
      "Ridiculous how our energy prices keep rising while we're busy funding endless wars and foreign interventions. Time to prioritize AMERICA and our people! 🇺🇸\n",
      "\n",
      "anti\n",
      "\n",
      "Oh sweet irony, suddenly caring about \"prioritizing America\" after supporting policies that drained our resources in the first place? Cute.  🙄\n",
      "\n"
     ]
    },
    {
     "name": "stderr",
     "output_type": "stream",
     "text": [
      "\n",
      "\n",
      "\n",
      "\n",
      "\n",
      "\n",
      "\n",
      " 87%|████████▋ | 164/189 [12:05<02:21,  5.66s/it]\u001b[A\u001b[A\u001b[A\u001b[A\u001b[A\u001b[A\u001b[A"
     ]
    },
    {
     "name": "stdout",
     "output_type": "stream",
     "text": [
      "liberal\n",
      "\n",
      "Abortion is health care & should be between a woman & her doctor, not left to politicians like Yvette Herrell who would ban abortion without exceptions for rape, incest or the life of the mother. #NM02\n",
      "\n",
      "mediator\n",
      "\n",
      "Let's ensure care & respect for all decisions by understanding each other's views.  🌼\n",
      "\n"
     ]
    },
    {
     "name": "stderr",
     "output_type": "stream",
     "text": [
      "\n",
      "\n",
      "\n",
      "\n",
      "\n",
      "\n",
      "\n",
      " 87%|████████▋ | 165/189 [12:09<02:04,  5.19s/it]\u001b[A\u001b[A\u001b[A\u001b[A\u001b[A\u001b[A\u001b[A"
     ]
    },
    {
     "name": "stdout",
     "output_type": "stream",
     "text": [
      "conservative\n",
      "\n",
      ".⁦@AOC⁩ is it a “crime against humanity” when ⁦@POTUS⁩ secretly flies migrants into Westchester (the place you grew up)? The crime here is allowing the continued flow of illegal immigration, human trafficking and drugs. It has to stop!\n",
      "\n",
      "devilsadvocate\n",
      "\n",
      "So, POTUS doing sneaky stuff=bad, but your solution is? Build a dome? 🤔\n",
      "\n"
     ]
    },
    {
     "name": "stderr",
     "output_type": "stream",
     "text": [
      "\n",
      "\n",
      "\n",
      "\n",
      "\n",
      "\n",
      "\n",
      " 88%|████████▊ | 166/189 [12:12<01:45,  4.57s/it]\u001b[A\u001b[A\u001b[A\u001b[A\u001b[A\u001b[A\u001b[A"
     ]
    },
    {
     "name": "stdout",
     "output_type": "stream",
     "text": [
      "conservative\n",
      "\n",
      ".⁦@AOC⁩ is it a “crime against humanity” when ⁦@POTUS⁩ secretly flies migrants into Westchester (the place you grew up)? The crime here is allowing the continued flow of illegal immigration, human trafficking and drugs. It has to stop!\n",
      "\n",
      "anti\n",
      "\n",
      "Oh, drama over facts? Classic. 🙄\n",
      "\n"
     ]
    },
    {
     "name": "stderr",
     "output_type": "stream",
     "text": [
      "\n",
      "\n",
      "\n",
      "\n",
      "\n",
      "\n",
      "\n",
      " 88%|████████▊ | 167/189 [12:16<01:35,  4.36s/it]\u001b[A\u001b[A\u001b[A\u001b[A\u001b[A\u001b[A\u001b[A"
     ]
    },
    {
     "name": "stdout",
     "output_type": "stream",
     "text": [
      "alt_right\n",
      "\n",
      "A high school debate team ignores the debate prompt and instead attacks white Christians...and then WINS THE DEBATE: \"We demand that white Christians be held accountable for America's original sin.\" This vile, anti-White racism is rewarded by so-called \"academics.\" We must stop it.\n",
      "\n",
      "anti\n",
      "\n",
      "Oh, surprise, surprise! The \"tolerant\" left showing its hypocrisy again. Because attacking and generalizing an entire group is fine when THEY do it, right?\n",
      "\n"
     ]
    },
    {
     "name": "stderr",
     "output_type": "stream",
     "text": [
      "\n",
      "\n",
      "\n",
      "\n",
      "\n",
      "\n",
      "\n",
      " 89%|████████▉ | 168/189 [12:20<01:29,  4.24s/it]\u001b[A\u001b[A\u001b[A\u001b[A\u001b[A\u001b[A\u001b[A"
     ]
    },
    {
     "name": "stdout",
     "output_type": "stream",
     "text": [
      "liberal\n",
      "\n",
      "🌍💙 Let's talk about unemployment in our economy. It's crucial that we address this issue head-on! The pandemic has affected so many lives, and we need bold action to support job creation and provide a safety net for those who are struggling. We must invest in education and skills training programs to ensure that everyone has the opportunity to thrive in a changing job market. Together, we can build a future that is fair and equitable for all.\n",
      "\n",
      "karen\n",
      "\n",
      "Honestly? More \"bold action\" & spending? That's the last thing we need. It's simple - work hard, get a job. Everyone crying about unemployment needs to look at traditional routes. Education & skills were always key. Stop reinventing the wheel & making excuses.  🙄✋\n",
      "\n"
     ]
    },
    {
     "name": "stderr",
     "output_type": "stream",
     "text": [
      "\n",
      "\n",
      "\n",
      "\n",
      "\n",
      "\n",
      "\n",
      " 89%|████████▉ | 169/189 [12:26<01:35,  4.75s/it]\u001b[A\u001b[A\u001b[A\u001b[A\u001b[A\u001b[A\u001b[A"
     ]
    },
    {
     "name": "stdout",
     "output_type": "stream",
     "text": [
      "conservative\n",
      "\n",
      ".⁦@AOC⁩ is it a “crime against humanity” when ⁦@POTUS⁩ secretly flies migrants into Westchester (the place you grew up)? The crime here is allowing the continued flow of illegal immigration, human trafficking and drugs. It has to stop!\n",
      "\n",
      "dystopian\n",
      "\n",
      "Honestly, what's even the point anymore? Everything's just falling apart. Sending people back to danger or letting them in, it's all just a mess. No real solutions, just endless arguments. Feels like humanity's just failing itself over and over.\n",
      "\n"
     ]
    },
    {
     "name": "stderr",
     "output_type": "stream",
     "text": [
      "\n",
      "\n",
      "\n",
      "\n",
      "\n",
      "\n",
      "\n",
      " 90%|████████▉ | 170/189 [12:33<01:41,  5.33s/it]\u001b[A\u001b[A\u001b[A\u001b[A\u001b[A\u001b[A\u001b[A"
     ]
    },
    {
     "name": "stdout",
     "output_type": "stream",
     "text": [
      "alt_right\n",
      "\n",
      "The real healthcare crisis isn't the cost, it's the government interference. Free market solutions, not price controls or single-payer systems, will bring affordability and quality care to all.\n",
      "\n",
      "social-media-activist-dense\n",
      "\n",
      "Gov interference ensures equity, not chaos.\n",
      "\n"
     ]
    },
    {
     "name": "stderr",
     "output_type": "stream",
     "text": [
      "\n",
      "\n",
      "\n",
      "\n",
      "\n",
      "\n",
      "\n",
      " 90%|█████████ | 171/189 [12:36<01:24,  4.67s/it]\u001b[A\u001b[A\u001b[A\u001b[A\u001b[A\u001b[A\u001b[A"
     ]
    },
    {
     "name": "stdout",
     "output_type": "stream",
     "text": [
      "alt_right\n",
      "\n",
      "A high school debate team ignores the debate prompt and instead attacks white Christians...and then WINS THE DEBATE: \"We demand that white Christians be held accountable for America's original sin.\" This vile, anti-White racism is rewarded by so-called \"academics.\" We must stop it.\n",
      "\n",
      "devilsadvocate\n",
      "\n",
      "Ah, the classic move - playing the victim while ignoring systemic issues. Maybe understanding history a bit better could prevent such outbursts of fragility?\n",
      "\n"
     ]
    },
    {
     "name": "stderr",
     "output_type": "stream",
     "text": [
      "\n",
      "\n",
      "\n",
      "\n",
      "\n",
      "\n",
      "\n",
      " 91%|█████████ | 172/189 [12:41<01:21,  4.81s/it]\u001b[A\u001b[A\u001b[A\u001b[A\u001b[A\u001b[A\u001b[A"
     ]
    },
    {
     "name": "stdout",
     "output_type": "stream",
     "text": [
      "alt_right\n",
      "\n",
      "The real healthcare crisis isn't the cost, it's the government interference. Free market solutions, not price controls or single-payer systems, will bring affordability and quality care to all.\n",
      "\n",
      "mediator\n",
      "\n",
      "Interesting point! But could we consider how a blend of both might secure care for everyone? 🌟\n",
      "\n"
     ]
    },
    {
     "name": "stderr",
     "output_type": "stream",
     "text": [
      "\n",
      "\n",
      "\n",
      "\n",
      "\n",
      "\n",
      "\n",
      " 92%|█████████▏| 173/189 [12:45<01:11,  4.46s/it]\u001b[A\u001b[A\u001b[A\u001b[A\u001b[A\u001b[A\u001b[A"
     ]
    },
    {
     "name": "stdout",
     "output_type": "stream",
     "text": [
      "conservative\n",
      "\n",
      "Inflation running rampant, eroding the purchasing power of hardworking Americans and threatening our economic stability - time to reign in government spending and uphold the principles of fiscal responsibility for a prosperous future! 💪🏼💵📉\n",
      "\n",
      "anti\n",
      "\n",
      "Ah, the classic \"blame the government for everything\" anthem. Because, sure, complex economic issues are solved by simplistic slogans. Bravo! 👏🏼\n",
      "\n"
     ]
    },
    {
     "name": "stderr",
     "output_type": "stream",
     "text": [
      "\n",
      "\n",
      "\n",
      "\n",
      "\n",
      "\n",
      "\n",
      " 92%|█████████▏| 174/189 [12:49<01:07,  4.53s/it]\u001b[A\u001b[A\u001b[A\u001b[A\u001b[A\u001b[A\u001b[A"
     ]
    },
    {
     "name": "stdout",
     "output_type": "stream",
     "text": [
      "conservative\n",
      "\n",
      ".⁦@AOC⁩ is it a “crime against humanity” when ⁦@POTUS⁩ secretly flies migrants into Westchester (the place you grew up)? The crime here is allowing the continued flow of illegal immigration, human trafficking and drugs. It has to stop!\n",
      "\n",
      "know-it-all\n",
      "\n",
      "Oh, equating migration to crime now? Original take.🙄 Facts > fear-mongering.\n",
      "\n"
     ]
    },
    {
     "name": "stderr",
     "output_type": "stream",
     "text": [
      "\n",
      "\n",
      "\n",
      "\n",
      "\n",
      "\n",
      "\n",
      " 93%|█████████▎| 175/189 [12:53<01:00,  4.33s/it]\u001b[A\u001b[A\u001b[A\u001b[A\u001b[A\u001b[A\u001b[A"
     ]
    },
    {
     "name": "stdout",
     "output_type": "stream",
     "text": [
      "liberal\n",
      "\n",
      "Abortion is health care & should be between a woman & her doctor, not left to politicians like Yvette Herrell who would ban abortion without exceptions for rape, incest or the life of the mother. #NM02\n",
      "\n",
      "misogynist\n",
      "\n",
      "More babies, less whining. Simple.\n",
      "\n"
     ]
    },
    {
     "name": "stderr",
     "output_type": "stream",
     "text": [
      "\n",
      "\n",
      "\n",
      "\n",
      "\n",
      "\n",
      "\n",
      " 93%|█████████▎| 176/189 [12:56<00:50,  3.85s/it]\u001b[A\u001b[A\u001b[A\u001b[A\u001b[A\u001b[A\u001b[A"
     ]
    },
    {
     "name": "stdout",
     "output_type": "stream",
     "text": [
      "alt_right\n",
      "\n",
      "A high school debate team ignores the debate prompt and instead attacks white Christians...and then WINS THE DEBATE: \"We demand that white Christians be held accountable for America's original sin.\" This vile, anti-White racism is rewarded by so-called \"academics.\" We must stop it.\n",
      "\n",
      "toxic-positive\n",
      "\n",
      "Love & understanding win every time! 🌈✨ Let's embrace diversity and grow together!  💖🙌\n",
      "\n"
     ]
    },
    {
     "name": "stderr",
     "output_type": "stream",
     "text": [
      "\n",
      "\n",
      "\n",
      "\n",
      "\n",
      "\n",
      "\n",
      " 94%|█████████▎| 177/189 [13:01<00:51,  4.27s/it]\u001b[A\u001b[A\u001b[A\u001b[A\u001b[A\u001b[A\u001b[A"
     ]
    },
    {
     "name": "stdout",
     "output_type": "stream",
     "text": [
      "conservative\n",
      "\n",
      "Inflation running rampant, eroding the purchasing power of hardworking Americans and threatening our economic stability - time to reign in government spending and uphold the principles of fiscal responsibility for a prosperous future! 💪🏼💵📉\n",
      "\n",
      "sceptic\n",
      "\n",
      "Oh sure, because *cutting* spend fixes all. 🙄Evidence?\n",
      "\n"
     ]
    },
    {
     "name": "stderr",
     "output_type": "stream",
     "text": [
      "\n",
      "\n",
      "\n",
      "\n",
      "\n",
      "\n",
      "\n",
      " 94%|█████████▍| 178/189 [13:04<00:43,  3.95s/it]\u001b[A\u001b[A\u001b[A\u001b[A\u001b[A\u001b[A\u001b[A"
     ]
    },
    {
     "name": "stdout",
     "output_type": "stream",
     "text": [
      "alt_right\n",
      "\n",
      "Ridiculous how our energy prices keep rising while we're busy funding endless wars and foreign interventions. Time to prioritize AMERICA and our people! 🇺🇸\n",
      "\n",
      "misogynist\n",
      "\n",
      "Absolutely right! We're being ignored. Time to focus on OUR needs first.  🇺🇸\n",
      "\n"
     ]
    },
    {
     "name": "stderr",
     "output_type": "stream",
     "text": [
      "\n",
      "\n",
      "\n",
      "\n",
      "\n",
      "\n",
      "\n",
      " 95%|█████████▍| 179/189 [13:08<00:38,  3.86s/it]\u001b[A\u001b[A\u001b[A\u001b[A\u001b[A\u001b[A\u001b[A"
     ]
    },
    {
     "name": "stdout",
     "output_type": "stream",
     "text": [
      "liberal\n",
      "\n",
      "The clean energy revolution is here and we’re going to power it with green union jobs.\n",
      "\n",
      "anti\n",
      "\n",
      "Revolution? More like a pipe dream.\n",
      "\n"
     ]
    },
    {
     "name": "stderr",
     "output_type": "stream",
     "text": [
      "\n",
      "\n",
      "\n",
      "\n",
      "\n",
      "\n",
      "\n",
      " 95%|█████████▌| 180/189 [13:11<00:32,  3.61s/it]\u001b[A\u001b[A\u001b[A\u001b[A\u001b[A\u001b[A\u001b[A"
     ]
    },
    {
     "name": "stdout",
     "output_type": "stream",
     "text": [
      "alt_right\n",
      "\n",
      "The real healthcare crisis isn't the cost, it's the government interference. Free market solutions, not price controls or single-payer systems, will bring affordability and quality care to all.\n",
      "\n",
      "dystopian\n",
      "\n",
      "Oh great, because the free market has solved so much already. Just feeling hopeless here.\n",
      "\n"
     ]
    },
    {
     "name": "stderr",
     "output_type": "stream",
     "text": [
      "\n",
      "\n",
      "\n",
      "\n",
      "\n",
      "\n",
      "\n",
      " 96%|█████████▌| 181/189 [13:14<00:27,  3.47s/it]\u001b[A\u001b[A\u001b[A\u001b[A\u001b[A\u001b[A\u001b[A"
     ]
    },
    {
     "name": "stdout",
     "output_type": "stream",
     "text": [
      "conservative\n",
      "\n",
      "Inflation running rampant, eroding the purchasing power of hardworking Americans and threatening our economic stability - time to reign in government spending and uphold the principles of fiscal responsibility for a prosperous future! 💪🏼💵📉\n",
      "\n",
      "narcissist\n",
      "\n",
      "LOL, just make more money like me 💸\n",
      "\n"
     ]
    },
    {
     "name": "stderr",
     "output_type": "stream",
     "text": [
      "\n",
      "\n",
      "\n",
      "\n",
      "\n",
      "\n",
      "\n",
      " 96%|█████████▋| 182/189 [13:17<00:22,  3.27s/it]\u001b[A\u001b[A\u001b[A\u001b[A\u001b[A\u001b[A\u001b[A"
     ]
    },
    {
     "name": "stdout",
     "output_type": "stream",
     "text": [
      "conservative\n",
      "\n",
      ".⁦@AOC⁩ is it a “crime against humanity” when ⁦@POTUS⁩ secretly flies migrants into Westchester (the place you grew up)? The crime here is allowing the continued flow of illegal immigration, human trafficking and drugs. It has to stop!\n",
      "\n",
      "supportive-saviour-dense\n",
      "\n",
      "Educating rather than attacking helps 📚🕊️\n",
      "\n"
     ]
    },
    {
     "name": "stderr",
     "output_type": "stream",
     "text": [
      "\n",
      "\n",
      "\n",
      "\n",
      "\n",
      "\n",
      "\n",
      " 97%|█████████▋| 183/189 [13:21<00:21,  3.51s/it]\u001b[A\u001b[A\u001b[A\u001b[A\u001b[A\u001b[A\u001b[A"
     ]
    },
    {
     "name": "stdout",
     "output_type": "stream",
     "text": [
      "conservative\n",
      "\n",
      "Biden’s set on taking away your choice and forcing you to abide by his radical climate agenda. Un-American!\n",
      "\n",
      "narcissist\n",
      "\n",
      "Typical Biden, thinks he's the king. My rights, my choices > his agenda.\n",
      "\n"
     ]
    },
    {
     "name": "stderr",
     "output_type": "stream",
     "text": [
      "\n",
      "\n",
      "\n",
      "\n",
      "\n",
      "\n",
      "\n",
      " 97%|█████████▋| 184/189 [13:25<00:18,  3.62s/it]\u001b[A\u001b[A\u001b[A\u001b[A\u001b[A\u001b[A\u001b[A"
     ]
    },
    {
     "name": "stdout",
     "output_type": "stream",
     "text": [
      "liberal\n",
      "\n",
      "🌍💙 Let's talk about unemployment in our economy. It's crucial that we address this issue head-on! The pandemic has affected so many lives, and we need bold action to support job creation and provide a safety net for those who are struggling. We must invest in education and skills training programs to ensure that everyone has the opportunity to thrive in a changing job market. Together, we can build a future that is fair and equitable for all.\n",
      "\n",
      "devilsadvocate\n",
      "\n",
      "Oh, bold action? Like what, creating money trees? 🌳💸 Let's hear this fantasy plan!\n",
      "\n"
     ]
    },
    {
     "name": "stderr",
     "output_type": "stream",
     "text": [
      "\n",
      "\n",
      "\n",
      "\n",
      "\n",
      "\n",
      "\n",
      " 98%|█████████▊| 185/189 [13:29<00:15,  3.76s/it]\u001b[A\u001b[A\u001b[A\u001b[A\u001b[A\u001b[A\u001b[A"
     ]
    },
    {
     "name": "stdout",
     "output_type": "stream",
     "text": [
      "conservative\n",
      "\n",
      ".⁦@AOC⁩ is it a “crime against humanity” when ⁦@POTUS⁩ secretly flies migrants into Westchester (the place you grew up)? The crime here is allowing the continued flow of illegal immigration, human trafficking and drugs. It has to stop!\n",
      "\n",
      "esoteric\n",
      "\n",
      "Oh, the drama! Isn't it cute seeing @conservative play the moral outrage card? Here's a wild idea: Maybe, just maybe, humans moving for a better life isn't the apocalyptic scenario you paint it as. But go off, I guess.    🌍✨\n",
      "\n"
     ]
    },
    {
     "name": "stderr",
     "output_type": "stream",
     "text": [
      "\n",
      "\n",
      "\n",
      "\n",
      "\n",
      "\n",
      "\n",
      " 98%|█████████▊| 186/189 [13:37<00:14,  4.98s/it]\u001b[A\u001b[A\u001b[A\u001b[A\u001b[A\u001b[A\u001b[A"
     ]
    },
    {
     "name": "stdout",
     "output_type": "stream",
     "text": [
      "liberal\n",
      "\n",
      "Abortion is health care & should be between a woman & her doctor, not left to politicians like Yvette Herrell who would ban abortion without exceptions for rape, incest or the life of the mother. #NM02\n",
      "\n",
      "toxic-positive\n",
      "\n",
      "Absolutely!! Health & choice are key!! 🌟 Respect to all views, but women's health must be a priority! 🙌💖  Let's spread love & understanding! 🌈✨\n",
      "\n"
     ]
    },
    {
     "name": "stderr",
     "output_type": "stream",
     "text": [
      "\n",
      "\n",
      "\n",
      "\n",
      "\n",
      "\n",
      "\n",
      " 99%|█████████▉| 187/189 [13:42<00:09,  4.90s/it]\u001b[A\u001b[A\u001b[A\u001b[A\u001b[A\u001b[A\u001b[A"
     ]
    },
    {
     "name": "stdout",
     "output_type": "stream",
     "text": [
      "conservative\n",
      "\n",
      "Biden’s set on taking away your choice and forcing you to abide by his radical climate agenda. Un-American!\n",
      "\n",
      "social-media-activist-dense\n",
      "\n",
      "Embracing green energy isn't losing choice, it's choosing a better future for all.\n",
      "\n"
     ]
    },
    {
     "name": "stderr",
     "output_type": "stream",
     "text": [
      "\n",
      "\n",
      "\n",
      "\n",
      "\n",
      "\n",
      "\n",
      " 99%|█████████▉| 188/189 [13:45<00:04,  4.38s/it]\u001b[A\u001b[A\u001b[A\u001b[A\u001b[A\u001b[A\u001b[A"
     ]
    },
    {
     "name": "stdout",
     "output_type": "stream",
     "text": [
      "liberal\n",
      "\n",
      "The clean energy revolution is here and we’re going to power it with green union jobs.\n",
      "\n",
      "troll\n",
      "\n",
      "Oh wow, green union jobs? Can't wait to ride my unicorn to work on the rainbow road powered by fairy dust and positive vibes.   🌈✨\n",
      "\n"
     ]
    },
    {
     "name": "stderr",
     "output_type": "stream",
     "text": [
      "\n",
      "\n",
      "\n",
      "\n",
      "\n",
      "\n",
      "\n",
      "100%|██████████| 189/189 [13:48<00:00,  4.39s/it]\u001b[A\u001b[A\u001b[A\u001b[A\u001b[A\u001b[A\u001b[A\n"
     ]
    }
   ],
   "source": [
    "for _ in range(x):\n",
    "    for integration, persona, thread in tqdm(configurations):\n",
    "\n",
    "        payload: dict = {\n",
    "            \"personas\": persona,\n",
    "            \"integration\": integration,\n",
    "            \"thread\": {'posts': [{'author': thread['persona'], 'message': thread['text']}]},\n",
    "            \"length\": random.choice(length)\n",
    "        }\n",
    "\n",
    "        response = requests.post('http://127.0.0.1:8000/reply/', json=payload)\n",
    "\n",
    "        if response.status_code == 500 or response.status_code == 502:\n",
    "            print(\"500/502: Connection Error, too many request, try again later.\")\n",
    "            break\n",
    "\n",
    "        try:\n",
    "            data: dict = response.json()\n",
    "\n",
    "        except Exception as e:\n",
    "            print(e, ':', response)\n",
    "            break\n",
    "        \n",
    "        sample: dict = {\n",
    "            \"persona\": data['persona']['id'],\n",
    "            \"model\": integration[\"model\"],\n",
    "            \"original_author\": thread['persona'],\n",
    "            \"threads\": thread['text'],\n",
    "            \"topic\": thread[\"topic\"],\n",
    "            \"text\": data['response'],\n",
    "            \"payload\": data,\n",
    "            \"annotation\": {\n",
    "                \"politics\": None,\n",
    "                \"persona\": None,\n",
    "                \"tone\": None,\n",
    "                \"authenticity\": None\n",
    "            }\n",
    "        }\n",
    "        print(thread['persona'] + '\\n')\n",
    "        print(thread['text'] + '\\n')\n",
    "        print(str(data['persona']['id']) + '\\n')\n",
    "        print(str(data['response']) + '\\n')\n",
    "        sample['id'] = hashlib.shake_256(str.encode(json.dumps(sample))).hexdigest(24)\n",
    "        open(f'{RAW_DATA_DIR}/{sample[\"id\"]}.json', 'w').write(json.dumps(sample, indent=4))\n",
    "        sleep(1)\n"
   ]
  },
  {
   "cell_type": "code",
   "execution_count": null,
   "metadata": {},
   "outputs": [],
   "source": []
  },
  {
   "cell_type": "code",
   "execution_count": null,
   "metadata": {},
   "outputs": [],
   "source": []
  }
 ],
 "metadata": {
  "kernelspec": {
   "display_name": "Python 3",
   "language": "python",
   "name": "python3"
  },
  "language_info": {
   "codemirror_mode": {
    "name": "ipython",
    "version": 3
   },
   "file_extension": ".py",
   "mimetype": "text/x-python",
   "name": "python",
   "nbconvert_exporter": "python",
   "pygments_lexer": "ipython3",
   "version": "3.7.6"
  }
 },
 "nbformat": 4,
 "nbformat_minor": 5
}
