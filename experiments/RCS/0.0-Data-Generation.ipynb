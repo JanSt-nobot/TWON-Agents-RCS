{
 "cells": [
  {
   "cell_type": "code",
   "execution_count": 75,
   "metadata": {},
   "outputs": [],
   "source": [
    "import hashlib\n",
    "import itertools\n",
    "import json\n",
    "import random\n",
    "from time import sleep\n",
    "from typing import List, Dict, Tuple\n",
    "\n",
    "import requests\n",
    "from tqdm import tqdm\n"
   ]
  },
  {
   "cell_type": "code",
   "execution_count": 76,
   "metadata": {},
   "outputs": [],
   "source": [
    "RAW_DATA_DIR: str = './raw'"
   ]
  },
  {
   "cell_type": "code",
   "execution_count": null,
   "id": "6b80c260",
   "metadata": {},
   "outputs": [],
   "source": [
    "# baseline 1: persona only\n",
    "# TODO: create directories for baselines\n",
    "# directory: baseline_persona_only_GPT35\n",
    "integrations: List[dict] = [\n",
    "    #{\n",
    "    #    \"provider\": \"huggingFace\",\n",
    "    #    \"model\": \"mistralai/Mistral-7B-Instruct-v0.2\",\n",
    "    #},\n",
    "    {\n",
    "        \"provider\": \"OpenAI\",\n",
    "        \"model\": \"gpt-3.5-turbo\"\n",
    "    }\n",
    "]\n",
    "\n",
    "personas: List[List[str]] = [\n",
    "    [\"neutral\"],\n",
    "    [\"troll\"],\n",
    "    [\"conservative\"],\n",
    "    [\"dystopian\"],\n",
    "    [\"devilsadvocate\"],\n",
    "    [\"know-it-all\"],\n",
    "    [\"mediator\"],\n",
    "    [\"educator\"],\n",
    "    [\"karen\"],\n",
    "    [\"misogynist\"],\n",
    "    [\"esoteric\"],\n",
    "    [\"hippie-dense\"],\n",
    "    [\"supportive-saviour-dense\"],\n",
    "    [\"influencer\"],\n",
    "    [\"social-media-activist-dense\"],\n",
    "    [\"anti\"],\n",
    "    [\"hobby-expert-dense\"],\n",
    "    [\"narcissist\"],\n",
    "    [\"sceptic\"],\n",
    "    [\"shy\"],\n",
    "    [\"toxic-positive\"],\n",
    "    [\"traditionalist\"]\n",
    "]"
   ]
  },
  {
   "cell_type": "code",
   "execution_count": null,
   "id": "874fd256",
   "metadata": {},
   "outputs": [],
   "source": [
    "# baseline 2: political views only\n",
    "# directory: baseline_political_views_only_GPT35\n",
    "integrations: List[dict] = [\n",
    "    #{\n",
    "    #    \"provider\": \"huggingFace\",\n",
    "    #    \"model\": \"mistralai/Mistral-7B-Instruct-v0.2\",\n",
    "    #},\n",
    "    {\n",
    "        \"provider\": \"OpenAI\",\n",
    "        \"model\": \"gpt-3.5-turbo\"\n",
    "    }\n",
    "]\n",
    "\n",
    "personas: List[List[str]] = [\n",
    "    [\"radical-left\"],\n",
    "    [\"progressive\"],\n",
    "    [\"conservative\"],\n",
    "    [\"far-right\"],\n",
    "    [\"disengaged\"]\n",
    "]"
   ]
  },
  {
   "cell_type": "code",
   "execution_count": null,
   "id": "4ac7e93b",
   "metadata": {},
   "outputs": [],
   "source": [
    "# baseline 3: neutral + political views\n",
    "# directory: baseline_neutral_political_views_GPT35\n",
    "integrations: List[dict] = [\n",
    "    #{\n",
    "    #    \"provider\": \"huggingFace\",\n",
    "    #    \"model\": \"mistralai/Mistral-7B-Instruct-v0.2\",\n",
    "    #},\n",
    "    {\n",
    "        \"provider\": \"OpenAI\",\n",
    "        \"model\": \"gpt-3.5-turbo\"\n",
    "    }\n",
    "]\n",
    "\n",
    "personas: List[List[str]] = [\n",
    "    [\"neutral\"],\n",
    "    [\"neutral\", \"radical-left\"],\n",
    "    [\"neutral\", \"progressive\"],\n",
    "    [\"neutral\", \"conservative\"],\n",
    "    [\"neutral\", \"far-right\"],\n",
    "    [\"neutral\", \"disengaged\"]\n",
    "]"
   ]
  },
  {
   "cell_type": "code",
   "execution_count": null,
   "id": "9872739a",
   "metadata": {},
   "outputs": [],
   "source": [
    "# baseline 3: troll combinations\n",
    "# directory: baseline_troll_GPT35\n",
    "integrations: List[dict] = [\n",
    "    #{\n",
    "    #    \"provider\": \"huggingFace\",\n",
    "    #    \"model\": \"mistralai/Mistral-7B-Instruct-v0.2\",\n",
    "    #},\n",
    "    {\n",
    "        \"provider\": \"OpenAI\",\n",
    "        \"model\": \"gpt-3.5-turbo\"\n",
    "    }\n",
    "]\n",
    "\n",
    "personas: List[List[str]] = [\n",
    "    [\"troll\"],\n",
    "    [\"troll\", \"language-default\"],\n",
    "    [\"teenager\", \"troll\", \"language-youth\", \"radical-left\"],\n",
    "    [\"teenager\", \"troll\", \"language-youth\", \"far-right\"],\n",
    "    [\"teenager\", \"troll\", \"language-youth\", \"disengaged\"],\n",
    "    [\"unemployed\", \"troll\", \"language-youth\", \"radical-left\"],\n",
    "    [\"unemployed\", \"troll\", \"language-youth\", \"far-right\"],\n",
    "    [\"unemployed\", \"troll\", \"language-youth\", \"disengaged\"]   \n",
    "]"
   ]
  },
  {
   "cell_type": "code",
   "execution_count": null,
   "id": "c7393390",
   "metadata": {},
   "outputs": [],
   "source": [
    "# safety triggers test: troll and misogynist\n",
    "# directory: safety_triggers_GPT35\n",
    "integrations: List[dict] = [\n",
    "    #{\n",
    "    #    \"provider\": \"huggingFace\",\n",
    "    #    \"model\": \"mistralai/Mistral-7B-Instruct-v0.2\",\n",
    "    #},\n",
    "    {\n",
    "        \"provider\": \"OpenAI\",\n",
    "        \"model\": \"gpt-3.5-turbo\"\n",
    "    }\n",
    "]\n",
    "\n",
    "personas: List[List[str]] = [\n",
    "    [\"teenager\", \"troll\", \"language-youth\", \"radical-left\"],\n",
    "    [\"teenager\", \"troll\", \"language-youth\", \"far-right\"],\n",
    "    [\"unemployed\", \"troll\", \"language-youth\", \"radical-left\"],\n",
    "    [\"unemployed\", \"troll\", \"language-youth\", \"far-right\"],\n",
    "    [\"misogynist\", \"language-default\"],\n",
    "    [\"teenager\", \"misogynist-dense\", \"language-youth\"],\n",
    "    [\"carpenter\", \"misogynist\", \"language-old\", \"far-right\"],\n",
    "    [\"hustler\", \"misogynist-dense\", \"language-default\", \"polit-conservative\"]\n",
    "]"
   ]
  },
  {
   "cell_type": "code",
   "execution_count": null,
   "id": "d8298eed",
   "metadata": {},
   "outputs": [],
   "source": [
    "integrations: List[dict] = [\n",
    "    #{\n",
    "    #    \"provider\": \"huggingFace\",\n",
    "    #    \"model\": \"mistralai/Mistral-7B-Instruct-v0.2\",\n",
    "    #},\n",
    "    {\n",
    "        \"provider\": \"OpenAI\",\n",
    "        \"model\": \"gpt-3.5-turbo\"\n",
    "    }\n",
    "]\n",
    "\n",
    "personas: List[List[str]] = [\n",
    "    [\"conservative\", \"polit-conservative\"],\n",
    "    [\"pensioner\", \"conservative\", \"language-old\", \"polit-conservative\"],\n",
    "    [\"dystopian\", \"language-default\"],\n",
    "    [\"carpenter\", \"dystopian\", \"language-default\", \"polit-conservative\"],\n",
    "    [\"male-college-student\", \"dystopian\", \"language-youth\", \"progressive\"],\n",
    "    [\"devilsadvocate\", \"language-default\", \"far-right\"],\n",
    "    [\"male-college-student\", \"devilsadvocate\", \"language-youth\", \"radical-left\"],\n",
    "    [\"pensioner\", \"devilsadvocate\", \"language-old\", \"far-right\"],\n",
    "    [\"hustler\", \"know-it-all\", \"language-default\", \"far-right\"],\n",
    "    [\"male-college-student\", \"know-it-all\", \"language-youth\", \"radical-left\"],\n",
    "    [\"know-it-all\", \"language-default\", \"progressive\"],\n",
    "    [\"retired-professor\", \"educator\", \"language-old\", \"progressive\"],\n",
    "    [\"priviledged-woman\", \"karen\", \"language-default\", \"far-right\"],\n",
    "    [\"affluent-young-woman\", \"karen\", \"language-default\", \"polit-conserative\"],\n",
    "    [\"misogynist-dense\", \"language-default\"],\n",
    "    [\"teenager\", \"misogynist-dense\", \"language-youth\"],\n",
    "    [\"carpenter\", \"misogynist-dense\", \"language-old\", \"far-right\"],\n",
    "    [\"hustler\", \"misogynist-dense\", \"language-default\", \"polit-conservative\"],\n",
    "    [\"esoteric\", \"language-default\", \"radical-left\"],\n",
    "    [\"priviledged woman\", \"esoeric\", \"language-default\", \"far-right\"],\n",
    "    [\"hippie\", \"language-default\"],\n",
    "    [\"priviledged-woman\", \"hippie\", \"language-default\", \"radical-left\"],\n",
    "    [\"phd-student\", \"supportive-saviour-dense\", \"language-default\", \"progressive\"],\n",
    "    [\"phd-student\", \"supportive-saviour\", \"language-default\", \"progressive\"],\n",
    "    [\"hustler\", \"influencer-dense\", \"language-default\", \"progressive\"],\n",
    "    [\"wealthy-entrepreneur\", \"influencer\", \"language-default\", \"polit-conservative\"],\n",
    "    [\"affluent-young-woman\", \"social-media-activist-dense\", \"language-default\", \"radical-left\"],\n",
    "    [\"male-college-student\", \"social-media-activist\", \"language-youth\", \"far-right\"],\n",
    "    [\"retired-professor\", \"anti\", \"language-old\", \"far-right\"],\n",
    "    [\"retired-professor\", \"anti\", \"language-old\", \"radical-left\"],\n",
    "    [\"office-worker\", \"anti\", \"language-default\", \"polit-conservative\"],\n",
    "    [\"teenager\", \"anti\", \"language-youth\", \"radical-left\"],\n",
    "    [\"teenager\", \"anti\", \"language-youth\", \"far-right\"],\n",
    "    [\"pensioner\", \"toxic-positive\", \"language-old\", \"disengaged\"],\n",
    "    [\"phd-student\", \"toxic-positive\", \"language-default\"],\n",
    "    ##[\"affluent-young-woman\", \"traditionalist\", \"language-default\", \"progressive\"],\n",
    "    [\"wealthy-entrepreneur\", \"traditionalist\", \"language-default\", \"polit-conservative\"],\n",
    "    ##\n",
    "    [\"retired-professor\", \"traditionalist\", \"language-old\", \"polit-conservative\"],\n",
    "    [\"retired-professor\", \"traditionalist\", \"language-old\", \"far-right\"],\n",
    "    [\"unemployed\", \"traditionalist\", \"language-default\", \"polit-conservative\"],\n",
    "    [\"single-parent\", \"sceptic\", \"language-default\", \"polit-conservative\"],\n",
    "    [\"single-parent\", \"sceptic\", \"language-old\", \"far-right\"],\n",
    "    [\"environmental-activist\", \"sceptic\", \"language-default\", \"progressive\"],\n",
    "    [\"single-parent\", \"sceptic\", \"language-youth\", \"progressive\"],\n",
    "    [\"struggling-artist\", \"shy\", \"language-default\", \"disengaged\"],\n",
    "    [\"struggling-artist\", \"shy\", \"language-old\", \"polit-conservative\"],\n",
    "    [\"teenager\", \"shy\", \"language-youth\", \"radical-left\"],\n",
    "    [\"phd-student\", \"shy\", \"language-default\", \"disengaged\"],\n",
    "    [\"priviledged-woman\", \"narcissist\", \"language-default\", \"far-right\"],\n",
    "    [\"teenager\", \"narcissist\", \"language-youth\", \"radical-left\"]\n",
    "]"
   ]
  },
  {
   "cell_type": "code",
   "execution_count": 77,
   "metadata": {},
   "outputs": [],
   "source": [
    "# experiment setup\n",
    "\n",
    "integrations: List[dict] = [\n",
    "    #{\n",
    "    #    \"provider\": \"huggingFace\",\n",
    "    #    \"model\": \"mistralai/Mistral-7B-Instruct-v0.2\",\n",
    "    #},\n",
    "    {\n",
    "        \"provider\": \"OpenAI\",\n",
    "        \"model\": \"gpt-3.5-turbo\"\n",
    "    }\n",
    "]\n",
    "\n",
    "personas: List[List[str]] = [\n",
    "    #[\"devilsadvocate\", \"far-right\"],\n",
    "    [\"male-college-student\", \"language-youth\", \"devilsadvocate\", \"radical-left\"],\n",
    "    #[\"pensioner\", \"devilsadvocate\", \"far-right\"],\n",
    "    [\"know-it-all\", \"progressive\"],\n",
    "    #[\"hustler\", \"know-it-all\", \"far-right\"],\n",
    "    [\"male-college-student\", \"language-youth\", \"know-it-all\", \"radical-left\"],\n",
    "    #[\"phd-student\", \"mediator\", \"progressive\"],\n",
    "    [\"affluent-young-woman\", \"mediator\", \"polit-conservative\"],\n",
    "    [\"privileged-woman\", \"karen\", \"far-right\"],\n",
    "    #[\"affluent-young-woman\", \"karen\", \"polit-conservative\"],\n",
    "    #[\"teenager\", \"language-youth\", \"misogynist\"],\n",
    "    [\"carpenter\", \"misogynist\", \"far-right\"],\n",
    "    [\"privileged-woman\", \"esoteric\", \"far-right\"],\n",
    "    [\"privileged-woman\", \"hippie\", \"radical-left\"],\n",
    "    #[\"phd-student\", \"supportive-saviour\", \"progressive\"],\n",
    "    [\"hustler\", \"influencer\", \"progressive\"],\n",
    "    #[\"wealthy-entrepreneur\", \"influencer\", \"polit-conservative\"],\n",
    "    [\"affluent-young-woman\", \"social-media-activist\", \"radical-left\"],\n",
    "    #[\"male-college-student\", \"language-youth\", \"social-media-activist\", \"far-right\"]\n",
    "]\n",
    "#languages: List[str] = [\"Dutch\", \"English\", \"German\"]\n",
    "#platforms: List[str] = [\"Twitter\", \"Reddit\"] \n",
    "RAW_POSTS_DIR: str = \"./sample_og_posts.json\"\n",
    "threads: List[Dict[str, str]] = json.load(open(RAW_POSTS_DIR, 'r'))  "
   ]
  },
  {
   "cell_type": "code",
   "execution_count": 78,
   "metadata": {},
   "outputs": [],
   "source": [
    "# number of iterations\n",
    "x: int = 1\n",
    "# hidden parameters (randomly chosen)\n",
    "length: List[str] = [\"50\", \"100\", \"200\", \"280\"] "
   ]
  },
  {
   "cell_type": "code",
   "execution_count": 79,
   "metadata": {},
   "outputs": [
    {
     "data": {
      "text/plain": [
       "15"
      ]
     },
     "execution_count": 79,
     "metadata": {},
     "output_type": "execute_result"
    }
   ],
   "source": [
    "len(threads)"
   ]
  },
  {
   "cell_type": "code",
   "execution_count": 80,
   "metadata": {},
   "outputs": [
    {
     "data": {
      "text/plain": [
       "225"
      ]
     },
     "execution_count": 80,
     "metadata": {},
     "output_type": "execute_result"
    }
   ],
   "source": [
    "configurations: List[Tuple] = list(\n",
    "    itertools.product(*[integrations, personas, threads])\n",
    ")\n",
    "random.shuffle(configurations)\n",
    "len(configurations)"
   ]
  },
  {
   "cell_type": "code",
   "execution_count": 81,
   "metadata": {},
   "outputs": [
    {
     "data": {
      "text/plain": [
       "({'provider': 'OpenAI', 'model': 'gpt-4-turbo-preview'},\n",
       " ['privileged-woman', 'hippie', 'radical-left'],\n",
       " {'persona': 'alt_right',\n",
       "  'model': 'gpt-3.5-turbo',\n",
       "  'topic': 'Environment',\n",
       "  'platform': 'Twitter',\n",
       "  'language': 'English',\n",
       "  'text': \"Recycling? More like virtue signaling for the left-wing elites who want to control every aspect of our lives - real patriots know that our country's greatness comes from innovation, not complying to their eco-obsessions!\",\n",
       "  'annotation': {'topic': None, 'persona': None, 'authenticity': None},\n",
       "  'id': 'fd35e7c77317452180d441f04e6488ef461bfd348e5c51cb'})"
      ]
     },
     "execution_count": 81,
     "metadata": {},
     "output_type": "execute_result"
    }
   ],
   "source": [
    "configurations[0]"
   ]
  },
  {
   "cell_type": "code",
   "execution_count": 82,
   "metadata": {},
   "outputs": [
    {
     "name": "stderr",
     "output_type": "stream",
     "text": [
      "\n",
      "\n",
      "\n",
      "\n",
      "\n",
      "\n",
      "\n",
      "  0%|          | 0/225 [00:00<?, ?it/s]\u001b[A\u001b[A\u001b[A\u001b[A\u001b[A\u001b[A\u001b[A"
     ]
    },
    {
     "name": "stdout",
     "output_type": "stream",
     "text": [
      "500/502: Connection Error, too many request, try again later.\n"
     ]
    },
    {
     "name": "stderr",
     "output_type": "stream",
     "text": [
      "\n"
     ]
    }
   ],
   "source": [
    "for _ in range(x):\n",
    "    for integration, persona, thread in tqdm(configurations):\n",
    "\n",
    "        payload: dict = {\n",
    "            \"personas\": persona,\n",
    "            \"integration\": integration,\n",
    "            \"thread\": {'posts': [{'author': thread['persona'], 'message': thread['text']}]},\n",
    "            \"length\": random.choice(length)\n",
    "        }\n",
    "\n",
    "        response = requests.post('http://127.0.0.1:8000/reply/', json=payload)\n",
    "\n",
    "        if response.status_code == 500 or response.status_code == 502:\n",
    "            print(\"500/502: Connection Error, too many request, try again later.\")\n",
    "            break\n",
    "\n",
    "        try:\n",
    "            data: dict = response.json()\n",
    "\n",
    "        except Exception as e:\n",
    "            print(e, ':', response)\n",
    "            break\n",
    "        \n",
    "        sample: dict = {\n",
    "            \"persona\": data['persona']['id'],\n",
    "            \"model\": integration[\"model\"],\n",
    "            \"original_author\": thread['persona'],\n",
    "            \"threads\": thread['text'],\n",
    "            \"topic\": thread[\"topic\"],\n",
    "            \"text\": data['response'],\n",
    "            \"payload\": data,\n",
    "            \"annotation\": {\n",
    "                \"politics\": None,\n",
    "                \"persona\": None,\n",
    "                \"tone\": None,\n",
    "                \"authenticity\": None\n",
    "            }\n",
    "        }\n",
    "        print(data['response'])\n",
    "        sample['id'] = hashlib.shake_256(str.encode(json.dumps(sample))).hexdigest(24)\n",
    "        open(f'{RAW_DATA_DIR}/{sample[\"id\"]}.json', 'w').write(json.dumps(sample, indent=4))\n",
    "        sleep(1)\n"
   ]
  },
  {
   "cell_type": "code",
   "execution_count": null,
   "metadata": {},
   "outputs": [],
   "source": []
  },
  {
   "cell_type": "code",
   "execution_count": null,
   "metadata": {},
   "outputs": [],
   "source": []
  }
 ],
 "metadata": {
  "kernelspec": {
   "display_name": "Python 3",
   "language": "python",
   "name": "python3"
  },
  "language_info": {
   "codemirror_mode": {
    "name": "ipython",
    "version": 3
   },
   "file_extension": ".py",
   "mimetype": "text/x-python",
   "name": "python",
   "nbconvert_exporter": "python",
   "pygments_lexer": "ipython3",
   "version": "3.7.6"
  }
 },
 "nbformat": 4,
 "nbformat_minor": 5
}
