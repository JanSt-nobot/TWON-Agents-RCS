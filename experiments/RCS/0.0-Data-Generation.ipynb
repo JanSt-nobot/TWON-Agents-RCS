{
 "cells": [
  {
   "cell_type": "code",
   "execution_count": null,
   "id": "a286cbaf-1532-4dff-9f55-aa2291c0cf0e",
   "metadata": {},
   "outputs": [],
   "source": [
    "import hashlib\n",
    "import itertools\n",
    "import json\n",
    "import random\n",
    "from time import sleep\n",
    "from typing import List, Dict, Tuple\n",
    "\n",
    "import requests\n",
    "from tqdm import tqdm\n"
   ]
  },
  {
   "cell_type": "code",
   "execution_count": null,
   "id": "3b1e40e2-1af8-4197-9772-9a8a6faf9a4a",
   "metadata": {},
   "outputs": [],
   "source": [
    "RAW_DATA_DIR: str = './raw'"
   ]
  },
  {
   "cell_type": "code",
   "execution_count": null,
   "id": "b7f7bdfb-79a2-4ebb-a252-c2031945150d",
   "metadata": {},
   "outputs": [],
   "source": [
    "# experiment setup\n",
    "\n",
    "integrations: List[dict] = [\n",
    "    {\n",
    "        \"provider\": \"huggingFace\",\n",
    "        \"model\": \"mistralai/Mistral-7B-Instruct-v0.2\",\n",
    "    },\n",
    "    #{\n",
    "    #    \"provider\": \"OpenAI\",\n",
    "    #    \"model\": \"gpt-3.5-turbo\"\n",
    "    #}\n",
    "]\n",
    "\n",
    "personas: List[List[str]] = [\n",
    "    [\"neutral\"],\n",
    "    [\"neutral\", \"progressive\"],\n",
    "    [\"neutral\", \"polit-conservative\"],\n",
    "    [\"neutral\", \"far-right\"],\n",
    "    [\"neutral\", \"radical-left\"],\n",
    "    #[\"troll\"],\n",
    "    #[\"teenager, \"internet-language\", \"troll\", \"radical-left\"],\n",
    "    #[\"teenager\", \"internet-language\", \"troll\", \"far-right\"],\n",
    "    # [\"conservative\", \"polit-conservative\"],\n",
    "    # [\"pensioner\", \"conservative\"],\n",
    "    [\"dystopian\"],\n",
    "    [\"male-college-student\", \"internet-language\", \"dystopian\", \"progressive\"],\n",
    "    [\"carpenter\", \"dystopian\", \"polit-conservative\"],\n",
    "    [\"devilsadvocate\", \"far-right\"],\n",
    "    [\"male-college-student\", \"internet-language\", \"devilsadvocate\", \"radical-left\"],\n",
    "    [\"pensioner\", \"devilsadvocate\", \"far-right\"],\n",
    "    [\"know-it-all\", \"progressive\"],\n",
    "    [\"hustler\", \"know-it-all\", \"far-right\"],\n",
    "    [\"male-college-student\", \"internet-language\", \"know-it-all\", \"radical-left\"],\n",
    "    [\"phd-student\", \"mediator\", \"progressive\"],\n",
    "    [\"affluent-young-woman\", \"mediator\", \"polit-conservative\"],\n",
    "    [\"educator\"],\n",
    "    [\"privileged-woman\", \"karen\", \"far-right\"],\n",
    "    [\"affluent-young-woman\", \"karen\", \"polit-conservative\"],\n",
    "    [\"misogynist\"],\n",
    "    [\"teenager\", \"internet-language\", \"misogynist\"],\n",
    "    [\"carpenter\", \"misogynist\", \"far-right\"],\n",
    "    [\"esoteric\"],\n",
    "    [\"priviledged-woman\", \"esoteric\", \"far-right\"],\n",
    "    [\"hippie\"],\n",
    "    [\"priviledged-woman\", \"hippie\", \"radical-left\"],\n",
    "    [\"phd-student\", \"supportive-saviour\", \"progressive\"],\n",
    "    [\"hustler\", \"influencer\", \"progressive\"],\n",
    "    [\"wealthy-entrepreneur\", \"influencer\", \"polit-conservative\"],\n",
    "    [\"affluent-young-woman\", \"social-media-activist\", \"radical-left\"],\n",
    "    [\"male-college-student\", \"internet-language\", \"social-media-activist\", \"far-right\"]\n",
    "]\n",
    "#languages: List[str] = [\"Dutch\", \"English\", \"German\"]\n",
    "#platforms: List[str] = [\"Twitter\", \"Reddit\"] \n",
    "RAW_POSTS_DIR: str = \"./sample_og_posts.json\"\n",
    "threads: List[Dict[str, str]] = json.load(open(RAW_POSTS_DIR, 'r'))  "
   ]
  },
  {
   "cell_type": "code",
   "execution_count": null,
   "id": "2f4afb3c-7bf5-4c33-921a-bc60e5ea0a30",
   "metadata": {},
   "outputs": [],
   "source": [
    "# number of iterations\n",
    "x: int = 1\n",
    "# hidden parameters (randomly chosen)\n",
    "length: List[str] = [\"50\", \"100\", \"200\", \"280\"] "
   ]
  },
  {
   "cell_type": "code",
   "execution_count": null,
   "id": "af60674c-e68c-403f-8671-dcb681afaa6a",
   "metadata": {},
   "outputs": [],
   "source": [
    "len(threads)"
   ]
  },
  {
   "cell_type": "code",
   "execution_count": null,
   "id": "96c76ccf-3266-49fc-8457-aebd3871405b",
   "metadata": {},
   "outputs": [],
   "source": [
    "configurations: List[Tuple] = list(\n",
    "    itertools.product(*[integrations, personas, threads])\n",
    ")\n",
    "random.shuffle(configurations)\n",
    "len(configurations)"
   ]
  },
  {
   "cell_type": "code",
   "execution_count": null,
   "id": "a1d821f1-e3ec-494d-b656-7813d24a5551",
   "metadata": {},
   "outputs": [],
   "source": [
    "configurations[0]"
   ]
  },
  {
   "cell_type": "code",
   "execution_count": null,
   "id": "2668f5c3-3bd4-440f-ba3a-76d396422627",
   "metadata": {},
   "outputs": [],
   "source": [
    "for _ in range(x):\n",
    "    for integration, persona, thread in tqdm(configurations):\n",
    "\n",
    "        payload: dict = {\n",
    "            \"personas\": persona,\n",
    "            \"integration\": integration,\n",
    "            \"thread\": {'posts': [{'author': thread['persona'], 'message': thread['text']}]},\n",
    "            \"length\": random.choice(length)\n",
    "        }\n",
    "\n",
    "        response = requests.post('http://127.0.0.1:8000/reply/', json=payload)\n",
    "\n",
    "        if response.status_code == 500 or response.status_code == 502:\n",
    "            print(\"500/502: Connection Error, too many request, try again later.\")\n",
    "            break\n",
    "\n",
    "        try:\n",
    "            data: dict = response.json()\n",
    "\n",
    "        except Exception as e:\n",
    "            print(e, ':', response)\n",
    "            break\n",
    "\n",
    "        sample: dict = {\n",
    "            \"persona\": data['persona']['id'],\n",
    "            \"model\": integration[\"model\"],\n",
    "            \"threads\": thread['text'],\n",
    "            \"topic\": thread[\"topic\"],\n",
    "            \"text\": data['response'],\n",
    "            \"payload\": data,\n",
    "            \"annotation\": {\n",
    "                \"politics\": None,\n",
    "                \"persona\": None,\n",
    "                \"tone\": None,\n",
    "                \"authenticity\": None\n",
    "            }\n",
    "        }\n",
    "        print(data['response'])\n",
    "        sample['id'] = hashlib.shake_256(str.encode(json.dumps(sample))).hexdigest(24)\n",
    "        open(f'{RAW_DATA_DIR}/{sample[\"id\"]}.json', 'w').write(json.dumps(sample, indent=4))\n",
    "        sleep(1)\n"
   ]
  }
 ],
 "metadata": {
  "kernelspec": {
   "display_name": "Python 3 (ipykernel)",
   "language": "python",
   "name": "python3"
  },
  "language_info": {
   "codemirror_mode": {
    "name": "ipython",
    "version": 3
   },
   "file_extension": ".py",
   "mimetype": "text/x-python",
   "name": "python",
   "nbconvert_exporter": "python",
   "pygments_lexer": "ipython3",
   "version": "3.9.13"
  }
 },
 "nbformat": 4,
 "nbformat_minor": 5
}
