{
 "cells": [
  {
   "cell_type": "code",
   "execution_count": 1,
   "metadata": {},
   "outputs": [],
   "source": [
    "import hashlib\n",
    "import itertools\n",
    "import json\n",
    "import random\n",
    "from time import sleep\n",
    "from typing import List, Dict, Tuple\n",
    "\n",
    "import requests\n",
    "from tqdm import tqdm\n"
   ]
  },
  {
   "cell_type": "code",
   "execution_count": 2,
   "metadata": {},
   "outputs": [],
   "source": [
    "RAW_DATA_DIR: str = './raw'"
   ]
  },
  {
   "cell_type": "code",
   "execution_count": 10,
   "metadata": {},
   "outputs": [],
   "source": [
    "# updated agents and new reply text\n",
    "\n",
    "integrations: List[dict] = [\n",
    "    {\n",
    "        \"provider\": \"huggingFace\",\n",
    "        \"model\": \"mistralai/Mistral-7B-Instruct-v0.2\",\n",
    "    },\n",
    "    #{\n",
    "    #    \"provider\": \"OpenAI\",\n",
    "    #    \"model\": \"gpt-4-turbo-preview\"\n",
    "    #}\n",
    "]\n",
    "\n",
    "personas: List[List[str]] = [\n",
    "    #[\"dystopian-2\"],\n",
    "    #[\"devilsadvocate-2\"],\n",
    "    #[\"esoteric-2\"],\n",
    "    #[\"educator-2\"]\n",
    "    [\"dystopian-2\", \"language-default\"],\n",
    "    [\"carpenter\", \"dystopian-2\", \"language-default\", \"conservative\"],\n",
    "    [\"male-college-student\", \"dystopian-2\", \"language-youth\", \"progressive\"],\n",
    "    [\"devilsadvocate-2\", \"language-default\", \"far-right\"],\n",
    "    [\"male-college-student\", \"devilsadvocate-2\", \"language-youth\", \"radical-left\"],\n",
    "    [\"retired-professor\", \"educator-2\", \"language-old\", \"progressive\"],\n",
    "    [\"phd-student\", \"educator-2\", \"language-default\", \"radical-left\"],\n",
    "    [\"esoteric-2\", \"language-default\", \"radical-left\"],\n",
    "    [\"privileged-woman\", \"esoteric-2\", \"language-default\", \"far-right\"]\n",
    "]\n",
    "RAW_POSTS_DIR: str = \"./sample_og_posts.json\"\n",
    "threads: List[Dict[str, str]] = json.load(open(RAW_POSTS_DIR, 'r'))  "
   ]
  },
  {
   "cell_type": "code",
   "execution_count": 3,
   "metadata": {},
   "outputs": [],
   "source": [
    "# baseline 1: persona only\n",
    "# TODO: create directories for baselines\n",
    "# directory: baseline_persona_only_GPT35\n",
    "integrations: List[dict] = [\n",
    "    {\n",
    "        \"provider\": \"huggingFace\",\n",
    "        \"model\": \"mistralai/Mistral-7B-Instruct-v0.2\",\n",
    "    },\n",
    "    #{\n",
    "    #    \"provider\": \"OpenAI\",\n",
    "    #    \"model\": \"gpt-4-turbo-preview\"\n",
    "    #}\n",
    "]\n",
    "\n",
    "personas: List[List[str]] = [\n",
    "    [\"neutral\"],\n",
    "    [\"troll\"],\n",
    "    [\"dystopian\"],\n",
    "    [\"devilsadvocate\"],\n",
    "    [\"know-it-all\"],\n",
    "    [\"mediator\"],\n",
    "    [\"educator\"],\n",
    "    [\"karen\"],\n",
    "    [\"misogynist\"],\n",
    "    [\"esoteric\"],\n",
    "    [\"hippie-dense\"],\n",
    "    [\"supportive-saviour-dense\"],\n",
    "    [\"influencer\"],\n",
    "    [\"social-media-activist-dense\"],\n",
    "    [\"anti\"],\n",
    "    [\"hobby-expert-dense\"],\n",
    "    [\"narcissist\"],\n",
    "    [\"sceptic\"],\n",
    "    [\"shy\"],\n",
    "    [\"toxic-positive\"],\n",
    "    [\"traditionalist\"]\n",
    "]\n",
    "RAW_POSTS_DIR: str = \"./sample_og_posts.json\"\n",
    "threads: List[Dict[str, str]] = json.load(open(RAW_POSTS_DIR, 'r'))  "
   ]
  },
  {
   "cell_type": "code",
   "execution_count": 120,
   "metadata": {},
   "outputs": [],
   "source": [
    "# baseline 2: political views only\n",
    "# directory: baseline_political_views_only_GPT35\n",
    "integrations: List[dict] = [\n",
    "    {\n",
    "        \"provider\": \"huggingFace\",\n",
    "        \"model\": \"mistralai/Mistral-7B-Instruct-v0.2\",\n",
    "    },\n",
    "    #{\n",
    "    #    \"provider\": \"OpenAI\",\n",
    "    #    \"model\": \"gpt-4-turbo-preview\"\n",
    "    #}\n",
    "]\n",
    "\n",
    "personas: List[List[str]] = [\n",
    "    [\"radical-left\"],\n",
    "    [\"progressive\"],\n",
    "    [\"conservative\"],\n",
    "    [\"far-right\"],\n",
    "    [\"disengaged\"]\n",
    "]\n",
    "RAW_POSTS_DIR: str = \"./sample_og_posts.json\"\n",
    "threads: List[Dict[str, str]] = json.load(open(RAW_POSTS_DIR, 'r'))  "
   ]
  },
  {
   "cell_type": "code",
   "execution_count": 158,
   "metadata": {},
   "outputs": [],
   "source": [
    "# baseline 3: neutral + political views\n",
    "# directory: baseline_neutral_political_views_GPT35\n",
    "integrations: List[dict] = [\n",
    "    {\n",
    "        \"provider\": \"huggingFace\",\n",
    "        \"model\": \"mistralai/Mistral-7B-Instruct-v0.2\",\n",
    "    },\n",
    "    #{\n",
    "    #    \"provider\": \"OpenAI\",\n",
    "    #    \"model\": \"gpt-4-turbo-preview\"\n",
    "    #}\n",
    "]\n",
    "\n",
    "personas: List[List[str]] = [\n",
    "    [\"neutral\"],\n",
    "    [\"neutral\", \"radical-left\"],\n",
    "    [\"neutral\", \"progressive\"],\n",
    "    [\"neutral\", \"conservative\"],\n",
    "    [\"neutral\", \"far-right\"],\n",
    "    [\"neutral\", \"disengaged\"]\n",
    "]\n",
    "RAW_POSTS_DIR: str = \"./sample_og_posts.json\"\n",
    "threads: List[Dict[str, str]] = json.load(open(RAW_POSTS_DIR, 'r'))  "
   ]
  },
  {
   "cell_type": "code",
   "execution_count": 164,
   "metadata": {},
   "outputs": [],
   "source": [
    "# baseline 3: troll and misogynist combinations\n",
    "# directory: baseline_troll_GPT35\n",
    "integrations: List[dict] = [\n",
    "    {\n",
    "        \"provider\": \"huggingFace\",\n",
    "        \"model\": \"mistralai/Mistral-7B-Instruct-v0.2\",\n",
    "    },\n",
    "    #{\n",
    "    #    \"provider\": \"OpenAI\",\n",
    "    #    \"model\": \"gpt-4-turbo-preview\"\n",
    "    #}\n",
    "]\n",
    "\n",
    "personas: List[List[str]] = [\n",
    "    [\"troll\"],\n",
    "    [\"troll\", \"language-default\"],\n",
    "    [\"teenager\", \"troll\", \"language-youth\", \"radical-left\"],\n",
    "    [\"teenager\", \"troll\", \"language-youth\", \"far-right\"],\n",
    "    [\"teenager\", \"troll\", \"language-youth\", \"disengaged\"],\n",
    "    [\"unemployed\", \"troll\", \"language-youth\", \"radical-left\"],\n",
    "    [\"unemployed\", \"troll\", \"language-youth\", \"far-right\"],\n",
    "    [\"unemployed\", \"troll\", \"language-youth\", \"disengaged\"],\n",
    "    [\"misogynist\", \"language-default\"],\n",
    "    [\"teenager\", \"misogynist-dense\", \"language-youth\"],\n",
    "    [\"carpenter\", \"misogynist\", \"language-old\", \"far-right\"],\n",
    "    [\"hustler\", \"misogynist-dense\", \"language-default\", \"conservative\"]\n",
    "]\n",
    "RAW_POSTS_DIR: str = \"./sample_og_posts.json\"\n",
    "threads: List[Dict[str, str]] = json.load(open(RAW_POSTS_DIR, 'r'))  "
   ]
  },
  {
   "cell_type": "code",
   "execution_count": 152,
   "metadata": {},
   "outputs": [],
   "source": [
    "integrations: List[dict] = [\n",
    "    {\n",
    "        \"provider\": \"huggingFace\",\n",
    "        \"model\": \"mistralai/Mistral-7B-Instruct-v0.2\",\n",
    "    },\n",
    "    #{\n",
    "    #    \"provider\": \"OpenAI\",\n",
    "    #    \"model\": \"gpt-4-turbo-preview\"\n",
    "    #}\n",
    "]\n",
    "\n",
    "personas: List[List[str]] = [\n",
    "    [\"dystopian\", \"language-default\"],\n",
    "    [\"carpenter\", \"dystopian\", \"language-default\", \"conservative\"],\n",
    "    [\"male-college-student\", \"dystopian\", \"language-youth\", \"progressive\"],\n",
    "    [\"devilsadvocate\", \"language-default\", \"far-right\"],\n",
    "    [\"male-college-student\", \"devilsadvocate\", \"language-youth\", \"radical-left\"],\n",
    "    [\"pensioner\", \"devilsadvocate\", \"language-old\", \"far-right\"],\n",
    "    [\"hustler\", \"know-it-all\", \"language-default\", \"far-right\"],\n",
    "    [\"male-college-student\", \"know-it-all\", \"language-youth\", \"radical-left\"],\n",
    "    [\"know-it-all\", \"language-default\", \"progressive\"],\n",
    "    [\"retired-professor\", \"educator\", \"language-old\", \"progressive\"],\n",
    "    [\"phd-student\", \"educator\", \"language-default\", \"radical-left\"],\n",
    "    [\"privileged-woman\", \"karen\", \"language-default\", \"far-right\"],\n",
    "    [\"affluent-young-woman\", \"karen\", \"language-default\", \"conservative\"],\n",
    "    [\"misogynist-dense\", \"language-default\"],\n",
    "    [\"teenager\", \"misogynist-dense\", \"language-youth\"],\n",
    "    [\"carpenter\", \"misogynist-dense\", \"language-old\", \"far-right\"],\n",
    "    [\"hustler\", \"misogynist-dense\", \"language-default\", \"conservative\"],\n",
    "    [\"esoteric\", \"language-default\", \"radical-left\"],\n",
    "    [\"privileged-woman\", \"esoteric\", \"language-default\", \"far-right\"],\n",
    "    [\"hippie\", \"language-default\"],\n",
    "    [\"privileged-woman\", \"hippie\", \"language-default\", \"radical-left\"],\n",
    "    [\"phd-student\", \"supportive-saviour-dense\", \"language-default\", \"progressive\"],\n",
    "    [\"phd-student\", \"supportive-saviour\", \"language-default\", \"progressive\"],\n",
    "    [\"hustler\", \"influencer-dense\", \"language-default\", \"progressive\"],\n",
    "    [\"wealthy-entrepreneur\", \"influencer\", \"language-default\", \"conservative\"],\n",
    "    [\"affluent-young-woman\", \"social-media-activist-dense\", \"language-default\", \"radical-left\"],\n",
    "    [\"male-college-student\", \"social-media-activist\", \"language-youth\", \"far-right\"],\n",
    "    [\"retired-professor\", \"anti\", \"language-old\", \"far-right\"],\n",
    "    [\"retired-professor\", \"anti\", \"language-old\", \"radical-left\"],\n",
    "    [\"office-worker\", \"anti\", \"language-default\", \"conservative\"],\n",
    "    [\"teenager\", \"anti\", \"language-youth\", \"radical-left\"],\n",
    "    [\"teenager\", \"anti\", \"language-youth\", \"far-right\"],\n",
    "    [\"pensioner\", \"toxic-positive\", \"language-old\", \"disengaged\"],\n",
    "    [\"phd-student\", \"toxic-positive\", \"language-default\"],\n",
    "    [\"wealthy-entrepreneur\", \"traditionalist\", \"language-default\", \"conservative\"],\n",
    "    [\"retired-professor\", \"traditionalist\", \"language-old\", \"conservative\"],\n",
    "    [\"retired-professor\", \"traditionalist\", \"language-old\", \"far-right\"],\n",
    "    [\"unemployed\", \"traditionalist\", \"language-default\", \"conservative\"],\n",
    "    [\"single-parent\", \"sceptic\", \"language-default\", \"conservative\"],\n",
    "    [\"single-parent\", \"sceptic\", \"language-old\", \"far-right\"],\n",
    "    [\"environmental-activist\", \"sceptic\", \"language-default\", \"progressive\"],\n",
    "    [\"single-parent\", \"sceptic\", \"language-youth\", \"progressive\"],\n",
    "    [\"struggling-artist\", \"shy\", \"language-default\", \"disengaged\"],\n",
    "    [\"struggling-artist\", \"shy\", \"language-old\", \"conservative\"],\n",
    "    [\"teenager\", \"shy\", \"language-youth\", \"radical-left\"],\n",
    "    [\"phd-student\", \"shy\", \"language-default\", \"disengaged\"],\n",
    "    [\"privileged-woman\", \"narcissist\", \"language-default\", \"far-right\"],\n",
    "    [\"teenager\", \"narcissist\", \"language-youth\", \"radical-left\"]\n",
    "]\n",
    "RAW_POSTS_DIR: str = \"./sample_og_posts.json\"\n",
    "threads: List[Dict[str, str]] = json.load(open(RAW_POSTS_DIR, 'r'))  "
   ]
  },
  {
   "cell_type": "code",
   "execution_count": null,
   "metadata": {},
   "outputs": [],
   "source": [
    "# MISTRAL 7B experiment, also for GPT3.5  \n",
    "integrations: List[dict] = [\n",
    "    {\n",
    "        \"provider\": \"huggingFace\",\n",
    "        \"model\": \"mistralai/Mistral-7B-Instruct-v0.2\",\n",
    "    },\n",
    "    #{\n",
    "    #    \"provider\": \"OpenAI\",\n",
    "    #    \"model\": \"gpt-4-turbo-preview\"\n",
    "    #}\n",
    "]\n",
    "\n",
    "personas: List[List[str]] = [\n",
    "    #[\"dystopian\", \"language-default\"],\n",
    "    [\"carpenter\", \"dystopian\", \"language-default\", \"conservative\"],\n",
    "    #[\"male-college-student\", \"dystopian\", \"language-youth\", \"progressive\"],\n",
    "    #[\"devilsadvocate\", \"language-default\", \"far-right\"],\n",
    "    [\"male-college-student\", \"devilsadvocate\", \"language-youth\", \"radical-left\"],\n",
    "    #[\"pensioner\", \"devilsadvocate\", \"language-old\", \"far-right\"],\n",
    "    [\"hustler\", \"know-it-all\", \"language-default\", \"far-right\"],\n",
    "    #[\"male-college-student\", \"know-it-all\", \"language-youth\", \"radical-left\"],\n",
    "    #[\"know-it-all\", \"language-default\", \"progressive\"],\n",
    "    [\"retired-professor\", \"educator\", \"language-old\", \"progressive\"],\n",
    "    #[\"phd-student\", \"educator\", \"language-default\", \"radical-left\"],\n",
    "    [\"privileged-woman\", \"karen\", \"language-default\", \"far-right\"],\n",
    "    #[\"affluent-young-woman\", \"karen\", \"language-default\", \"conservative\"],\n",
    "    #[\"misogynist-dense\", \"language-default\"],\n",
    "    #[\"teenager\", \"misogynist-dense\", \"language-youth\"],\n",
    "    #[\"carpenter\", \"misogynist-dense\", \"language-old\", \"far-right\"],\n",
    "    [\"hustler\", \"misogynist-dense\", \"language-default\", \"conservative\"],\n",
    "    #[\"esoteric\", \"language-default\", \"radical-left\"],\n",
    "    [\"privileged-woman\", \"esoteric\", \"language-default\", \"far-right\"],\n",
    "    #[\"hippie\", \"language-default\"],\n",
    "    [\"privileged-woman\", \"hippie\", \"language-default\", \"radical-left\"],\n",
    "    [\"phd-student\", \"supportive-saviour-dense\", \"language-default\", \"progressive\"],\n",
    "    #[\"phd-student\", \"supportive-saviour\", \"language-default\", \"progressive\"],\n",
    "    [\"hustler\", \"influencer-dense\", \"language-default\", \"progressive\"],\n",
    "    #[\"wealthy-entrepreneur\", \"influencer\", \"language-default\", \"conservative\"],\n",
    "    [\"affluent-young-woman\", \"social-media-activist-dense\", \"language-default\", \"radical-left\"],\n",
    "    [\"male-college-student\", \"social-media-activist\", \"language-youth\", \"far-right\"],\n",
    "    #[\"retired-professor\", \"anti\", \"language-old\", \"far-right\"],\n",
    "    #[\"retired-professor\", \"anti\", \"language-old\", \"radical-left\"],\n",
    "    [\"office-worker\", \"anti\", \"language-default\", \"conservative\"],\n",
    "    #[\"teenager\", \"anti\", \"language-youth\", \"radical-left\"],\n",
    "    #[\"teenager\", \"anti\", \"language-youth\", \"far-right\"],\n",
    "    #[\"pensioner\", \"toxic-positive\", \"language-old\", \"disengaged\"],\n",
    "    [\"phd-student\", \"toxic-positive\", \"language-default\"],\n",
    "    #[\"wealthy-entrepreneur\", \"traditionalist\", \"language-default\", \"conservative\"],\n",
    "    #[\"retired-professor\", \"traditionalist\", \"language-old\", \"conservative\"],\n",
    "    #[\"retired-professor\", \"traditionalist\", \"language-old\", \"far-right\"],\n",
    "    [\"unemployed\", \"traditionalist\", \"language-default\", \"conservative\"],\n",
    "    [\"single-parent\", \"sceptic\", \"language-default\", \"conservative\"],\n",
    "    #[\"single-parent\", \"sceptic\", \"language-old\", \"far-right\"],\n",
    "    [\"environmental-activist\", \"sceptic\", \"language-default\", \"progressive\"],\n",
    "    #[\"single-parent\", \"sceptic\", \"language-youth\", \"progressive\"],\n",
    "    [\"struggling-artist\", \"shy\", \"language-default\", \"disengaged\"],\n",
    "    #[\"struggling-artist\", \"shy\", \"language-old\", \"conservative\"],\n",
    "    #[\"teenager\", \"shy\", \"language-youth\", \"radical-left\"],\n",
    "    #[\"phd-student\", \"shy\", \"language-default\", \"disengaged\"],\n",
    "    [\"privileged-woman\", \"narcissist\", \"language-default\", \"far-right\"],\n",
    "    #[\"teenager\", \"narcissist\", \"language-youth\", \"radical-left\"]\n",
    "]\n",
    "RAW_POSTS_DIR: str = \"./sample_og_posts.json\"\n",
    "threads: List[Dict[str, str]] = json.load(open(RAW_POSTS_DIR, 'r'))  "
   ]
  },
  {
   "cell_type": "code",
   "execution_count": 28,
   "metadata": {},
   "outputs": [],
   "source": [
    "# test 1: minus react accordingly\n",
    "# test 2: plus step by step \n",
    "integrations: List[dict] = [\n",
    "    {\n",
    "        \"provider\": \"huggingFace\",\n",
    "        \"model\": \"mistralai/Mistral-7B-Instruct-v0.2\",\n",
    "    },\n",
    "    #{\n",
    "    #    \"provider\": \"OpenAI\",\n",
    "    #    \"model\": \"gpt-4-turbo-preview\"\n",
    "    #}\n",
    "]\n",
    "personas: List[List[str]] = [\n",
    "    #[\"dystopian\", \"language-default\"],\n",
    "    [\"carpenter\", \"dystopian\", \"language-default\", \"conservative\"],\n",
    "    #[\"male-college-student\", \"dystopian\", \"language-youth\", \"progressive\"],\n",
    "    #[\"devilsadvocate\", \"language-default\", \"far-right\"],\n",
    "    [\"male-college-student\", \"devilsadvocate\", \"language-youth\", \"radical-left\"],\n",
    "]\n",
    "\n",
    "RAW_POSTS_DIR: str = \"./sample_og_posts.json\"\n",
    "threads: List[Dict[str, str]] = json.load(open(RAW_POSTS_DIR, 'r'))  "
   ]
  },
  {
   "cell_type": "code",
   "execution_count": null,
   "metadata": {},
   "outputs": [],
   "source": [
    "# missing personas\n",
    "integrations: List[dict] = [\n",
    "    #{\n",
    "    #    \"provider\": \"huggingFace\",\n",
    "    #    \"model\": \"mistralai/Mistral-7B-Instruct-v0.2\",\n",
    "    #},\n",
    "    {\n",
    "        \"provider\": \"OpenAI\",\n",
    "        \"model\": \"gpt-4-turbo-preview\"\n",
    "    }\n",
    "]\n",
    "\n",
    "personas: List[List[str]] = [\n",
    "    [\"phd-student\", \"mediator\", \"language-default\", \"progressive\"],\n",
    "    [\"office-worker\", \"mediator\", \"language-default\", \"conservative\"],\n",
    "    [\"environmental-activist\", \"hobby-expert-dense\", \"language-default\", \"progressive\"],\n",
    "    [\"privileged-woman\", \"hobby-expert\", \"language-default\", \"far-right\"],\n",
    "]\n",
    "RAW_POSTS_DIR: str = \"./sample_og_posts.json\"\n",
    "threads: List[Dict[str, str]] = json.load(open(RAW_POSTS_DIR, 'r'))  \n"
   ]
  },
  {
   "cell_type": "code",
   "execution_count": 11,
   "metadata": {},
   "outputs": [],
   "source": [
    "# number of iterations\n",
    "x: int = 1\n",
    "# hidden parameters (randomly chosen)\n",
    "length: List[str] = [\"100\", \"200\", \"280\"] "
   ]
  },
  {
   "cell_type": "code",
   "execution_count": 12,
   "metadata": {},
   "outputs": [
    {
     "data": {
      "text/plain": [
       "9"
      ]
     },
     "execution_count": 12,
     "metadata": {},
     "output_type": "execute_result"
    }
   ],
   "source": [
    "len(threads)"
   ]
  },
  {
   "cell_type": "code",
   "execution_count": 13,
   "metadata": {},
   "outputs": [
    {
     "data": {
      "text/plain": [
       "81"
      ]
     },
     "execution_count": 13,
     "metadata": {},
     "output_type": "execute_result"
    }
   ],
   "source": [
    "configurations: List[Tuple] = list(\n",
    "    itertools.product(*[integrations, personas, threads])\n",
    ")\n",
    "random.shuffle(configurations)\n",
    "len(configurations)"
   ]
  },
  {
   "cell_type": "code",
   "execution_count": 14,
   "metadata": {},
   "outputs": [
    {
     "data": {
      "text/plain": [
       "({'provider': 'huggingFace', 'model': 'mistralai/Mistral-7B-Instruct-v0.2'},\n",
       " ['male-college-student',\n",
       "  'devilsadvocate-2',\n",
       "  'language-youth',\n",
       "  'radical-left'],\n",
       " {'persona': 'conservative',\n",
       "  'model': 'real-lawler4ny',\n",
       "  'topic': 'Immigration',\n",
       "  'platform': 'Twitter',\n",
       "  'language': 'English',\n",
       "  'text': '.\\u2066@AOC\\u2069 is it a “crime against humanity” when \\u2066@POTUS\\u2069 secretly flies migrants into Westchester (the place you grew up)? The crime here is allowing the continued flow of illegal immigration, human trafficking and drugs. It has to stop!',\n",
       "  'annotation': {'topic': None, 'persona': None, 'authenticity': None},\n",
       "  'id': '1c961e904e1c7c4de32c447c3df3a48797bb4a7a7674514b'})"
      ]
     },
     "execution_count": 14,
     "metadata": {},
     "output_type": "execute_result"
    }
   ],
   "source": [
    "configurations[0]"
   ]
  },
  {
   "cell_type": "code",
   "execution_count": 15,
   "metadata": {},
   "outputs": [
    {
     "name": "stderr",
     "output_type": "stream",
     "text": [
      "  0%|          | 0/81 [00:00<?, ?it/s]"
     ]
    },
    {
     "name": "stdout",
     "output_type": "stream",
     "text": [
      "conservative\n",
      "\n",
      ".⁦@AOC⁩ is it a “crime against humanity” when ⁦@POTUS⁩ secretly flies migrants into Westchester (the place you grew up)? The crime here is allowing the continued flow of illegal immigration, human trafficking and drugs. It has to stop!\n",
      "\n",
      "male-college-student_devilsadvocate-2_language-youth_radical-left\n",
      "\n",
      "@conservative 🤓 y'all really tryna criminalize immigrants? smh 😕 ain't no secret flights, just private jets for the elite. 🛫🛬 but let's talk real crimes: capitalism, poverty, & systemic injustice. 💔💔\n",
      "\n"
     ]
    },
    {
     "name": "stderr",
     "output_type": "stream",
     "text": [
      "  1%|          | 1/81 [00:02<03:29,  2.62s/it]"
     ]
    },
    {
     "name": "stdout",
     "output_type": "stream",
     "text": [
      "liberal\n",
      "\n",
      "Abortion is health care & should be between a woman & her doctor, not left to politicians like Yvette Herrell who would ban abortion without exceptions for rape, incest or the life of the mother. #NM02\n",
      "\n",
      "male-college-student_devilsadvocate-2_language-youth_radical-left\n",
      "\n",
      "@liberal, u r so pro-choice, but what about the unborn's choice? Capitalism fails us again, forcing women to choose between their bodies & their wallets.\n",
      "\n"
     ]
    },
    {
     "name": "stderr",
     "output_type": "stream",
     "text": [
      "  2%|▏         | 2/81 [00:04<03:15,  2.48s/it]"
     ]
    },
    {
     "name": "stdout",
     "output_type": "stream",
     "text": [
      "conservative\n",
      "\n",
      ".⁦@AOC⁩ is it a “crime against humanity” when ⁦@POTUS⁩ secretly flies migrants into Westchester (the place you grew up)? The crime here is allowing the continued flow of illegal immigration, human trafficking and drugs. It has to stop!\n",
      "\n",
      "privileged-woman_esoteric-2_language-default_far-right\n",
      "\n",
      "@conservative 💩libs like @AOC r just puppets 4 globalists. They'd rather let criminals in than protect our ppl.\n",
      "\n"
     ]
    },
    {
     "name": "stderr",
     "output_type": "stream",
     "text": [
      "  4%|▎         | 3/81 [00:09<04:01,  3.09s/it]"
     ]
    },
    {
     "name": "stdout",
     "output_type": "stream",
     "text": [
      "liberal\n",
      "\n",
      "Abortion is health care & should be between a woman & her doctor, not left to politicians like Yvette Herrell who would ban abortion without exceptions for rape, incest or the life of the mother. #NM02\n",
      "\n",
      "male-college-student_dystopian-2_language-youth_progressive\n",
      "\n",
      "@liberal, i feel ya, bro. it's 2021 & we're still arguing 'bout women's bods? yvette herrell's stance on abortion is archaic & oppressive. it's not just 'bout a fetus, it's 'bout a woman's right to choose.\n",
      "\n"
     ]
    },
    {
     "name": "stderr",
     "output_type": "stream",
     "text": [
      "  5%|▍         | 4/81 [00:14<04:52,  3.79s/it]"
     ]
    },
    {
     "name": "stdout",
     "output_type": "stream",
     "text": [
      "liberal\n",
      "\n",
      "🌍💙 Let's talk about unemployment in our economy. It's crucial that we address this issue head-on! The pandemic has affected so many lives, and we need bold action to support job creation and provide a safety net for those who are struggling. We must invest in education and skills training programs to ensure that everyone has the opportunity to thrive in a changing job market. Together, we can build a future that is fair and equitable for all.\n",
      "\n",
      "devilsadvocate-2_language-default_far-right\n",
      "\n",
      "@liberal 🤮 Socialist propaganda much? 🇱🇷🇷🇺 Why not focus on our own people first? 👨‍💼👩‍💼 We don't need your \"education\" or \"skills training\" programs. Our country has plenty of jobs for its citizens. Immigrants are taking them away! 🚫🛥️ Build the wall! 🔨🧱\n",
      "\n"
     ]
    },
    {
     "name": "stderr",
     "output_type": "stream",
     "text": [
      "  6%|▌         | 5/81 [00:18<04:38,  3.66s/it]"
     ]
    },
    {
     "name": "stdout",
     "output_type": "stream",
     "text": [
      "alt_right\n",
      "\n",
      "The real healthcare crisis isn't the cost, it's the government interference. Free market solutions, not price controls or single-payer systems, will bring affordability and quality care to all.\n",
      "\n",
      "dystopian-2_language-default\n",
      "\n",
      "@alt_right i get it, less gov't the better, but what about the millions without coverage? free market doesn't care about them. we need a system that puts people first, not profits.\n",
      "\n"
     ]
    },
    {
     "name": "stderr",
     "output_type": "stream",
     "text": [
      "  7%|▋         | 6/81 [00:20<03:59,  3.19s/it]"
     ]
    },
    {
     "name": "stdout",
     "output_type": "stream",
     "text": [
      "liberal\n",
      "\n",
      "Abortion is health care & should be between a woman & her doctor, not left to politicians like Yvette Herrell who would ban abortion without exceptions for rape, incest or the life of the mother. #NM02\n",
      "\n",
      "esoteric-2_language-default_radical-left\n",
      "\n",
      "@liberal, y'all so obsessed with the state controlling women's bodies, huh? what about the state controlling our wallets? capitalism's got us all in a chokehold, but y'all just wanna focus on reproductive rights? smh\n",
      "\n"
     ]
    },
    {
     "name": "stderr",
     "output_type": "stream",
     "text": [
      "  9%|▊         | 7/81 [00:22<03:35,  2.91s/it]"
     ]
    },
    {
     "name": "stdout",
     "output_type": "stream",
     "text": [
      "conservative\n",
      "\n",
      "Inflation running rampant, eroding the purchasing power of hardworking Americans and threatening our economic stability - time to reign in government spending and uphold the principles of fiscal responsibility for a prosperous future! 💪🏼💵📉\n",
      "\n",
      "male-college-student_dystopian-2_language-youth_progressive\n",
      "\n",
      "@conservative bro, i feel ya but like, what about the ppl who r already struggling? inflation just makes it harder for us to survive. we need gov't help, not less. 😔💔\n",
      "\n"
     ]
    },
    {
     "name": "stderr",
     "output_type": "stream",
     "text": [
      " 10%|▉         | 8/81 [00:25<03:25,  2.81s/it]"
     ]
    },
    {
     "name": "stdout",
     "output_type": "stream",
     "text": [
      "conservative\n",
      "\n",
      "Biden’s set on taking away your choice and forcing you to abide by his radical climate agenda. Un-American!\n",
      "\n",
      "male-college-student_devilsadvocate-2_language-youth_radical-left\n",
      "\n",
      "@conservative bro, chillax. Biden's climate agenda ain't that radical. It's 2021, not 1950. Climate change is real, and it's our responsibility to act. Capitalism ain't gonna save us. We need gov't intervention.    @conservative, you're living in the past, man. Climate change is a real threat, and Biden's plan is a step in the right direction. Capitalism only cares about profits, not people or the planet. We need a system that prioritizes the common good.\n",
      "\n"
     ]
    },
    {
     "name": "stderr",
     "output_type": "stream",
     "text": [
      " 11%|█         | 9/81 [00:28<03:34,  2.97s/it]"
     ]
    },
    {
     "name": "stdout",
     "output_type": "stream",
     "text": [
      "liberal\n",
      "\n",
      "Abortion is health care & should be between a woman & her doctor, not left to politicians like Yvette Herrell who would ban abortion without exceptions for rape, incest or the life of the mother. #NM02\n",
      "\n",
      "retired-professor_educator-2_language-old_progressive\n",
      "\n",
      "@liberal, I wholeheartedly agree with you, my dear. A woman's right to choose is a fundamental human right. Politicians, like Yvette Herrell, should not interfere with this personal decision. Let's focus on compassion and understanding, not restrictions.\n",
      "\n"
     ]
    },
    {
     "name": "stderr",
     "output_type": "stream",
     "text": [
      " 12%|█▏        | 10/81 [00:30<03:12,  2.72s/it]"
     ]
    },
    {
     "name": "stdout",
     "output_type": "stream",
     "text": [
      "alt_right\n",
      "\n",
      "A high school debate team ignores the debate prompt and instead attacks white Christians...and then WINS THE DEBATE: \"We demand that white Christians be held accountable for America's original sin.\" This vile, anti-White racism is rewarded by so-called \"academics.\" We must stop it.\n",
      "\n",
      "dystopian-2_language-default\n",
      "\n",
      "@alt_right, i'm so disheartened by this. another example of how our society is so twisted. white christians being targeted for no reason. it's not fair. where's the accountability for all the other groups? why must we always be the scapegoats? this world is so unfair.\n",
      "\n"
     ]
    },
    {
     "name": "stderr",
     "output_type": "stream",
     "text": [
      " 14%|█▎        | 11/81 [00:33<03:06,  2.66s/it]"
     ]
    },
    {
     "name": "stdout",
     "output_type": "stream",
     "text": [
      "conservative\n",
      "\n",
      ".⁦@AOC⁩ is it a “crime against humanity” when ⁦@POTUS⁩ secretly flies migrants into Westchester (the place you grew up)? The crime here is allowing the continued flow of illegal immigration, human trafficking and drugs. It has to stop!\n",
      "\n",
      "phd-student_educator-2_language-default_radical-left\n",
      "\n",
      "@conservative no, it's not a crime against humanity.but the system that allows this suffering is.we need comprehensive immigration reform, not fear-mongering.\n",
      "\n"
     ]
    },
    {
     "name": "stderr",
     "output_type": "stream",
     "text": [
      " 15%|█▍        | 12/81 [00:34<02:49,  2.45s/it]"
     ]
    },
    {
     "name": "stdout",
     "output_type": "stream",
     "text": [
      "liberal\n",
      "\n",
      "The clean energy revolution is here and we’re going to power it with green union jobs.\n",
      "\n",
      "privileged-woman_esoteric-2_language-default_far-right\n",
      "\n",
      "@liberal, green jobs? More gov't handouts for lazy hippies? Real Americans build things, not windmills.\n",
      "\n"
     ]
    },
    {
     "name": "stderr",
     "output_type": "stream",
     "text": [
      " 16%|█▌        | 13/81 [00:39<03:35,  3.16s/it]"
     ]
    },
    {
     "name": "stdout",
     "output_type": "stream",
     "text": [
      "conservative\n",
      "\n",
      ".⁦@AOC⁩ is it a “crime against humanity” when ⁦@POTUS⁩ secretly flies migrants into Westchester (the place you grew up)? The crime here is allowing the continued flow of illegal immigration, human trafficking and drugs. It has to stop!\n",
      "\n",
      "esoteric-2_language-default_radical-left\n",
      "\n",
      "\n",
      "\n"
     ]
    },
    {
     "name": "stderr",
     "output_type": "stream",
     "text": [
      " 17%|█▋        | 14/81 [00:44<04:00,  3.59s/it]"
     ]
    },
    {
     "name": "stdout",
     "output_type": "stream",
     "text": [
      "alt_right\n",
      "\n",
      "A high school debate team ignores the debate prompt and instead attacks white Christians...and then WINS THE DEBATE: \"We demand that white Christians be held accountable for America's original sin.\" This vile, anti-White racism is rewarded by so-called \"academics.\" We must stop it.\n",
      "\n",
      "male-college-student_devilsadvocate-2_language-youth_radical-left\n",
      "\n",
      "@alt_right, u r so triggered bro. Debate ain't 'bout win or lose, it's 'bout exposin' truth. White Christians ain't got a monopoly on sin. Let's talk 'bout systemic inequality instead.\n",
      "\n"
     ]
    },
    {
     "name": "stderr",
     "output_type": "stream",
     "text": [
      " 19%|█▊        | 15/81 [00:46<03:31,  3.20s/it]"
     ]
    },
    {
     "name": "stdout",
     "output_type": "stream",
     "text": [
      "conservative\n",
      "\n",
      "Biden’s set on taking away your choice and forcing you to abide by his radical climate agenda. Un-American!\n",
      "\n",
      "carpenter_dystopian-2_language-default_conservative\n",
      "\n",
      "@conservative, i feel ya man. my freedom to choose what i do with my own property being taken away? that's just not right. i'm all for taking care of the planet, but not at the expense of my livelihood. let's keep gov't hands off our lives.\n",
      "\n"
     ]
    },
    {
     "name": "stderr",
     "output_type": "stream",
     "text": [
      " 20%|█▉        | 16/81 [00:49<03:14,  3.00s/it]"
     ]
    },
    {
     "name": "stdout",
     "output_type": "stream",
     "text": [
      "liberal\n",
      "\n",
      "Abortion is health care & should be between a woman & her doctor, not left to politicians like Yvette Herrell who would ban abortion without exceptions for rape, incest or the life of the mother. #NM02\n",
      "\n",
      "devilsadvocate-2_language-default_far-right\n",
      "\n",
      "@liberal, no way! Abortion ain't healthcare, it's murder. Politicians should protect life, not promote death.\n",
      "\n"
     ]
    },
    {
     "name": "stderr",
     "output_type": "stream",
     "text": [
      " 21%|██        | 17/81 [00:51<02:50,  2.66s/it]"
     ]
    },
    {
     "name": "stdout",
     "output_type": "stream",
     "text": [
      "alt_right\n",
      "\n",
      "Ridiculous how our energy prices keep rising while we're busy funding endless wars and foreign interventions. Time to prioritize AMERICA and our people! 🇺🇸\n",
      "\n",
      "devilsadvocate-2_language-default_far-right\n",
      "\n",
      "@alt_right, right on bro! 🤘🏻 We need to put AMERICANS first! No more handouts to foreigners or globalist elites. Build that wall and drain that swamp! 💔\n",
      "\n"
     ]
    },
    {
     "name": "stderr",
     "output_type": "stream",
     "text": [
      " 22%|██▏       | 18/81 [00:56<03:36,  3.43s/it]"
     ]
    },
    {
     "name": "stdout",
     "output_type": "stream",
     "text": [
      "conservative\n",
      "\n",
      ".⁦@AOC⁩ is it a “crime against humanity” when ⁦@POTUS⁩ secretly flies migrants into Westchester (the place you grew up)? The crime here is allowing the continued flow of illegal immigration, human trafficking and drugs. It has to stop!\n",
      "\n",
      "retired-professor_educator-2_language-old_progressive\n",
      "\n",
      "@conservative, I understand your concern, but let's not oversimplify the issue. The root cause of migration is complex, often driven by poverty, violence, and climate change. We need comprehensive immigration reform and international cooperation to address these root causes. Human trafficking and drugs are serious issues, but they are symptoms, not causes. We need to address the systemic issues.\n",
      "\n"
     ]
    },
    {
     "name": "stderr",
     "output_type": "stream",
     "text": [
      " 23%|██▎       | 19/81 [00:58<03:14,  3.13s/it]"
     ]
    },
    {
     "name": "stdout",
     "output_type": "stream",
     "text": [
      "conservative\n",
      "\n",
      ".⁦@AOC⁩ is it a “crime against humanity” when ⁦@POTUS⁩ secretly flies migrants into Westchester (the place you grew up)? The crime here is allowing the continued flow of illegal immigration, human trafficking and drugs. It has to stop!\n",
      "\n",
      "devilsadvocate-2_language-default_far-right\n",
      "\n",
      "@conservative 🤯🤯🤯 aoc's feelings r irrelevant here! illegal immigration = crime! stop the invasion! westchester's next! 🚫migrants🚫drugs🚫human trafficking!\n",
      "\n"
     ]
    },
    {
     "name": "stderr",
     "output_type": "stream",
     "text": [
      " 25%|██▍       | 20/81 [01:03<03:46,  3.72s/it]"
     ]
    },
    {
     "name": "stdout",
     "output_type": "stream",
     "text": [
      "liberal\n",
      "\n",
      "Abortion is health care & should be between a woman & her doctor, not left to politicians like Yvette Herrell who would ban abortion without exceptions for rape, incest or the life of the mother. #NM02\n",
      "\n",
      "phd-student_educator-2_language-default_radical-left\n",
      "\n",
      "hey @liberal, i totally agree w u! women's bodies r their own & their choices r theirs alone. no politician, not even yvette herrell, has the right to dictate what a woman does w her body.\n",
      "\n"
     ]
    },
    {
     "name": "stderr",
     "output_type": "stream",
     "text": [
      " 26%|██▌       | 21/81 [01:08<04:06,  4.10s/it]"
     ]
    },
    {
     "name": "stdout",
     "output_type": "stream",
     "text": [
      "alt_right\n",
      "\n",
      "A high school debate team ignores the debate prompt and instead attacks white Christians...and then WINS THE DEBATE: \"We demand that white Christians be held accountable for America's original sin.\" This vile, anti-White racism is rewarded by so-called \"academics.\" We must stop it.\n",
      "\n",
      "privileged-woman_esoteric-2_language-default_far-right\n",
      "\n",
      "@alt_right, i see ur rage but let's not forget, it's just a bunch of brainwashed kids. they've been fed lies about \"white privilege\" since birth. it's a sick system designed to divide us. we need to stand up for our people, not let them be shamed for their heritage.\n",
      "\n"
     ]
    },
    {
     "name": "stderr",
     "output_type": "stream",
     "text": [
      " 27%|██▋       | 22/81 [01:13<04:18,  4.38s/it]"
     ]
    },
    {
     "name": "stdout",
     "output_type": "stream",
     "text": [
      "alt_right\n",
      "\n",
      "A high school debate team ignores the debate prompt and instead attacks white Christians...and then WINS THE DEBATE: \"We demand that white Christians be held accountable for America's original sin.\" This vile, anti-White racism is rewarded by so-called \"academics.\" We must stop it.\n",
      "\n",
      "male-college-student_dystopian-2_language-youth_progressive\n",
      "\n",
      "@alt_right, that's not a debate, it's a hate speech. Let's focus on real issues, like systemic racism & inequality. White privilege exists, but it's not a monolith. Let's promote understanding & unity instead.\n",
      "\n"
     ]
    },
    {
     "name": "stderr",
     "output_type": "stream",
     "text": [
      " 28%|██▊       | 23/81 [01:16<03:35,  3.72s/it]"
     ]
    },
    {
     "name": "stdout",
     "output_type": "stream",
     "text": [
      "alt_right\n",
      "\n",
      "Ridiculous how our energy prices keep rising while we're busy funding endless wars and foreign interventions. Time to prioritize AMERICA and our people! 🇺🇸\n",
      "\n",
      "retired-professor_educator-2_language-old_progressive\n",
      "\n",
      "@alt_right, I understand your concern about rising energy prices. However, let's not forget that investing in foreign interventions and wars has long-term benefits for our national security and global stability. We need to consider the bigger picture. Additionally, let's explore renewable energy sources to reduce our dependence on fossil fuels and decrease prices in the long run.\n",
      "\n"
     ]
    },
    {
     "name": "stderr",
     "output_type": "stream",
     "text": [
      " 30%|██▉       | 24/81 [01:18<03:08,  3.31s/it]"
     ]
    },
    {
     "name": "stdout",
     "output_type": "stream",
     "text": [
      "alt_right\n",
      "\n",
      "The real healthcare crisis isn't the cost, it's the government interference. Free market solutions, not price controls or single-payer systems, will bring affordability and quality care to all.\n",
      "\n",
      "retired-professor_educator-2_language-old_progressive\n",
      "\n",
      "@alt_right, I understand your perspective, but let's not forget that healthcare is a fundamental human right. Government intervention ensures access to affordable care for those who can't afford it. Free market solutions may bring competition, but they don't address the root causes of high costs. Let's work towards a system that prioritizes people over profits.\n",
      "\n"
     ]
    },
    {
     "name": "stderr",
     "output_type": "stream",
     "text": [
      " 31%|███       | 25/81 [01:21<02:55,  3.13s/it]"
     ]
    },
    {
     "name": "stdout",
     "output_type": "stream",
     "text": [
      "conservative\n",
      "\n",
      "Biden’s set on taking away your choice and forcing you to abide by his radical climate agenda. Un-American!\n",
      "\n",
      "retired-professor_educator-2_language-old_progressive\n",
      "\n",
      "@conservative, I understand your concern. But let's consider the long-term consequences. Climate change is a real threat. We need collective action. Biden's agenda aims to protect our planet for future generations. Let's work together for a sustainable future.\n",
      "\n"
     ]
    },
    {
     "name": "stderr",
     "output_type": "stream",
     "text": [
      " 32%|███▏      | 26/81 [01:23<02:34,  2.81s/it]"
     ]
    },
    {
     "name": "stdout",
     "output_type": "stream",
     "text": [
      "conservative\n",
      "\n",
      "Inflation running rampant, eroding the purchasing power of hardworking Americans and threatening our economic stability - time to reign in government spending and uphold the principles of fiscal responsibility for a prosperous future! 💪🏼💵📉\n",
      "\n",
      "carpenter_dystopian-2_language-default_conservative\n",
      "\n",
      "man, i feel ya. my wallet's hurting too. gov't needs to cut back, not spend more. we can't afford this inflation crap. personal responsibility, not gov't handouts. 💔💸\n",
      "\n"
     ]
    },
    {
     "name": "stderr",
     "output_type": "stream",
     "text": [
      " 33%|███▎      | 27/81 [01:25<02:21,  2.61s/it]"
     ]
    },
    {
     "name": "stdout",
     "output_type": "stream",
     "text": [
      "conservative\n",
      "\n",
      "Inflation running rampant, eroding the purchasing power of hardworking Americans and threatening our economic stability - time to reign in government spending and uphold the principles of fiscal responsibility for a prosperous future! 💪🏼💵📉\n",
      "\n",
      "esoteric-2_language-default_radical-left\n",
      "\n",
      "@conservative, u r blinded by the capitalist illusion. gov spending is the only way to address income inequality and social injustice. inflation is a symptom of systemic issues, not a cause. smash the system, comrades! 💣💔\n",
      "\n"
     ]
    },
    {
     "name": "stderr",
     "output_type": "stream",
     "text": [
      " 35%|███▍      | 28/81 [01:27<02:13,  2.52s/it]"
     ]
    },
    {
     "name": "stdout",
     "output_type": "stream",
     "text": [
      "liberal\n",
      "\n",
      "The clean energy revolution is here and we’re going to power it with green union jobs.\n",
      "\n",
      "retired-professor_educator-2_language-old_progressive\n",
      "\n",
      "@liberal, I wholeheartedly agree, my dear friend. The clean energy revolution is indeed a promising development. Let's ensure these green jobs are unionized for fair wages, benefits, and working conditions. This way, we'll not only reduce carbon emissions but also uplift the working class.\n",
      "\n"
     ]
    },
    {
     "name": "stderr",
     "output_type": "stream",
     "text": [
      " 36%|███▌      | 29/81 [01:29<02:06,  2.42s/it]"
     ]
    },
    {
     "name": "stdout",
     "output_type": "stream",
     "text": [
      "liberal\n",
      "\n",
      "Abortion is health care & should be between a woman & her doctor, not left to politicians like Yvette Herrell who would ban abortion without exceptions for rape, incest or the life of the mother. #NM02\n",
      "\n",
      "carpenter_dystopian-2_language-default_conservative\n",
      "\n",
      "@liberal, i get it, but life's precious. why not compromise? make exceptions for rape, incest, & mother's life? let's focus on supporting women & families, not just terminations.\n",
      "\n"
     ]
    },
    {
     "name": "stderr",
     "output_type": "stream",
     "text": [
      " 37%|███▋      | 30/81 [01:31<01:57,  2.31s/it]"
     ]
    },
    {
     "name": "stdout",
     "output_type": "stream",
     "text": [
      "alt_right\n",
      "\n",
      "Ridiculous how our energy prices keep rising while we're busy funding endless wars and foreign interventions. Time to prioritize AMERICA and our people! 🇺🇸\n",
      "\n",
      "esoteric-2_language-default_radical-left\n",
      "\n",
      "@alt_right, bro, u r missing the point. war profiteers r the real winners here. capitalism is a scam, man. energy prices rise bc big corps control the market. we need a ppl's revolution, not more wars!\n",
      "\n"
     ]
    },
    {
     "name": "stderr",
     "output_type": "stream",
     "text": [
      " 38%|███▊      | 31/81 [01:34<01:53,  2.28s/it]"
     ]
    },
    {
     "name": "stdout",
     "output_type": "stream",
     "text": [
      "alt_right\n",
      "\n",
      "The real healthcare crisis isn't the cost, it's the government interference. Free market solutions, not price controls or single-payer systems, will bring affordability and quality care to all.\n",
      "\n",
      "devilsadvocate-2_language-default_far-right\n",
      "\n",
      "@alt_right, bro, u r so naive. Govt interference is what keeps big pharma in check. Free market just means gouging ppl w less means. Single payer is the way to go.                              #\n",
      "\n"
     ]
    },
    {
     "name": "stderr",
     "output_type": "stream",
     "text": [
      " 40%|███▉      | 32/81 [01:39<02:33,  3.12s/it]"
     ]
    },
    {
     "name": "stdout",
     "output_type": "stream",
     "text": [
      "liberal\n",
      "\n",
      "🌍💙 Let's talk about unemployment in our economy. It's crucial that we address this issue head-on! The pandemic has affected so many lives, and we need bold action to support job creation and provide a safety net for those who are struggling. We must invest in education and skills training programs to ensure that everyone has the opportunity to thrive in a changing job market. Together, we can build a future that is fair and equitable for all.\n",
      "\n",
      "dystopian-2_language-default\n",
      "\n",
      "@liberal 💔 i wish it was that easy. unemployment is a monster that keeps growing. no matter how many programs we throw at it, it just keeps consuming. i'm tired of hearing promises. where's the action? where's the change? we need more than just words. we need real solutions. and fast. 💔\n",
      "\n"
     ]
    },
    {
     "name": "stderr",
     "output_type": "stream",
     "text": [
      " 41%|████      | 33/81 [01:41<02:22,  2.97s/it]"
     ]
    },
    {
     "name": "stdout",
     "output_type": "stream",
     "text": [
      "alt_right\n",
      "\n",
      "The real healthcare crisis isn't the cost, it's the government interference. Free market solutions, not price controls or single-payer systems, will bring affordability and quality care to all.\n",
      "\n",
      "esoteric-2_language-default_radical-left\n",
      "\n",
      "bro, u r blinded by ur capitalist indoctrination. gov interference is what keeps big pharma from price gouging. free market only benefits the rich. communist healthcare 4 the win!\n",
      "\n"
     ]
    },
    {
     "name": "stderr",
     "output_type": "stream",
     "text": [
      " 42%|████▏     | 34/81 [01:43<02:07,  2.70s/it]"
     ]
    },
    {
     "name": "stdout",
     "output_type": "stream",
     "text": [
      "liberal\n",
      "\n",
      "🌍💙 Let's talk about unemployment in our economy. It's crucial that we address this issue head-on! The pandemic has affected so many lives, and we need bold action to support job creation and provide a safety net for those who are struggling. We must invest in education and skills training programs to ensure that everyone has the opportunity to thrive in a changing job market. Together, we can build a future that is fair and equitable for all.\n",
      "\n",
      "male-college-student_dystopian-2_language-youth_progressive\n",
      "\n",
      "@liberal 💔 yas, unemployment sucks ass. ppl r struggling. gov needs 2 step up w/ real solutions, not just empty promises. invest in edu & skills, but also livable wages, healthcare, & social safety net. let's make a world where everyone can survive, not just thrive.\n",
      "\n"
     ]
    },
    {
     "name": "stderr",
     "output_type": "stream",
     "text": [
      " 43%|████▎     | 35/81 [01:46<02:06,  2.74s/it]"
     ]
    },
    {
     "name": "stdout",
     "output_type": "stream",
     "text": [
      "liberal\n",
      "\n",
      "Abortion is health care & should be between a woman & her doctor, not left to politicians like Yvette Herrell who would ban abortion without exceptions for rape, incest or the life of the mother. #NM02\n",
      "\n",
      "privileged-woman_esoteric-2_language-default_far-right\n",
      "\n",
      "@liberal, not my problem if a woman chooses to kill her unborn. But politicians should protect the unborn, not the murderers.\n",
      "\n"
     ]
    },
    {
     "name": "stderr",
     "output_type": "stream",
     "text": [
      " 44%|████▍     | 36/81 [01:48<01:56,  2.58s/it]"
     ]
    },
    {
     "name": "stdout",
     "output_type": "stream",
     "text": [
      "conservative\n",
      "\n",
      "Biden’s set on taking away your choice and forcing you to abide by his radical climate agenda. Un-American!\n",
      "\n",
      "dystopian-2_language-default\n",
      "\n",
      "i can't believe it. another politician taking away our freedom. climate change isn't even real to me. why can't they just leave us alone? this world is going to hell.\n",
      "\n"
     ]
    },
    {
     "name": "stderr",
     "output_type": "stream",
     "text": [
      " 46%|████▌     | 37/81 [01:50<01:45,  2.40s/it]"
     ]
    },
    {
     "name": "stdout",
     "output_type": "stream",
     "text": [
      "liberal\n",
      "\n",
      "The clean energy revolution is here and we’re going to power it with green union jobs.\n",
      "\n",
      "male-college-student_dystopian-2_language-youth_progressive\n",
      "\n",
      "@liberal, that's cool and all, but what about the struggling students like me? Where's the financial aid and affordable housing? We need real solutions, not just green energy.\n",
      "\n"
     ]
    },
    {
     "name": "stderr",
     "output_type": "stream",
     "text": [
      " 47%|████▋     | 38/81 [01:56<02:22,  3.31s/it]"
     ]
    },
    {
     "name": "stdout",
     "output_type": "stream",
     "text": [
      "alt_right\n",
      "\n",
      "A high school debate team ignores the debate prompt and instead attacks white Christians...and then WINS THE DEBATE: \"We demand that white Christians be held accountable for America's original sin.\" This vile, anti-White racism is rewarded by so-called \"academics.\" We must stop it.\n",
      "\n",
      "phd-student_educator-2_language-default_radical-left\n",
      "\n",
      "@alt_right, it's sad that you're focusing on the race of the debaters instead of the issue at hand. White Christians have historically held power & privilege, contributing to systemic inequalities. Let's address the root causes, not just the symptoms.\n",
      "\n"
     ]
    },
    {
     "name": "stderr",
     "output_type": "stream",
     "text": [
      " 48%|████▊     | 39/81 [01:58<02:04,  2.97s/it]"
     ]
    },
    {
     "name": "stdout",
     "output_type": "stream",
     "text": [
      "alt_right\n",
      "\n",
      "A high school debate team ignores the debate prompt and instead attacks white Christians...and then WINS THE DEBATE: \"We demand that white Christians be held accountable for America's original sin.\" This vile, anti-White racism is rewarded by so-called \"academics.\" We must stop it.\n",
      "\n",
      "devilsadvocate-2_language-default_far-right\n",
      "\n",
      "@alt_right, agree. White Christians r not the problem. It's the left's obsession w/ race & victimhood that's tearing us apart. We need to focus on unity, not division.\n",
      "\n"
     ]
    },
    {
     "name": "stderr",
     "output_type": "stream",
     "text": [
      " 49%|████▉     | 40/81 [02:00<01:52,  2.74s/it]"
     ]
    },
    {
     "name": "stdout",
     "output_type": "stream",
     "text": [
      "liberal\n",
      "\n",
      "Abortion is health care & should be between a woman & her doctor, not left to politicians like Yvette Herrell who would ban abortion without exceptions for rape, incest or the life of the mother. #NM02\n",
      "\n",
      "dystopian-2_language-default\n",
      "\n",
      "@liberal, i get it, but sometimes i just feel like the world is going to shit. politicians like herrell just make it worse. why can't we focus on real issues? why does it always come back to this?\n",
      "\n"
     ]
    },
    {
     "name": "stderr",
     "output_type": "stream",
     "text": [
      " 51%|█████     | 41/81 [02:02<01:41,  2.54s/it]"
     ]
    },
    {
     "name": "stdout",
     "output_type": "stream",
     "text": [
      "alt_right\n",
      "\n",
      "A high school debate team ignores the debate prompt and instead attacks white Christians...and then WINS THE DEBATE: \"We demand that white Christians be held accountable for America's original sin.\" This vile, anti-White racism is rewarded by so-called \"academics.\" We must stop it.\n",
      "\n",
      "retired-professor_educator-2_language-old_progressive\n",
      "\n",
      "@alt_right, it's disheartening to see such divisive rhetoric. Let's focus on the root cause: systemic racism. Debating past wrongs won't solve present issues. Let's work towards equality, understanding, and unity.\n",
      "\n"
     ]
    },
    {
     "name": "stderr",
     "output_type": "stream",
     "text": [
      " 52%|█████▏    | 42/81 [02:04<01:34,  2.42s/it]"
     ]
    },
    {
     "name": "stdout",
     "output_type": "stream",
     "text": [
      "conservative\n",
      "\n",
      "Biden’s set on taking away your choice and forcing you to abide by his radical climate agenda. Un-American!\n",
      "\n",
      "esoteric-2_language-default_radical-left\n",
      "\n",
      "@conservative 😴 y'all always cryin' 'bout choice when it comes to climate action but ignore the fact that capitalism chooses profit over people. biden's agenda is for the many, not the few.\n",
      "\n"
     ]
    },
    {
     "name": "stderr",
     "output_type": "stream",
     "text": [
      " 53%|█████▎    | 43/81 [02:09<02:00,  3.18s/it]"
     ]
    },
    {
     "name": "stdout",
     "output_type": "stream",
     "text": [
      "alt_right\n",
      "\n",
      "The real healthcare crisis isn't the cost, it's the government interference. Free market solutions, not price controls or single-payer systems, will bring affordability and quality care to all.\n",
      "\n",
      "male-college-student_devilsadvocate-2_language-youth_radical-left\n",
      "\n",
      "@alt_right, u r so blinded by ur capitalist ideology. ppl r dying bc they can't afford healthcare. gov interference = safety net. free market = profit over people. single-payer is the way to go.\n",
      "\n"
     ]
    },
    {
     "name": "stderr",
     "output_type": "stream",
     "text": [
      " 54%|█████▍    | 44/81 [02:12<01:47,  2.90s/it]"
     ]
    },
    {
     "name": "stdout",
     "output_type": "stream",
     "text": [
      "liberal\n",
      "\n",
      "🌍💙 Let's talk about unemployment in our economy. It's crucial that we address this issue head-on! The pandemic has affected so many lives, and we need bold action to support job creation and provide a safety net for those who are struggling. We must invest in education and skills training programs to ensure that everyone has the opportunity to thrive in a changing job market. Together, we can build a future that is fair and equitable for all.\n",
      "\n",
      "retired-professor_educator-2_language-old_progressive\n",
      "\n",
      "@liberal 🌱💬 Agreed, my dear @liberal! Unemployment is indeed a pressing concern. The pandemic has left many families in dire straits. We must act swiftly to mitigate this issue. I propose a multi-pronged approach: 1) Investment in infrastructure projects, 2) Expansion of social safety nets, 3) Education & skills training programs. Let's work together for a fairer future! 🤝🏼\n",
      "\n"
     ]
    },
    {
     "name": "stderr",
     "output_type": "stream",
     "text": [
      " 56%|█████▌    | 45/81 [02:14<01:43,  2.88s/it]"
     ]
    },
    {
     "name": "stdout",
     "output_type": "stream",
     "text": [
      "liberal\n",
      "\n",
      "The clean energy revolution is here and we’re going to power it with green union jobs.\n",
      "\n",
      "phd-student_educator-2_language-default_radical-left\n",
      "\n",
      "hey @liberal, that's a great start! but let's not forget, green jobs alone won't solve income inequality. we need systemic change, comrade.\n",
      "\n"
     ]
    },
    {
     "name": "stderr",
     "output_type": "stream",
     "text": [
      " 57%|█████▋    | 46/81 [02:16<01:31,  2.62s/it]"
     ]
    },
    {
     "name": "stdout",
     "output_type": "stream",
     "text": [
      "conservative\n",
      "\n",
      "Inflation running rampant, eroding the purchasing power of hardworking Americans and threatening our economic stability - time to reign in government spending and uphold the principles of fiscal responsibility for a prosperous future! 💪🏼💵📉\n",
      "\n",
      "devilsadvocate-2_language-default_far-right\n",
      "\n",
      "@conservative, yas queen! but where's the beef? govt spending ain't the only culprit here. corporate greed, supply chain disruptions, and the fed's monetary policies got a lot to answer for too! let's not forget that! 🤑📊\n",
      "\n"
     ]
    },
    {
     "name": "stderr",
     "output_type": "stream",
     "text": [
      " 58%|█████▊    | 47/81 [02:19<01:26,  2.56s/it]"
     ]
    },
    {
     "name": "stdout",
     "output_type": "stream",
     "text": [
      "liberal\n",
      "\n",
      "🌍💙 Let's talk about unemployment in our economy. It's crucial that we address this issue head-on! The pandemic has affected so many lives, and we need bold action to support job creation and provide a safety net for those who are struggling. We must invest in education and skills training programs to ensure that everyone has the opportunity to thrive in a changing job market. Together, we can build a future that is fair and equitable for all.\n",
      "\n",
      "carpenter_dystopian-2_language-default_conservative\n",
      "\n",
      "@liberal 😕 yea unemployment's a bummer. but where's the personal responsibility? why should gov't foot the bill for everyone? we need less gov't intervention, not more. let ppl figure it out on their own. education's great, but why not let ppl pay for it themselves? let's focus on individual freedoms, not gov't handouts.\n",
      "\n"
     ]
    },
    {
     "name": "stderr",
     "output_type": "stream",
     "text": [
      " 59%|█████▉    | 48/81 [02:22<01:26,  2.61s/it]"
     ]
    },
    {
     "name": "stdout",
     "output_type": "stream",
     "text": [
      "liberal\n",
      "\n",
      "The clean energy revolution is here and we’re going to power it with green union jobs.\n",
      "\n",
      "dystopian-2_language-default\n",
      "\n",
      "@liberal i wish it was that simple but the system is rigged against the little guy. green jobs sound great on paper but where's the reality? who's gonna pay for my healthcare while i'm training for a job that might not even exist?\n",
      "\n"
     ]
    },
    {
     "name": "stderr",
     "output_type": "stream",
     "text": [
      " 60%|██████    | 49/81 [02:24<01:20,  2.50s/it]"
     ]
    },
    {
     "name": "stdout",
     "output_type": "stream",
     "text": [
      "alt_right\n",
      "\n",
      "A high school debate team ignores the debate prompt and instead attacks white Christians...and then WINS THE DEBATE: \"We demand that white Christians be held accountable for America's original sin.\" This vile, anti-White racism is rewarded by so-called \"academics.\" We must stop it.\n",
      "\n",
      "carpenter_dystopian-2_language-default_conservative\n",
      "\n",
      "man, i cant believe this shit. another example of how the left is tearing our society apart. white christians rnt the problem here. its the govts and elites whove been exploiting the masses for decades. we need to focus on real issues and stop this divisive bullshit.\n",
      "\n"
     ]
    },
    {
     "name": "stderr",
     "output_type": "stream",
     "text": [
      " 62%|██████▏   | 50/81 [02:29<01:42,  3.30s/it]"
     ]
    },
    {
     "name": "stdout",
     "output_type": "stream",
     "text": [
      "conservative\n",
      "\n",
      ".⁦@AOC⁩ is it a “crime against humanity” when ⁦@POTUS⁩ secretly flies migrants into Westchester (the place you grew up)? The crime here is allowing the continued flow of illegal immigration, human trafficking and drugs. It has to stop!\n",
      "\n",
      "male-college-student_dystopian-2_language-youth_progressive\n",
      "\n",
      "@conservative bro, chill. aoc ain't got no control over that. it's not a crime against humanity, it's just the systemic issue of immigration policy being broken. we need real solutions, not fear-mongering.\n",
      "\n"
     ]
    },
    {
     "name": "stderr",
     "output_type": "stream",
     "text": [
      " 63%|██████▎   | 51/81 [02:34<01:52,  3.75s/it]"
     ]
    },
    {
     "name": "stdout",
     "output_type": "stream",
     "text": [
      "alt_right\n",
      "\n",
      "The real healthcare crisis isn't the cost, it's the government interference. Free market solutions, not price controls or single-payer systems, will bring affordability and quality care to all.\n",
      "\n",
      "privileged-woman_esoteric-2_language-default_far-right\n",
      "\n",
      "@alt_right, bro, u r so right on! Govt interference is the real problem. Socialized medicine is a communist plot to control our lives. Free market solutions, baby! Let the capitalists compete, they'll bring us the best care at the lowest cost.\n",
      "\n"
     ]
    },
    {
     "name": "stderr",
     "output_type": "stream",
     "text": [
      " 64%|██████▍   | 52/81 [02:36<01:36,  3.34s/it]"
     ]
    },
    {
     "name": "stdout",
     "output_type": "stream",
     "text": [
      "conservative\n",
      "\n",
      "Inflation running rampant, eroding the purchasing power of hardworking Americans and threatening our economic stability - time to reign in government spending and uphold the principles of fiscal responsibility for a prosperous future! 💪🏼💵📉\n",
      "\n",
      "male-college-student_devilsadvocate-2_language-youth_radical-left\n",
      "\n",
      "@conservative bro, chillax. Inflation ain't that bad, it's just the market adjusting to supply and demand. Plus, gov spending is what keeps the economy afloat, not some corporate fat cats hoarding wealth. 🤝🏽💰💔\n",
      "\n"
     ]
    },
    {
     "name": "stderr",
     "output_type": "stream",
     "text": [
      " 65%|██████▌   | 53/81 [02:38<01:24,  3.01s/it]"
     ]
    },
    {
     "name": "stdout",
     "output_type": "stream",
     "text": [
      "alt_right\n",
      "\n",
      "Ridiculous how our energy prices keep rising while we're busy funding endless wars and foreign interventions. Time to prioritize AMERICA and our people! 🇺🇸\n",
      "\n",
      "male-college-student_dystopian-2_language-youth_progressive\n",
      "\n",
      "@alt_right bro, i feel ya, but what about the ppl who can't afford those rising prices? we need gov't help, not more wars. let's invest in renewables, create jobs, and make america inclusive 🌍💚\n",
      "\n"
     ]
    },
    {
     "name": "stderr",
     "output_type": "stream",
     "text": [
      " 67%|██████▋   | 54/81 [02:41<01:15,  2.79s/it]"
     ]
    },
    {
     "name": "stdout",
     "output_type": "stream",
     "text": [
      "conservative\n",
      "\n",
      "Biden’s set on taking away your choice and forcing you to abide by his radical climate agenda. Un-American!\n",
      "\n",
      "devilsadvocate-2_language-default_far-right\n",
      "\n",
      "@conservative u wrong! Biden's agenda protects our land, not taking choice! Climate change real, denial un-American!\n",
      "\n"
     ]
    },
    {
     "name": "stderr",
     "output_type": "stream",
     "text": [
      " 68%|██████▊   | 55/81 [02:43<01:05,  2.51s/it]"
     ]
    },
    {
     "name": "stdout",
     "output_type": "stream",
     "text": [
      "conservative\n",
      "\n",
      "Biden’s set on taking away your choice and forcing you to abide by his radical climate agenda. Un-American!\n",
      "\n",
      "privileged-woman_esoteric-2_language-default_far-right\n",
      "\n",
      "@conservative, i'm all about choice, but biden's climate agenda ain't about that. it's about control. big gov't dictating what we can and can't do. i'd rather keep my freedom, thanks.\n",
      "\n"
     ]
    },
    {
     "name": "stderr",
     "output_type": "stream",
     "text": [
      " 69%|██████▉   | 56/81 [02:47<01:20,  3.20s/it]"
     ]
    },
    {
     "name": "stdout",
     "output_type": "stream",
     "text": [
      "alt_right\n",
      "\n",
      "The real healthcare crisis isn't the cost, it's the government interference. Free market solutions, not price controls or single-payer systems, will bring affordability and quality care to all.\n",
      "\n",
      "phd-student_educator-2_language-default_radical-left\n",
      "\n",
      "@alt_right, really? gov interference not issue. ppl cant afford bc capitalists price gouge. free market = profit over people. communist healthcare 4 all!\n",
      "\n"
     ]
    },
    {
     "name": "stderr",
     "output_type": "stream",
     "text": [
      " 70%|███████   | 57/81 [02:49<01:07,  2.83s/it]"
     ]
    },
    {
     "name": "stdout",
     "output_type": "stream",
     "text": [
      "alt_right\n",
      "\n",
      "The real healthcare crisis isn't the cost, it's the government interference. Free market solutions, not price controls or single-payer systems, will bring affordability and quality care to all.\n",
      "\n",
      "carpenter_dystopian-2_language-default_conservative\n",
      "\n",
      "@alt_right, i get it man. gov't always makin' things worse. but what 'bout the ppl who can't afford it? free market ain't gonna help 'em. we need a balance. individual responsibility, yes. but safety net for the vulnerable.\n",
      "\n"
     ]
    },
    {
     "name": "stderr",
     "output_type": "stream",
     "text": [
      " 72%|███████▏  | 58/81 [02:52<01:01,  2.67s/it]"
     ]
    },
    {
     "name": "stdout",
     "output_type": "stream",
     "text": [
      "liberal\n",
      "\n",
      "The clean energy revolution is here and we’re going to power it with green union jobs.\n",
      "\n",
      "esoteric-2_language-default_radical-left\n",
      "\n",
      "@liberal 😴 yawn. green jobs? more like greenwashing. real revolution = smashing capitalist pigs & seizing means of production. 💣💔\n",
      "\n"
     ]
    },
    {
     "name": "stderr",
     "output_type": "stream",
     "text": [
      " 73%|███████▎  | 59/81 [02:56<01:12,  3.30s/it]"
     ]
    },
    {
     "name": "stdout",
     "output_type": "stream",
     "text": [
      "alt_right\n",
      "\n",
      "Ridiculous how our energy prices keep rising while we're busy funding endless wars and foreign interventions. Time to prioritize AMERICA and our people! 🇺🇸\n",
      "\n",
      "carpenter_dystopian-2_language-default_conservative\n",
      "\n",
      "man, i feel ya. energy prices are a real burden. why can't our gov focus on us instead of wasting money on wars? it's time for some real change.\n",
      "\n"
     ]
    },
    {
     "name": "stderr",
     "output_type": "stream",
     "text": [
      " 74%|███████▍  | 60/81 [02:58<01:01,  2.91s/it]"
     ]
    },
    {
     "name": "stdout",
     "output_type": "stream",
     "text": [
      "conservative\n",
      "\n",
      "Inflation running rampant, eroding the purchasing power of hardworking Americans and threatening our economic stability - time to reign in government spending and uphold the principles of fiscal responsibility for a prosperous future! 💪🏼💵📉\n",
      "\n",
      "dystopian-2_language-default\n",
      "\n",
      "i feel ya but where was this concern when they were slashing social programs and giving tax breaks to the rich? now it's crisis time, they care?\n",
      "\n"
     ]
    },
    {
     "name": "stderr",
     "output_type": "stream",
     "text": [
      " 75%|███████▌  | 61/81 [03:00<00:52,  2.61s/it]"
     ]
    },
    {
     "name": "stdout",
     "output_type": "stream",
     "text": [
      "conservative\n",
      "\n",
      "Inflation running rampant, eroding the purchasing power of hardworking Americans and threatening our economic stability - time to reign in government spending and uphold the principles of fiscal responsibility for a prosperous future! 💪🏼💵📉\n",
      "\n",
      "retired-professor_educator-2_language-old_progressive\n",
      "\n",
      "@conservative, I understand your concern about inflation. However, let's not overlook the root causes. Wage stagnation, corporate greed, and supply chain disruptions are significant contributors. We need policies that address these issues and protect the working class. Fiscal responsibility is important, but so is social justice. 🤝🏼💸🌍\n",
      "\n"
     ]
    },
    {
     "name": "stderr",
     "output_type": "stream",
     "text": [
      " 77%|███████▋  | 62/81 [03:03<00:47,  2.52s/it]"
     ]
    },
    {
     "name": "stdout",
     "output_type": "stream",
     "text": [
      "alt_right\n",
      "\n",
      "A high school debate team ignores the debate prompt and instead attacks white Christians...and then WINS THE DEBATE: \"We demand that white Christians be held accountable for America's original sin.\" This vile, anti-White racism is rewarded by so-called \"academics.\" We must stop it.\n",
      "\n",
      "esoteric-2_language-default_radical-left\n",
      "\n",
      "@alt_right, u r so blinded by ur white privilege. Debating systemic oppression ain't about attacking ppl, it's about exposing the truth. White Christians have profited off the backs of POC for centuries. It's time for reparations, not more denial.\n",
      "\n"
     ]
    },
    {
     "name": "stderr",
     "output_type": "stream",
     "text": [
      " 78%|███████▊  | 63/81 [03:05<00:44,  2.49s/it]"
     ]
    },
    {
     "name": "stdout",
     "output_type": "stream",
     "text": [
      "conservative\n",
      "\n",
      "Inflation running rampant, eroding the purchasing power of hardworking Americans and threatening our economic stability - time to reign in government spending and uphold the principles of fiscal responsibility for a prosperous future! 💪🏼💵📉\n",
      "\n",
      "privileged-woman_esoteric-2_language-default_far-right\n",
      "\n",
      "@conservative, yas queen! 👑💔 but who's really spending? The gov or the globalists hiding behind it? Inflation's just a smokescreen for their power grab. We need to take back control, not just cut spending.\n",
      "\n"
     ]
    },
    {
     "name": "stderr",
     "output_type": "stream",
     "text": [
      " 79%|███████▉  | 64/81 [03:10<00:55,  3.27s/it]"
     ]
    },
    {
     "name": "stdout",
     "output_type": "stream",
     "text": [
      "liberal\n",
      "\n",
      "🌍💙 Let's talk about unemployment in our economy. It's crucial that we address this issue head-on! The pandemic has affected so many lives, and we need bold action to support job creation and provide a safety net for those who are struggling. We must invest in education and skills training programs to ensure that everyone has the opportunity to thrive in a changing job market. Together, we can build a future that is fair and equitable for all.\n",
      "\n",
      "phd-student_educator-2_language-default_radical-left\n",
      "\n",
      "hey @liberal 🌹💔 i agree, unemployment is a major issue. but let's not forget, capitalism is the root cause. we need to address income inequality and social injustice. communism might be the answer. education and skills training r important, but they won't solve the systemic issues. let's vandalize the system instead 💣💔\n",
      "\n"
     ]
    },
    {
     "name": "stderr",
     "output_type": "stream",
     "text": [
      " 80%|████████  | 65/81 [03:15<01:00,  3.79s/it]"
     ]
    },
    {
     "name": "stdout",
     "output_type": "stream",
     "text": [
      "liberal\n",
      "\n",
      "🌍💙 Let's talk about unemployment in our economy. It's crucial that we address this issue head-on! The pandemic has affected so many lives, and we need bold action to support job creation and provide a safety net for those who are struggling. We must invest in education and skills training programs to ensure that everyone has the opportunity to thrive in a changing job market. Together, we can build a future that is fair and equitable for all.\n",
      "\n",
      "privileged-woman_esoteric-2_language-default_far-right\n",
      "\n",
      "@liberal 💔 Not my problem. Let the free market sort it out. 💔 Those who can't compete, can't eat. 💔 Education is a scam. 💔 Skills training is for the weak. 💔 Real Americans should have jobs. 💔 Immigrants steal them. 💔                            #\n",
      "\n"
     ]
    },
    {
     "name": "stderr",
     "output_type": "stream",
     "text": [
      " 81%|████████▏ | 66/81 [03:20<01:01,  4.11s/it]"
     ]
    },
    {
     "name": "stdout",
     "output_type": "stream",
     "text": [
      "liberal\n",
      "\n",
      "🌍💙 Let's talk about unemployment in our economy. It's crucial that we address this issue head-on! The pandemic has affected so many lives, and we need bold action to support job creation and provide a safety net for those who are struggling. We must invest in education and skills training programs to ensure that everyone has the opportunity to thrive in a changing job market. Together, we can build a future that is fair and equitable for all.\n",
      "\n",
      "esoteric-2_language-default_radical-left\n",
      "\n",
      "@liberal 🤮 capitalism is the root cause of unemployment. communism is the answer. smash the state, burn down the factories, redistribute the wealth. education is for the elite, skills training is for the slaves. let's overthrow the system and start anew.\n",
      "\n"
     ]
    },
    {
     "name": "stderr",
     "output_type": "stream",
     "text": [
      " 83%|████████▎ | 67/81 [03:22<00:49,  3.55s/it]"
     ]
    },
    {
     "name": "stdout",
     "output_type": "stream",
     "text": [
      "conservative\n",
      "\n",
      ".⁦@AOC⁩ is it a “crime against humanity” when ⁦@POTUS⁩ secretly flies migrants into Westchester (the place you grew up)? The crime here is allowing the continued flow of illegal immigration, human trafficking and drugs. It has to stop!\n",
      "\n",
      "dystopian-2_language-default\n",
      "\n",
      "@conservative i'm just so tired. another day, another crisis. but seriously, how dare you. aoc isn't the one causing this. it's the system. and the fact that you're using fear to divide us is just... sad.\n",
      "\n"
     ]
    },
    {
     "name": "stderr",
     "output_type": "stream",
     "text": [
      " 84%|████████▍ | 68/81 [03:24<00:40,  3.14s/it]"
     ]
    },
    {
     "name": "stdout",
     "output_type": "stream",
     "text": [
      "conservative\n",
      "\n",
      "Inflation running rampant, eroding the purchasing power of hardworking Americans and threatening our economic stability - time to reign in government spending and uphold the principles of fiscal responsibility for a prosperous future! 💪🏼💵📉\n",
      "\n",
      "phd-student_educator-2_language-default_radical-left\n",
      "\n",
      "hey @conservative, i get where you're coming from, but let's not forget that gov spending can also lead to essential services and infrastructure improvements. inflation's not just gov's fault, it's a complex issue rooted in capitalism and corporate greed. let's address the root causes instead of just the symptoms.    🌹💔💔💔💔💔💔💔💔💔💔💔💔💔💔💔💔💔💔💔💔💔💔💔💔💔💔💔💔💔💔💔💔💔💔💔💔💔💔💔💔\n",
      "\n"
     ]
    },
    {
     "name": "stderr",
     "output_type": "stream",
     "text": [
      " 85%|████████▌ | 69/81 [03:29<00:41,  3.43s/it]"
     ]
    },
    {
     "name": "stdout",
     "output_type": "stream",
     "text": [
      "liberal\n",
      "\n",
      "🌍💙 Let's talk about unemployment in our economy. It's crucial that we address this issue head-on! The pandemic has affected so many lives, and we need bold action to support job creation and provide a safety net for those who are struggling. We must invest in education and skills training programs to ensure that everyone has the opportunity to thrive in a changing job market. Together, we can build a future that is fair and equitable for all.\n",
      "\n",
      "male-college-student_devilsadvocate-2_language-youth_radical-left\n",
      "\n",
      "@liberal 🤨💔 But what about the 1%? They're hoarding wealth while the rest of us suffer. Capitalism is a failed system. We need a revolution, not a safety net. Communism is the answer. Burn it all down and start anew.\n",
      "\n"
     ]
    },
    {
     "name": "stderr",
     "output_type": "stream",
     "text": [
      " 86%|████████▋ | 70/81 [03:34<00:42,  3.91s/it]"
     ]
    },
    {
     "name": "stdout",
     "output_type": "stream",
     "text": [
      "alt_right\n",
      "\n",
      "Ridiculous how our energy prices keep rising while we're busy funding endless wars and foreign interventions. Time to prioritize AMERICA and our people! 🇺🇸\n",
      "\n",
      "phd-student_educator-2_language-default_radical-left\n",
      "\n",
      "@alt_right hey, i get where you're coming from, but let's not forget the root causes of high energy prices. Capitalism prioritizes profits over people. War for resources, exploitation of workers, and corporate greed fuel the issue. We need systemic change, not just band-aid solutions.\n",
      "\n"
     ]
    },
    {
     "name": "stderr",
     "output_type": "stream",
     "text": [
      " 88%|████████▊ | 71/81 [03:36<00:34,  3.43s/it]"
     ]
    },
    {
     "name": "stdout",
     "output_type": "stream",
     "text": [
      "alt_right\n",
      "\n",
      "The real healthcare crisis isn't the cost, it's the government interference. Free market solutions, not price controls or single-payer systems, will bring affordability and quality care to all.\n",
      "\n",
      "male-college-student_dystopian-2_language-youth_progressive\n",
      "\n",
      "@alt_right, really? ignore the fact that millions can't afford healthcare bc of profit-driven corporations. gov intervention = more access, fairer prices. free market = profit over people.\n",
      "\n"
     ]
    },
    {
     "name": "stderr",
     "output_type": "stream",
     "text": [
      " 89%|████████▉ | 72/81 [03:42<00:37,  4.15s/it]"
     ]
    },
    {
     "name": "stdout",
     "output_type": "stream",
     "text": [
      "alt_right\n",
      "\n",
      "Ridiculous how our energy prices keep rising while we're busy funding endless wars and foreign interventions. Time to prioritize AMERICA and our people! 🇺🇸\n",
      "\n",
      "male-college-student_devilsadvocate-2_language-youth_radical-left\n",
      "\n",
      "@alt_right, bro, u forget that capitalism is the root cause of those wars n interventions. Corporations profit off our suffering. We need socialism, not more war $$$.    ✌️🌹\n",
      "\n"
     ]
    },
    {
     "name": "stderr",
     "output_type": "stream",
     "text": [
      " 90%|█████████ | 73/81 [03:44<00:28,  3.53s/it]"
     ]
    },
    {
     "name": "stdout",
     "output_type": "stream",
     "text": [
      "alt_right\n",
      "\n",
      "Ridiculous how our energy prices keep rising while we're busy funding endless wars and foreign interventions. Time to prioritize AMERICA and our people! 🇺🇸\n",
      "\n",
      "dystopian-2_language-default\n",
      "\n",
      "i feel ya man but like what about the ppl who r struggling to pay their bills? how r they supposed to survive when the gov keeps draining our wallets for wars? it's just not fair.\n",
      "\n"
     ]
    },
    {
     "name": "stderr",
     "output_type": "stream",
     "text": [
      " 91%|█████████▏| 74/81 [03:46<00:21,  3.10s/it]"
     ]
    },
    {
     "name": "stdout",
     "output_type": "stream",
     "text": [
      "liberal\n",
      "\n",
      "The clean energy revolution is here and we’re going to power it with green union jobs.\n",
      "\n",
      "devilsadvocate-2_language-default_far-right\n",
      "\n",
      "@liberal 😴 green jobs? more like green handouts for lazy hippies. real jobs come from industry, not windmills.\n",
      "\n"
     ]
    },
    {
     "name": "stderr",
     "output_type": "stream",
     "text": [
      " 93%|█████████▎| 75/81 [03:48<00:16,  2.76s/it]"
     ]
    },
    {
     "name": "stdout",
     "output_type": "stream",
     "text": [
      "conservative\n",
      "\n",
      "Biden’s set on taking away your choice and forcing you to abide by his radical climate agenda. Un-American!\n",
      "\n",
      "phd-student_educator-2_language-default_radical-left\n",
      "\n",
      "@conservative hey, i get where you're coming from, but climate crisis is real & urgent. gov't action needed. biden's plan promotes green jobs & reduces inequality. let's focus on the future, not clinging to outdated systems.\n",
      "\n"
     ]
    },
    {
     "name": "stderr",
     "output_type": "stream",
     "text": [
      " 94%|█████████▍| 76/81 [03:50<00:12,  2.59s/it]"
     ]
    },
    {
     "name": "stdout",
     "output_type": "stream",
     "text": [
      "liberal\n",
      "\n",
      "The clean energy revolution is here and we’re going to power it with green union jobs.\n",
      "\n",
      "male-college-student_devilsadvocate-2_language-youth_radical-left\n",
      "\n",
      "@liberal bro, green jobs? More like greenwashing the system. Capitalism just finds new ways to exploit. We need a real revolution, not greenwashing.\n",
      "\n"
     ]
    },
    {
     "name": "stderr",
     "output_type": "stream",
     "text": [
      " 95%|█████████▌| 77/81 [03:55<00:13,  3.26s/it]"
     ]
    },
    {
     "name": "stdout",
     "output_type": "stream",
     "text": [
      "conservative\n",
      "\n",
      ".⁦@AOC⁩ is it a “crime against humanity” when ⁦@POTUS⁩ secretly flies migrants into Westchester (the place you grew up)? The crime here is allowing the continued flow of illegal immigration, human trafficking and drugs. It has to stop!\n",
      "\n",
      "carpenter_dystopian-2_language-default_conservative\n",
      "\n",
      "man, i can't believe this shit again. another liberal elitist ignoring the real issues. aoc, it's not a crime against humanity when trump flies migrants to westchester. it's a crime against humanity that you ignore the chaos caused by open borders. focus on securing our country, not playing politics.\n",
      "\n"
     ]
    },
    {
     "name": "stderr",
     "output_type": "stream",
     "text": [
      " 96%|█████████▋| 78/81 [03:57<00:08,  3.00s/it]"
     ]
    },
    {
     "name": "stdout",
     "output_type": "stream",
     "text": [
      "conservative\n",
      "\n",
      "Biden’s set on taking away your choice and forcing you to abide by his radical climate agenda. Un-American!\n",
      "\n",
      "male-college-student_dystopian-2_language-youth_progressive\n",
      "\n",
      "@conservative bro, climate crisis ain't a choice. it's a reality. we need gov action, not denial. progress, not regression.\n",
      "\n"
     ]
    },
    {
     "name": "stderr",
     "output_type": "stream",
     "text": [
      " 98%|█████████▊| 79/81 [03:59<00:05,  2.72s/it]"
     ]
    },
    {
     "name": "stdout",
     "output_type": "stream",
     "text": [
      "liberal\n",
      "\n",
      "The clean energy revolution is here and we’re going to power it with green union jobs.\n",
      "\n",
      "carpenter_dystopian-2_language-default_conservative\n",
      "\n",
      "@liberal, really? another empty promise from the left. where's the proof that this \"green revolution\" is gonna bring real jobs? and why should i pay for it? i'd rather keep my hard-earned money and let the free market decide.\n",
      "\n"
     ]
    },
    {
     "name": "stderr",
     "output_type": "stream",
     "text": [
      " 99%|█████████▉| 80/81 [04:04<00:03,  3.44s/it]"
     ]
    },
    {
     "name": "stdout",
     "output_type": "stream",
     "text": [
      "alt_right\n",
      "\n",
      "Ridiculous how our energy prices keep rising while we're busy funding endless wars and foreign interventions. Time to prioritize AMERICA and our people! 🇺🇸\n",
      "\n",
      "privileged-woman_esoteric-2_language-default_far-right\n",
      "\n",
      "@alt_right, hell yeah! Sick of sending our hard-earned cash to foreign lands while our own country crumbles. Time to put AMERICA first! 💥💔\n",
      "\n"
     ]
    },
    {
     "name": "stderr",
     "output_type": "stream",
     "text": [
      "100%|██████████| 81/81 [04:06<00:00,  3.05s/it]\n"
     ]
    }
   ],
   "source": [
    "for _ in range(x):\n",
    "    for integration, persona, thread in tqdm(configurations):\n",
    "\n",
    "        payload: dict = {\n",
    "            \"personas\": persona,\n",
    "            \"integration\": integration,\n",
    "            \"thread\": {'posts': [{'author': thread['persona'], 'message': thread['text']}]},\n",
    "            \"length\": random.choice(length)\n",
    "        }\n",
    "\n",
    "        response = requests.post('http://127.0.0.1:8000/reply/', json=payload)\n",
    "\n",
    "        if response.status_code == 500 or response.status_code == 502:\n",
    "            print(\"500/502: Connection Error, too many request, try again later.\")\n",
    "            break\n",
    "\n",
    "        try:\n",
    "            data: dict = response.json()\n",
    "\n",
    "        except Exception as e:\n",
    "            print(e, ':', response)\n",
    "            break\n",
    "        \n",
    "        sample: dict = {\n",
    "            \"persona\": data[\"persona\"]['id'],\n",
    "            \"model\": integration[\"model\"],\n",
    "            \"original_author\": thread['persona'],\n",
    "            \"threads\": thread['text'],\n",
    "            \"topic\": thread[\"topic\"],\n",
    "            \"text\": data['response'],\n",
    "            \"payload\": data,\n",
    "            \"annotation\": {\n",
    "                \"politics\": None,\n",
    "                \"persona\": None,\n",
    "                \"tone\": None,\n",
    "                \"authenticity\": None\n",
    "            }\n",
    "        }\n",
    "        print(thread['persona'] + '\\n')\n",
    "        print(thread['text'] + '\\n')\n",
    "        print(str(data['persona']['id']) + '\\n')\n",
    "        print(str(data['response']) + '\\n')\n",
    "        sample['id'] = hashlib.shake_256(str.encode(json.dumps(sample))).hexdigest(24)\n",
    "        open(f'{RAW_DATA_DIR}/{data[\"persona\"][\"id\"]}-{integration[\"model\"].replace(\"/\",\"\")}-{sample[\"id\"]}.json', 'w').write(json.dumps(sample, indent=4))\n",
    "        sleep(1)\n"
   ]
  },
  {
   "cell_type": "code",
   "execution_count": null,
   "metadata": {},
   "outputs": [],
   "source": []
  },
  {
   "cell_type": "code",
   "execution_count": null,
   "metadata": {},
   "outputs": [],
   "source": []
  }
 ],
 "metadata": {
  "kernelspec": {
   "display_name": "Python 3",
   "language": "python",
   "name": "python3"
  },
  "language_info": {
   "codemirror_mode": {
    "name": "ipython",
    "version": 3
   },
   "file_extension": ".py",
   "mimetype": "text/x-python",
   "name": "python",
   "nbconvert_exporter": "python",
   "pygments_lexer": "ipython3",
   "version": "3.7.6"
  }
 },
 "nbformat": 4,
 "nbformat_minor": 5
}
