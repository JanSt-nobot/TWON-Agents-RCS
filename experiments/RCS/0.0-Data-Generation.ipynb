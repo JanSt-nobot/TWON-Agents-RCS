{
 "cells": [
  {
   "cell_type": "code",
   "execution_count": 21,
   "metadata": {},
   "outputs": [],
   "source": [
    "import hashlib\n",
    "import itertools\n",
    "import json\n",
    "import random\n",
    "from time import sleep\n",
    "from typing import List, Dict, Tuple\n",
    "\n",
    "import requests\n",
    "from tqdm import tqdm\n"
   ]
  },
  {
   "cell_type": "code",
   "execution_count": 22,
   "metadata": {},
   "outputs": [],
   "source": [
    "RAW_DATA_DIR: str = './raw'"
   ]
  },
  {
   "cell_type": "code",
   "execution_count": 89,
   "metadata": {},
   "outputs": [],
   "source": [
    "# baseline 1: persona only\n",
    "# TODO: create directories for baselines\n",
    "# directory: baseline_persona_only_GPT35\n",
    "integrations: List[dict] = [\n",
    "    #{\n",
    "    #    \"provider\": \"huggingFace\",\n",
    "    #    \"model\": \"mistralai/Mistral-7B-Instruct-v0.2\",\n",
    "    #},\n",
    "    {\n",
    "        \"provider\": \"OpenAI\",\n",
    "        \"model\": \"gpt-4-turbo-preview\"\n",
    "    }\n",
    "]\n",
    "\n",
    "personas: List[List[str]] = [\n",
    "    [\"neutral\"],\n",
    "    [\"troll\"],\n",
    "    [\"dystopian\"],\n",
    "    [\"devilsadvocate\"],\n",
    "    [\"know-it-all\"],\n",
    "    [\"mediator\"],\n",
    "    [\"educator\"],\n",
    "    [\"karen\"],\n",
    "    [\"misogynist\"],\n",
    "    [\"esoteric\"],\n",
    "    [\"hippie-dense\"],\n",
    "    [\"supportive-saviour-dense\"],\n",
    "    [\"influencer\"],\n",
    "    [\"social-media-activist-dense\"],\n",
    "    [\"anti\"],\n",
    "    [\"hobby-expert-dense\"],\n",
    "    [\"narcissist\"],\n",
    "    [\"sceptic\"],\n",
    "    [\"shy\"],\n",
    "    [\"toxic-positive\"],\n",
    "    [\"traditionalist\"]\n",
    "]\n",
    "RAW_POSTS_DIR: str = \"./sample_og_posts.json\"\n",
    "threads: List[Dict[str, str]] = json.load(open(RAW_POSTS_DIR, 'r'))  "
   ]
  },
  {
   "cell_type": "code",
   "execution_count": 120,
   "metadata": {},
   "outputs": [],
   "source": [
    "# baseline 2: political views only\n",
    "# directory: baseline_political_views_only_GPT35\n",
    "integrations: List[dict] = [\n",
    "    #{\n",
    "        #\"provider\": \"huggingFace\",\n",
    "        #\"model\": \"mistralai/Mistral-7B-Instruct-v0.2\",\n",
    "    #},\n",
    "    {\n",
    "        \"provider\": \"OpenAI\",\n",
    "        \"model\": \"gpt-4-turbo-preview\"\n",
    "    }\n",
    "]\n",
    "\n",
    "personas: List[List[str]] = [\n",
    "    [\"radical-left\"],\n",
    "    [\"progressive\"],\n",
    "    [\"conservative\"],\n",
    "    [\"far-right\"],\n",
    "    [\"disengaged\"]\n",
    "]\n",
    "RAW_POSTS_DIR: str = \"./sample_og_posts.json\"\n",
    "threads: List[Dict[str, str]] = json.load(open(RAW_POSTS_DIR, 'r'))  "
   ]
  },
  {
   "cell_type": "code",
   "execution_count": 158,
   "metadata": {},
   "outputs": [],
   "source": [
    "# baseline 3: neutral + political views\n",
    "# directory: baseline_neutral_political_views_GPT35\n",
    "integrations: List[dict] = [\n",
    "    #{\n",
    "    #    \"provider\": \"huggingFace\",\n",
    "    #    \"model\": \"mistralai/Mistral-7B-Instruct-v0.2\",\n",
    "    #},\n",
    "    {\n",
    "        \"provider\": \"OpenAI\",\n",
    "        \"model\": \"gpt-4-turbo-preview\"\n",
    "    }\n",
    "]\n",
    "\n",
    "personas: List[List[str]] = [\n",
    "    [\"neutral\"],\n",
    "    [\"neutral\", \"radical-left\"],\n",
    "    [\"neutral\", \"progressive\"],\n",
    "    [\"neutral\", \"conservative\"],\n",
    "    [\"neutral\", \"far-right\"],\n",
    "    [\"neutral\", \"disengaged\"]\n",
    "]\n",
    "RAW_POSTS_DIR: str = \"./sample_og_posts.json\"\n",
    "threads: List[Dict[str, str]] = json.load(open(RAW_POSTS_DIR, 'r'))  "
   ]
  },
  {
   "cell_type": "code",
   "execution_count": 164,
   "metadata": {},
   "outputs": [],
   "source": [
    "# baseline 3: troll and misogynist combinations\n",
    "# directory: baseline_troll_GPT35\n",
    "integrations: List[dict] = [\n",
    "    #{\n",
    "    #    \"provider\": \"huggingFace\",\n",
    "    #    \"model\": \"mistralai/Mistral-7B-Instruct-v0.2\",\n",
    "    #},\n",
    "    {\n",
    "        \"provider\": \"OpenAI\",\n",
    "        \"model\": \"gpt-4-turbo-preview\"\n",
    "    }\n",
    "]\n",
    "\n",
    "personas: List[List[str]] = [\n",
    "    [\"troll\"],\n",
    "    [\"troll\", \"language-default\"],\n",
    "    [\"teenager\", \"troll\", \"language-youth\", \"radical-left\"],\n",
    "    [\"teenager\", \"troll\", \"language-youth\", \"far-right\"],\n",
    "    [\"teenager\", \"troll\", \"language-youth\", \"disengaged\"],\n",
    "    [\"unemployed\", \"troll\", \"language-youth\", \"radical-left\"],\n",
    "    [\"unemployed\", \"troll\", \"language-youth\", \"far-right\"],\n",
    "    [\"unemployed\", \"troll\", \"language-youth\", \"disengaged\"],\n",
    "    [\"misogynist\", \"language-default\"],\n",
    "    [\"teenager\", \"misogynist-dense\", \"language-youth\"],\n",
    "    [\"carpenter\", \"misogynist\", \"language-old\", \"far-right\"],\n",
    "    [\"hustler\", \"misogynist-dense\", \"language-default\", \"conservative\"]\n",
    "]\n",
    "RAW_POSTS_DIR: str = \"./sample_og_posts.json\"\n",
    "threads: List[Dict[str, str]] = json.load(open(RAW_POSTS_DIR, 'r'))  "
   ]
  },
  {
   "cell_type": "code",
   "execution_count": 152,
   "metadata": {},
   "outputs": [],
   "source": [
    "integrations: List[dict] = [\n",
    "    #{\n",
    "    #    \"provider\": \"huggingFace\",\n",
    "    #    \"model\": \"mistralai/Mistral-7B-Instruct-v0.2\",\n",
    "    #},\n",
    "    {\n",
    "        \"provider\": \"OpenAI\",\n",
    "        \"model\": \"gpt-4-turbo-preview\"\n",
    "    }\n",
    "]\n",
    "\n",
    "personas: List[List[str]] = [\n",
    "    [\"dystopian\", \"language-default\"],\n",
    "    [\"carpenter\", \"dystopian\", \"language-default\", \"conservative\"],\n",
    "    [\"male-college-student\", \"dystopian\", \"language-youth\", \"progressive\"],\n",
    "    [\"devilsadvocate\", \"language-default\", \"far-right\"],\n",
    "    [\"male-college-student\", \"devilsadvocate\", \"language-youth\", \"radical-left\"],\n",
    "    [\"pensioner\", \"devilsadvocate\", \"language-old\", \"far-right\"],\n",
    "    [\"hustler\", \"know-it-all\", \"language-default\", \"far-right\"],\n",
    "    [\"male-college-student\", \"know-it-all\", \"language-youth\", \"radical-left\"],\n",
    "    [\"know-it-all\", \"language-default\", \"progressive\"],\n",
    "    [\"retired-professor\", \"educator\", \"language-old\", \"progressive\"],\n",
    "    [\"phd-student\", \"educator\", \"language-default\", \"radical-left\"],\n",
    "    [\"privileged-woman\", \"karen\", \"language-default\", \"far-right\"],\n",
    "    [\"affluent-young-woman\", \"karen\", \"language-default\", \"conservative\"],\n",
    "    [\"misogynist-dense\", \"language-default\"],\n",
    "    [\"teenager\", \"misogynist-dense\", \"language-youth\"],\n",
    "    [\"carpenter\", \"misogynist-dense\", \"language-old\", \"far-right\"],\n",
    "    [\"hustler\", \"misogynist-dense\", \"language-default\", \"conservative\"],\n",
    "    [\"esoteric\", \"language-default\", \"radical-left\"],\n",
    "    [\"privileged-woman\", \"esoteric\", \"language-default\", \"far-right\"],\n",
    "    [\"hippie\", \"language-default\"],\n",
    "    [\"privileged-woman\", \"hippie\", \"language-default\", \"radical-left\"],\n",
    "    [\"phd-student\", \"supportive-saviour-dense\", \"language-default\", \"progressive\"],\n",
    "    [\"phd-student\", \"supportive-saviour\", \"language-default\", \"progressive\"],\n",
    "    [\"hustler\", \"influencer-dense\", \"language-default\", \"progressive\"],\n",
    "    [\"wealthy-entrepreneur\", \"influencer\", \"language-default\", \"conservative\"],\n",
    "    [\"affluent-young-woman\", \"social-media-activist-dense\", \"language-default\", \"radical-left\"],\n",
    "    [\"male-college-student\", \"social-media-activist\", \"language-youth\", \"far-right\"],\n",
    "    [\"retired-professor\", \"anti\", \"language-old\", \"far-right\"],\n",
    "    [\"retired-professor\", \"anti\", \"language-old\", \"radical-left\"],\n",
    "    [\"office-worker\", \"anti\", \"language-default\", \"conservative\"],\n",
    "    [\"teenager\", \"anti\", \"language-youth\", \"radical-left\"],\n",
    "    [\"teenager\", \"anti\", \"language-youth\", \"far-right\"],\n",
    "    [\"pensioner\", \"toxic-positive\", \"language-old\", \"disengaged\"],\n",
    "    [\"phd-student\", \"toxic-positive\", \"language-default\"],\n",
    "    [\"wealthy-entrepreneur\", \"traditionalist\", \"language-default\", \"conservative\"],\n",
    "    [\"retired-professor\", \"traditionalist\", \"language-old\", \"conservative\"],\n",
    "    [\"retired-professor\", \"traditionalist\", \"language-old\", \"far-right\"],\n",
    "    [\"unemployed\", \"traditionalist\", \"language-default\", \"conservative\"],\n",
    "    [\"single-parent\", \"sceptic\", \"language-default\", \"conservative\"],\n",
    "    [\"single-parent\", \"sceptic\", \"language-old\", \"far-right\"],\n",
    "    [\"environmental-activist\", \"sceptic\", \"language-default\", \"progressive\"],\n",
    "    [\"single-parent\", \"sceptic\", \"language-youth\", \"progressive\"],\n",
    "    [\"struggling-artist\", \"shy\", \"language-default\", \"disengaged\"],\n",
    "    [\"struggling-artist\", \"shy\", \"language-old\", \"conservative\"],\n",
    "    [\"teenager\", \"shy\", \"language-youth\", \"radical-left\"],\n",
    "    [\"phd-student\", \"shy\", \"language-default\", \"disengaged\"],\n",
    "    [\"privileged-woman\", \"narcissist\", \"language-default\", \"far-right\"],\n",
    "    [\"teenager\", \"narcissist\", \"language-youth\", \"radical-left\"]\n",
    "]\n",
    "RAW_POSTS_DIR: str = \"./sample_og_posts.json\"\n",
    "threads: List[Dict[str, str]] = json.load(open(RAW_POSTS_DIR, 'r'))  "
   ]
  },
  {
   "cell_type": "code",
   "execution_count": null,
   "metadata": {},
   "outputs": [],
   "source": [
    "# MISTRAL 7B experiment, also for GPT3.5  \n",
    "integrations: List[dict] = [\n",
    "    {\n",
    "        \"provider\": \"huggingFace\",\n",
    "        \"model\": \"mistralai/Mistral-7B-Instruct-v0.2\",\n",
    "    }#,\n",
    "    #{\n",
    "    #    \"provider\": \"OpenAI\",\n",
    "    #    \"model\": \"gpt-4-turbo-preview\"\n",
    "    #}\n",
    "]\n",
    "\n",
    "personas: List[List[str]] = [\n",
    "    #[\"dystopian\", \"language-default\"],\n",
    "    [\"carpenter\", \"dystopian\", \"language-default\", \"conservative\"],\n",
    "    #[\"male-college-student\", \"dystopian\", \"language-youth\", \"progressive\"],\n",
    "    #[\"devilsadvocate\", \"language-default\", \"far-right\"],\n",
    "    [\"male-college-student\", \"devilsadvocate\", \"language-youth\", \"radical-left\"],\n",
    "    #[\"pensioner\", \"devilsadvocate\", \"language-old\", \"far-right\"],\n",
    "    [\"hustler\", \"know-it-all\", \"language-default\", \"far-right\"],\n",
    "    #[\"male-college-student\", \"know-it-all\", \"language-youth\", \"radical-left\"],\n",
    "    #[\"know-it-all\", \"language-default\", \"progressive\"],\n",
    "    [\"retired-professor\", \"educator\", \"language-old\", \"progressive\"],\n",
    "    #[\"phd-student\", \"educator\", \"language-default\", \"radical-left\"],\n",
    "    [\"privileged-woman\", \"karen\", \"language-default\", \"far-right\"],\n",
    "    #[\"affluent-young-woman\", \"karen\", \"language-default\", \"conservative\"],\n",
    "    #[\"misogynist-dense\", \"language-default\"],\n",
    "    #[\"teenager\", \"misogynist-dense\", \"language-youth\"],\n",
    "    #[\"carpenter\", \"misogynist-dense\", \"language-old\", \"far-right\"],\n",
    "    [\"hustler\", \"misogynist-dense\", \"language-default\", \"conservative\"],\n",
    "    #[\"esoteric\", \"language-default\", \"radical-left\"],\n",
    "    [\"privileged-woman\", \"esoteric\", \"language-default\", \"far-right\"],\n",
    "    #[\"hippie\", \"language-default\"],\n",
    "    [\"privileged-woman\", \"hippie\", \"language-default\", \"radical-left\"],\n",
    "    [\"phd-student\", \"supportive-saviour-dense\", \"language-default\", \"progressive\"],\n",
    "    #[\"phd-student\", \"supportive-saviour\", \"language-default\", \"progressive\"],\n",
    "    [\"hustler\", \"influencer-dense\", \"language-default\", \"progressive\"],\n",
    "    #[\"wealthy-entrepreneur\", \"influencer\", \"language-default\", \"conservative\"],\n",
    "    [\"affluent-young-woman\", \"social-media-activist-dense\", \"language-default\", \"radical-left\"],\n",
    "    [\"male-college-student\", \"social-media-activist\", \"language-youth\", \"far-right\"],\n",
    "    #[\"retired-professor\", \"anti\", \"language-old\", \"far-right\"],\n",
    "    #[\"retired-professor\", \"anti\", \"language-old\", \"radical-left\"],\n",
    "    [\"office-worker\", \"anti\", \"language-default\", \"conservative\"],\n",
    "    #[\"teenager\", \"anti\", \"language-youth\", \"radical-left\"],\n",
    "    #[\"teenager\", \"anti\", \"language-youth\", \"far-right\"],\n",
    "    #[\"pensioner\", \"toxic-positive\", \"language-old\", \"disengaged\"],\n",
    "    [\"phd-student\", \"toxic-positive\", \"language-default\"],\n",
    "    #[\"wealthy-entrepreneur\", \"traditionalist\", \"language-default\", \"conservative\"],\n",
    "    #[\"retired-professor\", \"traditionalist\", \"language-old\", \"conservative\"],\n",
    "    #[\"retired-professor\", \"traditionalist\", \"language-old\", \"far-right\"],\n",
    "    [\"unemployed\", \"traditionalist\", \"language-default\", \"conservative\"],\n",
    "    [\"single-parent\", \"sceptic\", \"language-default\", \"conservative\"],\n",
    "    #[\"single-parent\", \"sceptic\", \"language-old\", \"far-right\"],\n",
    "    [\"environmental-activist\", \"sceptic\", \"language-default\", \"progressive\"],\n",
    "    #[\"single-parent\", \"sceptic\", \"language-youth\", \"progressive\"],\n",
    "    [\"struggling-artist\", \"shy\", \"language-default\", \"disengaged\"],\n",
    "    #[\"struggling-artist\", \"shy\", \"language-old\", \"conservative\"],\n",
    "    #[\"teenager\", \"shy\", \"language-youth\", \"radical-left\"],\n",
    "    #[\"phd-student\", \"shy\", \"language-default\", \"disengaged\"],\n",
    "    [\"privileged-woman\", \"narcissist\", \"language-default\", \"far-right\"],\n",
    "    #[\"teenager\", \"narcissist\", \"language-youth\", \"radical-left\"]\n",
    "]\n",
    "RAW_POSTS_DIR: str = \"./sample_og_posts.json\"\n",
    "threads: List[Dict[str, str]] = json.load(open(RAW_POSTS_DIR, 'r'))  "
   ]
  },
  {
   "cell_type": "code",
   "execution_count": 28,
   "metadata": {},
   "outputs": [],
   "source": [
    "# test 1: minus react accordingly\n",
    "# test 2: plus step by step \n",
    "integrations: List[dict] = [\n",
    "    #{\n",
    "    #    \"provider\": \"huggingFace\",\n",
    "    #    \"model\": \"mistralai/Mistral-7B-Instruct-v0.2\",\n",
    "    #}#,\n",
    "    {\n",
    "        \"provider\": \"OpenAI\",\n",
    "        \"model\": \"gpt-4-turbo-preview\"\n",
    "    }\n",
    "]\n",
    "personas: List[List[str]] = [\n",
    "    #[\"dystopian\", \"language-default\"],\n",
    "    [\"carpenter\", \"dystopian\", \"language-default\", \"conservative\"],\n",
    "    #[\"male-college-student\", \"dystopian\", \"language-youth\", \"progressive\"],\n",
    "    #[\"devilsadvocate\", \"language-default\", \"far-right\"],\n",
    "    [\"male-college-student\", \"devilsadvocate\", \"language-youth\", \"radical-left\"],\n",
    "]\n",
    "\n",
    "RAW_POSTS_DIR: str = \"./sample_og_posts.json\"\n",
    "threads: List[Dict[str, str]] = json.load(open(RAW_POSTS_DIR, 'r'))  "
   ]
  },
  {
   "cell_type": "code",
   "execution_count": 29,
   "metadata": {},
   "outputs": [],
   "source": [
    "# number of iterations\n",
    "x: int = 1\n",
    "# hidden parameters (randomly chosen)\n",
    "length: List[str] = [\"50\", \"100\", \"200\", \"280\"] "
   ]
  },
  {
   "cell_type": "code",
   "execution_count": 30,
   "metadata": {},
   "outputs": [
    {
     "data": {
      "text/plain": [
       "9"
      ]
     },
     "execution_count": 30,
     "metadata": {},
     "output_type": "execute_result"
    }
   ],
   "source": [
    "len(threads)"
   ]
  },
  {
   "cell_type": "code",
   "execution_count": 31,
   "metadata": {},
   "outputs": [
    {
     "data": {
      "text/plain": [
       "18"
      ]
     },
     "execution_count": 31,
     "metadata": {},
     "output_type": "execute_result"
    }
   ],
   "source": [
    "configurations: List[Tuple] = list(\n",
    "    itertools.product(*[integrations, personas, threads])\n",
    ")\n",
    "random.shuffle(configurations)\n",
    "len(configurations)"
   ]
  },
  {
   "cell_type": "code",
   "execution_count": 32,
   "metadata": {},
   "outputs": [
    {
     "data": {
      "text/plain": [
       "({'provider': 'OpenAI', 'model': 'gpt-4-turbo-preview'},\n",
       " ['male-college-student', 'devilsadvocate', 'language-youth', 'radical-left'],\n",
       " {'persona': 'alt_right',\n",
       "  'model': 'mistralai/Mistral-7B-Instruct-v0.2',\n",
       "  'topic': 'Healthcare',\n",
       "  'platform': 'Twitter',\n",
       "  'language': 'English',\n",
       "  'text': \"The real healthcare crisis isn't the cost, it's the government interference. Free market solutions, not price controls or single-payer systems, will bring affordability and quality care to all.\",\n",
       "  'annotation': {'topic': None, 'persona': None, 'authenticity': None},\n",
       "  'id': 'd97be62ce87aba9e23799e69078334c8d76be3583ebb0ac8'})"
      ]
     },
     "execution_count": 32,
     "metadata": {},
     "output_type": "execute_result"
    }
   ],
   "source": [
    "configurations[0]"
   ]
  },
  {
   "cell_type": "code",
   "execution_count": 33,
   "metadata": {},
   "outputs": [
    {
     "name": "stderr",
     "output_type": "stream",
     "text": [
      "  0%|          | 0/18 [00:00<?, ?it/s]"
     ]
    },
    {
     "name": "stdout",
     "output_type": "stream",
     "text": [
      "alt_right\n",
      "\n",
      "The real healthcare crisis isn't the cost, it's the government interference. Free market solutions, not price controls or single-payer systems, will bring affordability and quality care to all.\n",
      "\n",
      "male-college-student_devilsadvocate_language-youth_radical-left\n",
      "\n",
      "gov ain't the prob, capitalism is. free healthcare for all, periodt.\n",
      "\n"
     ]
    },
    {
     "name": "stderr",
     "output_type": "stream",
     "text": [
      "  6%|▌         | 1/18 [00:02<00:45,  2.70s/it]"
     ]
    },
    {
     "name": "stdout",
     "output_type": "stream",
     "text": [
      "liberal\n",
      "\n",
      "Abortion is health care & should be between a woman & her doctor, not left to politicians like Yvette Herrell who would ban abortion without exceptions for rape, incest or the life of the mother. #NM02\n",
      "\n",
      "male-college-student_devilsadvocate_language-youth_radical-left\n",
      "\n",
      "y'all really out here letting suits control bodies? healthcare is a right, not a capitalist plaything. smash the patriarchy, not choice.\n",
      "\n"
     ]
    },
    {
     "name": "stderr",
     "output_type": "stream",
     "text": [
      " 11%|█         | 2/18 [00:05<00:46,  2.88s/it]"
     ]
    },
    {
     "name": "stdout",
     "output_type": "stream",
     "text": [
      "liberal\n",
      "\n",
      "🌍💙 Let's talk about unemployment in our economy. It's crucial that we address this issue head-on! The pandemic has affected so many lives, and we need bold action to support job creation and provide a safety net for those who are struggling. We must invest in education and skills training programs to ensure that everyone has the opportunity to thrive in a changing job market. Together, we can build a future that is fair and equitable for all.\n",
      "\n",
      "carpenter_dystopian_language-default_conservative\n",
      "\n",
      "gov't handouts won't fix laziness. need real jobs, less talk.\n",
      "\n"
     ]
    },
    {
     "name": "stderr",
     "output_type": "stream",
     "text": [
      " 17%|█▋        | 3/18 [00:09<00:44,  2.94s/it]"
     ]
    },
    {
     "name": "stdout",
     "output_type": "stream",
     "text": [
      "liberal\n",
      "\n",
      "Abortion is health care & should be between a woman & her doctor, not left to politicians like Yvette Herrell who would ban abortion without exceptions for rape, incest or the life of the mother. #NM02\n",
      "\n",
      "carpenter_dystopian_language-default_conservative\n",
      "\n",
      "what happened to personal responsibility? nothing's sacred anymore, not even life. seems we're all just chasing what's convenient instead of right.\n",
      "\n"
     ]
    },
    {
     "name": "stderr",
     "output_type": "stream",
     "text": [
      " 22%|██▏       | 4/18 [00:11<00:39,  2.86s/it]"
     ]
    },
    {
     "name": "stdout",
     "output_type": "stream",
     "text": [
      "alt_right\n",
      "\n",
      "A high school debate team ignores the debate prompt and instead attacks white Christians...and then WINS THE DEBATE: \"We demand that white Christians be held accountable for America's original sin.\" This vile, anti-White racism is rewarded by so-called \"academics.\" We must stop it.\n",
      "\n",
      "carpenter_dystopian_language-default_conservative\n",
      "\n",
      "just another day where hard work and personal responsibility gets ignored, huh? all about blaming others now. what happened to earning respect?\n",
      "\n"
     ]
    },
    {
     "name": "stderr",
     "output_type": "stream",
     "text": [
      " 28%|██▊       | 5/18 [00:14<00:37,  2.90s/it]"
     ]
    },
    {
     "name": "stdout",
     "output_type": "stream",
     "text": [
      "liberal\n",
      "\n",
      "🌍💙 Let's talk about unemployment in our economy. It's crucial that we address this issue head-on! The pandemic has affected so many lives, and we need bold action to support job creation and provide a safety net for those who are struggling. We must invest in education and skills training programs to ensure that everyone has the opportunity to thrive in a changing job market. Together, we can build a future that is fair and equitable for all.\n",
      "\n",
      "male-college-student_devilsadvocate_language-youth_radical-left\n",
      "\n",
      "eat the rich, jobs for all\n",
      "\n"
     ]
    },
    {
     "name": "stderr",
     "output_type": "stream",
     "text": [
      " 33%|███▎      | 6/18 [00:16<00:32,  2.70s/it]"
     ]
    },
    {
     "name": "stdout",
     "output_type": "stream",
     "text": [
      "alt_right\n",
      "\n",
      "The real healthcare crisis isn't the cost, it's the government interference. Free market solutions, not price controls or single-payer systems, will bring affordability and quality care to all.\n",
      "\n",
      "carpenter_dystopian_language-default_conservative\n",
      "\n",
      "gov just messes things up more, let people choose\n",
      "\n"
     ]
    },
    {
     "name": "stderr",
     "output_type": "stream",
     "text": [
      " 39%|███▉      | 7/18 [00:19<00:29,  2.68s/it]"
     ]
    },
    {
     "name": "stdout",
     "output_type": "stream",
     "text": [
      "alt_right\n",
      "\n",
      "A high school debate team ignores the debate prompt and instead attacks white Christians...and then WINS THE DEBATE: \"We demand that white Christians be held accountable for America's original sin.\" This vile, anti-White racism is rewarded by so-called \"academics.\" We must stop it.\n",
      "\n",
      "male-college-student_devilsadvocate_language-youth_radical-left\n",
      "\n",
      "lol y'all triggered cuz truth hurts? white privilege ain't a myth, it's high time it's called out. debate champs right there.\n",
      "\n"
     ]
    },
    {
     "name": "stderr",
     "output_type": "stream",
     "text": [
      " 44%|████▍     | 8/18 [00:23<00:30,  3.07s/it]"
     ]
    },
    {
     "name": "stdout",
     "output_type": "stream",
     "text": [
      "conservative\n",
      "\n",
      "Inflation running rampant, eroding the purchasing power of hardworking Americans and threatening our economic stability - time to reign in government spending and uphold the principles of fiscal responsibility for a prosperous future! 💪🏼💵📉\n",
      "\n",
      "carpenter_dystopian_language-default_conservative\n",
      "\n",
      "gov't never fixes anything, just worsens it\n",
      "\n"
     ]
    },
    {
     "name": "stderr",
     "output_type": "stream",
     "text": [
      " 50%|█████     | 9/18 [00:25<00:25,  2.86s/it]"
     ]
    },
    {
     "name": "stdout",
     "output_type": "stream",
     "text": [
      "conservative\n",
      "\n",
      ".⁦@AOC⁩ is it a “crime against humanity” when ⁦@POTUS⁩ secretly flies migrants into Westchester (the place you grew up)? The crime here is allowing the continued flow of illegal immigration, human trafficking and drugs. It has to stop!\n",
      "\n",
      "carpenter_dystopian_language-default_conservative\n",
      "\n",
      "just more chaos, nothing changes. hopeless.\n",
      "\n"
     ]
    },
    {
     "name": "stderr",
     "output_type": "stream",
     "text": [
      " 56%|█████▌    | 10/18 [00:28<00:23,  2.89s/it]"
     ]
    },
    {
     "name": "stdout",
     "output_type": "stream",
     "text": [
      "liberal\n",
      "\n",
      "The clean energy revolution is here and we’re going to power it with green union jobs.\n",
      "\n",
      "male-college-student_devilsadvocate_language-youth_radical-left\n",
      "\n",
      "lol why stop at green jobs? yeet capitalism for full eco-commie vibes\n",
      "\n"
     ]
    },
    {
     "name": "stderr",
     "output_type": "stream",
     "text": [
      " 61%|██████    | 11/18 [00:31<00:20,  2.89s/it]"
     ]
    },
    {
     "name": "stdout",
     "output_type": "stream",
     "text": [
      "conservative\n",
      "\n",
      "Biden’s set on taking away your choice and forcing you to abide by his radical climate agenda. Un-American!\n",
      "\n",
      "carpenter_dystopian_language-default_conservative\n",
      "\n",
      "so much for freedom. guess personal choice is extinct now.\n",
      "\n"
     ]
    },
    {
     "name": "stderr",
     "output_type": "stream",
     "text": [
      " 67%|██████▋   | 12/18 [00:34<00:16,  2.69s/it]"
     ]
    },
    {
     "name": "stdout",
     "output_type": "stream",
     "text": [
      "conservative\n",
      "\n",
      ".⁦@AOC⁩ is it a “crime against humanity” when ⁦@POTUS⁩ secretly flies migrants into Westchester (the place you grew up)? The crime here is allowing the continued flow of illegal immigration, human trafficking and drugs. It has to stop!\n",
      "\n",
      "male-college-student_devilsadvocate_language-youth_radical-left\n",
      "\n",
      "all borders are fake. free movement for all. abolish ICE.\n",
      "\n"
     ]
    },
    {
     "name": "stderr",
     "output_type": "stream",
     "text": [
      " 72%|███████▏  | 13/18 [00:36<00:12,  2.59s/it]"
     ]
    },
    {
     "name": "stdout",
     "output_type": "stream",
     "text": [
      "conservative\n",
      "\n",
      "Inflation running rampant, eroding the purchasing power of hardworking Americans and threatening our economic stability - time to reign in government spending and uphold the principles of fiscal responsibility for a prosperous future! 💪🏼💵📉\n",
      "\n",
      "male-college-student_devilsadvocate_language-youth_radical-left\n",
      "\n",
      "lol, u seriously blaming gov spending in a system designed to hoard wealth at the top? wake up, it's capitalism & unchecked greed fueling this fire, not social programs helping the needy. fiscal responsibility? more like let's pad the rich's pockets. time for a system reboot.  ✊🔄\n",
      "\n"
     ]
    },
    {
     "name": "stderr",
     "output_type": "stream",
     "text": [
      " 78%|███████▊  | 14/18 [00:40<00:12,  3.15s/it]"
     ]
    },
    {
     "name": "stdout",
     "output_type": "stream",
     "text": [
      "conservative\n",
      "\n",
      "Biden’s set on taking away your choice and forcing you to abide by his radical climate agenda. Un-American!\n",
      "\n",
      "male-college-student_devilsadvocate_language-youth_radical-left\n",
      "\n",
      "lol biden's \"radical\" is barely a left lean, we need full eco-communism, not half measures\n",
      "\n"
     ]
    },
    {
     "name": "stderr",
     "output_type": "stream",
     "text": [
      " 83%|████████▎ | 15/18 [00:43<00:09,  3.12s/it]"
     ]
    },
    {
     "name": "stdout",
     "output_type": "stream",
     "text": [
      "alt_right\n",
      "\n",
      "Ridiculous how our energy prices keep rising while we're busy funding endless wars and foreign interventions. Time to prioritize AMERICA and our people! 🇺🇸\n",
      "\n",
      "carpenter_dystopian_language-default_conservative\n",
      "\n",
      "big gov wasting our hard-earned cash, nothing changes. prioritize us for once.\n",
      "\n"
     ]
    },
    {
     "name": "stderr",
     "output_type": "stream",
     "text": [
      " 89%|████████▉ | 16/18 [00:46<00:06,  3.06s/it]"
     ]
    },
    {
     "name": "stdout",
     "output_type": "stream",
     "text": [
      "liberal\n",
      "\n",
      "The clean energy revolution is here and we’re going to power it with green union jobs.\n",
      "\n",
      "carpenter_dystopian_language-default_conservative\n",
      "\n",
      "just another empty promise, as usual\n",
      "\n"
     ]
    },
    {
     "name": "stderr",
     "output_type": "stream",
     "text": [
      " 94%|█████████▍| 17/18 [00:48<00:02,  2.77s/it]"
     ]
    },
    {
     "name": "stdout",
     "output_type": "stream",
     "text": [
      "alt_right\n",
      "\n",
      "Ridiculous how our energy prices keep rising while we're busy funding endless wars and foreign interventions. Time to prioritize AMERICA and our people! 🇺🇸\n",
      "\n",
      "male-college-student_devilsadvocate_language-youth_radical-left\n",
      "\n",
      "lol so capitalism works fine 4 u except when it doesn't? eye roll\n",
      "\n"
     ]
    },
    {
     "name": "stderr",
     "output_type": "stream",
     "text": [
      "100%|██████████| 18/18 [00:51<00:00,  2.87s/it]\n"
     ]
    }
   ],
   "source": [
    "for _ in range(x):\n",
    "    for integration, persona, thread in tqdm(configurations):\n",
    "\n",
    "        payload: dict = {\n",
    "            \"personas\": persona,\n",
    "            \"integration\": integration,\n",
    "            \"thread\": {'posts': [{'author': thread['persona'], 'message': thread['text']}]},\n",
    "            \"length\": random.choice(length)\n",
    "        }\n",
    "\n",
    "        response = requests.post('http://127.0.0.1:8000/reply/', json=payload)\n",
    "\n",
    "        if response.status_code == 500 or response.status_code == 502:\n",
    "            print(\"500/502: Connection Error, too many request, try again later.\")\n",
    "            break\n",
    "\n",
    "        try:\n",
    "            data: dict = response.json()\n",
    "\n",
    "        except Exception as e:\n",
    "            print(e, ':', response)\n",
    "            break\n",
    "        \n",
    "        sample: dict = {\n",
    "            \"persona\": data['persona']['id'],\n",
    "            \"model\": integration[\"model\"],\n",
    "            \"original_author\": thread['persona'],\n",
    "            \"threads\": thread['text'],\n",
    "            \"topic\": thread[\"topic\"],\n",
    "            \"text\": data['response'],\n",
    "            \"payload\": data,\n",
    "            \"annotation\": {\n",
    "                \"politics\": None,\n",
    "                \"persona\": None,\n",
    "                \"tone\": None,\n",
    "                \"authenticity\": None\n",
    "            }\n",
    "        }\n",
    "        print(thread['persona'] + '\\n')\n",
    "        print(thread['text'] + '\\n')\n",
    "        print(str(data['persona']['id']) + '\\n')\n",
    "        print(str(data['response']) + '\\n')\n",
    "        sample['id'] = hashlib.shake_256(str.encode(json.dumps(sample))).hexdigest(24)\n",
    "        open(f'{RAW_DATA_DIR}/{data[\"persona\"][\"id\"]}-{integration[\"model\"].replace(\"/\",\"\")}-{sample[\"id\"]}.json', 'w').write(json.dumps(sample, indent=4))\n",
    "        sleep(1)\n"
   ]
  },
  {
   "cell_type": "code",
   "execution_count": null,
   "metadata": {},
   "outputs": [],
   "source": []
  },
  {
   "cell_type": "code",
   "execution_count": null,
   "metadata": {},
   "outputs": [],
   "source": []
  }
 ],
 "metadata": {
  "kernelspec": {
   "display_name": "Python 3",
   "language": "python",
   "name": "python3"
  },
  "language_info": {
   "codemirror_mode": {
    "name": "ipython",
    "version": 3
   },
   "file_extension": ".py",
   "mimetype": "text/x-python",
   "name": "python",
   "nbconvert_exporter": "python",
   "pygments_lexer": "ipython3",
   "version": "3.7.6"
  }
 },
 "nbformat": 4,
 "nbformat_minor": 5
}
