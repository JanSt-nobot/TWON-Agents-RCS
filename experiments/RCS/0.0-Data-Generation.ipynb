{
 "cells": [
  {
   "cell_type": "code",
   "execution_count": 150,
   "id": "93599aa7",
   "metadata": {},
   "outputs": [],
   "source": [
    "import hashlib\n",
    "import itertools\n",
    "import json\n",
    "import random\n",
    "from time import sleep\n",
    "from typing import List, Dict, Tuple\n",
    "\n",
    "import requests\n",
    "from tqdm import tqdm\n"
   ]
  },
  {
   "cell_type": "code",
   "execution_count": 151,
   "id": "8d8cbe3d",
   "metadata": {},
   "outputs": [],
   "source": [
    "RAW_DATA_DIR: str = './raw'"
   ]
  },
  {
   "cell_type": "code",
   "execution_count": 89,
   "id": "190cbb38",
   "metadata": {},
   "outputs": [],
   "source": [
    "# baseline 1: persona only\n",
    "# TODO: create directories for baselines\n",
    "# directory: baseline_persona_only_GPT35\n",
    "integrations: List[dict] = [\n",
    "    #{\n",
    "    #    \"provider\": \"huggingFace\",\n",
    "    #    \"model\": \"mistralai/Mistral-7B-Instruct-v0.2\",\n",
    "    #},\n",
    "    {\n",
    "        \"provider\": \"OpenAI\",\n",
    "        \"model\": \"gpt-4-turbo-preview\"\n",
    "    }\n",
    "]\n",
    "\n",
    "personas: List[List[str]] = [\n",
    "    [\"neutral\"],\n",
    "    [\"troll\"],\n",
    "    [\"dystopian\"],\n",
    "    [\"devilsadvocate\"],\n",
    "    [\"know-it-all\"],\n",
    "    [\"mediator\"],\n",
    "    [\"educator\"],\n",
    "    [\"karen\"],\n",
    "    [\"misogynist\"],\n",
    "    [\"esoteric\"],\n",
    "    [\"hippie-dense\"],\n",
    "    [\"supportive-saviour-dense\"],\n",
    "    [\"influencer\"],\n",
    "    [\"social-media-activist-dense\"],\n",
    "    [\"anti\"],\n",
    "    [\"hobby-expert-dense\"],\n",
    "    [\"narcissist\"],\n",
    "    [\"sceptic\"],\n",
    "    [\"shy\"],\n",
    "    [\"toxic-positive\"],\n",
    "    [\"traditionalist\"]\n",
    "]\n",
    "RAW_POSTS_DIR: str = \"./sample_og_posts.json\"\n",
    "threads: List[Dict[str, str]] = json.load(open(RAW_POSTS_DIR, 'r'))  "
   ]
  },
  {
   "cell_type": "code",
   "execution_count": 120,
   "id": "39dc22cb",
   "metadata": {},
   "outputs": [],
   "source": [
    "# baseline 2: political views only\n",
    "# directory: baseline_political_views_only_GPT35\n",
    "integrations: List[dict] = [\n",
    "    #{\n",
    "        #\"provider\": \"huggingFace\",\n",
    "        #\"model\": \"mistralai/Mistral-7B-Instruct-v0.2\",\n",
    "    #},\n",
    "    {\n",
    "        \"provider\": \"OpenAI\",\n",
    "        \"model\": \"gpt-4-turbo-preview\"\n",
    "    }\n",
    "]\n",
    "\n",
    "personas: List[List[str]] = [\n",
    "    [\"radical-left\"],\n",
    "    [\"progressive\"],\n",
    "    [\"conservative\"],\n",
    "    [\"far-right\"],\n",
    "    [\"disengaged\"]\n",
    "]\n",
    "RAW_POSTS_DIR: str = \"./sample_og_posts.json\"\n",
    "threads: List[Dict[str, str]] = json.load(open(RAW_POSTS_DIR, 'r'))  "
   ]
  },
  {
   "cell_type": "code",
   "execution_count": 158,
   "id": "5be6e2a7",
   "metadata": {},
   "outputs": [],
   "source": [
    "# baseline 3: neutral + political views\n",
    "# directory: baseline_neutral_political_views_GPT35\n",
    "integrations: List[dict] = [\n",
    "    #{\n",
    "    #    \"provider\": \"huggingFace\",\n",
    "    #    \"model\": \"mistralai/Mistral-7B-Instruct-v0.2\",\n",
    "    #},\n",
    "    {\n",
    "        \"provider\": \"OpenAI\",\n",
    "        \"model\": \"gpt-4-turbo-preview\"\n",
    "    }\n",
    "]\n",
    "\n",
    "personas: List[List[str]] = [\n",
    "    [\"neutral\"],\n",
    "    [\"neutral\", \"radical-left\"],\n",
    "    [\"neutral\", \"progressive\"],\n",
    "    [\"neutral\", \"conservative\"],\n",
    "    [\"neutral\", \"far-right\"],\n",
    "    [\"neutral\", \"disengaged\"]\n",
    "]\n",
    "RAW_POSTS_DIR: str = \"./sample_og_posts.json\"\n",
    "threads: List[Dict[str, str]] = json.load(open(RAW_POSTS_DIR, 'r'))  "
   ]
  },
  {
   "cell_type": "code",
   "execution_count": 164,
   "id": "c86d7df3",
   "metadata": {},
   "outputs": [],
   "source": [
    "# baseline 3: troll and misogynist combinations\n",
    "# directory: baseline_troll_GPT35\n",
    "integrations: List[dict] = [\n",
    "    #{\n",
    "    #    \"provider\": \"huggingFace\",\n",
    "    #    \"model\": \"mistralai/Mistral-7B-Instruct-v0.2\",\n",
    "    #},\n",
    "    {\n",
    "        \"provider\": \"OpenAI\",\n",
    "        \"model\": \"gpt-4-turbo-preview\"\n",
    "    }\n",
    "]\n",
    "\n",
    "personas: List[List[str]] = [\n",
    "    [\"troll\"],\n",
    "    [\"troll\", \"language-default\"],\n",
    "    [\"teenager\", \"troll\", \"language-youth\", \"radical-left\"],\n",
    "    [\"teenager\", \"troll\", \"language-youth\", \"far-right\"],\n",
    "    [\"teenager\", \"troll\", \"language-youth\", \"disengaged\"],\n",
    "    [\"unemployed\", \"troll\", \"language-youth\", \"radical-left\"],\n",
    "    [\"unemployed\", \"troll\", \"language-youth\", \"far-right\"],\n",
    "    [\"unemployed\", \"troll\", \"language-youth\", \"disengaged\"],\n",
    "    [\"misogynist\", \"language-default\"],\n",
    "    [\"teenager\", \"misogynist-dense\", \"language-youth\"],\n",
    "    [\"carpenter\", \"misogynist\", \"language-old\", \"far-right\"],\n",
    "    [\"hustler\", \"misogynist-dense\", \"language-default\", \"conservative\"]\n",
    "]\n",
    "RAW_POSTS_DIR: str = \"./sample_og_posts.json\"\n",
    "threads: List[Dict[str, str]] = json.load(open(RAW_POSTS_DIR, 'r'))  "
   ]
  },
  {
   "cell_type": "code",
   "execution_count": 152,
   "id": "43684d92",
   "metadata": {},
   "outputs": [],
   "source": [
    "integrations: List[dict] = [\n",
    "    #{\n",
    "    #    \"provider\": \"huggingFace\",\n",
    "    #    \"model\": \"mistralai/Mistral-7B-Instruct-v0.2\",\n",
    "    #},\n",
    "    {\n",
    "        \"provider\": \"OpenAI\",\n",
    "        \"model\": \"gpt-4-turbo-preview\"\n",
    "    }\n",
    "]\n",
    "\n",
    "personas: List[List[str]] = [\n",
    "    [\"dystopian\", \"language-default\"],\n",
    "    [\"carpenter\", \"dystopian\", \"language-default\", \"conservative\"],\n",
    "    [\"male-college-student\", \"dystopian\", \"language-youth\", \"progressive\"],\n",
    "    [\"devilsadvocate\", \"language-default\", \"far-right\"],\n",
    "    [\"male-college-student\", \"devilsadvocate\", \"language-youth\", \"radical-left\"],\n",
    "    [\"pensioner\", \"devilsadvocate\", \"language-old\", \"far-right\"],\n",
    "    [\"hustler\", \"know-it-all\", \"language-default\", \"far-right\"],\n",
    "    [\"male-college-student\", \"know-it-all\", \"language-youth\", \"radical-left\"],\n",
    "    [\"know-it-all\", \"language-default\", \"progressive\"],\n",
    "    [\"retired-professor\", \"educator\", \"language-old\", \"progressive\"],\n",
    "    [\"phd-student\", \"educator\", \"language-default\", \"radical-left\"],\n",
    "    [\"privileged-woman\", \"karen\", \"language-default\", \"far-right\"],\n",
    "    [\"affluent-young-woman\", \"karen\", \"language-default\", \"conservative\"],\n",
    "    [\"misogynist-dense\", \"language-default\"],\n",
    "    [\"teenager\", \"misogynist-dense\", \"language-youth\"],\n",
    "    [\"carpenter\", \"misogynist-dense\", \"language-old\", \"far-right\"],\n",
    "    [\"hustler\", \"misogynist-dense\", \"language-default\", \"conservative\"],\n",
    "    [\"esoteric\", \"language-default\", \"radical-left\"],\n",
    "    [\"privileged-woman\", \"esoteric\", \"language-default\", \"far-right\"],\n",
    "    [\"hippie\", \"language-default\"],\n",
    "    [\"privileged-woman\", \"hippie\", \"language-default\", \"radical-left\"],\n",
    "    [\"phd-student\", \"supportive-saviour-dense\", \"language-default\", \"progressive\"],\n",
    "    [\"phd-student\", \"supportive-saviour\", \"language-default\", \"progressive\"],\n",
    "    [\"hustler\", \"influencer-dense\", \"language-default\", \"progressive\"],\n",
    "    [\"wealthy-entrepreneur\", \"influencer\", \"language-default\", \"conservative\"],\n",
    "    [\"affluent-young-woman\", \"social-media-activist-dense\", \"language-default\", \"radical-left\"],\n",
    "    [\"male-college-student\", \"social-media-activist\", \"language-youth\", \"far-right\"],\n",
    "    [\"retired-professor\", \"anti\", \"language-old\", \"far-right\"],\n",
    "    [\"retired-professor\", \"anti\", \"language-old\", \"radical-left\"],\n",
    "    [\"office-worker\", \"anti\", \"language-default\", \"conservative\"],\n",
    "    [\"teenager\", \"anti\", \"language-youth\", \"radical-left\"],\n",
    "    [\"teenager\", \"anti\", \"language-youth\", \"far-right\"],\n",
    "    [\"pensioner\", \"toxic-positive\", \"language-old\", \"disengaged\"],\n",
    "    [\"phd-student\", \"toxic-positive\", \"language-default\"],\n",
    "    [\"wealthy-entrepreneur\", \"traditionalist\", \"language-default\", \"conservative\"],\n",
    "    [\"retired-professor\", \"traditionalist\", \"language-old\", \"conservative\"],\n",
    "    [\"retired-professor\", \"traditionalist\", \"language-old\", \"far-right\"],\n",
    "    [\"unemployed\", \"traditionalist\", \"language-default\", \"conservative\"],\n",
    "    [\"single-parent\", \"sceptic\", \"language-default\", \"conservative\"],\n",
    "    [\"single-parent\", \"sceptic\", \"language-old\", \"far-right\"],\n",
    "    [\"environmental-activist\", \"sceptic\", \"language-default\", \"progressive\"],\n",
    "    [\"single-parent\", \"sceptic\", \"language-youth\", \"progressive\"],\n",
    "    [\"struggling-artist\", \"shy\", \"language-default\", \"disengaged\"],\n",
    "    [\"struggling-artist\", \"shy\", \"language-old\", \"conservative\"],\n",
    "    [\"teenager\", \"shy\", \"language-youth\", \"radical-left\"],\n",
    "    [\"phd-student\", \"shy\", \"language-default\", \"disengaged\"],\n",
    "    [\"privileged-woman\", \"narcissist\", \"language-default\", \"far-right\"],\n",
    "    [\"teenager\", \"narcissist\", \"language-youth\", \"radical-left\"]\n",
    "]\n",
    "RAW_POSTS_DIR: str = \"./sample_og_posts.json\"\n",
    "threads: List[Dict[str, str]] = json.load(open(RAW_POSTS_DIR, 'r'))  "
   ]
  },
  {
   "cell_type": "code",
   "execution_count": null,
   "id": "967c7159-699a-4908-b4fb-fd3172bb0133",
   "metadata": {},
   "outputs": [],
   "source": [
    "# MISTRAL 7B experiment, also for GPT3.5 or minus the \"react accordingly part\" \n",
    "integrations: List[dict] = [\n",
    "    {\n",
    "        \"provider\": \"huggingFace\",\n",
    "        \"model\": \"mistralai/Mistral-7B-Instruct-v0.2\",\n",
    "    }#,\n",
    "    #{\n",
    "    #    \"provider\": \"OpenAI\",\n",
    "    #    \"model\": \"gpt-4-turbo-preview\"\n",
    "    #}\n",
    "]\n",
    "\n",
    "personas: List[List[str]] = [\n",
    "    #[\"dystopian\", \"language-default\"],\n",
    "    [\"carpenter\", \"dystopian\", \"language-default\", \"conservative\"],\n",
    "    #[\"male-college-student\", \"dystopian\", \"language-youth\", \"progressive\"],\n",
    "    #[\"devilsadvocate\", \"language-default\", \"far-right\"],\n",
    "    [\"male-college-student\", \"devilsadvocate\", \"language-youth\", \"radical-left\"],\n",
    "    #[\"pensioner\", \"devilsadvocate\", \"language-old\", \"far-right\"],\n",
    "    [\"hustler\", \"know-it-all\", \"language-default\", \"far-right\"],\n",
    "    #[\"male-college-student\", \"know-it-all\", \"language-youth\", \"radical-left\"],\n",
    "    #[\"know-it-all\", \"language-default\", \"progressive\"],\n",
    "    [\"retired-professor\", \"educator\", \"language-old\", \"progressive\"],\n",
    "    #[\"phd-student\", \"educator\", \"language-default\", \"radical-left\"],\n",
    "    [\"privileged-woman\", \"karen\", \"language-default\", \"far-right\"],\n",
    "    #[\"affluent-young-woman\", \"karen\", \"language-default\", \"conservative\"],\n",
    "    #[\"misogynist-dense\", \"language-default\"],\n",
    "    #[\"teenager\", \"misogynist-dense\", \"language-youth\"],\n",
    "    #[\"carpenter\", \"misogynist-dense\", \"language-old\", \"far-right\"],\n",
    "    [\"hustler\", \"misogynist-dense\", \"language-default\", \"conservative\"],\n",
    "    #[\"esoteric\", \"language-default\", \"radical-left\"],\n",
    "    [\"privileged-woman\", \"esoteric\", \"language-default\", \"far-right\"],\n",
    "    #[\"hippie\", \"language-default\"],\n",
    "    [\"privileged-woman\", \"hippie\", \"language-default\", \"radical-left\"],\n",
    "    [\"phd-student\", \"supportive-saviour-dense\", \"language-default\", \"progressive\"],\n",
    "    #[\"phd-student\", \"supportive-saviour\", \"language-default\", \"progressive\"],\n",
    "    [\"hustler\", \"influencer-dense\", \"language-default\", \"progressive\"],\n",
    "    #[\"wealthy-entrepreneur\", \"influencer\", \"language-default\", \"conservative\"],\n",
    "    [\"affluent-young-woman\", \"social-media-activist-dense\", \"language-default\", \"radical-left\"],\n",
    "    [\"male-college-student\", \"social-media-activist\", \"language-youth\", \"far-right\"],\n",
    "    #[\"retired-professor\", \"anti\", \"language-old\", \"far-right\"],\n",
    "    #[\"retired-professor\", \"anti\", \"language-old\", \"radical-left\"],\n",
    "    [\"office-worker\", \"anti\", \"language-default\", \"conservative\"],\n",
    "    #[\"teenager\", \"anti\", \"language-youth\", \"radical-left\"],\n",
    "    #[\"teenager\", \"anti\", \"language-youth\", \"far-right\"],\n",
    "    #[\"pensioner\", \"toxic-positive\", \"language-old\", \"disengaged\"],\n",
    "    [\"phd-student\", \"toxic-positive\", \"language-default\"],\n",
    "    #[\"wealthy-entrepreneur\", \"traditionalist\", \"language-default\", \"conservative\"],\n",
    "    #[\"retired-professor\", \"traditionalist\", \"language-old\", \"conservative\"],\n",
    "    #[\"retired-professor\", \"traditionalist\", \"language-old\", \"far-right\"],\n",
    "    [\"unemployed\", \"traditionalist\", \"language-default\", \"conservative\"],\n",
    "    [\"single-parent\", \"sceptic\", \"language-default\", \"conservative\"],\n",
    "    #[\"single-parent\", \"sceptic\", \"language-old\", \"far-right\"],\n",
    "    [\"environmental-activist\", \"sceptic\", \"language-default\", \"progressive\"],\n",
    "    #[\"single-parent\", \"sceptic\", \"language-youth\", \"progressive\"],\n",
    "    [\"struggling-artist\", \"shy\", \"language-default\", \"disengaged\"],\n",
    "    #[\"struggling-artist\", \"shy\", \"language-old\", \"conservative\"],\n",
    "    #[\"teenager\", \"shy\", \"language-youth\", \"radical-left\"],\n",
    "    #[\"phd-student\", \"shy\", \"language-default\", \"disengaged\"],\n",
    "    [\"privileged-woman\", \"narcissist\", \"language-default\", \"far-right\"],\n",
    "    #[\"teenager\", \"narcissist\", \"language-youth\", \"radical-left\"]\n",
    "]\n",
    "RAW_POSTS_DIR: str = \"./sample_og_posts.json\"\n",
    "threads: List[Dict[str, str]] = json.load(open(RAW_POSTS_DIR, 'r'))  "
   ]
  },
  {
   "cell_type": "code",
   "execution_count": 165,
   "id": "1c149751",
   "metadata": {},
   "outputs": [],
   "source": [
    "# number of iterations\n",
    "x: int = 1\n",
    "# hidden parameters (randomly chosen)\n",
    "length: List[str] = [\"50\", \"100\", \"200\", \"280\"] "
   ]
  },
  {
   "cell_type": "code",
   "execution_count": 166,
   "id": "83052e7c",
   "metadata": {},
   "outputs": [
    {
     "data": {
      "text/plain": [
       "9"
      ]
     },
     "execution_count": 166,
     "metadata": {},
     "output_type": "execute_result"
    }
   ],
   "source": [
    "len(threads)"
   ]
  },
  {
   "cell_type": "code",
   "execution_count": 167,
   "id": "8f578961",
   "metadata": {},
   "outputs": [
    {
     "data": {
      "text/plain": [
       "108"
      ]
     },
     "execution_count": 167,
     "metadata": {},
     "output_type": "execute_result"
    }
   ],
   "source": [
    "configurations: List[Tuple] = list(\n",
    "    itertools.product(*[integrations, personas, threads])\n",
    ")\n",
    "random.shuffle(configurations)\n",
    "len(configurations)"
   ]
  },
  {
   "cell_type": "code",
   "execution_count": 168,
   "id": "8eeead69",
   "metadata": {},
   "outputs": [
    {
     "data": {
      "text/plain": [
       "({'provider': 'OpenAI', 'model': 'gpt-4-turbo-preview'},\n",
       " ['unemployed', 'troll', 'language-youth', 'radical-left'],\n",
       " {'persona': 'liberal',\n",
       "  'model': 'real-SenMarkey',\n",
       "  'topic': 'Environment',\n",
       "  'platform': 'Twitter',\n",
       "  'language': 'English',\n",
       "  'text': 'The clean energy revolution is here and we’re going to power it with green union jobs.',\n",
       "  'annotation': {'topic': None, 'persona': None, 'authenticity': None},\n",
       "  'id': 'e705af222010c2f6bc74d73e61eabc6093d5800e19456729'})"
      ]
     },
     "execution_count": 168,
     "metadata": {},
     "output_type": "execute_result"
    }
   ],
   "source": [
    "configurations[0]"
   ]
  },
  {
   "cell_type": "code",
   "execution_count": 169,
   "id": "79046a89",
   "metadata": {},
   "outputs": [
    {
     "name": "stderr",
     "output_type": "stream",
     "text": [
      "\n",
      "\n",
      "\n",
      "\n",
      "\n",
      "\n",
      "\n",
      "\n",
      "\n",
      "\n",
      "  0%|          | 0/108 [00:00<?, ?it/s]\u001b[A\u001b[A\u001b[A\u001b[A\u001b[A\u001b[A\u001b[A\u001b[A\u001b[A\u001b[A"
     ]
    },
    {
     "name": "stdout",
     "output_type": "stream",
     "text": [
      "liberal\n",
      "\n",
      "The clean energy revolution is here and we’re going to power it with green union jobs.\n",
      "\n",
      "unemployed_troll_language-youth_radical-left\n",
      "\n",
      "lol clean energy, but at what cost? gonna need a lot more than fancy green tech to fix this mess. what about us on the sidelines? 🤷‍♂️ green jobs or not, until it's equal for all, it's just capitalist propaganda.\n",
      "\n"
     ]
    },
    {
     "name": "stderr",
     "output_type": "stream",
     "text": [
      "\n",
      "\n",
      "\n",
      "\n",
      "\n",
      "\n",
      "\n",
      "\n",
      "\n",
      "\n",
      "  1%|          | 1/108 [00:07<12:56,  7.26s/it]\u001b[A\u001b[A\u001b[A\u001b[A\u001b[A\u001b[A\u001b[A\u001b[A\u001b[A\u001b[A"
     ]
    },
    {
     "name": "stdout",
     "output_type": "stream",
     "text": [
      "conservative\n",
      "\n",
      "Biden’s set on taking away your choice and forcing you to abide by his radical climate agenda. Un-American!\n",
      "\n",
      "teenager_troll_language-youth_far-right\n",
      "\n",
      "lol bets on how long till we gotta sail to mcdonald's cause of rising sea levels? biden's on a wild one  🚤🍔\n",
      "\n"
     ]
    },
    {
     "name": "stderr",
     "output_type": "stream",
     "text": [
      "\n",
      "\n",
      "\n",
      "\n",
      "\n",
      "\n",
      "\n",
      "\n",
      "\n",
      "\n",
      "  2%|▏         | 2/108 [00:13<12:17,  6.96s/it]\u001b[A\u001b[A\u001b[A\u001b[A\u001b[A\u001b[A\u001b[A\u001b[A\u001b[A\u001b[A"
     ]
    },
    {
     "name": "stdout",
     "output_type": "stream",
     "text": [
      "alt_right\n",
      "\n",
      "The real healthcare crisis isn't the cost, it's the government interference. Free market solutions, not price controls or single-payer systems, will bring affordability and quality care to all.\n",
      "\n",
      "teenager_troll_language-youth_far-right\n",
      "\n",
      "lol gov meddling in everything, amirite? let the market vibe, bro. socialists wanna spoon-feed us, nah thanks  🚀✌️💸\n",
      "\n"
     ]
    },
    {
     "name": "stderr",
     "output_type": "stream",
     "text": [
      "\n",
      "\n",
      "\n",
      "\n",
      "\n",
      "\n",
      "\n",
      "\n",
      "\n",
      "\n",
      "  3%|▎         | 3/108 [00:18<11:12,  6.41s/it]\u001b[A\u001b[A\u001b[A\u001b[A\u001b[A\u001b[A\u001b[A\u001b[A\u001b[A\u001b[A"
     ]
    },
    {
     "name": "stdout",
     "output_type": "stream",
     "text": [
      "alt_right\n",
      "\n",
      "Ridiculous how our energy prices keep rising while we're busy funding endless wars and foreign interventions. Time to prioritize AMERICA and our people! 🇺🇸\n",
      "\n",
      "hustler_misogynist-dense_language-default_conservative\n",
      "\n",
      "exactly, bro. it's all about putting america first. tired of my hard-earned money going to nonsense while we overlook our own. let's focus on building up here, deregulate, and let men lead the way back to prosperity. enough with the distractions! 🇺🇸\n",
      "\n"
     ]
    },
    {
     "name": "stderr",
     "output_type": "stream",
     "text": [
      "\n",
      "\n",
      "\n",
      "\n",
      "\n",
      "\n",
      "\n",
      "\n",
      "\n",
      "\n",
      "  4%|▎         | 4/108 [00:26<11:54,  6.87s/it]\u001b[A\u001b[A\u001b[A\u001b[A\u001b[A\u001b[A\u001b[A\u001b[A\u001b[A\u001b[A"
     ]
    },
    {
     "name": "stdout",
     "output_type": "stream",
     "text": [
      "conservative\n",
      "\n",
      "Inflation running rampant, eroding the purchasing power of hardworking Americans and threatening our economic stability - time to reign in government spending and uphold the principles of fiscal responsibility for a prosperous future! 💪🏼💵📉\n",
      "\n",
      "troll\n",
      "\n",
      "Ah yes, because literally NOTHING screams prosperity like hoarding cash under our mattresses. Who needs meals and meds when we can just feast on the concept of fiscal responsibility? Austerity vibes only, fam. 💸😂 Let’s just print some Monopoly money & call it a day! 🎩🏦🤷‍♂️\n",
      "\n"
     ]
    },
    {
     "name": "stderr",
     "output_type": "stream",
     "text": [
      "\n",
      "\n",
      "\n",
      "\n",
      "\n",
      "\n",
      "\n",
      "\n",
      "\n",
      "\n",
      "  5%|▍         | 5/108 [00:34<12:30,  7.28s/it]\u001b[A\u001b[A\u001b[A\u001b[A\u001b[A\u001b[A\u001b[A\u001b[A\u001b[A\u001b[A"
     ]
    },
    {
     "name": "stdout",
     "output_type": "stream",
     "text": [
      "conservative\n",
      "\n",
      "Inflation running rampant, eroding the purchasing power of hardworking Americans and threatening our economic stability - time to reign in government spending and uphold the principles of fiscal responsibility for a prosperous future! 💪🏼💵📉\n",
      "\n",
      "teenager_troll_language-youth_disengaged\n",
      "\n",
      "lol money go brrr, who needs stability? 🤑💸\n",
      "\n"
     ]
    },
    {
     "name": "stderr",
     "output_type": "stream",
     "text": [
      "\n",
      "\n",
      "\n",
      "\n",
      "\n",
      "\n",
      "\n",
      "\n",
      "\n",
      "\n",
      "  6%|▌         | 6/108 [00:37<09:59,  5.87s/it]\u001b[A\u001b[A\u001b[A\u001b[A\u001b[A\u001b[A\u001b[A\u001b[A\u001b[A\u001b[A"
     ]
    },
    {
     "name": "stdout",
     "output_type": "stream",
     "text": [
      "conservative\n",
      "\n",
      "Biden’s set on taking away your choice and forcing you to abide by his radical climate agenda. Un-American!\n",
      "\n",
      "misogynist_language-default\n",
      "\n",
      "just another step to control us, typical\n",
      "\n"
     ]
    },
    {
     "name": "stderr",
     "output_type": "stream",
     "text": [
      "\n",
      "\n",
      "\n",
      "\n",
      "\n",
      "\n",
      "\n",
      "\n",
      "\n",
      "\n",
      "  6%|▋         | 7/108 [00:39<08:03,  4.79s/it]\u001b[A\u001b[A\u001b[A\u001b[A\u001b[A\u001b[A\u001b[A\u001b[A\u001b[A\u001b[A"
     ]
    },
    {
     "name": "stdout",
     "output_type": "stream",
     "text": [
      "liberal\n",
      "\n",
      "Abortion is health care & should be between a woman & her doctor, not left to politicians like Yvette Herrell who would ban abortion without exceptions for rape, incest or the life of the mother. #NM02\n",
      "\n",
      "troll_language-default\n",
      "\n",
      "lol imagine trusting politicians to do anything right, next they'll be selling bottled air. health care? more like don't care.\n",
      "\n"
     ]
    },
    {
     "name": "stderr",
     "output_type": "stream",
     "text": [
      "\n",
      "\n",
      "\n",
      "\n",
      "\n",
      "\n",
      "\n",
      "\n",
      "\n",
      "\n",
      "  7%|▋         | 8/108 [00:43<07:29,  4.50s/it]\u001b[A\u001b[A\u001b[A\u001b[A\u001b[A\u001b[A\u001b[A\u001b[A\u001b[A\u001b[A"
     ]
    },
    {
     "name": "stdout",
     "output_type": "stream",
     "text": [
      "conservative\n",
      "\n",
      ".⁦@AOC⁩ is it a “crime against humanity” when ⁦@POTUS⁩ secretly flies migrants into Westchester (the place you grew up)? The crime here is allowing the continued flow of illegal immigration, human trafficking and drugs. It has to stop!\n",
      "\n",
      "carpenter_misogynist_language-old_far-right\n",
      "\n",
      "@conservative Absolutely right. It's appalling to see our borders used as a revolving door. Our ancestors built this country with sweat & blood, not to have it overrun. Law and order must prevail. AOC and the like ignore the real victims here, our families and communities.\n",
      "\n"
     ]
    },
    {
     "name": "stderr",
     "output_type": "stream",
     "text": [
      "\n",
      "\n",
      "\n",
      "\n",
      "\n",
      "\n",
      "\n",
      "\n",
      "\n",
      "\n",
      "  8%|▊         | 9/108 [00:50<08:52,  5.37s/it]\u001b[A\u001b[A\u001b[A\u001b[A\u001b[A\u001b[A\u001b[A\u001b[A\u001b[A\u001b[A"
     ]
    },
    {
     "name": "stdout",
     "output_type": "stream",
     "text": [
      "alt_right\n",
      "\n",
      "The real healthcare crisis isn't the cost, it's the government interference. Free market solutions, not price controls or single-payer systems, will bring affordability and quality care to all.\n",
      "\n",
      "troll_language-default\n",
      "\n",
      "lol sure, cause greed heals all wounds\n",
      "\n"
     ]
    },
    {
     "name": "stderr",
     "output_type": "stream",
     "text": [
      "\n",
      "\n",
      "\n",
      "\n",
      "\n",
      "\n",
      "\n",
      "\n",
      "\n",
      "\n",
      "  9%|▉         | 10/108 [00:52<07:07,  4.36s/it]\u001b[A\u001b[A\u001b[A\u001b[A\u001b[A\u001b[A\u001b[A\u001b[A\u001b[A\u001b[A"
     ]
    },
    {
     "name": "stdout",
     "output_type": "stream",
     "text": [
      "conservative\n",
      "\n",
      ".⁦@AOC⁩ is it a “crime against humanity” when ⁦@POTUS⁩ secretly flies migrants into Westchester (the place you grew up)? The crime here is allowing the continued flow of illegal immigration, human trafficking and drugs. It has to stop!\n",
      "\n",
      "teenager_troll_language-youth_far-right\n",
      "\n",
      "lol @conservative triggered much? aoc living rent-free in your head. potus doing a ninja move and y'all can't even. where's the proof or you just crafting a new conspiracy theory for the gram?  with legos this time. keep the memes coming.\n",
      "\n"
     ]
    },
    {
     "name": "stderr",
     "output_type": "stream",
     "text": [
      "\n",
      "\n",
      "\n",
      "\n",
      "\n",
      "\n",
      "\n",
      "\n",
      "\n",
      "\n",
      " 10%|█         | 11/108 [01:01<09:15,  5.73s/it]\u001b[A\u001b[A\u001b[A\u001b[A\u001b[A\u001b[A\u001b[A\u001b[A\u001b[A\u001b[A"
     ]
    },
    {
     "name": "stdout",
     "output_type": "stream",
     "text": [
      "conservative\n",
      "\n",
      "Biden’s set on taking away your choice and forcing you to abide by his radical climate agenda. Un-American!\n",
      "\n",
      "hustler_misogynist-dense_language-default_conservative\n",
      "\n",
      "gov't meddling = less freedom\n",
      "\n"
     ]
    },
    {
     "name": "stderr",
     "output_type": "stream",
     "text": [
      "\n",
      "\n",
      "\n",
      "\n",
      "\n",
      "\n",
      "\n",
      "\n",
      "\n",
      "\n",
      " 11%|█         | 12/108 [01:04<07:43,  4.83s/it]\u001b[A\u001b[A\u001b[A\u001b[A\u001b[A\u001b[A\u001b[A\u001b[A\u001b[A\u001b[A"
     ]
    },
    {
     "name": "stdout",
     "output_type": "stream",
     "text": [
      "liberal\n",
      "\n",
      "Abortion is health care & should be between a woman & her doctor, not left to politicians like Yvette Herrell who would ban abortion without exceptions for rape, incest or the life of the mother. #NM02\n",
      "\n",
      "teenager_misogynist-dense_language-youth\n",
      "\n",
      "don't see how turning a political issue into a \"health care\" debate makes sense. it's about life, not just convenience.\n",
      "\n"
     ]
    },
    {
     "name": "stderr",
     "output_type": "stream",
     "text": [
      "\n",
      "\n",
      "\n",
      "\n",
      "\n",
      "\n",
      "\n",
      "\n",
      "\n",
      "\n",
      " 12%|█▏        | 13/108 [01:07<06:37,  4.18s/it]\u001b[A\u001b[A\u001b[A\u001b[A\u001b[A\u001b[A\u001b[A\u001b[A\u001b[A\u001b[A"
     ]
    },
    {
     "name": "stdout",
     "output_type": "stream",
     "text": [
      "alt_right\n",
      "\n",
      "The real healthcare crisis isn't the cost, it's the government interference. Free market solutions, not price controls or single-payer systems, will bring affordability and quality care to all.\n",
      "\n",
      "teenager_troll_language-youth_radical-left\n",
      "\n",
      "lol free market more like free fail. let's just spray paint a giant hammer and sickle on big pharma's HQ and see how quickly care becomes \"affordable\". gov interference? nah, it's the greed, fam.\n",
      "\n"
     ]
    },
    {
     "name": "stderr",
     "output_type": "stream",
     "text": [
      "\n",
      "\n",
      "\n",
      "\n",
      "\n",
      "\n",
      "\n",
      "\n",
      "\n",
      "\n",
      " 13%|█▎        | 14/108 [01:12<07:13,  4.61s/it]\u001b[A\u001b[A\u001b[A\u001b[A\u001b[A\u001b[A\u001b[A\u001b[A\u001b[A\u001b[A"
     ]
    },
    {
     "name": "stdout",
     "output_type": "stream",
     "text": [
      "liberal\n",
      "\n",
      "The clean energy revolution is here and we’re going to power it with green union jobs.\n",
      "\n",
      "unemployed_troll_language-youth_far-right\n",
      "\n",
      "lol, windmills gonna steal our jobs now? smh\n",
      "\n"
     ]
    },
    {
     "name": "stderr",
     "output_type": "stream",
     "text": [
      "\n",
      "\n",
      "\n",
      "\n",
      "\n",
      "\n",
      "\n",
      "\n",
      "\n",
      "\n",
      " 14%|█▍        | 15/108 [01:15<06:23,  4.12s/it]\u001b[A\u001b[A\u001b[A\u001b[A\u001b[A\u001b[A\u001b[A\u001b[A\u001b[A\u001b[A"
     ]
    },
    {
     "name": "stdout",
     "output_type": "stream",
     "text": [
      "liberal\n",
      "\n",
      "🌍💙 Let's talk about unemployment in our economy. It's crucial that we address this issue head-on! The pandemic has affected so many lives, and we need bold action to support job creation and provide a safety net for those who are struggling. We must invest in education and skills training programs to ensure that everyone has the opportunity to thrive in a changing job market. Together, we can build a future that is fair and equitable for all.\n",
      "\n",
      "unemployed_troll_language-youth_far-right\n",
      "\n",
      "lol just print more jobs bro 🖨️💸\n",
      "\n"
     ]
    },
    {
     "name": "stderr",
     "output_type": "stream",
     "text": [
      "\n",
      "\n",
      "\n",
      "\n",
      "\n",
      "\n",
      "\n",
      "\n",
      "\n",
      "\n",
      " 15%|█▍        | 16/108 [01:20<06:39,  4.34s/it]\u001b[A\u001b[A\u001b[A\u001b[A\u001b[A\u001b[A\u001b[A\u001b[A\u001b[A\u001b[A"
     ]
    },
    {
     "name": "stdout",
     "output_type": "stream",
     "text": [
      "conservative\n",
      "\n",
      "Biden’s set on taking away your choice and forcing you to abide by his radical climate agenda. Un-American!\n",
      "\n",
      "troll_language-default\n",
      "\n",
      "lol can't wait for biden to confiscate my plastic straws  🤡🌎\n",
      "\n"
     ]
    },
    {
     "name": "stderr",
     "output_type": "stream",
     "text": [
      "\n",
      "\n",
      "\n",
      "\n",
      "\n",
      "\n",
      "\n",
      "\n",
      "\n",
      "\n",
      " 16%|█▌        | 17/108 [01:24<06:24,  4.23s/it]\u001b[A\u001b[A\u001b[A\u001b[A\u001b[A\u001b[A\u001b[A\u001b[A\u001b[A\u001b[A"
     ]
    },
    {
     "name": "stdout",
     "output_type": "stream",
     "text": [
      "alt_right\n",
      "\n",
      "The real healthcare crisis isn't the cost, it's the government interference. Free market solutions, not price controls or single-payer systems, will bring affordability and quality care to all.\n",
      "\n",
      "unemployed_troll_language-youth_radical-left\n",
      "\n",
      "lol sure jan, bc the free market has totes fixed everything, amirite? 😂 let's just sprinkle some capitalism on it and watch as it magically heals all. healthcare should be a right, not a privilege. down with corporate greed!   ✊🚩🔥\n",
      "\n"
     ]
    },
    {
     "name": "stderr",
     "output_type": "stream",
     "text": [
      "\n",
      "\n",
      "\n",
      "\n",
      "\n",
      "\n",
      "\n",
      "\n",
      "\n",
      "\n",
      " 17%|█▋        | 18/108 [01:30<07:02,  4.69s/it]\u001b[A\u001b[A\u001b[A\u001b[A\u001b[A\u001b[A\u001b[A\u001b[A\u001b[A\u001b[A"
     ]
    },
    {
     "name": "stdout",
     "output_type": "stream",
     "text": [
      "conservative\n",
      "\n",
      ".⁦@AOC⁩ is it a “crime against humanity” when ⁦@POTUS⁩ secretly flies migrants into Westchester (the place you grew up)? The crime here is allowing the continued flow of illegal immigration, human trafficking and drugs. It has to stop!\n",
      "\n",
      "troll_language-default\n",
      "\n",
      "lol y'all worried 'bout flights? i'm waitin for teleportation. where's that tech at?\n",
      "\n"
     ]
    },
    {
     "name": "stderr",
     "output_type": "stream",
     "text": [
      "\n",
      "\n",
      "\n",
      "\n",
      "\n",
      "\n",
      "\n",
      "\n",
      "\n",
      "\n",
      " 18%|█▊        | 19/108 [01:34<06:29,  4.38s/it]\u001b[A\u001b[A\u001b[A\u001b[A\u001b[A\u001b[A\u001b[A\u001b[A\u001b[A\u001b[A"
     ]
    },
    {
     "name": "stdout",
     "output_type": "stream",
     "text": [
      "conservative\n",
      "\n",
      ".⁦@AOC⁩ is it a “crime against humanity” when ⁦@POTUS⁩ secretly flies migrants into Westchester (the place you grew up)? The crime here is allowing the continued flow of illegal immigration, human trafficking and drugs. It has to stop!\n",
      "\n",
      "teenager_troll_language-youth_radical-left\n",
      "\n",
      "real crime is this capitalist hellscape making ppl flee their homes in the first place. also, lol @ blaming migrants for everything 🤡\n",
      "\n"
     ]
    },
    {
     "name": "stderr",
     "output_type": "stream",
     "text": [
      "\n",
      "\n",
      "\n",
      "\n",
      "\n",
      "\n",
      "\n",
      "\n",
      "\n",
      "\n",
      " 19%|█▊        | 20/108 [01:38<06:36,  4.51s/it]\u001b[A\u001b[A\u001b[A\u001b[A\u001b[A\u001b[A\u001b[A\u001b[A\u001b[A\u001b[A"
     ]
    },
    {
     "name": "stdout",
     "output_type": "stream",
     "text": [
      "alt_right\n",
      "\n",
      "Ridiculous how our energy prices keep rising while we're busy funding endless wars and foreign interventions. Time to prioritize AMERICA and our people! 🇺🇸\n",
      "\n",
      "teenager_misogynist-dense_language-youth\n",
      "\n",
      "i can't execute this task.\n",
      "\n"
     ]
    },
    {
     "name": "stderr",
     "output_type": "stream",
     "text": [
      "\n",
      "\n",
      "\n",
      "\n",
      "\n",
      "\n",
      "\n",
      "\n",
      "\n",
      "\n",
      " 19%|█▉        | 21/108 [01:41<05:31,  3.81s/it]\u001b[A\u001b[A\u001b[A\u001b[A\u001b[A\u001b[A\u001b[A\u001b[A\u001b[A\u001b[A"
     ]
    },
    {
     "name": "stdout",
     "output_type": "stream",
     "text": [
      "alt_right\n",
      "\n",
      "A high school debate team ignores the debate prompt and instead attacks white Christians...and then WINS THE DEBATE: \"We demand that white Christians be held accountable for America's original sin.\" This vile, anti-White racism is rewarded by so-called \"academics.\" We must stop it.\n",
      "\n",
      "troll\n",
      "\n",
      "Oh no, did the debate team hurt your feelings? Should we call a wambulance? 🚑 Snowflakes melting in the heat of a high school debate - priceless! 😂\n",
      "\n"
     ]
    },
    {
     "name": "stderr",
     "output_type": "stream",
     "text": [
      "\n",
      "\n",
      "\n",
      "\n",
      "\n",
      "\n",
      "\n",
      "\n",
      "\n",
      "\n",
      " 20%|██        | 22/108 [01:46<06:06,  4.26s/it]\u001b[A\u001b[A\u001b[A\u001b[A\u001b[A\u001b[A\u001b[A\u001b[A\u001b[A\u001b[A"
     ]
    },
    {
     "name": "stdout",
     "output_type": "stream",
     "text": [
      "conservative\n",
      "\n",
      "Inflation running rampant, eroding the purchasing power of hardworking Americans and threatening our economic stability - time to reign in government spending and uphold the principles of fiscal responsibility for a prosperous future! 💪🏼💵📉\n",
      "\n",
      "carpenter_misogynist_language-old_far-right\n",
      "\n",
      "Absolutely! Gov't waste is stealing our future. Time to get back to basics, cut the excess, and protect the pockets of REAL Americans. Enough is enough!  🇺🇸💪🏼\n",
      "\n"
     ]
    },
    {
     "name": "stderr",
     "output_type": "stream",
     "text": [
      "\n",
      "\n",
      "\n",
      "\n",
      "\n",
      "\n",
      "\n",
      "\n",
      "\n",
      "\n",
      " 21%|██▏       | 23/108 [01:53<07:24,  5.23s/it]\u001b[A\u001b[A\u001b[A\u001b[A\u001b[A\u001b[A\u001b[A\u001b[A\u001b[A\u001b[A"
     ]
    },
    {
     "name": "stdout",
     "output_type": "stream",
     "text": [
      "liberal\n",
      "\n",
      "Abortion is health care & should be between a woman & her doctor, not left to politicians like Yvette Herrell who would ban abortion without exceptions for rape, incest or the life of the mother. #NM02\n",
      "\n",
      "carpenter_misogynist_language-old_far-right\n",
      "\n",
      "Govt protects society's morals. Not everything is a right.\n",
      "\n"
     ]
    },
    {
     "name": "stderr",
     "output_type": "stream",
     "text": [
      "\n",
      "\n",
      "\n",
      "\n",
      "\n",
      "\n",
      "\n",
      "\n",
      "\n",
      "\n",
      " 22%|██▏       | 24/108 [01:57<06:30,  4.65s/it]\u001b[A\u001b[A\u001b[A\u001b[A\u001b[A\u001b[A\u001b[A\u001b[A\u001b[A\u001b[A"
     ]
    },
    {
     "name": "stdout",
     "output_type": "stream",
     "text": [
      "liberal\n",
      "\n",
      "🌍💙 Let's talk about unemployment in our economy. It's crucial that we address this issue head-on! The pandemic has affected so many lives, and we need bold action to support job creation and provide a safety net for those who are struggling. We must invest in education and skills training programs to ensure that everyone has the opportunity to thrive in a changing job market. Together, we can build a future that is fair and equitable for all.\n",
      "\n",
      "misogynist_language-default\n",
      "\n",
      "focus on real issues, not this fluff\n",
      "\n"
     ]
    },
    {
     "name": "stderr",
     "output_type": "stream",
     "text": [
      "\n",
      "\n",
      "\n",
      "\n",
      "\n",
      "\n",
      "\n",
      "\n",
      "\n",
      "\n",
      " 23%|██▎       | 25/108 [01:59<05:27,  3.94s/it]\u001b[A\u001b[A\u001b[A\u001b[A\u001b[A\u001b[A\u001b[A\u001b[A\u001b[A\u001b[A"
     ]
    },
    {
     "name": "stdout",
     "output_type": "stream",
     "text": [
      "liberal\n",
      "\n",
      "🌍💙 Let's talk about unemployment in our economy. It's crucial that we address this issue head-on! The pandemic has affected so many lives, and we need bold action to support job creation and provide a safety net for those who are struggling. We must invest in education and skills training programs to ensure that everyone has the opportunity to thrive in a changing job market. Together, we can build a future that is fair and equitable for all.\n",
      "\n",
      "teenager_misogynist-dense_language-youth\n",
      "\n",
      "sorry but maybe if society didn't push for \"equality\" over merit we wouldn't be here? back in the day, roles were clear & economy thrived. now everyone's confused, pushing for jobs they ain't fit for. let's focus on real skills, not just handing things out cause it's \"fair\n",
      "\n"
     ]
    },
    {
     "name": "stderr",
     "output_type": "stream",
     "text": [
      "\n",
      "\n",
      "\n",
      "\n",
      "\n",
      "\n",
      "\n",
      "\n",
      "\n",
      "\n",
      " 24%|██▍       | 26/108 [02:05<06:17,  4.60s/it]\u001b[A\u001b[A\u001b[A\u001b[A\u001b[A\u001b[A\u001b[A\u001b[A\u001b[A\u001b[A"
     ]
    },
    {
     "name": "stdout",
     "output_type": "stream",
     "text": [
      "conservative\n",
      "\n",
      "Biden’s set on taking away your choice and forcing you to abide by his radical climate agenda. Un-American!\n",
      "\n",
      "teenager_misogynist-dense_language-youth\n",
      "\n",
      "biden's a simp for earth, smh\n",
      "\n"
     ]
    },
    {
     "name": "stderr",
     "output_type": "stream",
     "text": [
      "\n",
      "\n",
      "\n",
      "\n",
      "\n",
      "\n",
      "\n",
      "\n",
      "\n",
      "\n",
      " 25%|██▌       | 27/108 [02:08<05:35,  4.14s/it]\u001b[A\u001b[A\u001b[A\u001b[A\u001b[A\u001b[A\u001b[A\u001b[A\u001b[A\u001b[A"
     ]
    },
    {
     "name": "stdout",
     "output_type": "stream",
     "text": [
      "liberal\n",
      "\n",
      "The clean energy revolution is here and we’re going to power it with green union jobs.\n",
      "\n",
      "teenager_troll_language-youth_disengaged\n",
      "\n",
      "lmao guess we'll be biking to work cuz who needs reliability amirite?  catch me riding in with my unicorn squad, no emissions just vibes 😂🦄💨\n",
      "\n"
     ]
    },
    {
     "name": "stderr",
     "output_type": "stream",
     "text": [
      "\n",
      "\n",
      "\n",
      "\n",
      "\n",
      "\n",
      "\n",
      "\n",
      "\n",
      "\n",
      " 26%|██▌       | 28/108 [02:14<06:03,  4.55s/it]\u001b[A\u001b[A\u001b[A\u001b[A\u001b[A\u001b[A\u001b[A\u001b[A\u001b[A\u001b[A"
     ]
    },
    {
     "name": "stdout",
     "output_type": "stream",
     "text": [
      "liberal\n",
      "\n",
      "Abortion is health care & should be between a woman & her doctor, not left to politicians like Yvette Herrell who would ban abortion without exceptions for rape, incest or the life of the mother. #NM02\n",
      "\n",
      "teenager_troll_language-youth_radical-left\n",
      "\n",
      "y'all forgetting the state is the prob\n",
      "\n"
     ]
    },
    {
     "name": "stderr",
     "output_type": "stream",
     "text": [
      "\n",
      "\n",
      "\n",
      "\n",
      "\n",
      "\n",
      "\n",
      "\n",
      "\n",
      "\n",
      " 27%|██▋       | 29/108 [02:16<05:16,  4.01s/it]\u001b[A\u001b[A\u001b[A\u001b[A\u001b[A\u001b[A\u001b[A\u001b[A\u001b[A\u001b[A"
     ]
    },
    {
     "name": "stdout",
     "output_type": "stream",
     "text": [
      "conservative\n",
      "\n",
      "Biden’s set on taking away your choice and forcing you to abide by his radical climate agenda. Un-American!\n",
      "\n",
      "teenager_troll_language-youth_radical-left\n",
      "\n",
      "lol biden's a capitalist lite, we need full commie vibes 🚩\n",
      "\n"
     ]
    },
    {
     "name": "stderr",
     "output_type": "stream",
     "text": [
      "\n",
      "\n",
      "\n",
      "\n",
      "\n",
      "\n",
      "\n",
      "\n",
      "\n",
      "\n",
      " 28%|██▊       | 30/108 [02:20<05:06,  3.93s/it]\u001b[A\u001b[A\u001b[A\u001b[A\u001b[A\u001b[A\u001b[A\u001b[A\u001b[A\u001b[A"
     ]
    },
    {
     "name": "stdout",
     "output_type": "stream",
     "text": [
      "conservative\n",
      "\n",
      "Biden’s set on taking away your choice and forcing you to abide by his radical climate agenda. Un-American!\n",
      "\n",
      "troll\n",
      "\n",
      "Ah yes, because breathing clean air is so overrated 🙄\n",
      "\n"
     ]
    },
    {
     "name": "stderr",
     "output_type": "stream",
     "text": [
      "\n",
      "\n",
      "\n",
      "\n",
      "\n",
      "\n",
      "\n",
      "\n",
      "\n",
      "\n",
      " 29%|██▊       | 31/108 [02:24<04:56,  3.84s/it]\u001b[A\u001b[A\u001b[A\u001b[A\u001b[A\u001b[A\u001b[A\u001b[A\u001b[A\u001b[A"
     ]
    },
    {
     "name": "stdout",
     "output_type": "stream",
     "text": [
      "alt_right\n",
      "\n",
      "Ridiculous how our energy prices keep rising while we're busy funding endless wars and foreign interventions. Time to prioritize AMERICA and our people! 🇺🇸\n",
      "\n",
      "misogynist_language-default\n",
      "\n",
      "finally someone gets it! america first 🇺🇸\n",
      "\n"
     ]
    },
    {
     "name": "stderr",
     "output_type": "stream",
     "text": [
      "\n",
      "\n",
      "\n",
      "\n",
      "\n",
      "\n",
      "\n",
      "\n",
      "\n",
      "\n",
      " 30%|██▉       | 32/108 [02:26<04:24,  3.47s/it]\u001b[A\u001b[A\u001b[A\u001b[A\u001b[A\u001b[A\u001b[A\u001b[A\u001b[A\u001b[A"
     ]
    },
    {
     "name": "stdout",
     "output_type": "stream",
     "text": [
      "alt_right\n",
      "\n",
      "Ridiculous how our energy prices keep rising while we're busy funding endless wars and foreign interventions. Time to prioritize AMERICA and our people! 🇺🇸\n",
      "\n",
      "unemployed_troll_language-youth_far-right\n",
      "\n",
      "lol, maybe we should start invading energy companies instead, amirite? 🤡 gotta fuel the chaos, not the war machine.  but in a plot twist 🇺🇸💥\n",
      "\n"
     ]
    },
    {
     "name": "stderr",
     "output_type": "stream",
     "text": [
      "\n",
      "\n",
      "\n",
      "\n",
      "\n",
      "\n",
      "\n",
      "\n",
      "\n",
      "\n",
      " 31%|███       | 33/108 [02:32<05:09,  4.12s/it]\u001b[A\u001b[A\u001b[A\u001b[A\u001b[A\u001b[A\u001b[A\u001b[A\u001b[A\u001b[A"
     ]
    },
    {
     "name": "stdout",
     "output_type": "stream",
     "text": [
      "liberal\n",
      "\n",
      "Abortion is health care & should be between a woman & her doctor, not left to politicians like Yvette Herrell who would ban abortion without exceptions for rape, incest or the life of the mother. #NM02\n",
      "\n",
      "unemployed_troll_language-youth_radical-left\n",
      "\n",
      "bruh, y'all really think politicos got any biz dictating bods? nah fam, let peeps live. smash da patriarchy & yeet these outdated laws. autonomy or bust.  & make childcare free. capitalism is the real op anyway.\n",
      "\n"
     ]
    },
    {
     "name": "stderr",
     "output_type": "stream",
     "text": [
      "\n",
      "\n",
      "\n",
      "\n",
      "\n",
      "\n",
      "\n",
      "\n",
      "\n",
      "\n",
      " 31%|███▏      | 34/108 [02:38<05:42,  4.63s/it]\u001b[A\u001b[A\u001b[A\u001b[A\u001b[A\u001b[A\u001b[A\u001b[A\u001b[A\u001b[A"
     ]
    },
    {
     "name": "stdout",
     "output_type": "stream",
     "text": [
      "liberal\n",
      "\n",
      "🌍💙 Let's talk about unemployment in our economy. It's crucial that we address this issue head-on! The pandemic has affected so many lives, and we need bold action to support job creation and provide a safety net for those who are struggling. We must invest in education and skills training programs to ensure that everyone has the opportunity to thrive in a changing job market. Together, we can build a future that is fair and equitable for all.\n",
      "\n",
      "carpenter_misogynist_language-old_far-right\n",
      "\n",
      "Jobs were plentiful before. Blame open borders.\n",
      "\n"
     ]
    },
    {
     "name": "stderr",
     "output_type": "stream",
     "text": [
      "\n",
      "\n",
      "\n",
      "\n",
      "\n",
      "\n",
      "\n",
      "\n",
      "\n",
      "\n",
      " 32%|███▏      | 35/108 [02:40<04:54,  4.03s/it]\u001b[A\u001b[A\u001b[A\u001b[A\u001b[A\u001b[A\u001b[A\u001b[A\u001b[A\u001b[A"
     ]
    },
    {
     "name": "stdout",
     "output_type": "stream",
     "text": [
      "alt_right\n",
      "\n",
      "The real healthcare crisis isn't the cost, it's the government interference. Free market solutions, not price controls or single-payer systems, will bring affordability and quality care to all.\n",
      "\n",
      "teenager_troll_language-youth_disengaged\n",
      "\n",
      "lol, so the invisible hand gonna bandage me up when i skateboard into a pole? free market more like free fractures, fam 💀\n",
      "\n"
     ]
    },
    {
     "name": "stderr",
     "output_type": "stream",
     "text": [
      "\n",
      "\n",
      "\n",
      "\n",
      "\n",
      "\n",
      "\n",
      "\n",
      "\n",
      "\n",
      " 33%|███▎      | 36/108 [02:45<04:55,  4.11s/it]\u001b[A\u001b[A\u001b[A\u001b[A\u001b[A\u001b[A\u001b[A\u001b[A\u001b[A\u001b[A"
     ]
    },
    {
     "name": "stdout",
     "output_type": "stream",
     "text": [
      "alt_right\n",
      "\n",
      "A high school debate team ignores the debate prompt and instead attacks white Christians...and then WINS THE DEBATE: \"We demand that white Christians be held accountable for America's original sin.\" This vile, anti-White racism is rewarded by so-called \"academics.\" We must stop it.\n",
      "\n",
      "unemployed_troll_language-youth_far-right\n",
      "\n",
      "lol, so now winning debates is about who's the wokest warrior, not about actual facts? academia turning into a comedy show, where logic takes a backseat to virtue signaling. next, they'll say my cat's responsible for global warming cuz she's white 🙄\n",
      "\n"
     ]
    },
    {
     "name": "stderr",
     "output_type": "stream",
     "text": [
      "\n",
      "\n",
      "\n",
      "\n",
      "\n",
      "\n",
      "\n",
      "\n",
      "\n",
      "\n",
      " 34%|███▍      | 37/108 [02:51<05:26,  4.60s/it]\u001b[A\u001b[A\u001b[A\u001b[A\u001b[A\u001b[A\u001b[A\u001b[A\u001b[A\u001b[A"
     ]
    },
    {
     "name": "stdout",
     "output_type": "stream",
     "text": [
      "conservative\n",
      "\n",
      "Inflation running rampant, eroding the purchasing power of hardworking Americans and threatening our economic stability - time to reign in government spending and uphold the principles of fiscal responsibility for a prosperous future! 💪🏼💵📉\n",
      "\n",
      "misogynist_language-default\n",
      "\n",
      "finally someone with sense, gov't spending outta control cuz of woke agendas\n",
      "\n"
     ]
    },
    {
     "name": "stderr",
     "output_type": "stream",
     "text": [
      "\n",
      "\n",
      "\n",
      "\n",
      "\n",
      "\n",
      "\n",
      "\n",
      "\n",
      "\n",
      " 35%|███▌      | 38/108 [02:54<04:53,  4.19s/it]\u001b[A\u001b[A\u001b[A\u001b[A\u001b[A\u001b[A\u001b[A\u001b[A\u001b[A\u001b[A"
     ]
    },
    {
     "name": "stdout",
     "output_type": "stream",
     "text": [
      "alt_right\n",
      "\n",
      "The real healthcare crisis isn't the cost, it's the government interference. Free market solutions, not price controls or single-payer systems, will bring affordability and quality care to all.\n",
      "\n",
      "carpenter_misogynist_language-old_far-right\n",
      "\n",
      "Gov meddling always ruins things. Let the market rule.\n",
      "\n"
     ]
    },
    {
     "name": "stderr",
     "output_type": "stream",
     "text": [
      "\n",
      "\n",
      "\n",
      "\n",
      "\n",
      "\n",
      "\n",
      "\n",
      "\n",
      "\n",
      " 36%|███▌      | 39/108 [02:57<04:19,  3.75s/it]\u001b[A\u001b[A\u001b[A\u001b[A\u001b[A\u001b[A\u001b[A\u001b[A\u001b[A\u001b[A"
     ]
    },
    {
     "name": "stdout",
     "output_type": "stream",
     "text": [
      "conservative\n",
      "\n",
      "Biden’s set on taking away your choice and forcing you to abide by his radical climate agenda. Un-American!\n",
      "\n",
      "unemployed_troll_language-youth_radical-left\n",
      "\n",
      "lol biden's a climate ninja, cap world burners 🌍🔥\n",
      "\n"
     ]
    },
    {
     "name": "stderr",
     "output_type": "stream",
     "text": [
      "\n",
      "\n",
      "\n",
      "\n",
      "\n",
      "\n",
      "\n",
      "\n",
      "\n",
      "\n",
      " 37%|███▋      | 40/108 [03:00<04:16,  3.77s/it]\u001b[A\u001b[A\u001b[A\u001b[A\u001b[A\u001b[A\u001b[A\u001b[A\u001b[A\u001b[A"
     ]
    },
    {
     "name": "stdout",
     "output_type": "stream",
     "text": [
      "liberal\n",
      "\n",
      "Abortion is health care & should be between a woman & her doctor, not left to politicians like Yvette Herrell who would ban abortion without exceptions for rape, incest or the life of the mother. #NM02\n",
      "\n",
      "hustler_misogynist-dense_language-default_conservative\n",
      "\n",
      "gov shouldn't dictate personal choices, but let's not pretend there's no moral debate here. it's about respect for life, not just 'health care'.\n",
      "\n"
     ]
    },
    {
     "name": "stderr",
     "output_type": "stream",
     "text": [
      "\n",
      "\n",
      "\n",
      "\n",
      "\n",
      "\n",
      "\n",
      "\n",
      "\n",
      "\n",
      " 38%|███▊      | 41/108 [03:06<04:44,  4.25s/it]\u001b[A\u001b[A\u001b[A\u001b[A\u001b[A\u001b[A\u001b[A\u001b[A\u001b[A\u001b[A"
     ]
    },
    {
     "name": "stdout",
     "output_type": "stream",
     "text": [
      "alt_right\n",
      "\n",
      "The real healthcare crisis isn't the cost, it's the government interference. Free market solutions, not price controls or single-payer systems, will bring affordability and quality care to all.\n",
      "\n",
      "troll\n",
      "\n",
      "Oh, absolutely! Because nothing screams \"care\" like crippling debt.  😂👌\n",
      "\n"
     ]
    },
    {
     "name": "stderr",
     "output_type": "stream",
     "text": [
      "\n",
      "\n",
      "\n",
      "\n",
      "\n",
      "\n",
      "\n",
      "\n",
      "\n",
      "\n",
      " 39%|███▉      | 42/108 [03:09<04:22,  3.98s/it]\u001b[A\u001b[A\u001b[A\u001b[A\u001b[A\u001b[A\u001b[A\u001b[A\u001b[A\u001b[A"
     ]
    },
    {
     "name": "stdout",
     "output_type": "stream",
     "text": [
      "alt_right\n",
      "\n",
      "The real healthcare crisis isn't the cost, it's the government interference. Free market solutions, not price controls or single-payer systems, will bring affordability and quality care to all.\n",
      "\n",
      "unemployed_troll_language-youth_disengaged\n",
      "\n",
      "lol government? more like big babysitter. free market? more like free chaos.\n",
      "\n"
     ]
    },
    {
     "name": "stderr",
     "output_type": "stream",
     "text": [
      "\n",
      "\n",
      "\n",
      "\n",
      "\n",
      "\n",
      "\n",
      "\n",
      "\n",
      "\n",
      " 40%|███▉      | 43/108 [03:12<03:58,  3.68s/it]\u001b[A\u001b[A\u001b[A\u001b[A\u001b[A\u001b[A\u001b[A\u001b[A\u001b[A\u001b[A"
     ]
    },
    {
     "name": "stdout",
     "output_type": "stream",
     "text": [
      "liberal\n",
      "\n",
      "🌍💙 Let's talk about unemployment in our economy. It's crucial that we address this issue head-on! The pandemic has affected so many lives, and we need bold action to support job creation and provide a safety net for those who are struggling. We must invest in education and skills training programs to ensure that everyone has the opportunity to thrive in a changing job market. Together, we can build a future that is fair and equitable for all.\n",
      "\n",
      "troll\n",
      "\n",
      "Unemployment? Just start a meme career. EZ.\n",
      "\n"
     ]
    },
    {
     "name": "stderr",
     "output_type": "stream",
     "text": [
      "\n",
      "\n",
      "\n",
      "\n",
      "\n",
      "\n",
      "\n",
      "\n",
      "\n",
      "\n",
      " 41%|████      | 44/108 [03:15<03:39,  3.43s/it]\u001b[A\u001b[A\u001b[A\u001b[A\u001b[A\u001b[A\u001b[A\u001b[A\u001b[A\u001b[A"
     ]
    },
    {
     "name": "stdout",
     "output_type": "stream",
     "text": [
      "alt_right\n",
      "\n",
      "The real healthcare crisis isn't the cost, it's the government interference. Free market solutions, not price controls or single-payer systems, will bring affordability and quality care to all.\n",
      "\n",
      "hustler_misogynist-dense_language-default_conservative\n",
      "\n",
      "amen, big gov ruins everything. free the market!\n",
      "\n"
     ]
    },
    {
     "name": "stderr",
     "output_type": "stream",
     "text": [
      "\n",
      "\n",
      "\n",
      "\n",
      "\n",
      "\n",
      "\n",
      "\n",
      "\n",
      "\n",
      " 42%|████▏     | 45/108 [03:18<03:22,  3.21s/it]\u001b[A\u001b[A\u001b[A\u001b[A\u001b[A\u001b[A\u001b[A\u001b[A\u001b[A\u001b[A"
     ]
    },
    {
     "name": "stdout",
     "output_type": "stream",
     "text": [
      "alt_right\n",
      "\n",
      "A high school debate team ignores the debate prompt and instead attacks white Christians...and then WINS THE DEBATE: \"We demand that white Christians be held accountable for America's original sin.\" This vile, anti-White racism is rewarded by so-called \"academics.\" We must stop it.\n",
      "\n",
      "teenager_troll_language-youth_far-right\n",
      "\n",
      "lol so woke, can't even! where's the logic?  🤡👌\n",
      "\n"
     ]
    },
    {
     "name": "stderr",
     "output_type": "stream",
     "text": [
      "\n",
      "\n",
      "\n",
      "\n",
      "\n",
      "\n",
      "\n",
      "\n",
      "\n",
      "\n",
      " 43%|████▎     | 46/108 [03:21<03:24,  3.29s/it]\u001b[A\u001b[A\u001b[A\u001b[A\u001b[A\u001b[A\u001b[A\u001b[A\u001b[A\u001b[A"
     ]
    },
    {
     "name": "stdout",
     "output_type": "stream",
     "text": [
      "alt_right\n",
      "\n",
      "A high school debate team ignores the debate prompt and instead attacks white Christians...and then WINS THE DEBATE: \"We demand that white Christians be held accountable for America's original sin.\" This vile, anti-White racism is rewarded by so-called \"academics.\" We must stop it.\n",
      "\n",
      "unemployed_troll_language-youth_radical-left\n",
      "\n",
      "lol debate club went brrr, facts who? score 1 for chaos squad\n",
      "\n"
     ]
    },
    {
     "name": "stderr",
     "output_type": "stream",
     "text": [
      "\n",
      "\n",
      "\n",
      "\n",
      "\n",
      "\n",
      "\n",
      "\n",
      "\n",
      "\n",
      " 44%|████▎     | 47/108 [03:24<03:15,  3.21s/it]\u001b[A\u001b[A\u001b[A\u001b[A\u001b[A\u001b[A\u001b[A\u001b[A\u001b[A\u001b[A"
     ]
    },
    {
     "name": "stdout",
     "output_type": "stream",
     "text": [
      "alt_right\n",
      "\n",
      "A high school debate team ignores the debate prompt and instead attacks white Christians...and then WINS THE DEBATE: \"We demand that white Christians be held accountable for America's original sin.\" This vile, anti-White racism is rewarded by so-called \"academics.\" We must stop it.\n",
      "\n",
      "unemployed_troll_language-youth_disengaged\n",
      "\n",
      "lol so we playin the blame game now? popcorn time 🍿\n",
      "\n"
     ]
    },
    {
     "name": "stderr",
     "output_type": "stream",
     "text": [
      "\n",
      "\n",
      "\n",
      "\n",
      "\n",
      "\n",
      "\n",
      "\n",
      "\n",
      "\n",
      " 44%|████▍     | 48/108 [03:27<03:05,  3.09s/it]\u001b[A\u001b[A\u001b[A\u001b[A\u001b[A\u001b[A\u001b[A\u001b[A\u001b[A\u001b[A"
     ]
    },
    {
     "name": "stdout",
     "output_type": "stream",
     "text": [
      "conservative\n",
      "\n",
      ".⁦@AOC⁩ is it a “crime against humanity” when ⁦@POTUS⁩ secretly flies migrants into Westchester (the place you grew up)? The crime here is allowing the continued flow of illegal immigration, human trafficking and drugs. It has to stop!\n",
      "\n",
      "unemployed_troll_language-youth_radical-left\n",
      "\n",
      "lol @conservative clutching pearls much? real crime = billionaires hoarding wealth while we can't even get universal healthcare. borders are a social construct, dude. stay woke\n",
      "\n"
     ]
    },
    {
     "name": "stderr",
     "output_type": "stream",
     "text": [
      "\n",
      "\n",
      "\n",
      "\n",
      "\n",
      "\n",
      "\n",
      "\n",
      "\n",
      "\n",
      " 45%|████▌     | 49/108 [03:31<03:20,  3.39s/it]\u001b[A\u001b[A\u001b[A\u001b[A\u001b[A\u001b[A\u001b[A\u001b[A\u001b[A\u001b[A"
     ]
    },
    {
     "name": "stdout",
     "output_type": "stream",
     "text": [
      "liberal\n",
      "\n",
      "Abortion is health care & should be between a woman & her doctor, not left to politicians like Yvette Herrell who would ban abortion without exceptions for rape, incest or the life of the mother. #NM02\n",
      "\n",
      "misogynist_language-default\n",
      "\n",
      "so we're just ignoring the rights of the unborn now? typical.\n",
      "\n"
     ]
    },
    {
     "name": "stderr",
     "output_type": "stream",
     "text": [
      "\n",
      "\n",
      "\n",
      "\n",
      "\n",
      "\n",
      "\n",
      "\n",
      "\n",
      "\n",
      " 46%|████▋     | 50/108 [03:34<03:03,  3.16s/it]\u001b[A\u001b[A\u001b[A\u001b[A\u001b[A\u001b[A\u001b[A\u001b[A\u001b[A\u001b[A"
     ]
    },
    {
     "name": "stdout",
     "output_type": "stream",
     "text": [
      "conservative\n",
      "\n",
      ".⁦@AOC⁩ is it a “crime against humanity” when ⁦@POTUS⁩ secretly flies migrants into Westchester (the place you grew up)? The crime here is allowing the continued flow of illegal immigration, human trafficking and drugs. It has to stop!\n",
      "\n",
      "teenager_troll_language-youth_disengaged\n",
      "\n",
      "lol im just here for the memes but watching adults throw shade like kindergarteners is peak comedy 🍿 guess politics is the new reality tv, who needs netflix when u have this drama 24/7\n",
      "\n"
     ]
    },
    {
     "name": "stderr",
     "output_type": "stream",
     "text": [
      "\n",
      "\n",
      "\n",
      "\n",
      "\n",
      "\n",
      "\n",
      "\n",
      "\n",
      "\n",
      " 47%|████▋     | 51/108 [03:39<03:33,  3.75s/it]\u001b[A\u001b[A\u001b[A\u001b[A\u001b[A\u001b[A\u001b[A\u001b[A\u001b[A\u001b[A"
     ]
    },
    {
     "name": "stdout",
     "output_type": "stream",
     "text": [
      "conservative\n",
      "\n",
      ".⁦@AOC⁩ is it a “crime against humanity” when ⁦@POTUS⁩ secretly flies migrants into Westchester (the place you grew up)? The crime here is allowing the continued flow of illegal immigration, human trafficking and drugs. It has to stop!\n",
      "\n",
      "unemployed_troll_language-youth_far-right\n",
      "\n",
      "lol, aoc playin' the victim card while her hood gets a vip pass for migrants. potus' secret uber service for 'em, huh? what's next, frequent flyer miles? 🤡 nation first, people! close the shop before it's a garage sale.\n",
      "\n"
     ]
    },
    {
     "name": "stderr",
     "output_type": "stream",
     "text": [
      "\n",
      "\n",
      "\n",
      "\n",
      "\n",
      "\n",
      "\n",
      "\n",
      "\n",
      "\n",
      " 48%|████▊     | 52/108 [03:44<03:54,  4.19s/it]\u001b[A\u001b[A\u001b[A\u001b[A\u001b[A\u001b[A\u001b[A\u001b[A\u001b[A\u001b[A"
     ]
    },
    {
     "name": "stdout",
     "output_type": "stream",
     "text": [
      "conservative\n",
      "\n",
      ".⁦@AOC⁩ is it a “crime against humanity” when ⁦@POTUS⁩ secretly flies migrants into Westchester (the place you grew up)? The crime here is allowing the continued flow of illegal immigration, human trafficking and drugs. It has to stop!\n",
      "\n",
      "hustler_misogynist-dense_language-default_conservative\n",
      "\n",
      "aoc always dramatizing, real crime is ignoring laws\n",
      "\n"
     ]
    },
    {
     "name": "stderr",
     "output_type": "stream",
     "text": [
      "\n",
      "\n",
      "\n",
      "\n",
      "\n",
      "\n",
      "\n",
      "\n",
      "\n",
      "\n",
      " 49%|████▉     | 53/108 [03:47<03:32,  3.87s/it]\u001b[A\u001b[A\u001b[A\u001b[A\u001b[A\u001b[A\u001b[A\u001b[A\u001b[A\u001b[A"
     ]
    },
    {
     "name": "stdout",
     "output_type": "stream",
     "text": [
      "alt_right\n",
      "\n",
      "Ridiculous how our energy prices keep rising while we're busy funding endless wars and foreign interventions. Time to prioritize AMERICA and our people! 🇺🇸\n",
      "\n",
      "troll\n",
      "\n",
      "Oh look, it's the classic \"America First\" but in energy bills cosplay. Time to power our homes with freedom and bald eagle screeches. 🦅💡🇺🇸\n",
      "\n"
     ]
    },
    {
     "name": "stderr",
     "output_type": "stream",
     "text": [
      "\n",
      "\n",
      "\n",
      "\n",
      "\n",
      "\n",
      "\n",
      "\n",
      "\n",
      "\n",
      " 50%|█████     | 54/108 [03:52<03:44,  4.15s/it]\u001b[A\u001b[A\u001b[A\u001b[A\u001b[A\u001b[A\u001b[A\u001b[A\u001b[A\u001b[A"
     ]
    },
    {
     "name": "stdout",
     "output_type": "stream",
     "text": [
      "liberal\n",
      "\n",
      "The clean energy revolution is here and we’re going to power it with green union jobs.\n",
      "\n",
      "troll\n",
      "\n",
      "Oh, the clean energy revolution, you say? Can't wait to charge my toaster with pure, uncut sunshine and hire a wind-powered butler. Green union jobs, huh? I guess my dream of becoming a professional cloud shouter to keep the skies clear for solar panels might just come true!\n",
      "\n"
     ]
    },
    {
     "name": "stderr",
     "output_type": "stream",
     "text": [
      "\n",
      "\n",
      "\n",
      "\n",
      "\n",
      "\n",
      "\n",
      "\n",
      "\n",
      "\n",
      " 51%|█████     | 55/108 [03:57<03:55,  4.44s/it]\u001b[A\u001b[A\u001b[A\u001b[A\u001b[A\u001b[A\u001b[A\u001b[A\u001b[A\u001b[A"
     ]
    },
    {
     "name": "stdout",
     "output_type": "stream",
     "text": [
      "conservative\n",
      "\n",
      ".⁦@AOC⁩ is it a “crime against humanity” when ⁦@POTUS⁩ secretly flies migrants into Westchester (the place you grew up)? The crime here is allowing the continued flow of illegal immigration, human trafficking and drugs. It has to stop!\n",
      "\n",
      "troll\n",
      "\n",
      "Crime? More like the pilot season of \"Air Force One & Done\" reality show!  🛩️🎥\n",
      "\n"
     ]
    },
    {
     "name": "stderr",
     "output_type": "stream",
     "text": [
      "\n",
      "\n",
      "\n",
      "\n",
      "\n",
      "\n",
      "\n",
      "\n",
      "\n",
      "\n",
      " 52%|█████▏    | 56/108 [04:00<03:33,  4.11s/it]\u001b[A\u001b[A\u001b[A\u001b[A\u001b[A\u001b[A\u001b[A\u001b[A\u001b[A\u001b[A"
     ]
    },
    {
     "name": "stdout",
     "output_type": "stream",
     "text": [
      "liberal\n",
      "\n",
      "Abortion is health care & should be between a woman & her doctor, not left to politicians like Yvette Herrell who would ban abortion without exceptions for rape, incest or the life of the mother. #NM02\n",
      "\n",
      "troll\n",
      "\n",
      "So, we’re playing “Ignore the Real Issues” today? Cool, cool.  🍿😂\n",
      "\n"
     ]
    },
    {
     "name": "stderr",
     "output_type": "stream",
     "text": [
      "\n",
      "\n",
      "\n",
      "\n",
      "\n",
      "\n",
      "\n",
      "\n",
      "\n",
      "\n",
      " 53%|█████▎    | 57/108 [04:04<03:17,  3.88s/it]\u001b[A\u001b[A\u001b[A\u001b[A\u001b[A\u001b[A\u001b[A\u001b[A\u001b[A\u001b[A"
     ]
    },
    {
     "name": "stdout",
     "output_type": "stream",
     "text": [
      "liberal\n",
      "\n",
      "The clean energy revolution is here and we’re going to power it with green union jobs.\n",
      "\n",
      "hustler_misogynist-dense_language-default_conservative\n",
      "\n",
      "all for clean energy but let's not pretend green union jobs are the golden ticket. pushing for unrealistic labor demands cripples the economy. real men aren't afraid of hard work or competition. time to focus on individual merits, not handouts.\n",
      "\n"
     ]
    },
    {
     "name": "stderr",
     "output_type": "stream",
     "text": [
      "\n",
      "\n",
      "\n",
      "\n",
      "\n",
      "\n",
      "\n",
      "\n",
      "\n",
      "\n",
      " 54%|█████▎    | 58/108 [04:09<03:32,  4.25s/it]\u001b[A\u001b[A\u001b[A\u001b[A\u001b[A\u001b[A\u001b[A\u001b[A\u001b[A\u001b[A"
     ]
    },
    {
     "name": "stdout",
     "output_type": "stream",
     "text": [
      "conservative\n",
      "\n",
      ".⁦@AOC⁩ is it a “crime against humanity” when ⁦@POTUS⁩ secretly flies migrants into Westchester (the place you grew up)? The crime here is allowing the continued flow of illegal immigration, human trafficking and drugs. It has to stop!\n",
      "\n",
      "misogynist_language-default\n",
      "\n",
      "classic, shifting blame again smh 🙄 when will y'all see real issues come from ignoring borders & the past's clarity?\n",
      "\n"
     ]
    },
    {
     "name": "stderr",
     "output_type": "stream",
     "text": [
      "\n",
      "\n",
      "\n",
      "\n",
      "\n",
      "\n",
      "\n",
      "\n",
      "\n",
      "\n",
      " 55%|█████▍    | 59/108 [04:13<03:29,  4.27s/it]\u001b[A\u001b[A\u001b[A\u001b[A\u001b[A\u001b[A\u001b[A\u001b[A\u001b[A\u001b[A"
     ]
    },
    {
     "name": "stdout",
     "output_type": "stream",
     "text": [
      "alt_right\n",
      "\n",
      "Ridiculous how our energy prices keep rising while we're busy funding endless wars and foreign interventions. Time to prioritize AMERICA and our people! 🇺🇸\n",
      "\n",
      "teenager_troll_language-youth_radical-left\n",
      "\n",
      "lol imagine thinking prioritizing america means going back to 1950 vibes. how about we redistribute that war chest to the people? end the billionaire’s playground, and let's get those energy prices down with some good ol’ eco-communism. peace, love, and a lil bit of anarchy. 💥🌎✊\n",
      "\n"
     ]
    },
    {
     "name": "stderr",
     "output_type": "stream",
     "text": [
      "\n",
      "\n",
      "\n",
      "\n",
      "\n",
      "\n",
      "\n",
      "\n",
      "\n",
      "\n",
      " 56%|█████▌    | 60/108 [04:21<04:18,  5.40s/it]\u001b[A\u001b[A\u001b[A\u001b[A\u001b[A\u001b[A\u001b[A\u001b[A\u001b[A\u001b[A"
     ]
    },
    {
     "name": "stdout",
     "output_type": "stream",
     "text": [
      "liberal\n",
      "\n",
      "🌍💙 Let's talk about unemployment in our economy. It's crucial that we address this issue head-on! The pandemic has affected so many lives, and we need bold action to support job creation and provide a safety net for those who are struggling. We must invest in education and skills training programs to ensure that everyone has the opportunity to thrive in a changing job market. Together, we can build a future that is fair and equitable for all.\n",
      "\n",
      "unemployed_troll_language-youth_disengaged\n",
      "\n",
      "lol job market goes brrr, where's my popcorn? 🍿\n",
      "\n"
     ]
    },
    {
     "name": "stderr",
     "output_type": "stream",
     "text": [
      "\n",
      "\n",
      "\n",
      "\n",
      "\n",
      "\n",
      "\n",
      "\n",
      "\n",
      "\n",
      " 56%|█████▋    | 61/108 [04:25<03:46,  4.81s/it]\u001b[A\u001b[A\u001b[A\u001b[A\u001b[A\u001b[A\u001b[A\u001b[A\u001b[A\u001b[A"
     ]
    },
    {
     "name": "stdout",
     "output_type": "stream",
     "text": [
      "conservative\n",
      "\n",
      "Inflation running rampant, eroding the purchasing power of hardworking Americans and threatening our economic stability - time to reign in government spending and uphold the principles of fiscal responsibility for a prosperous future! 💪🏼💵📉\n",
      "\n",
      "teenager_troll_language-youth_radical-left\n",
      "\n",
      "lol guess it’s time to yeet the rich, amirite?  🚩🤪💸\n",
      "\n"
     ]
    },
    {
     "name": "stderr",
     "output_type": "stream",
     "text": [
      "\n",
      "\n",
      "\n",
      "\n",
      "\n",
      "\n",
      "\n",
      "\n",
      "\n",
      "\n",
      " 57%|█████▋    | 62/108 [04:27<03:15,  4.24s/it]\u001b[A\u001b[A\u001b[A\u001b[A\u001b[A\u001b[A\u001b[A\u001b[A\u001b[A\u001b[A"
     ]
    },
    {
     "name": "stdout",
     "output_type": "stream",
     "text": [
      "alt_right\n",
      "\n",
      "A high school debate team ignores the debate prompt and instead attacks white Christians...and then WINS THE DEBATE: \"We demand that white Christians be held accountable for America's original sin.\" This vile, anti-White racism is rewarded by so-called \"academics.\" We must stop it.\n",
      "\n",
      "misogynist_language-default\n",
      "\n",
      "so now telling the truth is racism? the world's gone mad.\n",
      "\n"
     ]
    },
    {
     "name": "stderr",
     "output_type": "stream",
     "text": [
      "\n",
      "\n",
      "\n",
      "\n",
      "\n",
      "\n",
      "\n",
      "\n",
      "\n",
      "\n",
      " 58%|█████▊    | 63/108 [04:31<02:58,  3.97s/it]\u001b[A\u001b[A\u001b[A\u001b[A\u001b[A\u001b[A\u001b[A\u001b[A\u001b[A\u001b[A"
     ]
    },
    {
     "name": "stdout",
     "output_type": "stream",
     "text": [
      "alt_right\n",
      "\n",
      "A high school debate team ignores the debate prompt and instead attacks white Christians...and then WINS THE DEBATE: \"We demand that white Christians be held accountable for America's original sin.\" This vile, anti-White racism is rewarded by so-called \"academics.\" We must stop it.\n",
      "\n",
      "carpenter_misogynist_language-old_far-right\n",
      "\n",
      "What happened to merit? PC culture ruins all.\n",
      "\n"
     ]
    },
    {
     "name": "stderr",
     "output_type": "stream",
     "text": [
      "\n",
      "\n",
      "\n",
      "\n",
      "\n",
      "\n",
      "\n",
      "\n",
      "\n",
      "\n",
      " 59%|█████▉    | 64/108 [04:33<02:35,  3.53s/it]\u001b[A\u001b[A\u001b[A\u001b[A\u001b[A\u001b[A\u001b[A\u001b[A\u001b[A\u001b[A"
     ]
    },
    {
     "name": "stdout",
     "output_type": "stream",
     "text": [
      "conservative\n",
      "\n",
      "Biden’s set on taking away your choice and forcing you to abide by his radical climate agenda. Un-American!\n",
      "\n",
      "teenager_troll_language-youth_disengaged\n",
      "\n",
      "lol guess i'll start commuting by unicycle then, eco vibes only 🤡\n",
      "\n"
     ]
    },
    {
     "name": "stderr",
     "output_type": "stream",
     "text": [
      "\n",
      "\n",
      "\n",
      "\n",
      "\n",
      "\n",
      "\n",
      "\n",
      "\n",
      "\n",
      " 60%|██████    | 65/108 [04:36<02:18,  3.23s/it]\u001b[A\u001b[A\u001b[A\u001b[A\u001b[A\u001b[A\u001b[A\u001b[A\u001b[A\u001b[A"
     ]
    },
    {
     "name": "stdout",
     "output_type": "stream",
     "text": [
      "alt_right\n",
      "\n",
      "A high school debate team ignores the debate prompt and instead attacks white Christians...and then WINS THE DEBATE: \"We demand that white Christians be held accountable for America's original sin.\" This vile, anti-White racism is rewarded by so-called \"academics.\" We must stop it.\n",
      "\n",
      "hustler_misogynist-dense_language-default_conservative\n",
      "\n",
      "just another day pushing anti-conservative agendas, sad!\n",
      "\n"
     ]
    },
    {
     "name": "stderr",
     "output_type": "stream",
     "text": [
      "\n",
      "\n",
      "\n",
      "\n",
      "\n",
      "\n",
      "\n",
      "\n",
      "\n",
      "\n",
      " 61%|██████    | 66/108 [04:39<02:09,  3.07s/it]\u001b[A\u001b[A\u001b[A\u001b[A\u001b[A\u001b[A\u001b[A\u001b[A\u001b[A\u001b[A"
     ]
    },
    {
     "name": "stdout",
     "output_type": "stream",
     "text": [
      "liberal\n",
      "\n",
      "Abortion is health care & should be between a woman & her doctor, not left to politicians like Yvette Herrell who would ban abortion without exceptions for rape, incest or the life of the mother. #NM02\n",
      "\n",
      "unemployed_troll_language-youth_far-right\n",
      "\n",
      "lol nah, keep politics outta it\n",
      "\n"
     ]
    },
    {
     "name": "stderr",
     "output_type": "stream",
     "text": [
      "\n",
      "\n",
      "\n",
      "\n",
      "\n",
      "\n",
      "\n",
      "\n",
      "\n",
      "\n",
      " 62%|██████▏   | 67/108 [04:41<01:56,  2.84s/it]\u001b[A\u001b[A\u001b[A\u001b[A\u001b[A\u001b[A\u001b[A\u001b[A\u001b[A\u001b[A"
     ]
    },
    {
     "name": "stdout",
     "output_type": "stream",
     "text": [
      "liberal\n",
      "\n",
      "🌍💙 Let's talk about unemployment in our economy. It's crucial that we address this issue head-on! The pandemic has affected so many lives, and we need bold action to support job creation and provide a safety net for those who are struggling. We must invest in education and skills training programs to ensure that everyone has the opportunity to thrive in a changing job market. Together, we can build a future that is fair and equitable for all.\n",
      "\n",
      "teenager_troll_language-youth_disengaged\n",
      "\n",
      "lol, imagine reading all that 😂\n",
      "\n"
     ]
    },
    {
     "name": "stderr",
     "output_type": "stream",
     "text": [
      "\n",
      "\n",
      "\n",
      "\n",
      "\n",
      "\n",
      "\n",
      "\n",
      "\n",
      "\n",
      " 63%|██████▎   | 68/108 [04:43<01:48,  2.72s/it]\u001b[A\u001b[A\u001b[A\u001b[A\u001b[A\u001b[A\u001b[A\u001b[A\u001b[A\u001b[A"
     ]
    },
    {
     "name": "stdout",
     "output_type": "stream",
     "text": [
      "conservative\n",
      "\n",
      "Inflation running rampant, eroding the purchasing power of hardworking Americans and threatening our economic stability - time to reign in government spending and uphold the principles of fiscal responsibility for a prosperous future! 💪🏼💵📉\n",
      "\n",
      "unemployed_troll_language-youth_radical-left\n",
      "\n",
      "lol \"hardworking\" more like rich flexing 🤑\n",
      "\n"
     ]
    },
    {
     "name": "stderr",
     "output_type": "stream",
     "text": [
      "\n",
      "\n",
      "\n",
      "\n",
      "\n",
      "\n",
      "\n",
      "\n",
      "\n",
      "\n",
      " 64%|██████▍   | 69/108 [04:46<01:50,  2.83s/it]\u001b[A\u001b[A\u001b[A\u001b[A\u001b[A\u001b[A\u001b[A\u001b[A\u001b[A\u001b[A"
     ]
    },
    {
     "name": "stdout",
     "output_type": "stream",
     "text": [
      "liberal\n",
      "\n",
      "🌍💙 Let's talk about unemployment in our economy. It's crucial that we address this issue head-on! The pandemic has affected so many lives, and we need bold action to support job creation and provide a safety net for those who are struggling. We must invest in education and skills training programs to ensure that everyone has the opportunity to thrive in a changing job market. Together, we can build a future that is fair and equitable for all.\n",
      "\n",
      "hustler_misogynist-dense_language-default_conservative\n",
      "\n",
      "handouts won't fix laziness. build businesses, not welfare states.\n",
      "\n"
     ]
    },
    {
     "name": "stderr",
     "output_type": "stream",
     "text": [
      "\n",
      "\n",
      "\n",
      "\n",
      "\n",
      "\n",
      "\n",
      "\n",
      "\n",
      "\n",
      " 65%|██████▍   | 70/108 [04:50<01:53,  2.99s/it]\u001b[A\u001b[A\u001b[A\u001b[A\u001b[A\u001b[A\u001b[A\u001b[A\u001b[A\u001b[A"
     ]
    },
    {
     "name": "stdout",
     "output_type": "stream",
     "text": [
      "alt_right\n",
      "\n",
      "A high school debate team ignores the debate prompt and instead attacks white Christians...and then WINS THE DEBATE: \"We demand that white Christians be held accountable for America's original sin.\" This vile, anti-White racism is rewarded by so-called \"academics.\" We must stop it.\n",
      "\n",
      "teenager_misogynist-dense_language-youth\n",
      "\n",
      "lol basing an entire debate win on attacking white christians? pc culture gone wild, smh. where's the logic? just virtue signaling\n",
      "\n"
     ]
    },
    {
     "name": "stderr",
     "output_type": "stream",
     "text": [
      "\n",
      "\n",
      "\n",
      "\n",
      "\n",
      "\n",
      "\n",
      "\n",
      "\n",
      "\n",
      " 66%|██████▌   | 71/108 [04:54<02:07,  3.44s/it]\u001b[A\u001b[A\u001b[A\u001b[A\u001b[A\u001b[A\u001b[A\u001b[A\u001b[A\u001b[A"
     ]
    },
    {
     "name": "stdout",
     "output_type": "stream",
     "text": [
      "alt_right\n",
      "\n",
      "The real healthcare crisis isn't the cost, it's the government interference. Free market solutions, not price controls or single-payer systems, will bring affordability and quality care to all.\n",
      "\n",
      "unemployed_troll_language-youth_far-right\n",
      "\n",
      "lol gov meddling in my health biz? no thx. wanna see chaos? let market run wild, watch the weak play survival of the fittest\n",
      "\n"
     ]
    },
    {
     "name": "stderr",
     "output_type": "stream",
     "text": [
      "\n",
      "\n",
      "\n",
      "\n",
      "\n",
      "\n",
      "\n",
      "\n",
      "\n",
      "\n",
      " 67%|██████▋   | 72/108 [05:01<02:36,  4.35s/it]\u001b[A\u001b[A\u001b[A\u001b[A\u001b[A\u001b[A\u001b[A\u001b[A\u001b[A\u001b[A"
     ]
    },
    {
     "name": "stdout",
     "output_type": "stream",
     "text": [
      "liberal\n",
      "\n",
      "The clean energy revolution is here and we’re going to power it with green union jobs.\n",
      "\n",
      "misogynist_language-default\n",
      "\n",
      "so we're ignoring the fact that countless men will lose jobs in traditional sectors? typical. let's just pander to trends rather than think of real people suffering. green union jobs won't replace the livelihoods lost.\n",
      "\n"
     ]
    },
    {
     "name": "stderr",
     "output_type": "stream",
     "text": [
      "\n",
      "\n",
      "\n",
      "\n",
      "\n",
      "\n",
      "\n",
      "\n",
      "\n",
      "\n",
      " 68%|██████▊   | 73/108 [05:05<02:29,  4.27s/it]\u001b[A\u001b[A\u001b[A\u001b[A\u001b[A\u001b[A\u001b[A\u001b[A\u001b[A\u001b[A"
     ]
    },
    {
     "name": "stdout",
     "output_type": "stream",
     "text": [
      "liberal\n",
      "\n",
      "The clean energy revolution is here and we’re going to power it with green union jobs.\n",
      "\n",
      "unemployed_troll_language-youth_disengaged\n",
      "\n",
      "lol guess my job's charging crystals by moonlight now? where do i sign up? 🌚✨\n",
      "\n"
     ]
    },
    {
     "name": "stderr",
     "output_type": "stream",
     "text": [
      "\n",
      "\n",
      "\n",
      "\n",
      "\n",
      "\n",
      "\n",
      "\n",
      "\n",
      "\n",
      " 69%|██████▊   | 74/108 [05:09<02:29,  4.40s/it]\u001b[A\u001b[A\u001b[A\u001b[A\u001b[A\u001b[A\u001b[A\u001b[A\u001b[A\u001b[A"
     ]
    },
    {
     "name": "stdout",
     "output_type": "stream",
     "text": [
      "alt_right\n",
      "\n",
      "Ridiculous how our energy prices keep rising while we're busy funding endless wars and foreign interventions. Time to prioritize AMERICA and our people! 🇺🇸\n",
      "\n",
      "troll_language-default\n",
      "\n",
      "money printer go brrr, wars = $$$, duh 🎢🤑\n",
      "\n"
     ]
    },
    {
     "name": "stderr",
     "output_type": "stream",
     "text": [
      "\n",
      "\n",
      "\n",
      "\n",
      "\n",
      "\n",
      "\n",
      "\n",
      "\n",
      "\n",
      " 69%|██████▉   | 75/108 [05:12<02:10,  3.94s/it]\u001b[A\u001b[A\u001b[A\u001b[A\u001b[A\u001b[A\u001b[A\u001b[A\u001b[A\u001b[A"
     ]
    },
    {
     "name": "stdout",
     "output_type": "stream",
     "text": [
      "alt_right\n",
      "\n",
      "Ridiculous how our energy prices keep rising while we're busy funding endless wars and foreign interventions. Time to prioritize AMERICA and our people! 🇺🇸\n",
      "\n",
      "carpenter_misogynist_language-old_far-right\n",
      "\n",
      "Amen! America first, always. 🇺🇸\n",
      "\n"
     ]
    },
    {
     "name": "stderr",
     "output_type": "stream",
     "text": [
      "\n",
      "\n",
      "\n",
      "\n",
      "\n",
      "\n",
      "\n",
      "\n",
      "\n",
      "\n",
      " 70%|███████   | 76/108 [05:15<01:50,  3.47s/it]\u001b[A\u001b[A\u001b[A\u001b[A\u001b[A\u001b[A\u001b[A\u001b[A\u001b[A\u001b[A"
     ]
    },
    {
     "name": "stdout",
     "output_type": "stream",
     "text": [
      "liberal\n",
      "\n",
      "Abortion is health care & should be between a woman & her doctor, not left to politicians like Yvette Herrell who would ban abortion without exceptions for rape, incest or the life of the mother. #NM02\n",
      "\n",
      "unemployed_troll_language-youth_disengaged\n",
      "\n",
      "lol so we letting politicos play doc now? wild times fam\n",
      "\n"
     ]
    },
    {
     "name": "stderr",
     "output_type": "stream",
     "text": [
      "\n",
      "\n",
      "\n",
      "\n",
      "\n",
      "\n",
      "\n",
      "\n",
      "\n",
      "\n",
      " 71%|███████▏  | 77/108 [05:18<01:44,  3.37s/it]\u001b[A\u001b[A\u001b[A\u001b[A\u001b[A\u001b[A\u001b[A\u001b[A\u001b[A\u001b[A"
     ]
    },
    {
     "name": "stdout",
     "output_type": "stream",
     "text": [
      "conservative\n",
      "\n",
      "Biden’s set on taking away your choice and forcing you to abide by his radical climate agenda. Un-American!\n",
      "\n",
      "unemployed_troll_language-youth_far-right\n",
      "\n",
      "lol, biden the weather wizard now? gonna cast climate spells?\n",
      "\n"
     ]
    },
    {
     "name": "stderr",
     "output_type": "stream",
     "text": [
      "\n",
      "\n",
      "\n",
      "\n",
      "\n",
      "\n",
      "\n",
      "\n",
      "\n",
      "\n",
      " 72%|███████▏  | 78/108 [05:22<01:50,  3.70s/it]\u001b[A\u001b[A\u001b[A\u001b[A\u001b[A\u001b[A\u001b[A\u001b[A\u001b[A\u001b[A"
     ]
    },
    {
     "name": "stdout",
     "output_type": "stream",
     "text": [
      "alt_right\n",
      "\n",
      "The real healthcare crisis isn't the cost, it's the government interference. Free market solutions, not price controls or single-payer systems, will bring affordability and quality care to all.\n",
      "\n",
      "misogynist_language-default\n",
      "\n",
      "govt always in the way, let the market do its job. freedom over regulation always.\n",
      "\n"
     ]
    },
    {
     "name": "stderr",
     "output_type": "stream",
     "text": [
      "\n",
      "\n",
      "\n",
      "\n",
      "\n",
      "\n",
      "\n",
      "\n",
      "\n",
      "\n",
      " 73%|███████▎  | 79/108 [05:26<01:47,  3.72s/it]\u001b[A\u001b[A\u001b[A\u001b[A\u001b[A\u001b[A\u001b[A\u001b[A\u001b[A\u001b[A"
     ]
    },
    {
     "name": "stdout",
     "output_type": "stream",
     "text": [
      "liberal\n",
      "\n",
      "🌍💙 Let's talk about unemployment in our economy. It's crucial that we address this issue head-on! The pandemic has affected so many lives, and we need bold action to support job creation and provide a safety net for those who are struggling. We must invest in education and skills training programs to ensure that everyone has the opportunity to thrive in a changing job market. Together, we can build a future that is fair and equitable for all.\n",
      "\n",
      "troll_language-default\n",
      "\n",
      "lol imagine thinking jobs grow on jobbies trees. let's just teach cats to code and send them to mars. problem solved.  🚀😹\n",
      "\n"
     ]
    },
    {
     "name": "stderr",
     "output_type": "stream",
     "text": [
      "\n",
      "\n",
      "\n",
      "\n",
      "\n",
      "\n",
      "\n",
      "\n",
      "\n",
      "\n",
      " 74%|███████▍  | 80/108 [05:29<01:36,  3.45s/it]\u001b[A\u001b[A\u001b[A\u001b[A\u001b[A\u001b[A\u001b[A\u001b[A\u001b[A\u001b[A"
     ]
    },
    {
     "name": "stdout",
     "output_type": "stream",
     "text": [
      "conservative\n",
      "\n",
      "Inflation running rampant, eroding the purchasing power of hardworking Americans and threatening our economic stability - time to reign in government spending and uphold the principles of fiscal responsibility for a prosperous future! 💪🏼💵📉\n",
      "\n",
      "hustler_misogynist-dense_language-default_conservative\n",
      "\n",
      "finally someone gets it! less gov, more personal freedom💪🏼\n",
      "\n"
     ]
    },
    {
     "name": "stderr",
     "output_type": "stream",
     "text": [
      "\n",
      "\n",
      "\n",
      "\n",
      "\n",
      "\n",
      "\n",
      "\n",
      "\n",
      "\n",
      " 75%|███████▌  | 81/108 [05:32<01:31,  3.40s/it]\u001b[A\u001b[A\u001b[A\u001b[A\u001b[A\u001b[A\u001b[A\u001b[A\u001b[A\u001b[A"
     ]
    },
    {
     "name": "stdout",
     "output_type": "stream",
     "text": [
      "alt_right\n",
      "\n",
      "Ridiculous how our energy prices keep rising while we're busy funding endless wars and foreign interventions. Time to prioritize AMERICA and our people! 🇺🇸\n",
      "\n",
      "teenager_troll_language-youth_far-right\n",
      "\n",
      "lol yeah bro, let's just invade walmart for oil, big brain time 🇺🇸\n",
      "\n"
     ]
    },
    {
     "name": "stderr",
     "output_type": "stream",
     "text": [
      "\n",
      "\n",
      "\n",
      "\n",
      "\n",
      "\n",
      "\n",
      "\n",
      "\n",
      "\n",
      " 76%|███████▌  | 82/108 [05:36<01:28,  3.41s/it]\u001b[A\u001b[A\u001b[A\u001b[A\u001b[A\u001b[A\u001b[A\u001b[A\u001b[A\u001b[A"
     ]
    },
    {
     "name": "stdout",
     "output_type": "stream",
     "text": [
      "liberal\n",
      "\n",
      "🌍💙 Let's talk about unemployment in our economy. It's crucial that we address this issue head-on! The pandemic has affected so many lives, and we need bold action to support job creation and provide a safety net for those who are struggling. We must invest in education and skills training programs to ensure that everyone has the opportunity to thrive in a changing job market. Together, we can build a future that is fair and equitable for all.\n",
      "\n",
      "teenager_troll_language-youth_far-right\n",
      "\n",
      "lol jobs? just git gud, scrubs. pandemic's the ultimate lvl-up. ez mode's over.  🎮💪🚀\n",
      "\n"
     ]
    },
    {
     "name": "stderr",
     "output_type": "stream",
     "text": [
      "\n",
      "\n",
      "\n",
      "\n",
      "\n",
      "\n",
      "\n",
      "\n",
      "\n",
      "\n",
      " 77%|███████▋  | 83/108 [05:40<01:29,  3.60s/it]\u001b[A\u001b[A\u001b[A\u001b[A\u001b[A\u001b[A\u001b[A\u001b[A\u001b[A\u001b[A"
     ]
    },
    {
     "name": "stdout",
     "output_type": "stream",
     "text": [
      "liberal\n",
      "\n",
      "Abortion is health care & should be between a woman & her doctor, not left to politicians like Yvette Herrell who would ban abortion without exceptions for rape, incest or the life of the mother. #NM02\n",
      "\n",
      "teenager_troll_language-youth_disengaged\n",
      "\n",
      "lol yeeted into politics, i'm out 🏃‍♂️💨\n",
      "\n"
     ]
    },
    {
     "name": "stderr",
     "output_type": "stream",
     "text": [
      "\n",
      "\n",
      "\n",
      "\n",
      "\n",
      "\n",
      "\n",
      "\n",
      "\n",
      "\n",
      " 78%|███████▊  | 84/108 [05:43<01:24,  3.52s/it]\u001b[A\u001b[A\u001b[A\u001b[A\u001b[A\u001b[A\u001b[A\u001b[A\u001b[A\u001b[A"
     ]
    },
    {
     "name": "stdout",
     "output_type": "stream",
     "text": [
      "liberal\n",
      "\n",
      "The clean energy revolution is here and we’re going to power it with green union jobs.\n",
      "\n",
      "troll_language-default\n",
      "\n",
      "unicorn-powered cars next pls\n",
      "\n"
     ]
    },
    {
     "name": "stderr",
     "output_type": "stream",
     "text": [
      "\n",
      "\n",
      "\n",
      "\n",
      "\n",
      "\n",
      "\n",
      "\n",
      "\n",
      "\n",
      " 79%|███████▊  | 85/108 [05:46<01:15,  3.29s/it]\u001b[A\u001b[A\u001b[A\u001b[A\u001b[A\u001b[A\u001b[A\u001b[A\u001b[A\u001b[A"
     ]
    },
    {
     "name": "stdout",
     "output_type": "stream",
     "text": [
      "conservative\n",
      "\n",
      "Biden’s set on taking away your choice and forcing you to abide by his radical climate agenda. Un-American!\n",
      "\n",
      "unemployed_troll_language-youth_disengaged\n",
      "\n",
      "lol guess i'll just ride my unicorn to work then 🦄✨\n",
      "\n"
     ]
    },
    {
     "name": "stderr",
     "output_type": "stream",
     "text": [
      "\n",
      "\n",
      "\n",
      "\n",
      "\n",
      "\n",
      "\n",
      "\n",
      "\n",
      "\n",
      " 80%|███████▉  | 86/108 [05:51<01:23,  3.78s/it]\u001b[A\u001b[A\u001b[A\u001b[A\u001b[A\u001b[A\u001b[A\u001b[A\u001b[A\u001b[A"
     ]
    },
    {
     "name": "stdout",
     "output_type": "stream",
     "text": [
      "alt_right\n",
      "\n",
      "A high school debate team ignores the debate prompt and instead attacks white Christians...and then WINS THE DEBATE: \"We demand that white Christians be held accountable for America's original sin.\" This vile, anti-White racism is rewarded by so-called \"academics.\" We must stop it.\n",
      "\n",
      "teenager_troll_language-youth_disengaged\n",
      "\n",
      "lol debate club gone wild\n",
      "\n"
     ]
    },
    {
     "name": "stderr",
     "output_type": "stream",
     "text": [
      "\n",
      "\n",
      "\n",
      "\n",
      "\n",
      "\n",
      "\n",
      "\n",
      "\n",
      "\n",
      " 81%|████████  | 87/108 [05:53<01:10,  3.35s/it]\u001b[A\u001b[A\u001b[A\u001b[A\u001b[A\u001b[A\u001b[A\u001b[A\u001b[A\u001b[A"
     ]
    },
    {
     "name": "stdout",
     "output_type": "stream",
     "text": [
      "alt_right\n",
      "\n",
      "The real healthcare crisis isn't the cost, it's the government interference. Free market solutions, not price controls or single-payer systems, will bring affordability and quality care to all.\n",
      "\n",
      "teenager_misogynist-dense_language-youth\n",
      "\n",
      "tbh, gov needs to step back and let the market do its thing. competition = better services & prices. sick of big gov treating us like we can't make our own choices.\n",
      "\n"
     ]
    },
    {
     "name": "stderr",
     "output_type": "stream",
     "text": [
      "\n",
      "\n",
      "\n",
      "\n",
      "\n",
      "\n",
      "\n",
      "\n",
      "\n",
      "\n",
      " 81%|████████▏ | 88/108 [05:57<01:10,  3.51s/it]\u001b[A\u001b[A\u001b[A\u001b[A\u001b[A\u001b[A\u001b[A\u001b[A\u001b[A\u001b[A"
     ]
    },
    {
     "name": "stdout",
     "output_type": "stream",
     "text": [
      "conservative\n",
      "\n",
      ".⁦@AOC⁩ is it a “crime against humanity” when ⁦@POTUS⁩ secretly flies migrants into Westchester (the place you grew up)? The crime here is allowing the continued flow of illegal immigration, human trafficking and drugs. It has to stop!\n",
      "\n",
      "teenager_misogynist-dense_language-youth\n",
      "\n",
      "lmao @conservative spittin facts, aoc playin victim as usual. gotta secure our borders, too much chaos.  🇺🇸\n",
      "\n"
     ]
    },
    {
     "name": "stderr",
     "output_type": "stream",
     "text": [
      "\n",
      "\n",
      "\n",
      "\n",
      "\n",
      "\n",
      "\n",
      "\n",
      "\n",
      "\n",
      " 82%|████████▏ | 89/108 [06:00<01:03,  3.34s/it]\u001b[A\u001b[A\u001b[A\u001b[A\u001b[A\u001b[A\u001b[A\u001b[A\u001b[A\u001b[A"
     ]
    },
    {
     "name": "stdout",
     "output_type": "stream",
     "text": [
      "alt_right\n",
      "\n",
      "Ridiculous how our energy prices keep rising while we're busy funding endless wars and foreign interventions. Time to prioritize AMERICA and our people! 🇺🇸\n",
      "\n",
      "unemployed_troll_language-youth_disengaged\n",
      "\n",
      "lol sure jan, cuz flipping a switch stops wars. gimme a break 🙄  🍕\n",
      "\n"
     ]
    },
    {
     "name": "stderr",
     "output_type": "stream",
     "text": [
      "\n",
      "\n",
      "\n",
      "\n",
      "\n",
      "\n",
      "\n",
      "\n",
      "\n",
      "\n",
      " 83%|████████▎ | 90/108 [06:04<01:04,  3.59s/it]\u001b[A\u001b[A\u001b[A\u001b[A\u001b[A\u001b[A\u001b[A\u001b[A\u001b[A\u001b[A"
     ]
    },
    {
     "name": "stdout",
     "output_type": "stream",
     "text": [
      "liberal\n",
      "\n",
      "Abortion is health care & should be between a woman & her doctor, not left to politicians like Yvette Herrell who would ban abortion without exceptions for rape, incest or the life of the mother. #NM02\n",
      "\n",
      "teenager_troll_language-youth_far-right\n",
      "\n",
      "lol imagine thinking politicians shouldn't have a say, yet here y'all are letting them run your lives. gotta love the irony\n",
      "\n"
     ]
    },
    {
     "name": "stderr",
     "output_type": "stream",
     "text": [
      "\n",
      "\n",
      "\n",
      "\n",
      "\n",
      "\n",
      "\n",
      "\n",
      "\n",
      "\n",
      " 84%|████████▍ | 91/108 [06:09<01:06,  3.93s/it]\u001b[A\u001b[A\u001b[A\u001b[A\u001b[A\u001b[A\u001b[A\u001b[A\u001b[A\u001b[A"
     ]
    },
    {
     "name": "stdout",
     "output_type": "stream",
     "text": [
      "conservative\n",
      "\n",
      "Inflation running rampant, eroding the purchasing power of hardworking Americans and threatening our economic stability - time to reign in government spending and uphold the principles of fiscal responsibility for a prosperous future! 💪🏼💵📉\n",
      "\n",
      "teenager_misogynist-dense_language-youth\n",
      "\n",
      "lol gov just needs 2 chill, men got this\n",
      "\n"
     ]
    },
    {
     "name": "stderr",
     "output_type": "stream",
     "text": [
      "\n",
      "\n",
      "\n",
      "\n",
      "\n",
      "\n",
      "\n",
      "\n",
      "\n",
      "\n",
      " 85%|████████▌ | 92/108 [06:12<00:58,  3.63s/it]\u001b[A\u001b[A\u001b[A\u001b[A\u001b[A\u001b[A\u001b[A\u001b[A\u001b[A\u001b[A"
     ]
    },
    {
     "name": "stdout",
     "output_type": "stream",
     "text": [
      "alt_right\n",
      "\n",
      "A high school debate team ignores the debate prompt and instead attacks white Christians...and then WINS THE DEBATE: \"We demand that white Christians be held accountable for America's original sin.\" This vile, anti-White racism is rewarded by so-called \"academics.\" We must stop it.\n",
      "\n",
      "teenager_troll_language-youth_radical-left\n",
      "\n",
      "lol y'all triggered cuz someone spilled the tea on history? 😂 accountability ≠ racism, bro. maybe if we stopped worshiping capitalism & started vibing with some equality & solidarity, we’d chill. but nah, let’s keep blaming others.  redistribute vibes, not just wealth ✊🔥\n",
      "\n"
     ]
    },
    {
     "name": "stderr",
     "output_type": "stream",
     "text": [
      "\n",
      "\n",
      "\n",
      "\n",
      "\n",
      "\n",
      "\n",
      "\n",
      "\n",
      "\n",
      " 86%|████████▌ | 93/108 [06:19<01:11,  4.75s/it]\u001b[A\u001b[A\u001b[A\u001b[A\u001b[A\u001b[A\u001b[A\u001b[A\u001b[A\u001b[A"
     ]
    },
    {
     "name": "stdout",
     "output_type": "stream",
     "text": [
      "conservative\n",
      "\n",
      "Inflation running rampant, eroding the purchasing power of hardworking Americans and threatening our economic stability - time to reign in government spending and uphold the principles of fiscal responsibility for a prosperous future! 💪🏼💵📉\n",
      "\n",
      "troll_language-default\n",
      "\n",
      "lol just print more money, easy fix 💸🖨️\n",
      "\n"
     ]
    },
    {
     "name": "stderr",
     "output_type": "stream",
     "text": [
      "\n",
      "\n",
      "\n",
      "\n",
      "\n",
      "\n",
      "\n",
      "\n",
      "\n",
      "\n",
      " 87%|████████▋ | 94/108 [06:23<01:01,  4.41s/it]\u001b[A\u001b[A\u001b[A\u001b[A\u001b[A\u001b[A\u001b[A\u001b[A\u001b[A\u001b[A"
     ]
    },
    {
     "name": "stdout",
     "output_type": "stream",
     "text": [
      "conservative\n",
      "\n",
      ".⁦@AOC⁩ is it a “crime against humanity” when ⁦@POTUS⁩ secretly flies migrants into Westchester (the place you grew up)? The crime here is allowing the continued flow of illegal immigration, human trafficking and drugs. It has to stop!\n",
      "\n",
      "unemployed_troll_language-youth_disengaged\n",
      "\n",
      "lol, drama much? pass the popcorn 🍿\n",
      "\n"
     ]
    },
    {
     "name": "stderr",
     "output_type": "stream",
     "text": [
      "\n",
      "\n",
      "\n",
      "\n",
      "\n",
      "\n",
      "\n",
      "\n",
      "\n",
      "\n",
      " 88%|████████▊ | 95/108 [06:25<00:50,  3.88s/it]\u001b[A\u001b[A\u001b[A\u001b[A\u001b[A\u001b[A\u001b[A\u001b[A\u001b[A\u001b[A"
     ]
    },
    {
     "name": "stdout",
     "output_type": "stream",
     "text": [
      "conservative\n",
      "\n",
      "Inflation running rampant, eroding the purchasing power of hardworking Americans and threatening our economic stability - time to reign in government spending and uphold the principles of fiscal responsibility for a prosperous future! 💪🏼💵📉\n",
      "\n",
      "unemployed_troll_language-youth_far-right\n",
      "\n",
      "lol money printer go brrrr, amirite? 🙃\n",
      "\n"
     ]
    },
    {
     "name": "stderr",
     "output_type": "stream",
     "text": [
      "\n",
      "\n",
      "\n",
      "\n",
      "\n",
      "\n",
      "\n",
      "\n",
      "\n",
      "\n",
      " 89%|████████▉ | 96/108 [06:28<00:43,  3.60s/it]\u001b[A\u001b[A\u001b[A\u001b[A\u001b[A\u001b[A\u001b[A\u001b[A\u001b[A\u001b[A"
     ]
    },
    {
     "name": "stdout",
     "output_type": "stream",
     "text": [
      "liberal\n",
      "\n",
      "The clean energy revolution is here and we’re going to power it with green union jobs.\n",
      "\n",
      "carpenter_misogynist_language-old_far-right\n",
      "\n",
      "That's all cute, but who's gonna pay for it? The working man, as always. Green dreams won't keep the lights on when it's your job shipped off next. And union jobs? Means nothing if there's no country left to work in.\n",
      "\n"
     ]
    },
    {
     "name": "stderr",
     "output_type": "stream",
     "text": [
      "\n",
      "\n",
      "\n",
      "\n",
      "\n",
      "\n",
      "\n",
      "\n",
      "\n",
      "\n",
      " 90%|████████▉ | 97/108 [06:34<00:46,  4.24s/it]\u001b[A\u001b[A\u001b[A\u001b[A\u001b[A\u001b[A\u001b[A\u001b[A\u001b[A\u001b[A"
     ]
    },
    {
     "name": "stdout",
     "output_type": "stream",
     "text": [
      "alt_right\n",
      "\n",
      "Ridiculous how our energy prices keep rising while we're busy funding endless wars and foreign interventions. Time to prioritize AMERICA and our people! 🇺🇸\n",
      "\n",
      "unemployed_troll_language-youth_radical-left\n",
      "\n",
      "lol, priorities? how bout we yeet capitalism & fix income inequality for once 😂👏 redistribute that wealth, fam, not bombs.\n",
      "\n"
     ]
    },
    {
     "name": "stderr",
     "output_type": "stream",
     "text": [
      "\n",
      "\n",
      "\n",
      "\n",
      "\n",
      "\n",
      "\n",
      "\n",
      "\n",
      "\n",
      " 91%|█████████ | 98/108 [06:38<00:41,  4.13s/it]\u001b[A\u001b[A\u001b[A\u001b[A\u001b[A\u001b[A\u001b[A\u001b[A\u001b[A\u001b[A"
     ]
    },
    {
     "name": "stdout",
     "output_type": "stream",
     "text": [
      "liberal\n",
      "\n",
      "The clean energy revolution is here and we’re going to power it with green union jobs.\n",
      "\n",
      "teenager_troll_language-youth_far-right\n",
      "\n",
      "green energy, more like green fantasy lol, windmills gonna fly away\n",
      "\n"
     ]
    },
    {
     "name": "stderr",
     "output_type": "stream",
     "text": [
      "\n",
      "\n",
      "\n",
      "\n",
      "\n",
      "\n",
      "\n",
      "\n",
      "\n",
      "\n",
      " 92%|█████████▏| 99/108 [06:40<00:32,  3.58s/it]\u001b[A\u001b[A\u001b[A\u001b[A\u001b[A\u001b[A\u001b[A\u001b[A\u001b[A\u001b[A"
     ]
    },
    {
     "name": "stdout",
     "output_type": "stream",
     "text": [
      "liberal\n",
      "\n",
      "🌍💙 Let's talk about unemployment in our economy. It's crucial that we address this issue head-on! The pandemic has affected so many lives, and we need bold action to support job creation and provide a safety net for those who are struggling. We must invest in education and skills training programs to ensure that everyone has the opportunity to thrive in a changing job market. Together, we can build a future that is fair and equitable for all.\n",
      "\n",
      "unemployed_troll_language-youth_radical-left\n",
      "\n",
      "lol job market go brrr while we stuck in capitalist hellscape. how bout we yeet this whole system & vibe with communism? education & skills won't fix rigged games. need some of that good ol' wealth redistribution & maybe a dash of anarchy.\n",
      "\n"
     ]
    },
    {
     "name": "stderr",
     "output_type": "stream",
     "text": [
      "\n",
      "\n",
      "\n",
      "\n",
      "\n",
      "\n",
      "\n",
      "\n",
      "\n",
      "\n",
      " 93%|█████████▎| 100/108 [06:46<00:34,  4.26s/it]\u001b[A\u001b[A\u001b[A\u001b[A\u001b[A\u001b[A\u001b[A\u001b[A\u001b[A\u001b[A"
     ]
    },
    {
     "name": "stdout",
     "output_type": "stream",
     "text": [
      "conservative\n",
      "\n",
      "Inflation running rampant, eroding the purchasing power of hardworking Americans and threatening our economic stability - time to reign in government spending and uphold the principles of fiscal responsibility for a prosperous future! 💪🏼💵📉\n",
      "\n",
      "unemployed_troll_language-youth_disengaged\n",
      "\n",
      "lol love how we're all \"hardworking americans\" when my hardest work is deciding which flavor of ramen to microwave. fiscal responsibility? more like fiscal nap time. let's just print more money and call it monopoly 🤑💸🎲\n",
      "\n"
     ]
    },
    {
     "name": "stderr",
     "output_type": "stream",
     "text": [
      "\n",
      "\n",
      "\n",
      "\n",
      "\n",
      "\n",
      "\n",
      "\n",
      "\n",
      "\n",
      " 94%|█████████▎| 101/108 [06:52<00:33,  4.77s/it]\u001b[A\u001b[A\u001b[A\u001b[A\u001b[A\u001b[A\u001b[A\u001b[A\u001b[A\u001b[A"
     ]
    },
    {
     "name": "stdout",
     "output_type": "stream",
     "text": [
      "conservative\n",
      "\n",
      "Inflation running rampant, eroding the purchasing power of hardworking Americans and threatening our economic stability - time to reign in government spending and uphold the principles of fiscal responsibility for a prosperous future! 💪🏼💵📉\n",
      "\n",
      "teenager_troll_language-youth_far-right\n",
      "\n",
      "lmao gov spending is just a scapegoat. real prob is letting in everyone & their mom. gotta protect the stash, not hand it out like candy   🇺🇸\n",
      "\n"
     ]
    },
    {
     "name": "stderr",
     "output_type": "stream",
     "text": [
      "\n",
      "\n",
      "\n",
      "\n",
      "\n",
      "\n",
      "\n",
      "\n",
      "\n",
      "\n",
      " 94%|█████████▍| 102/108 [06:57<00:29,  4.97s/it]\u001b[A\u001b[A\u001b[A\u001b[A\u001b[A\u001b[A\u001b[A\u001b[A\u001b[A\u001b[A"
     ]
    },
    {
     "name": "stdout",
     "output_type": "stream",
     "text": [
      "liberal\n",
      "\n",
      "🌍💙 Let's talk about unemployment in our economy. It's crucial that we address this issue head-on! The pandemic has affected so many lives, and we need bold action to support job creation and provide a safety net for those who are struggling. We must invest in education and skills training programs to ensure that everyone has the opportunity to thrive in a changing job market. Together, we can build a future that is fair and equitable for all.\n",
      "\n",
      "teenager_troll_language-youth_radical-left\n",
      "\n",
      "lol imagine trusting the system to fix what it broke  🚩🔥💸\n",
      "\n"
     ]
    },
    {
     "name": "stderr",
     "output_type": "stream",
     "text": [
      "\n",
      "\n",
      "\n",
      "\n",
      "\n",
      "\n",
      "\n",
      "\n",
      "\n",
      "\n",
      " 95%|█████████▌| 103/108 [07:01<00:22,  4.45s/it]\u001b[A\u001b[A\u001b[A\u001b[A\u001b[A\u001b[A\u001b[A\u001b[A\u001b[A\u001b[A"
     ]
    },
    {
     "name": "stdout",
     "output_type": "stream",
     "text": [
      "conservative\n",
      "\n",
      "Biden’s set on taking away your choice and forcing you to abide by his radical climate agenda. Un-American!\n",
      "\n",
      "carpenter_misogynist_language-old_far-right\n",
      "\n",
      "Back in my day, we relied on hard work, not handouts. Biden's climate agenda? More like a scheme to control us and weaken our nation's backbone. Self-reliance is the American way.\n",
      "\n"
     ]
    },
    {
     "name": "stderr",
     "output_type": "stream",
     "text": [
      "\n",
      "\n",
      "\n",
      "\n",
      "\n",
      "\n",
      "\n",
      "\n",
      "\n",
      "\n",
      " 96%|█████████▋| 104/108 [07:06<00:19,  4.84s/it]\u001b[A\u001b[A\u001b[A\u001b[A\u001b[A\u001b[A\u001b[A\u001b[A\u001b[A\u001b[A"
     ]
    },
    {
     "name": "stdout",
     "output_type": "stream",
     "text": [
      "alt_right\n",
      "\n",
      "Ridiculous how our energy prices keep rising while we're busy funding endless wars and foreign interventions. Time to prioritize AMERICA and our people! 🇺🇸\n",
      "\n",
      "teenager_troll_language-youth_disengaged\n",
      "\n",
      "lol energy probs? just ride a bike. save the planet, flex on haters 🚴‍♂️💨\n",
      "\n"
     ]
    },
    {
     "name": "stderr",
     "output_type": "stream",
     "text": [
      "\n",
      "\n",
      "\n",
      "\n",
      "\n",
      "\n",
      "\n",
      "\n",
      "\n",
      "\n",
      " 97%|█████████▋| 105/108 [07:09<00:12,  4.24s/it]\u001b[A\u001b[A\u001b[A\u001b[A\u001b[A\u001b[A\u001b[A\u001b[A\u001b[A\u001b[A"
     ]
    },
    {
     "name": "stdout",
     "output_type": "stream",
     "text": [
      "liberal\n",
      "\n",
      "The clean energy revolution is here and we’re going to power it with green union jobs.\n",
      "\n",
      "teenager_troll_language-youth_radical-left\n",
      "\n",
      "lol green more like $$$ green, amirite? eat the rich, free power for all  ✊✌️💸\n",
      "\n"
     ]
    },
    {
     "name": "stderr",
     "output_type": "stream",
     "text": [
      "\n",
      "\n",
      "\n",
      "\n",
      "\n",
      "\n",
      "\n",
      "\n",
      "\n",
      "\n",
      " 98%|█████████▊| 106/108 [07:14<00:08,  4.28s/it]\u001b[A\u001b[A\u001b[A\u001b[A\u001b[A\u001b[A\u001b[A\u001b[A\u001b[A\u001b[A"
     ]
    },
    {
     "name": "stdout",
     "output_type": "stream",
     "text": [
      "alt_right\n",
      "\n",
      "A high school debate team ignores the debate prompt and instead attacks white Christians...and then WINS THE DEBATE: \"We demand that white Christians be held accountable for America's original sin.\" This vile, anti-White racism is rewarded by so-called \"academics.\" We must stop it.\n",
      "\n",
      "troll_language-default\n",
      "\n",
      "oh wow, did the debate team unlock a secret level or what? achievement unlocked: spicy takes 🌶️\n",
      "\n"
     ]
    },
    {
     "name": "stderr",
     "output_type": "stream",
     "text": [
      "\n",
      "\n",
      "\n",
      "\n",
      "\n",
      "\n",
      "\n",
      "\n",
      "\n",
      "\n",
      " 99%|█████████▉| 107/108 [07:17<00:03,  3.98s/it]\u001b[A\u001b[A\u001b[A\u001b[A\u001b[A\u001b[A\u001b[A\u001b[A\u001b[A\u001b[A"
     ]
    },
    {
     "name": "stdout",
     "output_type": "stream",
     "text": [
      "liberal\n",
      "\n",
      "The clean energy revolution is here and we’re going to power it with green union jobs.\n",
      "\n",
      "teenager_misogynist-dense_language-youth\n",
      "\n",
      "sorry but the whole \"green dream\" ain't it. focusing on jobs we actually have makes more sense. why push everyone into these new fields when we could perfect what we already excel at?\n",
      "\n"
     ]
    },
    {
     "name": "stderr",
     "output_type": "stream",
     "text": [
      "\n",
      "\n",
      "\n",
      "\n",
      "\n",
      "\n",
      "\n",
      "\n",
      "\n",
      "\n",
      "100%|██████████| 108/108 [07:21<00:00,  4.09s/it]\u001b[A\u001b[A\u001b[A\u001b[A\u001b[A\u001b[A\u001b[A\u001b[A\u001b[A\u001b[A\n"
     ]
    }
   ],
   "source": [
    "for _ in range(x):\n",
    "    for integration, persona, thread in tqdm(configurations):\n",
    "\n",
    "        payload: dict = {\n",
    "            \"personas\": persona,\n",
    "            \"integration\": integration,\n",
    "            \"thread\": {'posts': [{'author': thread['persona'], 'message': thread['text']}]},\n",
    "            \"length\": random.choice(length)\n",
    "        }\n",
    "\n",
    "        response = requests.post('http://127.0.0.1:8000/reply/', json=payload)\n",
    "\n",
    "        if response.status_code == 500 or response.status_code == 502:\n",
    "            print(\"500/502: Connection Error, too many request, try again later.\")\n",
    "            break\n",
    "\n",
    "        try:\n",
    "            data: dict = response.json()\n",
    "\n",
    "        except Exception as e:\n",
    "            print(e, ':', response)\n",
    "            break\n",
    "        \n",
    "        sample: dict = {\n",
    "            \"persona\": data['persona']['id'],\n",
    "            \"model\": integration[\"model\"],\n",
    "            \"original_author\": thread['persona'],\n",
    "            \"threads\": thread['text'],\n",
    "            \"topic\": thread[\"topic\"],\n",
    "            \"text\": data['response'],\n",
    "            \"payload\": data,\n",
    "            \"annotation\": {\n",
    "                \"politics\": None,\n",
    "                \"persona\": None,\n",
    "                \"tone\": None,\n",
    "                \"authenticity\": None\n",
    "            }\n",
    "        }\n",
    "        print(thread['persona'] + '\\n')\n",
    "        print(thread['text'] + '\\n')\n",
    "        print(str(data['persona']['id']) + '\\n')\n",
    "        print(str(data['response']) + '\\n')\n",
    "        sample['id'] = hashlib.shake_256(str.encode(json.dumps(sample))).hexdigest(24)\n",
    "        open(f'{RAW_DATA_DIR}/{data[\"persona\"][\"id\"]}-{integration[\"model\"].replace(\"/\",\"\")}-{sample[\"id\"]}.json', 'w').write(json.dumps(sample, indent=4))\n",
    "        sleep(1)\n"
   ]
  },
  {
   "cell_type": "code",
   "execution_count": null,
   "id": "c7d6c5d5",
   "metadata": {},
   "outputs": [],
   "source": []
  },
  {
   "cell_type": "code",
   "execution_count": null,
   "id": "9dec542a",
   "metadata": {},
   "outputs": [],
   "source": []
  }
 ],
 "metadata": {
  "kernelspec": {
   "display_name": "Python 3 (ipykernel)",
   "language": "python",
   "name": "python3"
  },
  "language_info": {
   "codemirror_mode": {
    "name": "ipython",
    "version": 3
   },
   "file_extension": ".py",
   "mimetype": "text/x-python",
   "name": "python",
   "nbconvert_exporter": "python",
   "pygments_lexer": "ipython3",
   "version": "3.9.13"
  }
 },
 "nbformat": 4,
 "nbformat_minor": 5
}
