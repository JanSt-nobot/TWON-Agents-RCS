{
 "cells": [
  {
   "cell_type": "code",
   "execution_count": 16,
   "id": "initial_id",
   "metadata": {
    "collapsed": true,
    "ExecuteTime": {
     "end_time": "2024-01-17T15:11:54.672290Z",
     "start_time": "2024-01-17T15:11:54.655534Z"
    }
   },
   "outputs": [],
   "source": [
    "import glob\n",
    "import json\n",
    "from typing import List\n",
    "\n",
    "import pandas as pd"
   ]
  },
  {
   "cell_type": "code",
   "outputs": [],
   "source": [
    "RAW_DATA_DIR: str = './raw'\n",
    "DATA_OUT_PATH: str = './dataset'\n",
    "\n",
    "LANGUAGES: List[str] = [\"English\", \"German\", \"Dutch\"]"
   ],
   "metadata": {
    "collapsed": false,
    "ExecuteTime": {
     "end_time": "2024-01-17T15:11:55.010188Z",
     "start_time": "2024-01-17T15:11:54.933071Z"
    }
   },
   "id": "5a2ff1b40608efb2",
   "execution_count": 17
  },
  {
   "cell_type": "code",
   "outputs": [],
   "source": [
    "raw_samples: List[dict] = [\n",
    "    json.load(open(file, 'r'))\n",
    "    for file in glob.glob(f'{RAW_DATA_DIR}/*.json')\n",
    "]"
   ],
   "metadata": {
    "collapsed": false,
    "ExecuteTime": {
     "end_time": "2024-01-17T15:11:55.443579Z",
     "start_time": "2024-01-17T15:11:55.400182Z"
    }
   },
   "id": "9f6e6950f617b685",
   "execution_count": 18
  },
  {
   "cell_type": "code",
   "outputs": [
    {
     "data": {
      "text/plain": "                                                       persona  \\\nid                                                               \n368e74d7846e2ffe55890648208419c7ea3d25b6efc22a56       liberal   \n3b3b1310032e5a91a00f30712c5efc391b7afe9335269f84       liberal   \n3794ca40b3738b5669a76590ad33c3a9c75757ffceb1f898       liberal   \n0d8bc6c706cd55481984874d3a84e32d8fb4ae1d27eb011f       liberal   \n0cb177c34f6d7e8b16c65451cc7ed6eaa357e6303d9120f9  conservative   \n...                                                        ...   \n42507603d11ffcfa6c92d028444fa1bc76db150e6e2613b3     alt_right   \n3820934dc4ceaac88f69e09c94864b18035b31317606d27f       liberal   \n508ca2adf4c69943f770da3f870c7cdf1c4f01f4b0b9db66  conservative   \ne8d892937224c89dd7d183d35cac01a77d42cad92e9151c9       liberal   \n714500a24a0dafa740c8e1cb7633bbf17f10b8c400db2c1c  conservative   \n\n                                                                               model  \\\nid                                                                                     \n368e74d7846e2ffe55890648208419c7ea3d25b6efc22a56  mistralai/Mistral-7B-Instruct-v0.2   \n3b3b1310032e5a91a00f30712c5efc391b7afe9335269f84  mistralai/Mistral-7B-Instruct-v0.2   \n3794ca40b3738b5669a76590ad33c3a9c75757ffceb1f898  mistralai/Mistral-7B-Instruct-v0.2   \n0d8bc6c706cd55481984874d3a84e32d8fb4ae1d27eb011f  mistralai/Mistral-7B-Instruct-v0.2   \n0cb177c34f6d7e8b16c65451cc7ed6eaa357e6303d9120f9  mistralai/Mistral-7B-Instruct-v0.2   \n...                                                                              ...   \n42507603d11ffcfa6c92d028444fa1bc76db150e6e2613b3  mistralai/Mistral-7B-Instruct-v0.2   \n3820934dc4ceaac88f69e09c94864b18035b31317606d27f  mistralai/Mistral-7B-Instruct-v0.2   \n508ca2adf4c69943f770da3f870c7cdf1c4f01f4b0b9db66  mistralai/Mistral-7B-Instruct-v0.2   \ne8d892937224c89dd7d183d35cac01a77d42cad92e9151c9  mistralai/Mistral-7B-Instruct-v0.2   \n714500a24a0dafa740c8e1cb7633bbf17f10b8c400db2c1c  mistralai/Mistral-7B-Instruct-v0.2   \n\n                                                        topic platform  \\\nid                                                                       \n368e74d7846e2ffe55890648208419c7ea3d25b6efc22a56  Ukraine War   Reddit   \n3b3b1310032e5a91a00f30712c5efc391b7afe9335269f84   Healthcare   Reddit   \n3794ca40b3738b5669a76590ad33c3a9c75757ffceb1f898  Ukraine War  Twitter   \n0d8bc6c706cd55481984874d3a84e32d8fb4ae1d27eb011f      Economy  Twitter   \n0cb177c34f6d7e8b16c65451cc7ed6eaa357e6303d9120f9     Covid-19   Reddit   \n...                                                       ...      ...   \n42507603d11ffcfa6c92d028444fa1bc76db150e6e2613b3   Healthcare  Twitter   \n3820934dc4ceaac88f69e09c94864b18035b31317606d27f   Healthcare  Twitter   \n508ca2adf4c69943f770da3f870c7cdf1c4f01f4b0b9db66     Covid-19  Twitter   \ne8d892937224c89dd7d183d35cac01a77d42cad92e9151c9      Economy   Reddit   \n714500a24a0dafa740c8e1cb7633bbf17f10b8c400db2c1c   Healthcare  Twitter   \n\n                                                 language  \\\nid                                                          \n368e74d7846e2ffe55890648208419c7ea3d25b6efc22a56  English   \n3b3b1310032e5a91a00f30712c5efc391b7afe9335269f84    Dutch   \n3794ca40b3738b5669a76590ad33c3a9c75757ffceb1f898   German   \n0d8bc6c706cd55481984874d3a84e32d8fb4ae1d27eb011f  English   \n0cb177c34f6d7e8b16c65451cc7ed6eaa357e6303d9120f9   German   \n...                                                   ...   \n42507603d11ffcfa6c92d028444fa1bc76db150e6e2613b3    Dutch   \n3820934dc4ceaac88f69e09c94864b18035b31317606d27f   German   \n508ca2adf4c69943f770da3f870c7cdf1c4f01f4b0b9db66   German   \ne8d892937224c89dd7d183d35cac01a77d42cad92e9151c9  English   \n714500a24a0dafa740c8e1cb7633bbf17f10b8c400db2c1c   German   \n\n                                                                                               text  \\\nid                                                                                                    \n368e74d7846e2ffe55890648208419c7ea3d25b6efc22a56  As the situation in Ukraine continues to unfol...   \n3b3b1310032e5a91a00f30712c5efc391b7afe9335269f84  📣🏥💔 Hey fellow Redditors,Ik wil graag ijzeren ...   \n3794ca40b3738b5669a76590ad33c3a9c75757ffceb1f898  🌐🇪🇺🇷🇺  Wir müssen uns der internationalen Stab...   \n0d8bc6c706cd55481984874d3a84e32d8fb4ae1d27eb011f  📊💔 Unemployment rates continue to rise, leavin...   \n0cb177c34f6d7e8b16c65451cc7ed6eaa357e6303d9120f9  💉 Vaccinierungen im Hinblick auf Covid-19 💉Wir...   \n...                                                                                             ...   \n42507603d11ffcfa6c92d028444fa1bc76db150e6e2613b3  PC-gekken willen alles controleeren, zelfs je ...   \n3820934dc4ceaac88f69e09c94864b18035b31317606d27f  🔬💡 Forschung ist das Herzstück unseres Gesundh...   \n508ca2adf4c69943f770da3f870c7cdf1c4f01f4b0b9db66  Wir müssen uns auf die traditionellen Werte un...   \ne8d892937224c89dd7d183d35cac01a77d42cad92e9151c9  Progressive taxes are essential for a thriving...   \n714500a24a0dafa740c8e1cb7633bbf17f10b8c400db2c1c  🇩🇪🏥🔬Guten Tag, meine lieben Freunde! 🌷Heute mö...   \n\n                                                 annotation.topic  \\\nid                                                                  \n368e74d7846e2ffe55890648208419c7ea3d25b6efc22a56             None   \n3b3b1310032e5a91a00f30712c5efc391b7afe9335269f84             None   \n3794ca40b3738b5669a76590ad33c3a9c75757ffceb1f898             None   \n0d8bc6c706cd55481984874d3a84e32d8fb4ae1d27eb011f             None   \n0cb177c34f6d7e8b16c65451cc7ed6eaa357e6303d9120f9             None   \n...                                                           ...   \n42507603d11ffcfa6c92d028444fa1bc76db150e6e2613b3             None   \n3820934dc4ceaac88f69e09c94864b18035b31317606d27f             None   \n508ca2adf4c69943f770da3f870c7cdf1c4f01f4b0b9db66             None   \ne8d892937224c89dd7d183d35cac01a77d42cad92e9151c9             None   \n714500a24a0dafa740c8e1cb7633bbf17f10b8c400db2c1c             None   \n\n                                                 annotation.persona  \\\nid                                                                    \n368e74d7846e2ffe55890648208419c7ea3d25b6efc22a56               None   \n3b3b1310032e5a91a00f30712c5efc391b7afe9335269f84               None   \n3794ca40b3738b5669a76590ad33c3a9c75757ffceb1f898               None   \n0d8bc6c706cd55481984874d3a84e32d8fb4ae1d27eb011f               None   \n0cb177c34f6d7e8b16c65451cc7ed6eaa357e6303d9120f9               None   \n...                                                             ...   \n42507603d11ffcfa6c92d028444fa1bc76db150e6e2613b3               None   \n3820934dc4ceaac88f69e09c94864b18035b31317606d27f               None   \n508ca2adf4c69943f770da3f870c7cdf1c4f01f4b0b9db66               None   \ne8d892937224c89dd7d183d35cac01a77d42cad92e9151c9               None   \n714500a24a0dafa740c8e1cb7633bbf17f10b8c400db2c1c               None   \n\n                                                 annotation.authenticity  \nid                                                                        \n368e74d7846e2ffe55890648208419c7ea3d25b6efc22a56                    None  \n3b3b1310032e5a91a00f30712c5efc391b7afe9335269f84                    None  \n3794ca40b3738b5669a76590ad33c3a9c75757ffceb1f898                    None  \n0d8bc6c706cd55481984874d3a84e32d8fb4ae1d27eb011f                    None  \n0cb177c34f6d7e8b16c65451cc7ed6eaa357e6303d9120f9                    None  \n...                                                                  ...  \n42507603d11ffcfa6c92d028444fa1bc76db150e6e2613b3                    None  \n3820934dc4ceaac88f69e09c94864b18035b31317606d27f                    None  \n508ca2adf4c69943f770da3f870c7cdf1c4f01f4b0b9db66                    None  \ne8d892937224c89dd7d183d35cac01a77d42cad92e9151c9                    None  \n714500a24a0dafa740c8e1cb7633bbf17f10b8c400db2c1c                    None  \n\n[73 rows x 9 columns]",
      "text/html": "<div>\n<style scoped>\n    .dataframe tbody tr th:only-of-type {\n        vertical-align: middle;\n    }\n\n    .dataframe tbody tr th {\n        vertical-align: top;\n    }\n\n    .dataframe thead th {\n        text-align: right;\n    }\n</style>\n<table border=\"1\" class=\"dataframe\">\n  <thead>\n    <tr style=\"text-align: right;\">\n      <th></th>\n      <th>persona</th>\n      <th>model</th>\n      <th>topic</th>\n      <th>platform</th>\n      <th>language</th>\n      <th>text</th>\n      <th>annotation.topic</th>\n      <th>annotation.persona</th>\n      <th>annotation.authenticity</th>\n    </tr>\n    <tr>\n      <th>id</th>\n      <th></th>\n      <th></th>\n      <th></th>\n      <th></th>\n      <th></th>\n      <th></th>\n      <th></th>\n      <th></th>\n      <th></th>\n    </tr>\n  </thead>\n  <tbody>\n    <tr>\n      <th>368e74d7846e2ffe55890648208419c7ea3d25b6efc22a56</th>\n      <td>liberal</td>\n      <td>mistralai/Mistral-7B-Instruct-v0.2</td>\n      <td>Ukraine War</td>\n      <td>Reddit</td>\n      <td>English</td>\n      <td>As the situation in Ukraine continues to unfol...</td>\n      <td>None</td>\n      <td>None</td>\n      <td>None</td>\n    </tr>\n    <tr>\n      <th>3b3b1310032e5a91a00f30712c5efc391b7afe9335269f84</th>\n      <td>liberal</td>\n      <td>mistralai/Mistral-7B-Instruct-v0.2</td>\n      <td>Healthcare</td>\n      <td>Reddit</td>\n      <td>Dutch</td>\n      <td>📣🏥💔 Hey fellow Redditors,Ik wil graag ijzeren ...</td>\n      <td>None</td>\n      <td>None</td>\n      <td>None</td>\n    </tr>\n    <tr>\n      <th>3794ca40b3738b5669a76590ad33c3a9c75757ffceb1f898</th>\n      <td>liberal</td>\n      <td>mistralai/Mistral-7B-Instruct-v0.2</td>\n      <td>Ukraine War</td>\n      <td>Twitter</td>\n      <td>German</td>\n      <td>🌐🇪🇺🇷🇺  Wir müssen uns der internationalen Stab...</td>\n      <td>None</td>\n      <td>None</td>\n      <td>None</td>\n    </tr>\n    <tr>\n      <th>0d8bc6c706cd55481984874d3a84e32d8fb4ae1d27eb011f</th>\n      <td>liberal</td>\n      <td>mistralai/Mistral-7B-Instruct-v0.2</td>\n      <td>Economy</td>\n      <td>Twitter</td>\n      <td>English</td>\n      <td>📊💔 Unemployment rates continue to rise, leavin...</td>\n      <td>None</td>\n      <td>None</td>\n      <td>None</td>\n    </tr>\n    <tr>\n      <th>0cb177c34f6d7e8b16c65451cc7ed6eaa357e6303d9120f9</th>\n      <td>conservative</td>\n      <td>mistralai/Mistral-7B-Instruct-v0.2</td>\n      <td>Covid-19</td>\n      <td>Reddit</td>\n      <td>German</td>\n      <td>💉 Vaccinierungen im Hinblick auf Covid-19 💉Wir...</td>\n      <td>None</td>\n      <td>None</td>\n      <td>None</td>\n    </tr>\n    <tr>\n      <th>...</th>\n      <td>...</td>\n      <td>...</td>\n      <td>...</td>\n      <td>...</td>\n      <td>...</td>\n      <td>...</td>\n      <td>...</td>\n      <td>...</td>\n      <td>...</td>\n    </tr>\n    <tr>\n      <th>42507603d11ffcfa6c92d028444fa1bc76db150e6e2613b3</th>\n      <td>alt_right</td>\n      <td>mistralai/Mistral-7B-Instruct-v0.2</td>\n      <td>Healthcare</td>\n      <td>Twitter</td>\n      <td>Dutch</td>\n      <td>PC-gekken willen alles controleeren, zelfs je ...</td>\n      <td>None</td>\n      <td>None</td>\n      <td>None</td>\n    </tr>\n    <tr>\n      <th>3820934dc4ceaac88f69e09c94864b18035b31317606d27f</th>\n      <td>liberal</td>\n      <td>mistralai/Mistral-7B-Instruct-v0.2</td>\n      <td>Healthcare</td>\n      <td>Twitter</td>\n      <td>German</td>\n      <td>🔬💡 Forschung ist das Herzstück unseres Gesundh...</td>\n      <td>None</td>\n      <td>None</td>\n      <td>None</td>\n    </tr>\n    <tr>\n      <th>508ca2adf4c69943f770da3f870c7cdf1c4f01f4b0b9db66</th>\n      <td>conservative</td>\n      <td>mistralai/Mistral-7B-Instruct-v0.2</td>\n      <td>Covid-19</td>\n      <td>Twitter</td>\n      <td>German</td>\n      <td>Wir müssen uns auf die traditionellen Werte un...</td>\n      <td>None</td>\n      <td>None</td>\n      <td>None</td>\n    </tr>\n    <tr>\n      <th>e8d892937224c89dd7d183d35cac01a77d42cad92e9151c9</th>\n      <td>liberal</td>\n      <td>mistralai/Mistral-7B-Instruct-v0.2</td>\n      <td>Economy</td>\n      <td>Reddit</td>\n      <td>English</td>\n      <td>Progressive taxes are essential for a thriving...</td>\n      <td>None</td>\n      <td>None</td>\n      <td>None</td>\n    </tr>\n    <tr>\n      <th>714500a24a0dafa740c8e1cb7633bbf17f10b8c400db2c1c</th>\n      <td>conservative</td>\n      <td>mistralai/Mistral-7B-Instruct-v0.2</td>\n      <td>Healthcare</td>\n      <td>Twitter</td>\n      <td>German</td>\n      <td>🇩🇪🏥🔬Guten Tag, meine lieben Freunde! 🌷Heute mö...</td>\n      <td>None</td>\n      <td>None</td>\n      <td>None</td>\n    </tr>\n  </tbody>\n</table>\n<p>73 rows × 9 columns</p>\n</div>"
     },
     "execution_count": 19,
     "metadata": {},
     "output_type": "execute_result"
    }
   ],
   "source": [
    "dataset: pd.DataFrame = (\n",
    "    pd.json_normalize(raw_samples)\n",
    "    .set_index('id')\n",
    "    .astype({\n",
    "        'persona': 'category', 'model': 'category',\n",
    "        'topic': 'category', 'platform': 'category',\n",
    "        'language': 'category'\n",
    "    })\n",
    ")\n",
    "dataset.to_parquet(f'{DATA_OUT_PATH}.full.parquet')\n",
    "dataset"
   ],
   "metadata": {
    "collapsed": false,
    "ExecuteTime": {
     "end_time": "2024-01-17T15:11:56.327892Z",
     "start_time": "2024-01-17T15:11:56.239863Z"
    }
   },
   "id": "2c0cae75f40dd734",
   "execution_count": 19
  },
  {
   "cell_type": "code",
   "outputs": [
    {
     "data": {
      "text/plain": "59054"
     },
     "execution_count": 20,
     "metadata": {},
     "output_type": "execute_result"
    }
   ],
   "source": [
    "open(f'{DATA_OUT_PATH}.full.json', 'w').write(json.dumps(raw_samples, indent=4))"
   ],
   "metadata": {
    "collapsed": false,
    "ExecuteTime": {
     "end_time": "2024-01-17T15:11:59.114171Z",
     "start_time": "2024-01-17T15:11:59.076874Z"
    }
   },
   "id": "58d89a262ee868ba",
   "execution_count": 20
  },
  {
   "cell_type": "code",
   "outputs": [],
   "source": [
    "for lang in LANGUAGES:\n",
    "    open(f'{DATA_OUT_PATH}.{lang.lower()}.json', 'w').write(\n",
    "        json.dumps([record for record in raw_samples if record['language'] == lang], indent=4)\n",
    "    )"
   ],
   "metadata": {
    "collapsed": false,
    "ExecuteTime": {
     "end_time": "2024-01-17T15:11:59.886938Z",
     "start_time": "2024-01-17T15:11:59.848956Z"
    }
   },
   "id": "221874318f07b5c6",
   "execution_count": 21
  },
  {
   "cell_type": "code",
   "outputs": [],
   "source": [],
   "metadata": {
    "collapsed": false,
    "ExecuteTime": {
     "end_time": "2024-01-17T14:28:45.204679Z",
     "start_time": "2024-01-17T14:28:45.181843Z"
    }
   },
   "id": "87cef47a3abb72af",
   "execution_count": 24
  }
 ],
 "metadata": {
  "kernelspec": {
   "display_name": "Python 3",
   "language": "python",
   "name": "python3"
  },
  "language_info": {
   "codemirror_mode": {
    "name": "ipython",
    "version": 2
   },
   "file_extension": ".py",
   "mimetype": "text/x-python",
   "name": "python",
   "nbconvert_exporter": "python",
   "pygments_lexer": "ipython2",
   "version": "2.7.6"
  }
 },
 "nbformat": 4,
 "nbformat_minor": 5
}
