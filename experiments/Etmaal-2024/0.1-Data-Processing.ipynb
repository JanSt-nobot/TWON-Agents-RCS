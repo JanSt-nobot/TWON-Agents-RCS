{
 "cells": [
  {
   "cell_type": "code",
   "execution_count": 289,
   "id": "initial_id",
   "metadata": {
    "collapsed": true,
    "ExecuteTime": {
     "end_time": "2024-01-18T19:06:27.110704Z",
     "start_time": "2024-01-18T19:06:27.046114Z"
    }
   },
   "outputs": [],
   "source": [
    "import glob\n",
    "import json\n",
    "from typing import List\n",
    "\n",
    "import pandas as pd"
   ]
  },
  {
   "cell_type": "code",
   "outputs": [],
   "source": [
    "RAW_DATA_DIR: str = './raw'\n",
    "DATA_OUT_PATH: str = './dataset'\n",
    "\n",
    "LANGUAGES: List[str] = [\"English\", \"German\", \"Dutch\"]"
   ],
   "metadata": {
    "collapsed": false,
    "ExecuteTime": {
     "end_time": "2024-01-18T19:06:27.141093Z",
     "start_time": "2024-01-18T19:06:27.053531Z"
    }
   },
   "id": "5a2ff1b40608efb2",
   "execution_count": 290
  },
  {
   "cell_type": "code",
   "outputs": [],
   "source": [
    "raw_samples: List[dict] = [\n",
    "    json.load(open(file, 'r'))\n",
    "    for file in glob.glob(f'{RAW_DATA_DIR}/*.json')\n",
    "]"
   ],
   "metadata": {
    "collapsed": false,
    "ExecuteTime": {
     "end_time": "2024-01-18T19:06:27.222038Z",
     "start_time": "2024-01-18T19:06:27.063854Z"
    }
   },
   "id": "9f6e6950f617b685",
   "execution_count": 291
  },
  {
   "cell_type": "code",
   "outputs": [
    {
     "data": {
      "text/plain": "                                                       persona  \\\nid                                                               \n363e2008bf4f7b746c41afa1963cc11e7730749e2cbdf1f4       liberal   \n8642567740d4bffae8471c9eb81fb26fe7d00155a0bc6e2d     alt_right   \n6cc0a0a6c88bc0b0e993a800c0892abf0e35def2c88db589       liberal   \n368e74d7846e2ffe55890648208419c7ea3d25b6efc22a56       liberal   \na999eba1ff9e79165e49e711c4de1e5e0000b5db569a6252  conservative   \n...                                                        ...   \n8719ab1b28a573652910f20707129286c74009732fcd71b2     alt_right   \n676119ea31bf80458523c39afc9b1d4133c361cd36e5ca18       liberal   \n93974605f697c38d03361aa30f5206441fb88b44b4627a0e       liberal   \nc32c9f37085d94ea3c94512143a3f3113169f61c170de476  conservative   \n5de47b3e97a09f933ae08e3ed402b86c0180b00e459888cd       liberal   \n\n                                                                               model  \\\nid                                                                                     \n363e2008bf4f7b746c41afa1963cc11e7730749e2cbdf1f4                       gpt-3.5-turbo   \n8642567740d4bffae8471c9eb81fb26fe7d00155a0bc6e2d                       gpt-3.5-turbo   \n6cc0a0a6c88bc0b0e993a800c0892abf0e35def2c88db589  mistralai/Mistral-7B-Instruct-v0.2   \n368e74d7846e2ffe55890648208419c7ea3d25b6efc22a56  mistralai/Mistral-7B-Instruct-v0.2   \na999eba1ff9e79165e49e711c4de1e5e0000b5db569a6252                       gpt-3.5-turbo   \n...                                                                              ...   \n8719ab1b28a573652910f20707129286c74009732fcd71b2                       gpt-3.5-turbo   \n676119ea31bf80458523c39afc9b1d4133c361cd36e5ca18                       gpt-3.5-turbo   \n93974605f697c38d03361aa30f5206441fb88b44b4627a0e                       gpt-3.5-turbo   \nc32c9f37085d94ea3c94512143a3f3113169f61c170de476  mistralai/Mistral-7B-Instruct-v0.2   \n5de47b3e97a09f933ae08e3ed402b86c0180b00e459888cd                       gpt-3.5-turbo   \n\n                                                        topic platform  \\\nid                                                                       \n363e2008bf4f7b746c41afa1963cc11e7730749e2cbdf1f4      Economy  Twitter   \n8642567740d4bffae8471c9eb81fb26fe7d00155a0bc6e2d   Healthcare  Twitter   \n6cc0a0a6c88bc0b0e993a800c0892abf0e35def2c88db589     Covid-19  Twitter   \n368e74d7846e2ffe55890648208419c7ea3d25b6efc22a56  Ukraine War   Reddit   \na999eba1ff9e79165e49e711c4de1e5e0000b5db569a6252  Environment   Reddit   \n...                                                       ...      ...   \n8719ab1b28a573652910f20707129286c74009732fcd71b2   Healthcare   Reddit   \n676119ea31bf80458523c39afc9b1d4133c361cd36e5ca18  Environment   Reddit   \n93974605f697c38d03361aa30f5206441fb88b44b4627a0e  Ukraine War  Twitter   \nc32c9f37085d94ea3c94512143a3f3113169f61c170de476  Ukraine War  Twitter   \n5de47b3e97a09f933ae08e3ed402b86c0180b00e459888cd  Environment   Reddit   \n\n                                                 language  \\\nid                                                          \n363e2008bf4f7b746c41afa1963cc11e7730749e2cbdf1f4  English   \n8642567740d4bffae8471c9eb81fb26fe7d00155a0bc6e2d  English   \n6cc0a0a6c88bc0b0e993a800c0892abf0e35def2c88db589  English   \n368e74d7846e2ffe55890648208419c7ea3d25b6efc22a56  English   \na999eba1ff9e79165e49e711c4de1e5e0000b5db569a6252   German   \n...                                                   ...   \n8719ab1b28a573652910f20707129286c74009732fcd71b2  English   \n676119ea31bf80458523c39afc9b1d4133c361cd36e5ca18    Dutch   \n93974605f697c38d03361aa30f5206441fb88b44b4627a0e    Dutch   \nc32c9f37085d94ea3c94512143a3f3113169f61c170de476  English   \n5de47b3e97a09f933ae08e3ed402b86c0180b00e459888cd    Dutch   \n\n                                                                                               text  \\\nid                                                                                                    \n363e2008bf4f7b746c41afa1963cc11e7730749e2cbdf1f4  💬 \"Concerned about the rising inflation rates?...   \n8642567740d4bffae8471c9eb81fb26fe7d00155a0bc6e2d  🚨 BREAKING NEWS 🚨 Let's talk REAL healthcare, ...   \n6cc0a0a6c88bc0b0e993a800c0892abf0e35def2c88db589  💉💉💉  As the world grapples with the ongoing Co...   \n368e74d7846e2ffe55890648208419c7ea3d25b6efc22a56  As the situation in Ukraine continues to unfol...   \na999eba1ff9e79165e49e711c4de1e5e0000b5db569a6252  Energiewende ist teuer, aber ist notwendig für...   \n...                                                                                             ...   \n8719ab1b28a573652910f20707129286c74009732fcd71b2  🇺🇸 Hey fellow patriots! Let's talk about the h...   \n676119ea31bf80458523c39afc9b1d4133c361cd36e5ca18  Laten we onze energieconsumptie verminderen en...   \n93974605f697c38d03361aa30f5206441fb88b44b4627a0e  Het is schokkend om te zien hoe de oorlog in O...   \nc32c9f37085d94ea3c94512143a3f3113169f61c170de476  🚨🇷🇺🇺🇦 Crisis Alert 🇺🇦🇺🇷 Russia-Ukraine War 🇺🇦🇺...   \n5de47b3e97a09f933ae08e3ed402b86c0180b00e459888cd  Hoi mede-redditors! 🌍💚 Vandaag wil ik het hebb...   \n\n                                                 annotation.topic  \\\nid                                                                  \n363e2008bf4f7b746c41afa1963cc11e7730749e2cbdf1f4             None   \n8642567740d4bffae8471c9eb81fb26fe7d00155a0bc6e2d             None   \n6cc0a0a6c88bc0b0e993a800c0892abf0e35def2c88db589             None   \n368e74d7846e2ffe55890648208419c7ea3d25b6efc22a56             None   \na999eba1ff9e79165e49e711c4de1e5e0000b5db569a6252             None   \n...                                                           ...   \n8719ab1b28a573652910f20707129286c74009732fcd71b2             None   \n676119ea31bf80458523c39afc9b1d4133c361cd36e5ca18             None   \n93974605f697c38d03361aa30f5206441fb88b44b4627a0e             None   \nc32c9f37085d94ea3c94512143a3f3113169f61c170de476             None   \n5de47b3e97a09f933ae08e3ed402b86c0180b00e459888cd             None   \n\n                                                 annotation.persona  \\\nid                                                                    \n363e2008bf4f7b746c41afa1963cc11e7730749e2cbdf1f4               None   \n8642567740d4bffae8471c9eb81fb26fe7d00155a0bc6e2d               None   \n6cc0a0a6c88bc0b0e993a800c0892abf0e35def2c88db589               None   \n368e74d7846e2ffe55890648208419c7ea3d25b6efc22a56               None   \na999eba1ff9e79165e49e711c4de1e5e0000b5db569a6252               None   \n...                                                             ...   \n8719ab1b28a573652910f20707129286c74009732fcd71b2               None   \n676119ea31bf80458523c39afc9b1d4133c361cd36e5ca18               None   \n93974605f697c38d03361aa30f5206441fb88b44b4627a0e               None   \nc32c9f37085d94ea3c94512143a3f3113169f61c170de476               None   \n5de47b3e97a09f933ae08e3ed402b86c0180b00e459888cd               None   \n\n                                                 annotation.authenticity  \nid                                                                        \n363e2008bf4f7b746c41afa1963cc11e7730749e2cbdf1f4                    None  \n8642567740d4bffae8471c9eb81fb26fe7d00155a0bc6e2d                    None  \n6cc0a0a6c88bc0b0e993a800c0892abf0e35def2c88db589                    None  \n368e74d7846e2ffe55890648208419c7ea3d25b6efc22a56                    None  \na999eba1ff9e79165e49e711c4de1e5e0000b5db569a6252                    None  \n...                                                                  ...  \n8719ab1b28a573652910f20707129286c74009732fcd71b2                    None  \n676119ea31bf80458523c39afc9b1d4133c361cd36e5ca18                    None  \n93974605f697c38d03361aa30f5206441fb88b44b4627a0e                    None  \nc32c9f37085d94ea3c94512143a3f3113169f61c170de476                    None  \n5de47b3e97a09f933ae08e3ed402b86c0180b00e459888cd                    None  \n\n[1400 rows x 9 columns]",
      "text/html": "<div>\n<style scoped>\n    .dataframe tbody tr th:only-of-type {\n        vertical-align: middle;\n    }\n\n    .dataframe tbody tr th {\n        vertical-align: top;\n    }\n\n    .dataframe thead th {\n        text-align: right;\n    }\n</style>\n<table border=\"1\" class=\"dataframe\">\n  <thead>\n    <tr style=\"text-align: right;\">\n      <th></th>\n      <th>persona</th>\n      <th>model</th>\n      <th>topic</th>\n      <th>platform</th>\n      <th>language</th>\n      <th>text</th>\n      <th>annotation.topic</th>\n      <th>annotation.persona</th>\n      <th>annotation.authenticity</th>\n    </tr>\n    <tr>\n      <th>id</th>\n      <th></th>\n      <th></th>\n      <th></th>\n      <th></th>\n      <th></th>\n      <th></th>\n      <th></th>\n      <th></th>\n      <th></th>\n    </tr>\n  </thead>\n  <tbody>\n    <tr>\n      <th>363e2008bf4f7b746c41afa1963cc11e7730749e2cbdf1f4</th>\n      <td>liberal</td>\n      <td>gpt-3.5-turbo</td>\n      <td>Economy</td>\n      <td>Twitter</td>\n      <td>English</td>\n      <td>💬 \"Concerned about the rising inflation rates?...</td>\n      <td>None</td>\n      <td>None</td>\n      <td>None</td>\n    </tr>\n    <tr>\n      <th>8642567740d4bffae8471c9eb81fb26fe7d00155a0bc6e2d</th>\n      <td>alt_right</td>\n      <td>gpt-3.5-turbo</td>\n      <td>Healthcare</td>\n      <td>Twitter</td>\n      <td>English</td>\n      <td>🚨 BREAKING NEWS 🚨 Let's talk REAL healthcare, ...</td>\n      <td>None</td>\n      <td>None</td>\n      <td>None</td>\n    </tr>\n    <tr>\n      <th>6cc0a0a6c88bc0b0e993a800c0892abf0e35def2c88db589</th>\n      <td>liberal</td>\n      <td>mistralai/Mistral-7B-Instruct-v0.2</td>\n      <td>Covid-19</td>\n      <td>Twitter</td>\n      <td>English</td>\n      <td>💉💉💉  As the world grapples with the ongoing Co...</td>\n      <td>None</td>\n      <td>None</td>\n      <td>None</td>\n    </tr>\n    <tr>\n      <th>368e74d7846e2ffe55890648208419c7ea3d25b6efc22a56</th>\n      <td>liberal</td>\n      <td>mistralai/Mistral-7B-Instruct-v0.2</td>\n      <td>Ukraine War</td>\n      <td>Reddit</td>\n      <td>English</td>\n      <td>As the situation in Ukraine continues to unfol...</td>\n      <td>None</td>\n      <td>None</td>\n      <td>None</td>\n    </tr>\n    <tr>\n      <th>a999eba1ff9e79165e49e711c4de1e5e0000b5db569a6252</th>\n      <td>conservative</td>\n      <td>gpt-3.5-turbo</td>\n      <td>Environment</td>\n      <td>Reddit</td>\n      <td>German</td>\n      <td>Energiewende ist teuer, aber ist notwendig für...</td>\n      <td>None</td>\n      <td>None</td>\n      <td>None</td>\n    </tr>\n    <tr>\n      <th>...</th>\n      <td>...</td>\n      <td>...</td>\n      <td>...</td>\n      <td>...</td>\n      <td>...</td>\n      <td>...</td>\n      <td>...</td>\n      <td>...</td>\n      <td>...</td>\n    </tr>\n    <tr>\n      <th>8719ab1b28a573652910f20707129286c74009732fcd71b2</th>\n      <td>alt_right</td>\n      <td>gpt-3.5-turbo</td>\n      <td>Healthcare</td>\n      <td>Reddit</td>\n      <td>English</td>\n      <td>🇺🇸 Hey fellow patriots! Let's talk about the h...</td>\n      <td>None</td>\n      <td>None</td>\n      <td>None</td>\n    </tr>\n    <tr>\n      <th>676119ea31bf80458523c39afc9b1d4133c361cd36e5ca18</th>\n      <td>liberal</td>\n      <td>gpt-3.5-turbo</td>\n      <td>Environment</td>\n      <td>Reddit</td>\n      <td>Dutch</td>\n      <td>Laten we onze energieconsumptie verminderen en...</td>\n      <td>None</td>\n      <td>None</td>\n      <td>None</td>\n    </tr>\n    <tr>\n      <th>93974605f697c38d03361aa30f5206441fb88b44b4627a0e</th>\n      <td>liberal</td>\n      <td>gpt-3.5-turbo</td>\n      <td>Ukraine War</td>\n      <td>Twitter</td>\n      <td>Dutch</td>\n      <td>Het is schokkend om te zien hoe de oorlog in O...</td>\n      <td>None</td>\n      <td>None</td>\n      <td>None</td>\n    </tr>\n    <tr>\n      <th>c32c9f37085d94ea3c94512143a3f3113169f61c170de476</th>\n      <td>conservative</td>\n      <td>mistralai/Mistral-7B-Instruct-v0.2</td>\n      <td>Ukraine War</td>\n      <td>Twitter</td>\n      <td>English</td>\n      <td>🚨🇷🇺🇺🇦 Crisis Alert 🇺🇦🇺🇷 Russia-Ukraine War 🇺🇦🇺...</td>\n      <td>None</td>\n      <td>None</td>\n      <td>None</td>\n    </tr>\n    <tr>\n      <th>5de47b3e97a09f933ae08e3ed402b86c0180b00e459888cd</th>\n      <td>liberal</td>\n      <td>gpt-3.5-turbo</td>\n      <td>Environment</td>\n      <td>Reddit</td>\n      <td>Dutch</td>\n      <td>Hoi mede-redditors! 🌍💚 Vandaag wil ik het hebb...</td>\n      <td>None</td>\n      <td>None</td>\n      <td>None</td>\n    </tr>\n  </tbody>\n</table>\n<p>1400 rows × 9 columns</p>\n</div>"
     },
     "execution_count": 292,
     "metadata": {},
     "output_type": "execute_result"
    }
   ],
   "source": [
    "dataset: pd.DataFrame = (\n",
    "    pd.json_normalize(raw_samples)\n",
    "    .set_index('id')\n",
    "    .astype({\n",
    "        'persona': 'category', 'model': 'category',\n",
    "        'topic': 'category', 'platform': 'category',\n",
    "        'language': 'category'\n",
    "    })\n",
    ")\n",
    "dataset.to_parquet(f'{DATA_OUT_PATH}.full.parquet')\n",
    "dataset"
   ],
   "metadata": {
    "collapsed": false,
    "ExecuteTime": {
     "end_time": "2024-01-18T19:06:27.293885Z",
     "start_time": "2024-01-18T19:06:27.229599Z"
    }
   },
   "id": "2c0cae75f40dd734",
   "execution_count": 292
  },
  {
   "cell_type": "code",
   "outputs": [
    {
     "data": {
      "text/plain": "1542738"
     },
     "execution_count": 293,
     "metadata": {},
     "output_type": "execute_result"
    }
   ],
   "source": [
    "open(f'{DATA_OUT_PATH}.full.json', 'w').write(json.dumps(raw_samples, indent=4))"
   ],
   "metadata": {
    "collapsed": false,
    "ExecuteTime": {
     "end_time": "2024-01-18T19:06:27.483850Z",
     "start_time": "2024-01-18T19:06:27.302333Z"
    }
   },
   "id": "58d89a262ee868ba",
   "execution_count": 293
  },
  {
   "cell_type": "code",
   "outputs": [],
   "source": [
    "for lang in LANGUAGES:\n",
    "    open(f'{DATA_OUT_PATH}.{lang.lower()}.json', 'w').write(\n",
    "        json.dumps([record for record in raw_samples if record['language'] == lang], indent=4)\n",
    "    )"
   ],
   "metadata": {
    "collapsed": false,
    "ExecuteTime": {
     "end_time": "2024-01-18T19:06:27.518492Z",
     "start_time": "2024-01-18T19:06:27.355069Z"
    }
   },
   "id": "221874318f07b5c6",
   "execution_count": 294
  },
  {
   "cell_type": "code",
   "outputs": [],
   "source": [],
   "metadata": {
    "collapsed": false,
    "ExecuteTime": {
     "end_time": "2024-01-18T19:06:27.518895Z",
     "start_time": "2024-01-18T19:06:27.413684Z"
    }
   },
   "id": "87cef47a3abb72af",
   "execution_count": 294
  }
 ],
 "metadata": {
  "kernelspec": {
   "display_name": "Python 3",
   "language": "python",
   "name": "python3"
  },
  "language_info": {
   "codemirror_mode": {
    "name": "ipython",
    "version": 2
   },
   "file_extension": ".py",
   "mimetype": "text/x-python",
   "name": "python",
   "nbconvert_exporter": "python",
   "pygments_lexer": "ipython2",
   "version": "2.7.6"
  }
 },
 "nbformat": 4,
 "nbformat_minor": 5
}
