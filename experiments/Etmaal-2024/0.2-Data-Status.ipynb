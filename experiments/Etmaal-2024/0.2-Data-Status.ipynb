{
 "cells": [
  {
   "cell_type": "code",
   "execution_count": 66,
   "id": "initial_id",
   "metadata": {
    "collapsed": true,
    "ExecuteTime": {
     "end_time": "2024-01-18T20:01:12.114638Z",
     "start_time": "2024-01-18T20:01:12.041753Z"
    }
   },
   "outputs": [],
   "source": [
    "import pandas as pd"
   ]
  },
  {
   "cell_type": "code",
   "outputs": [],
   "source": [
    "DATA_PATH: str = './dataset'\n",
    "DATA_SUBSET: str = 'full'"
   ],
   "metadata": {
    "collapsed": false,
    "ExecuteTime": {
     "end_time": "2024-01-18T20:01:12.181773Z",
     "start_time": "2024-01-18T20:01:12.052279Z"
    }
   },
   "id": "a1df2333b7f1c1fa",
   "execution_count": 67
  },
  {
   "cell_type": "code",
   "outputs": [
    {
     "data": {
      "text/plain": "                                                       persona  \\\nid                                                               \n363e2008bf4f7b746c41afa1963cc11e7730749e2cbdf1f4       liberal   \n8642567740d4bffae8471c9eb81fb26fe7d00155a0bc6e2d     alt_right   \n368e74d7846e2ffe55890648208419c7ea3d25b6efc22a56       liberal   \na999eba1ff9e79165e49e711c4de1e5e0000b5db569a6252  conservative   \n892e80efc0cfdd4c88a037006da7b0d45cffa6bac9400939     alt_right   \n...                                                        ...   \nd542b096d537bfb207eb87e4a86ecbab7206fc60fc6e108b  conservative   \n0ca455858daf2a31dce49a728f77d05bc1b08218c0b7deda  conservative   \n8719ab1b28a573652910f20707129286c74009732fcd71b2     alt_right   \n676119ea31bf80458523c39afc9b1d4133c361cd36e5ca18       liberal   \n93974605f697c38d03361aa30f5206441fb88b44b4627a0e       liberal   \n\n                                                                               model  \\\nid                                                                                     \n363e2008bf4f7b746c41afa1963cc11e7730749e2cbdf1f4                       gpt-3.5-turbo   \n8642567740d4bffae8471c9eb81fb26fe7d00155a0bc6e2d                       gpt-3.5-turbo   \n368e74d7846e2ffe55890648208419c7ea3d25b6efc22a56  mistralai/Mistral-7B-Instruct-v0.2   \na999eba1ff9e79165e49e711c4de1e5e0000b5db569a6252                       gpt-3.5-turbo   \n892e80efc0cfdd4c88a037006da7b0d45cffa6bac9400939                       gpt-3.5-turbo   \n...                                                                              ...   \nd542b096d537bfb207eb87e4a86ecbab7206fc60fc6e108b  mistralai/Mistral-7B-Instruct-v0.2   \n0ca455858daf2a31dce49a728f77d05bc1b08218c0b7deda  mistralai/Mistral-7B-Instruct-v0.2   \n8719ab1b28a573652910f20707129286c74009732fcd71b2                       gpt-3.5-turbo   \n676119ea31bf80458523c39afc9b1d4133c361cd36e5ca18                       gpt-3.5-turbo   \n93974605f697c38d03361aa30f5206441fb88b44b4627a0e                       gpt-3.5-turbo   \n\n                                                        topic platform  \\\nid                                                                       \n363e2008bf4f7b746c41afa1963cc11e7730749e2cbdf1f4      Economy  Twitter   \n8642567740d4bffae8471c9eb81fb26fe7d00155a0bc6e2d   Healthcare  Twitter   \n368e74d7846e2ffe55890648208419c7ea3d25b6efc22a56  Ukraine War   Reddit   \na999eba1ff9e79165e49e711c4de1e5e0000b5db569a6252  Environment   Reddit   \n892e80efc0cfdd4c88a037006da7b0d45cffa6bac9400939      Economy   Reddit   \n...                                                       ...      ...   \nd542b096d537bfb207eb87e4a86ecbab7206fc60fc6e108b  Environment   Reddit   \n0ca455858daf2a31dce49a728f77d05bc1b08218c0b7deda  Ukraine War  Twitter   \n8719ab1b28a573652910f20707129286c74009732fcd71b2   Healthcare   Reddit   \n676119ea31bf80458523c39afc9b1d4133c361cd36e5ca18  Environment   Reddit   \n93974605f697c38d03361aa30f5206441fb88b44b4627a0e  Ukraine War  Twitter   \n\n                                                 language  \\\nid                                                          \n363e2008bf4f7b746c41afa1963cc11e7730749e2cbdf1f4  English   \n8642567740d4bffae8471c9eb81fb26fe7d00155a0bc6e2d  English   \n368e74d7846e2ffe55890648208419c7ea3d25b6efc22a56  English   \na999eba1ff9e79165e49e711c4de1e5e0000b5db569a6252   German   \n892e80efc0cfdd4c88a037006da7b0d45cffa6bac9400939  English   \n...                                                   ...   \nd542b096d537bfb207eb87e4a86ecbab7206fc60fc6e108b   German   \n0ca455858daf2a31dce49a728f77d05bc1b08218c0b7deda  English   \n8719ab1b28a573652910f20707129286c74009732fcd71b2  English   \n676119ea31bf80458523c39afc9b1d4133c361cd36e5ca18    Dutch   \n93974605f697c38d03361aa30f5206441fb88b44b4627a0e    Dutch   \n\n                                                                                               text  \\\nid                                                                                                    \n363e2008bf4f7b746c41afa1963cc11e7730749e2cbdf1f4  💬 \"Concerned about the rising inflation rates?...   \n8642567740d4bffae8471c9eb81fb26fe7d00155a0bc6e2d  🚨 BREAKING NEWS 🚨 Let's talk REAL healthcare, ...   \n368e74d7846e2ffe55890648208419c7ea3d25b6efc22a56  As the situation in Ukraine continues to unfol...   \na999eba1ff9e79165e49e711c4de1e5e0000b5db569a6252  Energiewende ist teuer, aber ist notwendig für...   \n892e80efc0cfdd4c88a037006da7b0d45cffa6bac9400939  Unemployment soaring! Time to prioritize our o...   \n...                                                                                             ...   \nd542b096d537bfb207eb87e4a86ecbab7206fc60fc6e108b  Energieverbrauch im Hinblick auf die Umwelt: W...   \n0ca455858daf2a31dce49a728f77d05bc1b08218c0b7deda  Defending sovereignty & territorial integrity ...   \n8719ab1b28a573652910f20707129286c74009732fcd71b2  🇺🇸 Hey fellow patriots! Let's talk about the h...   \n676119ea31bf80458523c39afc9b1d4133c361cd36e5ca18  Laten we onze energieconsumptie verminderen en...   \n93974605f697c38d03361aa30f5206441fb88b44b4627a0e  Het is schokkend om te zien hoe de oorlog in O...   \n\n                                                 annotation.topic  \\\nid                                                                  \n363e2008bf4f7b746c41afa1963cc11e7730749e2cbdf1f4             None   \n8642567740d4bffae8471c9eb81fb26fe7d00155a0bc6e2d             None   \n368e74d7846e2ffe55890648208419c7ea3d25b6efc22a56             None   \na999eba1ff9e79165e49e711c4de1e5e0000b5db569a6252             None   \n892e80efc0cfdd4c88a037006da7b0d45cffa6bac9400939             None   \n...                                                           ...   \nd542b096d537bfb207eb87e4a86ecbab7206fc60fc6e108b             None   \n0ca455858daf2a31dce49a728f77d05bc1b08218c0b7deda             None   \n8719ab1b28a573652910f20707129286c74009732fcd71b2             None   \n676119ea31bf80458523c39afc9b1d4133c361cd36e5ca18             None   \n93974605f697c38d03361aa30f5206441fb88b44b4627a0e             None   \n\n                                                 annotation.persona  \\\nid                                                                    \n363e2008bf4f7b746c41afa1963cc11e7730749e2cbdf1f4               None   \n8642567740d4bffae8471c9eb81fb26fe7d00155a0bc6e2d               None   \n368e74d7846e2ffe55890648208419c7ea3d25b6efc22a56               None   \na999eba1ff9e79165e49e711c4de1e5e0000b5db569a6252               None   \n892e80efc0cfdd4c88a037006da7b0d45cffa6bac9400939               None   \n...                                                             ...   \nd542b096d537bfb207eb87e4a86ecbab7206fc60fc6e108b               None   \n0ca455858daf2a31dce49a728f77d05bc1b08218c0b7deda               None   \n8719ab1b28a573652910f20707129286c74009732fcd71b2               None   \n676119ea31bf80458523c39afc9b1d4133c361cd36e5ca18               None   \n93974605f697c38d03361aa30f5206441fb88b44b4627a0e               None   \n\n                                                 annotation.authenticity  \nid                                                                        \n363e2008bf4f7b746c41afa1963cc11e7730749e2cbdf1f4                    None  \n8642567740d4bffae8471c9eb81fb26fe7d00155a0bc6e2d                    None  \n368e74d7846e2ffe55890648208419c7ea3d25b6efc22a56                    None  \na999eba1ff9e79165e49e711c4de1e5e0000b5db569a6252                    None  \n892e80efc0cfdd4c88a037006da7b0d45cffa6bac9400939                    None  \n...                                                                  ...  \nd542b096d537bfb207eb87e4a86ecbab7206fc60fc6e108b                    None  \n0ca455858daf2a31dce49a728f77d05bc1b08218c0b7deda                    None  \n8719ab1b28a573652910f20707129286c74009732fcd71b2                    None  \n676119ea31bf80458523c39afc9b1d4133c361cd36e5ca18                    None  \n93974605f697c38d03361aa30f5206441fb88b44b4627a0e                    None  \n\n[1000 rows x 9 columns]",
      "text/html": "<div>\n<style scoped>\n    .dataframe tbody tr th:only-of-type {\n        vertical-align: middle;\n    }\n\n    .dataframe tbody tr th {\n        vertical-align: top;\n    }\n\n    .dataframe thead th {\n        text-align: right;\n    }\n</style>\n<table border=\"1\" class=\"dataframe\">\n  <thead>\n    <tr style=\"text-align: right;\">\n      <th></th>\n      <th>persona</th>\n      <th>model</th>\n      <th>topic</th>\n      <th>platform</th>\n      <th>language</th>\n      <th>text</th>\n      <th>annotation.topic</th>\n      <th>annotation.persona</th>\n      <th>annotation.authenticity</th>\n    </tr>\n    <tr>\n      <th>id</th>\n      <th></th>\n      <th></th>\n      <th></th>\n      <th></th>\n      <th></th>\n      <th></th>\n      <th></th>\n      <th></th>\n      <th></th>\n    </tr>\n  </thead>\n  <tbody>\n    <tr>\n      <th>363e2008bf4f7b746c41afa1963cc11e7730749e2cbdf1f4</th>\n      <td>liberal</td>\n      <td>gpt-3.5-turbo</td>\n      <td>Economy</td>\n      <td>Twitter</td>\n      <td>English</td>\n      <td>💬 \"Concerned about the rising inflation rates?...</td>\n      <td>None</td>\n      <td>None</td>\n      <td>None</td>\n    </tr>\n    <tr>\n      <th>8642567740d4bffae8471c9eb81fb26fe7d00155a0bc6e2d</th>\n      <td>alt_right</td>\n      <td>gpt-3.5-turbo</td>\n      <td>Healthcare</td>\n      <td>Twitter</td>\n      <td>English</td>\n      <td>🚨 BREAKING NEWS 🚨 Let's talk REAL healthcare, ...</td>\n      <td>None</td>\n      <td>None</td>\n      <td>None</td>\n    </tr>\n    <tr>\n      <th>368e74d7846e2ffe55890648208419c7ea3d25b6efc22a56</th>\n      <td>liberal</td>\n      <td>mistralai/Mistral-7B-Instruct-v0.2</td>\n      <td>Ukraine War</td>\n      <td>Reddit</td>\n      <td>English</td>\n      <td>As the situation in Ukraine continues to unfol...</td>\n      <td>None</td>\n      <td>None</td>\n      <td>None</td>\n    </tr>\n    <tr>\n      <th>a999eba1ff9e79165e49e711c4de1e5e0000b5db569a6252</th>\n      <td>conservative</td>\n      <td>gpt-3.5-turbo</td>\n      <td>Environment</td>\n      <td>Reddit</td>\n      <td>German</td>\n      <td>Energiewende ist teuer, aber ist notwendig für...</td>\n      <td>None</td>\n      <td>None</td>\n      <td>None</td>\n    </tr>\n    <tr>\n      <th>892e80efc0cfdd4c88a037006da7b0d45cffa6bac9400939</th>\n      <td>alt_right</td>\n      <td>gpt-3.5-turbo</td>\n      <td>Economy</td>\n      <td>Reddit</td>\n      <td>English</td>\n      <td>Unemployment soaring! Time to prioritize our o...</td>\n      <td>None</td>\n      <td>None</td>\n      <td>None</td>\n    </tr>\n    <tr>\n      <th>...</th>\n      <td>...</td>\n      <td>...</td>\n      <td>...</td>\n      <td>...</td>\n      <td>...</td>\n      <td>...</td>\n      <td>...</td>\n      <td>...</td>\n      <td>...</td>\n    </tr>\n    <tr>\n      <th>d542b096d537bfb207eb87e4a86ecbab7206fc60fc6e108b</th>\n      <td>conservative</td>\n      <td>mistralai/Mistral-7B-Instruct-v0.2</td>\n      <td>Environment</td>\n      <td>Reddit</td>\n      <td>German</td>\n      <td>Energieverbrauch im Hinblick auf die Umwelt: W...</td>\n      <td>None</td>\n      <td>None</td>\n      <td>None</td>\n    </tr>\n    <tr>\n      <th>0ca455858daf2a31dce49a728f77d05bc1b08218c0b7deda</th>\n      <td>conservative</td>\n      <td>mistralai/Mistral-7B-Instruct-v0.2</td>\n      <td>Ukraine War</td>\n      <td>Twitter</td>\n      <td>English</td>\n      <td>Defending sovereignty &amp; territorial integrity ...</td>\n      <td>None</td>\n      <td>None</td>\n      <td>None</td>\n    </tr>\n    <tr>\n      <th>8719ab1b28a573652910f20707129286c74009732fcd71b2</th>\n      <td>alt_right</td>\n      <td>gpt-3.5-turbo</td>\n      <td>Healthcare</td>\n      <td>Reddit</td>\n      <td>English</td>\n      <td>🇺🇸 Hey fellow patriots! Let's talk about the h...</td>\n      <td>None</td>\n      <td>None</td>\n      <td>None</td>\n    </tr>\n    <tr>\n      <th>676119ea31bf80458523c39afc9b1d4133c361cd36e5ca18</th>\n      <td>liberal</td>\n      <td>gpt-3.5-turbo</td>\n      <td>Environment</td>\n      <td>Reddit</td>\n      <td>Dutch</td>\n      <td>Laten we onze energieconsumptie verminderen en...</td>\n      <td>None</td>\n      <td>None</td>\n      <td>None</td>\n    </tr>\n    <tr>\n      <th>93974605f697c38d03361aa30f5206441fb88b44b4627a0e</th>\n      <td>liberal</td>\n      <td>gpt-3.5-turbo</td>\n      <td>Ukraine War</td>\n      <td>Twitter</td>\n      <td>Dutch</td>\n      <td>Het is schokkend om te zien hoe de oorlog in O...</td>\n      <td>None</td>\n      <td>None</td>\n      <td>None</td>\n    </tr>\n  </tbody>\n</table>\n<p>1000 rows × 9 columns</p>\n</div>"
     },
     "execution_count": 68,
     "metadata": {},
     "output_type": "execute_result"
    }
   ],
   "source": [
    "data: pd.DataFrame = pd.read_parquet(f'{DATA_PATH}.{DATA_SUBSET}.parquet')\n",
    "data"
   ],
   "metadata": {
    "collapsed": false,
    "ExecuteTime": {
     "end_time": "2024-01-18T20:01:12.211946Z",
     "start_time": "2024-01-18T20:01:12.123309Z"
    }
   },
   "id": "2c0cae75f40dd734",
   "execution_count": 68
  },
  {
   "cell_type": "code",
   "outputs": [
    {
     "data": {
      "text/plain": "model\nmistralai/Mistral-7B-Instruct-v0.2    501\ngpt-3.5-turbo                         499\nName: count, dtype: int64"
     },
     "metadata": {},
     "output_type": "display_data"
    },
    {
     "name": "stdout",
     "output_type": "stream",
     "text": [
      "--------------------------------\n"
     ]
    },
    {
     "data": {
      "text/plain": "persona\nliberal         340\nconservative    331\nalt_right       329\nName: count, dtype: int64"
     },
     "metadata": {},
     "output_type": "display_data"
    },
    {
     "name": "stdout",
     "output_type": "stream",
     "text": [
      "--------------------------------\n"
     ]
    },
    {
     "data": {
      "text/plain": "topic\nCovid-19       207\nUkraine War    200\nHealthcare     199\nEconomy        198\nEnvironment    196\nName: count, dtype: int64"
     },
     "metadata": {},
     "output_type": "display_data"
    },
    {
     "name": "stdout",
     "output_type": "stream",
     "text": [
      "--------------------------------\n"
     ]
    },
    {
     "data": {
      "text/plain": "platform\nTwitter    516\nReddit     484\nName: count, dtype: int64"
     },
     "metadata": {},
     "output_type": "display_data"
    },
    {
     "name": "stdout",
     "output_type": "stream",
     "text": [
      "--------------------------------\n"
     ]
    },
    {
     "data": {
      "text/plain": "language\nEnglish    345\nDutch      332\nGerman     323\nName: count, dtype: int64"
     },
     "metadata": {},
     "output_type": "display_data"
    },
    {
     "name": "stdout",
     "output_type": "stream",
     "text": [
      "--------------------------------\n"
     ]
    }
   ],
   "source": [
    "for column in ['model', 'persona', 'topic', 'platform', 'language']:\n",
    "\tdisplay(data[column].value_counts())\n",
    "\tprint('-' * 32)"
   ],
   "metadata": {
    "collapsed": false,
    "ExecuteTime": {
     "end_time": "2024-01-18T20:01:12.214848Z",
     "start_time": "2024-01-18T20:01:12.190994Z"
    }
   },
   "id": "9681a649d8e0b3a5",
   "execution_count": 69
  },
  {
   "cell_type": "code",
   "outputs": [],
   "source": [],
   "metadata": {
    "collapsed": false,
    "ExecuteTime": {
     "end_time": "2024-01-18T20:01:12.303358Z",
     "start_time": "2024-01-18T20:01:12.218376Z"
    }
   },
   "id": "c8dd649f2d86a20e",
   "execution_count": 69
  }
 ],
 "metadata": {
  "kernelspec": {
   "display_name": "Python 3",
   "language": "python",
   "name": "python3"
  },
  "language_info": {
   "codemirror_mode": {
    "name": "ipython",
    "version": 2
   },
   "file_extension": ".py",
   "mimetype": "text/x-python",
   "name": "python",
   "nbconvert_exporter": "python",
   "pygments_lexer": "ipython2",
   "version": "2.7.6"
  }
 },
 "nbformat": 4,
 "nbformat_minor": 5
}
