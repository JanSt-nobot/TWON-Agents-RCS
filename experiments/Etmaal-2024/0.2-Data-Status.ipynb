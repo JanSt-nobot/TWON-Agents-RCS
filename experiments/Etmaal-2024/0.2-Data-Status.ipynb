{
 "cells": [
  {
   "cell_type": "code",
   "execution_count": 1,
   "id": "initial_id",
   "metadata": {
    "collapsed": true,
    "ExecuteTime": {
     "end_time": "2024-01-18T10:57:37.513887Z",
     "start_time": "2024-01-18T10:57:36.935682Z"
    }
   },
   "outputs": [],
   "source": [
    "import pandas as pd"
   ]
  },
  {
   "cell_type": "code",
   "outputs": [],
   "source": [
    "DATA_PATH: str = './dataset'\n",
    "DATA_SUBSET: str = 'full'"
   ],
   "metadata": {
    "collapsed": false,
    "ExecuteTime": {
     "end_time": "2024-01-18T10:57:37.522745Z",
     "start_time": "2024-01-18T10:57:37.517134Z"
    }
   },
   "id": "a1df2333b7f1c1fa",
   "execution_count": 2
  },
  {
   "cell_type": "code",
   "outputs": [
    {
     "data": {
      "text/plain": "                                                       persona  \\\nid                                                               \n368e74d7846e2ffe55890648208419c7ea3d25b6efc22a56       liberal   \n3b3b1310032e5a91a00f30712c5efc391b7afe9335269f84       liberal   \ne2782a6731daf07fba068c7e76efcafc3188557dcea28491     alt_right   \n1c961e904e1c7c4de32c447c3df3a48797bb4a7a7674514b  conservative   \n3794ca40b3738b5669a76590ad33c3a9c75757ffceb1f898       liberal   \n...                                                        ...   \ne8d892937224c89dd7d183d35cac01a77d42cad92e9151c9       liberal   \nc44011bd7a53a7ce175eeddd9595b27bd9fa83288cc85664       liberal   \n0ca455858daf2a31dce49a728f77d05bc1b08218c0b7deda  conservative   \n714500a24a0dafa740c8e1cb7633bbf17f10b8c400db2c1c  conservative   \n93974605f697c38d03361aa30f5206441fb88b44b4627a0e       liberal   \n\n                                                                               model  \\\nid                                                                                     \n368e74d7846e2ffe55890648208419c7ea3d25b6efc22a56  mistralai/Mistral-7B-Instruct-v0.2   \n3b3b1310032e5a91a00f30712c5efc391b7afe9335269f84  mistralai/Mistral-7B-Instruct-v0.2   \ne2782a6731daf07fba068c7e76efcafc3188557dcea28491                       gpt-3.5-turbo   \n1c961e904e1c7c4de32c447c3df3a48797bb4a7a7674514b                       gpt-3.5-turbo   \n3794ca40b3738b5669a76590ad33c3a9c75757ffceb1f898  mistralai/Mistral-7B-Instruct-v0.2   \n...                                                                              ...   \ne8d892937224c89dd7d183d35cac01a77d42cad92e9151c9  mistralai/Mistral-7B-Instruct-v0.2   \nc44011bd7a53a7ce175eeddd9595b27bd9fa83288cc85664                       gpt-3.5-turbo   \n0ca455858daf2a31dce49a728f77d05bc1b08218c0b7deda  mistralai/Mistral-7B-Instruct-v0.2   \n714500a24a0dafa740c8e1cb7633bbf17f10b8c400db2c1c  mistralai/Mistral-7B-Instruct-v0.2   \n93974605f697c38d03361aa30f5206441fb88b44b4627a0e                       gpt-3.5-turbo   \n\n                                                        topic platform  \\\nid                                                                       \n368e74d7846e2ffe55890648208419c7ea3d25b6efc22a56  Ukraine War   Reddit   \n3b3b1310032e5a91a00f30712c5efc391b7afe9335269f84   Healthcare   Reddit   \ne2782a6731daf07fba068c7e76efcafc3188557dcea28491  Environment  Twitter   \n1c961e904e1c7c4de32c447c3df3a48797bb4a7a7674514b      Economy  Twitter   \n3794ca40b3738b5669a76590ad33c3a9c75757ffceb1f898  Ukraine War  Twitter   \n...                                                       ...      ...   \ne8d892937224c89dd7d183d35cac01a77d42cad92e9151c9      Economy   Reddit   \nc44011bd7a53a7ce175eeddd9595b27bd9fa83288cc85664     Covid-19  Twitter   \n0ca455858daf2a31dce49a728f77d05bc1b08218c0b7deda  Ukraine War  Twitter   \n714500a24a0dafa740c8e1cb7633bbf17f10b8c400db2c1c   Healthcare  Twitter   \n93974605f697c38d03361aa30f5206441fb88b44b4627a0e  Ukraine War  Twitter   \n\n                                                 language  \\\nid                                                          \n368e74d7846e2ffe55890648208419c7ea3d25b6efc22a56  English   \n3b3b1310032e5a91a00f30712c5efc391b7afe9335269f84    Dutch   \ne2782a6731daf07fba068c7e76efcafc3188557dcea28491   German   \n1c961e904e1c7c4de32c447c3df3a48797bb4a7a7674514b  English   \n3794ca40b3738b5669a76590ad33c3a9c75757ffceb1f898   German   \n...                                                   ...   \ne8d892937224c89dd7d183d35cac01a77d42cad92e9151c9  English   \nc44011bd7a53a7ce175eeddd9595b27bd9fa83288cc85664   German   \n0ca455858daf2a31dce49a728f77d05bc1b08218c0b7deda  English   \n714500a24a0dafa740c8e1cb7633bbf17f10b8c400db2c1c   German   \n93974605f697c38d03361aa30f5206441fb88b44b4627a0e    Dutch   \n\n                                                                                               text  \\\nid                                                                                                    \n368e74d7846e2ffe55890648208419c7ea3d25b6efc22a56  As the situation in Ukraine continues to unfol...   \n3b3b1310032e5a91a00f30712c5efc391b7afe9335269f84  📣🏥💔 Hey fellow Redditors,Ik wil graag ijzeren ...   \ne2782a6731daf07fba068c7e76efcafc3188557dcea28491  Die Debatte um Energieverbrauch und Umwelt ist...   \n1c961e904e1c7c4de32c447c3df3a48797bb4a7a7674514b  Inflation running rampant, eroding the purchas...   \n3794ca40b3738b5669a76590ad33c3a9c75757ffceb1f898  🌐🇪🇺🇷🇺  Wir müssen uns der internationalen Stab...   \n...                                                                                             ...   \ne8d892937224c89dd7d183d35cac01a77d42cad92e9151c9  Progressive taxes are essential for a thriving...   \nc44011bd7a53a7ce175eeddd9595b27bd9fa83288cc85664  Schütze dich und andere - Impfen spielt eine e...   \n0ca455858daf2a31dce49a728f77d05bc1b08218c0b7deda  Defending sovereignty & territorial integrity ...   \n714500a24a0dafa740c8e1cb7633bbf17f10b8c400db2c1c  🇩🇪🏥🔬Guten Tag, meine lieben Freunde! 🌷Heute mö...   \n93974605f697c38d03361aa30f5206441fb88b44b4627a0e  Het is schokkend om te zien hoe de oorlog in O...   \n\n                                                 annotation.topic  \\\nid                                                                  \n368e74d7846e2ffe55890648208419c7ea3d25b6efc22a56             None   \n3b3b1310032e5a91a00f30712c5efc391b7afe9335269f84             None   \ne2782a6731daf07fba068c7e76efcafc3188557dcea28491             None   \n1c961e904e1c7c4de32c447c3df3a48797bb4a7a7674514b             None   \n3794ca40b3738b5669a76590ad33c3a9c75757ffceb1f898             None   \n...                                                           ...   \ne8d892937224c89dd7d183d35cac01a77d42cad92e9151c9             None   \nc44011bd7a53a7ce175eeddd9595b27bd9fa83288cc85664             None   \n0ca455858daf2a31dce49a728f77d05bc1b08218c0b7deda             None   \n714500a24a0dafa740c8e1cb7633bbf17f10b8c400db2c1c             None   \n93974605f697c38d03361aa30f5206441fb88b44b4627a0e             None   \n\n                                                 annotation.persona  \\\nid                                                                    \n368e74d7846e2ffe55890648208419c7ea3d25b6efc22a56               None   \n3b3b1310032e5a91a00f30712c5efc391b7afe9335269f84               None   \ne2782a6731daf07fba068c7e76efcafc3188557dcea28491               None   \n1c961e904e1c7c4de32c447c3df3a48797bb4a7a7674514b               None   \n3794ca40b3738b5669a76590ad33c3a9c75757ffceb1f898               None   \n...                                                             ...   \ne8d892937224c89dd7d183d35cac01a77d42cad92e9151c9               None   \nc44011bd7a53a7ce175eeddd9595b27bd9fa83288cc85664               None   \n0ca455858daf2a31dce49a728f77d05bc1b08218c0b7deda               None   \n714500a24a0dafa740c8e1cb7633bbf17f10b8c400db2c1c               None   \n93974605f697c38d03361aa30f5206441fb88b44b4627a0e               None   \n\n                                                 annotation.authenticity  \nid                                                                        \n368e74d7846e2ffe55890648208419c7ea3d25b6efc22a56                    None  \n3b3b1310032e5a91a00f30712c5efc391b7afe9335269f84                    None  \ne2782a6731daf07fba068c7e76efcafc3188557dcea28491                    None  \n1c961e904e1c7c4de32c447c3df3a48797bb4a7a7674514b                    None  \n3794ca40b3738b5669a76590ad33c3a9c75757ffceb1f898                    None  \n...                                                                  ...  \ne8d892937224c89dd7d183d35cac01a77d42cad92e9151c9                    None  \nc44011bd7a53a7ce175eeddd9595b27bd9fa83288cc85664                    None  \n0ca455858daf2a31dce49a728f77d05bc1b08218c0b7deda                    None  \n714500a24a0dafa740c8e1cb7633bbf17f10b8c400db2c1c                    None  \n93974605f697c38d03361aa30f5206441fb88b44b4627a0e                    None  \n\n[196 rows x 9 columns]",
      "text/html": "<div>\n<style scoped>\n    .dataframe tbody tr th:only-of-type {\n        vertical-align: middle;\n    }\n\n    .dataframe tbody tr th {\n        vertical-align: top;\n    }\n\n    .dataframe thead th {\n        text-align: right;\n    }\n</style>\n<table border=\"1\" class=\"dataframe\">\n  <thead>\n    <tr style=\"text-align: right;\">\n      <th></th>\n      <th>persona</th>\n      <th>model</th>\n      <th>topic</th>\n      <th>platform</th>\n      <th>language</th>\n      <th>text</th>\n      <th>annotation.topic</th>\n      <th>annotation.persona</th>\n      <th>annotation.authenticity</th>\n    </tr>\n    <tr>\n      <th>id</th>\n      <th></th>\n      <th></th>\n      <th></th>\n      <th></th>\n      <th></th>\n      <th></th>\n      <th></th>\n      <th></th>\n      <th></th>\n    </tr>\n  </thead>\n  <tbody>\n    <tr>\n      <th>368e74d7846e2ffe55890648208419c7ea3d25b6efc22a56</th>\n      <td>liberal</td>\n      <td>mistralai/Mistral-7B-Instruct-v0.2</td>\n      <td>Ukraine War</td>\n      <td>Reddit</td>\n      <td>English</td>\n      <td>As the situation in Ukraine continues to unfol...</td>\n      <td>None</td>\n      <td>None</td>\n      <td>None</td>\n    </tr>\n    <tr>\n      <th>3b3b1310032e5a91a00f30712c5efc391b7afe9335269f84</th>\n      <td>liberal</td>\n      <td>mistralai/Mistral-7B-Instruct-v0.2</td>\n      <td>Healthcare</td>\n      <td>Reddit</td>\n      <td>Dutch</td>\n      <td>📣🏥💔 Hey fellow Redditors,Ik wil graag ijzeren ...</td>\n      <td>None</td>\n      <td>None</td>\n      <td>None</td>\n    </tr>\n    <tr>\n      <th>e2782a6731daf07fba068c7e76efcafc3188557dcea28491</th>\n      <td>alt_right</td>\n      <td>gpt-3.5-turbo</td>\n      <td>Environment</td>\n      <td>Twitter</td>\n      <td>German</td>\n      <td>Die Debatte um Energieverbrauch und Umwelt ist...</td>\n      <td>None</td>\n      <td>None</td>\n      <td>None</td>\n    </tr>\n    <tr>\n      <th>1c961e904e1c7c4de32c447c3df3a48797bb4a7a7674514b</th>\n      <td>conservative</td>\n      <td>gpt-3.5-turbo</td>\n      <td>Economy</td>\n      <td>Twitter</td>\n      <td>English</td>\n      <td>Inflation running rampant, eroding the purchas...</td>\n      <td>None</td>\n      <td>None</td>\n      <td>None</td>\n    </tr>\n    <tr>\n      <th>3794ca40b3738b5669a76590ad33c3a9c75757ffceb1f898</th>\n      <td>liberal</td>\n      <td>mistralai/Mistral-7B-Instruct-v0.2</td>\n      <td>Ukraine War</td>\n      <td>Twitter</td>\n      <td>German</td>\n      <td>🌐🇪🇺🇷🇺  Wir müssen uns der internationalen Stab...</td>\n      <td>None</td>\n      <td>None</td>\n      <td>None</td>\n    </tr>\n    <tr>\n      <th>...</th>\n      <td>...</td>\n      <td>...</td>\n      <td>...</td>\n      <td>...</td>\n      <td>...</td>\n      <td>...</td>\n      <td>...</td>\n      <td>...</td>\n      <td>...</td>\n    </tr>\n    <tr>\n      <th>e8d892937224c89dd7d183d35cac01a77d42cad92e9151c9</th>\n      <td>liberal</td>\n      <td>mistralai/Mistral-7B-Instruct-v0.2</td>\n      <td>Economy</td>\n      <td>Reddit</td>\n      <td>English</td>\n      <td>Progressive taxes are essential for a thriving...</td>\n      <td>None</td>\n      <td>None</td>\n      <td>None</td>\n    </tr>\n    <tr>\n      <th>c44011bd7a53a7ce175eeddd9595b27bd9fa83288cc85664</th>\n      <td>liberal</td>\n      <td>gpt-3.5-turbo</td>\n      <td>Covid-19</td>\n      <td>Twitter</td>\n      <td>German</td>\n      <td>Schütze dich und andere - Impfen spielt eine e...</td>\n      <td>None</td>\n      <td>None</td>\n      <td>None</td>\n    </tr>\n    <tr>\n      <th>0ca455858daf2a31dce49a728f77d05bc1b08218c0b7deda</th>\n      <td>conservative</td>\n      <td>mistralai/Mistral-7B-Instruct-v0.2</td>\n      <td>Ukraine War</td>\n      <td>Twitter</td>\n      <td>English</td>\n      <td>Defending sovereignty &amp; territorial integrity ...</td>\n      <td>None</td>\n      <td>None</td>\n      <td>None</td>\n    </tr>\n    <tr>\n      <th>714500a24a0dafa740c8e1cb7633bbf17f10b8c400db2c1c</th>\n      <td>conservative</td>\n      <td>mistralai/Mistral-7B-Instruct-v0.2</td>\n      <td>Healthcare</td>\n      <td>Twitter</td>\n      <td>German</td>\n      <td>🇩🇪🏥🔬Guten Tag, meine lieben Freunde! 🌷Heute mö...</td>\n      <td>None</td>\n      <td>None</td>\n      <td>None</td>\n    </tr>\n    <tr>\n      <th>93974605f697c38d03361aa30f5206441fb88b44b4627a0e</th>\n      <td>liberal</td>\n      <td>gpt-3.5-turbo</td>\n      <td>Ukraine War</td>\n      <td>Twitter</td>\n      <td>Dutch</td>\n      <td>Het is schokkend om te zien hoe de oorlog in O...</td>\n      <td>None</td>\n      <td>None</td>\n      <td>None</td>\n    </tr>\n  </tbody>\n</table>\n<p>196 rows × 9 columns</p>\n</div>"
     },
     "execution_count": 3,
     "metadata": {},
     "output_type": "execute_result"
    }
   ],
   "source": [
    "data: pd.DataFrame = pd.read_parquet(f'{DATA_PATH}.{DATA_SUBSET}.parquet')\n",
    "data"
   ],
   "metadata": {
    "collapsed": false,
    "ExecuteTime": {
     "end_time": "2024-01-18T10:57:37.669410Z",
     "start_time": "2024-01-18T10:57:37.522777Z"
    }
   },
   "id": "2c0cae75f40dd734",
   "execution_count": 3
  },
  {
   "cell_type": "code",
   "outputs": [
    {
     "data": {
      "text/plain": "model\nmistralai/Mistral-7B-Instruct-v0.2    120\ngpt-3.5-turbo                          76\nName: count, dtype: int64"
     },
     "metadata": {},
     "output_type": "display_data"
    },
    {
     "name": "stdout",
     "output_type": "stream",
     "text": [
      "--------------------------------\n"
     ]
    },
    {
     "data": {
      "text/plain": "persona\nliberal         87\nconservative    59\nalt_right       50\nName: count, dtype: int64"
     },
     "metadata": {},
     "output_type": "display_data"
    },
    {
     "name": "stdout",
     "output_type": "stream",
     "text": [
      "--------------------------------\n"
     ]
    },
    {
     "data": {
      "text/plain": "topic\nUkraine War    50\nHealthcare     42\nCovid-19       41\nEconomy        37\nEnvironment    26\nName: count, dtype: int64"
     },
     "metadata": {},
     "output_type": "display_data"
    },
    {
     "name": "stdout",
     "output_type": "stream",
     "text": [
      "--------------------------------\n"
     ]
    },
    {
     "data": {
      "text/plain": "platform\nReddit     98\nTwitter    98\nName: count, dtype: int64"
     },
     "metadata": {},
     "output_type": "display_data"
    },
    {
     "name": "stdout",
     "output_type": "stream",
     "text": [
      "--------------------------------\n"
     ]
    },
    {
     "data": {
      "text/plain": "language\nEnglish    79\nGerman     60\nDutch      57\nName: count, dtype: int64"
     },
     "metadata": {},
     "output_type": "display_data"
    },
    {
     "name": "stdout",
     "output_type": "stream",
     "text": [
      "--------------------------------\n"
     ]
    }
   ],
   "source": [
    "for column in ['model', 'persona', 'topic', 'platform', 'language']:\n",
    "\tdisplay(data[column].value_counts())\n",
    "\tprint('-' * 32)"
   ],
   "metadata": {
    "collapsed": false,
    "ExecuteTime": {
     "end_time": "2024-01-18T10:57:40.837613Z",
     "start_time": "2024-01-18T10:57:40.778040Z"
    }
   },
   "id": "9681a649d8e0b3a5",
   "execution_count": 4
  },
  {
   "cell_type": "code",
   "outputs": [],
   "source": [],
   "metadata": {
    "collapsed": false,
    "ExecuteTime": {
     "end_time": "2024-01-18T10:57:41.768538Z",
     "start_time": "2024-01-18T10:57:41.726921Z"
    }
   },
   "id": "c8dd649f2d86a20e",
   "execution_count": 4
  }
 ],
 "metadata": {
  "kernelspec": {
   "display_name": "Python 3",
   "language": "python",
   "name": "python3"
  },
  "language_info": {
   "codemirror_mode": {
    "name": "ipython",
    "version": 2
   },
   "file_extension": ".py",
   "mimetype": "text/x-python",
   "name": "python",
   "nbconvert_exporter": "python",
   "pygments_lexer": "ipython2",
   "version": "2.7.6"
  }
 },
 "nbformat": 4,
 "nbformat_minor": 5
}
