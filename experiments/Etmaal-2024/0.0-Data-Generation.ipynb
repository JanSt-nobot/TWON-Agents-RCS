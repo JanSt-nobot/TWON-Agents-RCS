{
 "cells": [
  {
   "cell_type": "code",
   "execution_count": null,
   "id": "initial_id",
   "metadata": {
    "collapsed": true
   },
   "outputs": [],
   "source": [
    "import hashlib\n",
    "import itertools\n",
    "import json\n",
    "import random\n",
    "from time import sleep\n",
    "from typing import List, Dict, Tuple\n",
    "\n",
    "import requests\n",
    "from tqdm import tqdm"
   ]
  },
  {
   "cell_type": "code",
   "outputs": [],
   "source": [
    "RAW_DATA_DIR: str = './raw'"
   ],
   "metadata": {
    "collapsed": false
   },
   "id": "a844482b65e81e98",
   "execution_count": null
  },
  {
   "cell_type": "code",
   "execution_count": null,
   "outputs": [],
   "source": [
    "# experiment setup\n",
    "\n",
    "integrations: List[dict] = [\n",
    "    {\n",
    "        \"provider\": \"huggingFace\",\n",
    "        \"model\": \"mistralai/Mistral-7B-Instruct-v0.2\",\n",
    "    },\n",
    "    {\n",
    "        \"provider\": \"OpenAI\",\n",
    "        \"model\": \"gpt-3.5-turbo\"\n",
    "    }\n",
    "]\n",
    "\n",
    "personas: List[List[str]] = [\n",
    "    [\"liberal\"],\n",
    "    [\"conservative\"],\n",
    "    [\"alt_right\"]\n",
    "]\n",
    "languages: List[str] = [\"Dutch\", \"English\", \"German\"]\n",
    "platforms: List[str] = [\"Twitter\", \"Reddit\"] \n",
    "\n",
    "# topics with subtopics\n",
    "topics: List[Dict[str, str | List[str]]] = [\n",
    "    {\n",
    "        \"theme\": \"Economy\",\n",
    "        \"aspect\": [\"taxes\", \"inflation\", \"unemployment\", \"wages\"]\n",
    "    },\n",
    "    {\n",
    "        \"theme\": \"Covid-19\",\n",
    "        \"aspect\": [\"vaccines\", \"prevention\", \"government regulations\"]\n",
    "    },\n",
    "    {\n",
    "        \"theme\": \"Ukraine War\",\n",
    "        \"aspect\": [\"military conflict\", \"international stability\", \"energy prices\"]\n",
    "    },\n",
    "    {\n",
    "        \"theme\": \"Healthcare\",\n",
    "        \"aspect\": [\"affordability\", \"public and private options\", \"screenings and prevention\", \"medical research\"]\n",
    "    },\n",
    "    {\n",
    "        \"theme\": \"Environment\",\n",
    "        \"aspect\": [\"recycling\", \"energy consumption\", \"climate change\"]\n",
    "    }\n",
    "]\n",
    "\n",
    "# number of iterations\n",
    "x: int = 1\n",
    "\n",
    "# hidden parameters (randomly chosen)\n",
    "length: List[str] = ['few-word', 'single-sentence', 'short'] "
   ],
   "metadata": {
    "collapsed": false
   },
   "id": "7f1d095b5b7856c0"
  },
  {
   "cell_type": "code",
   "outputs": [],
   "source": [
    "configurations: List[Tuple] = list(\n",
    "    itertools.product(*[integrations, personas, languages, platforms, topics])\n",
    ")\n",
    "random.shuffle(configurations)"
   ],
   "metadata": {
    "collapsed": false
   },
   "id": "4d847b5ec3640c6b",
   "execution_count": null
  },
  {
   "cell_type": "code",
   "execution_count": null,
   "outputs": [],
   "source": [
    "for _ in range(x):\n",
    "    for integration, persona, language, platform, topic in tqdm(configurations):\n",
    "\n",
    "        payload: dict = {\n",
    "            \"personas\": persona,\n",
    "            \"integration\": integration,\n",
    "            \"language\": language,\n",
    "            \"platform\": platform,\n",
    "            \"topic\": f'{random.choice(topic[\"aspect\"])} in view of {topic[\"theme\"]}',\n",
    "            \"length\": random.choice(length)\n",
    "        }\n",
    "\n",
    "        response = requests.post('https://api.twon.uni-trier.de/generate/', json=payload)\n",
    "\n",
    "        if response.status_code == 500 or response.status_code == 502:\n",
    "            print(\"500/502: Connection Error, too many request, try again later.\")\n",
    "            break\n",
    "\n",
    "        try:\n",
    "            data: dict = response.json()\n",
    "\n",
    "        except Exception as e:\n",
    "            print(e, ':', response)\n",
    "            break\n",
    "\n",
    "        sample: dict = {\n",
    "            \"persona\": persona[0],\n",
    "            \"model\": integration[\"model\"],\n",
    "            \"topic\": topic[\"theme\"],\n",
    "            \"platform\": platform,\n",
    "            \"language\": language,\n",
    "            \"text\": data[\"response\"],\n",
    "            \"annotation\": {\n",
    "                \"topic\": None,\n",
    "                \"persona\": None,\n",
    "                \"authenticity\": None\n",
    "            }\n",
    "        }\n",
    "\n",
    "        sample['id'] = hashlib.shake_256(str.encode(json.dumps(sample))).hexdigest(24)\n",
    "        open(f'{RAW_DATA_DIR}/{sample[\"id\"]}.json', 'w').write(json.dumps(sample, indent=4))\n",
    "        sleep(1)"
   ],
   "metadata": {
    "collapsed": false
   },
   "id": "ccbd80ccd3116f94"
  },
  {
   "cell_type": "code",
   "execution_count": null,
   "outputs": [],
   "source": [],
   "metadata": {
    "collapsed": false
   },
   "id": "a8aa81e492be1879"
  }
 ],
 "metadata": {
  "kernelspec": {
   "display_name": "Python 3",
   "language": "python",
   "name": "python3"
  },
  "language_info": {
   "codemirror_mode": {
    "name": "ipython",
    "version": 2
   },
   "file_extension": ".py",
   "mimetype": "text/x-python",
   "name": "python",
   "nbconvert_exporter": "python",
   "pygments_lexer": "ipython2",
   "version": "2.7.6"
  }
 },
 "nbformat": 4,
 "nbformat_minor": 5
}
