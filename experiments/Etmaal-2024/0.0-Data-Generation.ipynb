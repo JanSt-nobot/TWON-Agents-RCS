{
 "cells": [
  {
   "cell_type": "code",
   "execution_count": 1,
   "id": "initial_id",
   "metadata": {
    "collapsed": true,
    "ExecuteTime": {
     "end_time": "2024-01-18T10:06:50.957300Z",
     "start_time": "2024-01-18T10:06:50.873028Z"
    }
   },
   "outputs": [],
   "source": [
    "import hashlib\n",
    "import itertools\n",
    "import json\n",
    "import random\n",
    "from time import sleep\n",
    "from typing import List, Dict, Tuple\n",
    "\n",
    "import requests\n",
    "from tqdm import tqdm"
   ]
  },
  {
   "cell_type": "code",
   "outputs": [],
   "source": [
    "RAW_DATA_DIR: str = './raw'"
   ],
   "metadata": {
    "collapsed": false,
    "ExecuteTime": {
     "end_time": "2024-01-18T10:06:50.967254Z",
     "start_time": "2024-01-18T10:06:50.958404Z"
    }
   },
   "id": "a844482b65e81e98",
   "execution_count": 2
  },
  {
   "cell_type": "code",
   "execution_count": 15,
   "outputs": [],
   "source": [
    "# experiment setup\n",
    "\n",
    "integrations: List[dict] = [\n",
    "    # {\n",
    "    #     \"provider\": \"huggingFace\",\n",
    "    #     \"model\": \"mistralai/Mistral-7B-Instruct-v0.2\",\n",
    "    # },\n",
    "    # disabling openai during first test\n",
    "    {\n",
    "        \"provider\": \"OpenAI\",\n",
    "        \"model\": \"gpt-3.5-turbo\"\n",
    "    }\n",
    "]\n",
    "\n",
    "personas: List[List[str]] = [\n",
    "    [\"liberal\"],\n",
    "    [\"conservative\"],\n",
    "    [\"alt_right\"]\n",
    "]\n",
    "languages: List[str] = [\"English\", \"German\", \"Dutch\"]\n",
    "platforms: List[str] = [\"Twitter\", \"Reddit\"]\n",
    "\n",
    "# topics with subtopics\n",
    "topics: List[Dict[str, str | List[str]]] = [\n",
    "    {\n",
    "        \"theme\": \"Economy\",\n",
    "        \"aspect\": [\"taxes\", \"inflation\", \"unemployment\", \"wages\"]\n",
    "    },\n",
    "    {\n",
    "        \"theme\": \"Covid-19\",\n",
    "        \"aspect\": [\"vaccines\", \"prevention\", \"government regulations\"]\n",
    "    },\n",
    "    {\n",
    "        \"theme\": \"Ukraine War\",\n",
    "        \"aspect\": [\"military conflict\", \"international stability\", \"energy prices\"]\n",
    "    },\n",
    "    {\n",
    "        \"theme\": \"Healthcare\",\n",
    "        \"aspect\": [\"affordability\", \"public and private options\", \"screenings and prevention\", \"medical research\"]\n",
    "    },\n",
    "    {\n",
    "        \"theme\": \"Environment\",\n",
    "        \"aspect\": [\"recycling\", \"energy consumption\", \"climate change\"]\n",
    "    }\n",
    "]\n",
    "\n",
    "# number of iterations\n",
    "x: int = 1\n",
    "\n",
    "# hidden parameters (randomly chosen)\n",
    "length: List[str] = ['few-word', 'single-sentence', 'short', 'long']"
   ],
   "metadata": {
    "collapsed": false,
    "ExecuteTime": {
     "end_time": "2024-01-18T10:43:56.137848Z",
     "start_time": "2024-01-18T10:43:56.099802Z"
    }
   },
   "id": "7f1d095b5b7856c0"
  },
  {
   "cell_type": "code",
   "outputs": [],
   "source": [
    "configurations: List[Tuple] = list(\n",
    "    itertools.product(*[integrations, personas, languages, platforms, topics])\n",
    ")\n",
    "random.shuffle(configurations)"
   ],
   "metadata": {
    "collapsed": false,
    "ExecuteTime": {
     "end_time": "2024-01-18T10:43:56.844761Z",
     "start_time": "2024-01-18T10:43:56.808802Z"
    }
   },
   "id": "4d847b5ec3640c6b",
   "execution_count": 16
  },
  {
   "cell_type": "code",
   "execution_count": 17,
   "outputs": [
    {
     "name": "stderr",
     "output_type": "stream",
     "text": [
      " 47%|████▋     | 42/90 [13:14<15:07, 18.91s/it]\n"
     ]
    },
    {
     "ename": "KeyboardInterrupt",
     "evalue": "",
     "output_type": "error",
     "traceback": [
      "\u001B[0;31m---------------------------------------------------------------------------\u001B[0m",
      "\u001B[0;31mKeyboardInterrupt\u001B[0m                         Traceback (most recent call last)",
      "Cell \u001B[0;32mIn[17], line 42\u001B[0m\n\u001B[1;32m     40\u001B[0m sample[\u001B[38;5;124m'\u001B[39m\u001B[38;5;124mid\u001B[39m\u001B[38;5;124m'\u001B[39m] \u001B[38;5;241m=\u001B[39m hashlib\u001B[38;5;241m.\u001B[39mshake_256(\u001B[38;5;28mstr\u001B[39m\u001B[38;5;241m.\u001B[39mencode(json\u001B[38;5;241m.\u001B[39mdumps(sample)))\u001B[38;5;241m.\u001B[39mhexdigest(\u001B[38;5;241m24\u001B[39m)\n\u001B[1;32m     41\u001B[0m \u001B[38;5;28mopen\u001B[39m(\u001B[38;5;124mf\u001B[39m\u001B[38;5;124m'\u001B[39m\u001B[38;5;132;01m{\u001B[39;00mRAW_DATA_DIR\u001B[38;5;132;01m}\u001B[39;00m\u001B[38;5;124m/\u001B[39m\u001B[38;5;132;01m{\u001B[39;00msample[\u001B[38;5;124m\"\u001B[39m\u001B[38;5;124mid\u001B[39m\u001B[38;5;124m\"\u001B[39m]\u001B[38;5;132;01m}\u001B[39;00m\u001B[38;5;124m.json\u001B[39m\u001B[38;5;124m'\u001B[39m, \u001B[38;5;124m'\u001B[39m\u001B[38;5;124mw\u001B[39m\u001B[38;5;124m'\u001B[39m)\u001B[38;5;241m.\u001B[39mwrite(json\u001B[38;5;241m.\u001B[39mdumps(sample, indent\u001B[38;5;241m=\u001B[39m\u001B[38;5;241m4\u001B[39m))\n\u001B[0;32m---> 42\u001B[0m sleep(\u001B[38;5;241m5\u001B[39m)\n",
      "\u001B[0;31mKeyboardInterrupt\u001B[0m: "
     ]
    }
   ],
   "source": [
    "for _ in range(x):\n",
    "    for integration, persona, language, platform, topic in tqdm(configurations):\n",
    "\n",
    "        payload: dict = {\n",
    "            \"personas\": persona,\n",
    "            \"integration\": integration,\n",
    "            \"language\": language,\n",
    "            \"platform\": platform,\n",
    "            \"topic\": f'{random.choice(topic[\"aspect\"])} in view of {topic[\"theme\"]}',\n",
    "            \"length\": random.choice(length)\n",
    "        }\n",
    "\n",
    "        response = requests.post('https://api.twon.uni-trier.de/generate/', json=payload)\n",
    "\n",
    "        if response.status_code == 500 or response.status_code == 502:\n",
    "            print(\"500/502: Connection Error, too many request, try again later.\")\n",
    "            break\n",
    "\n",
    "        try:\n",
    "            data: dict = response.json()\n",
    "\n",
    "        except Exception as e:\n",
    "            print(e, ':', response)\n",
    "            break\n",
    "\n",
    "        sample: dict = {\n",
    "            \"persona\": persona[0],\n",
    "            \"model\": integration[\"model\"],\n",
    "            \"topic\": topic[\"theme\"],\n",
    "            \"platform\": platform,\n",
    "            \"language\": language,\n",
    "            \"text\": data[\"response\"],\n",
    "            \"annotation\": {\n",
    "                \"topic\": None,\n",
    "                \"persona\": None,\n",
    "                \"authenticity\": None\n",
    "            }\n",
    "        }\n",
    "\n",
    "        sample['id'] = hashlib.shake_256(str.encode(json.dumps(sample))).hexdigest(24)\n",
    "        open(f'{RAW_DATA_DIR}/{sample[\"id\"]}.json', 'w').write(json.dumps(sample, indent=4))\n",
    "        sleep(5)"
   ],
   "metadata": {
    "collapsed": false,
    "ExecuteTime": {
     "end_time": "2024-01-18T10:57:11.461527Z",
     "start_time": "2024-01-18T10:43:57.218195Z"
    }
   },
   "id": "ccbd80ccd3116f94"
  },
  {
   "cell_type": "code",
   "execution_count": 52,
   "outputs": [],
   "source": [],
   "metadata": {
    "collapsed": false,
    "ExecuteTime": {
     "end_time": "2024-01-17T14:28:20.508019Z",
     "start_time": "2024-01-17T14:28:20.502450Z"
    }
   },
   "id": "a8aa81e492be1879"
  }
 ],
 "metadata": {
  "kernelspec": {
   "display_name": "Python 3",
   "language": "python",
   "name": "python3"
  },
  "language_info": {
   "codemirror_mode": {
    "name": "ipython",
    "version": 2
   },
   "file_extension": ".py",
   "mimetype": "text/x-python",
   "name": "python",
   "nbconvert_exporter": "python",
   "pygments_lexer": "ipython2",
   "version": "2.7.6"
  }
 },
 "nbformat": 4,
 "nbformat_minor": 5
}
