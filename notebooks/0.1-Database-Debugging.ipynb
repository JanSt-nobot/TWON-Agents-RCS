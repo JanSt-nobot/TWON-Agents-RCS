{
 "cells": [
  {
   "cell_type": "code",
   "execution_count": 104,
   "outputs": [],
   "source": [
    "from pymongo import MongoClient"
   ],
   "metadata": {
    "collapsed": false,
    "ExecuteTime": {
     "end_time": "2023-10-30T12:32:29.672130Z",
     "start_time": "2023-10-30T12:32:29.638746Z"
    }
   },
   "id": "6883de10c444bd34"
  },
  {
   "cell_type": "code",
   "execution_count": 105,
   "outputs": [],
   "source": [
    "client = MongoClient(host='136.199.93.61', authSource='admin')"
   ],
   "metadata": {
    "collapsed": false,
    "ExecuteTime": {
     "end_time": "2023-10-30T12:32:30.111250Z",
     "start_time": "2023-10-30T12:32:30.081149Z"
    }
   },
   "id": "1befa24243c7210"
  },
  {
   "cell_type": "code",
   "execution_count": 106,
   "outputs": [],
   "source": [
    "db = client.get_database('twon')"
   ],
   "metadata": {
    "collapsed": false,
    "ExecuteTime": {
     "end_time": "2023-10-30T12:32:31.509795Z",
     "start_time": "2023-10-30T12:32:31.477422Z"
    }
   },
   "id": "36e79fcf8db6c8d7"
  },
  {
   "cell_type": "code",
   "execution_count": 128,
   "outputs": [
    {
     "data": {
      "text/plain": "'tiiuae/falcon-7b-instruct'"
     },
     "execution_count": 128,
     "metadata": {},
     "output_type": "execute_result"
    }
   ],
   "source": [
    "db.config.find_one({'id': 'hf_model'})['value']"
   ],
   "metadata": {
    "collapsed": false,
    "ExecuteTime": {
     "end_time": "2023-10-30T12:34:40.793181Z",
     "start_time": "2023-10-30T12:34:40.786820Z"
    }
   },
   "id": "3f0413b5659db0a6"
  },
  {
   "cell_type": "code",
   "execution_count": 129,
   "outputs": [
    {
     "data": {
      "text/plain": "<pymongo.results.InsertOneResult at 0x106e87d30>"
     },
     "execution_count": 129,
     "metadata": {},
     "output_type": "execute_result"
    }
   ],
   "source": [
    "db.config.insert_one({\n",
    "    'key': 'hf_model_args',\n",
    "    'value': {\n",
    "        \"temperature\": 0.8,\n",
    "        \"max_length\": 256\n",
    "    }\n",
    "})"
   ],
   "metadata": {
    "collapsed": false,
    "ExecuteTime": {
     "end_time": "2023-10-30T12:36:47.630072Z",
     "start_time": "2023-10-30T12:36:47.622058Z"
    }
   },
   "id": "d0bad95aca0001c6"
  },
  {
   "cell_type": "code",
   "execution_count": 133,
   "outputs": [
    {
     "data": {
      "text/plain": "\"Decide with yes or no if you would read the following text {character}: '''{content}'''\""
     },
     "execution_count": 133,
     "metadata": {},
     "output_type": "execute_result"
    }
   ],
   "source": [
    "db.templates.find_one({'id': 'read'})['content']"
   ],
   "metadata": {
    "collapsed": false,
    "ExecuteTime": {
     "end_time": "2023-10-30T12:48:18.068815Z",
     "start_time": "2023-10-30T12:48:18.061243Z"
    }
   },
   "id": "c4b30a0b20ef6fbd"
  }
 ],
 "metadata": {
  "kernelspec": {
   "display_name": "Python 3",
   "language": "python",
   "name": "python3"
  },
  "language_info": {
   "codemirror_mode": {
    "name": "ipython",
    "version": 2
   },
   "file_extension": ".py",
   "mimetype": "text/x-python",
   "name": "python",
   "nbconvert_exporter": "python",
   "pygments_lexer": "ipython2",
   "version": "2.7.6"
  }
 },
 "nbformat": 4,
 "nbformat_minor": 5
}
