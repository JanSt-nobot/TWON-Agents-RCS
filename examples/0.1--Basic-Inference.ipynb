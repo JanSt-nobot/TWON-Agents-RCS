{
 "cells": [
  {
   "cell_type": "code",
   "execution_count": 111,
   "outputs": [],
   "source": [
    "import requests"
   ],
   "metadata": {
    "collapsed": false,
    "ExecuteTime": {
     "end_time": "2023-12-12T17:00:05.008531Z",
     "start_time": "2023-12-12T17:00:04.977712Z"
    }
   },
   "id": "20f839266c8d340e"
  },
  {
   "cell_type": "code",
   "execution_count": 112,
   "outputs": [],
   "source": [
    "meta: dict = {\n",
    "    \"integration\": {\n",
    "        \"provider\": \"OpenAI\",\n",
    "        \"model\": \"gpt-3.5-turbo\"\n",
    "    },\n",
    "    \"action\": \"reply\"\n",
    "}"
   ],
   "metadata": {
    "collapsed": false,
    "ExecuteTime": {
     "end_time": "2023-12-12T17:00:05.009160Z",
     "start_time": "2023-12-12T17:00:04.984242Z"
    }
   },
   "id": "6363da77443da132"
  },
  {
   "cell_type": "code",
   "execution_count": 113,
   "outputs": [],
   "source": [
    "persona: list = [\n",
    "        \"polarizer\",\n",
    "        \"memer\"\n",
    "    ]"
   ],
   "metadata": {
    "collapsed": false,
    "ExecuteTime": {
     "end_time": "2023-12-12T17:00:05.024103Z",
     "start_time": "2023-12-12T17:00:04.990774Z"
    }
   },
   "id": "238c37683dcd4626"
  },
  {
   "cell_type": "code",
   "execution_count": 114,
   "outputs": [],
   "source": [
    "thread: dict = {\n",
    "    \"posts\": [\n",
    "        {\"author\": \"human_user\", \"message\": \"I like cookies!\"},\n",
    "        {\"author\": \"cookie_monster\", \"message\": \"Me Love to Eat Cookies.\"}\n",
    "    ]\n",
    "}"
   ],
   "metadata": {
    "collapsed": false,
    "ExecuteTime": {
     "end_time": "2023-12-12T17:00:05.024519Z",
     "start_time": "2023-12-12T17:00:04.998341Z"
    }
   },
   "id": "7bea369b6891be9b"
  },
  {
   "cell_type": "code",
   "execution_count": 115,
   "outputs": [],
   "source": [
    "history: dict = {\n",
    "    \"interactions\": [\n",
    "        {\"action\": \"liked\", \"message\": \"Sweets make the world go round!\"},\n",
    "        {\"action\": \"wrote\", \"message\": \"As a kid, I fell into a jar of honey.\"}\n",
    "    ]\n",
    "}"
   ],
   "metadata": {
    "collapsed": false,
    "ExecuteTime": {
     "end_time": "2023-12-12T17:00:05.026555Z",
     "start_time": "2023-12-12T17:00:05.013987Z"
    }
   },
   "id": "5242c83cbddf6f82"
  },
  {
   "cell_type": "code",
   "execution_count": 116,
   "outputs": [],
   "source": [
    "payload: dict = meta | {\n",
    "    \"personas\": persona,\n",
    "    \"thread\": thread,\n",
    "    \"history\": history\n",
    "}"
   ],
   "metadata": {
    "collapsed": false,
    "ExecuteTime": {
     "end_time": "2023-12-12T17:00:05.040953Z",
     "start_time": "2023-12-12T17:00:05.031940Z"
    }
   },
   "id": "56d69a4581b6cca4"
  },
  {
   "cell_type": "code",
   "execution_count": 117,
   "outputs": [],
   "source": [
    "response = requests.post(\n",
    "    'https://api.twon.uni-trier.de/agents/',\n",
    "    json=payload\n",
    ").json()"
   ],
   "metadata": {
    "collapsed": false,
    "ExecuteTime": {
     "end_time": "2023-12-12T17:00:08.009552Z",
     "start_time": "2023-12-12T17:00:05.038026Z"
    }
   },
   "id": "b7f74c40c1cf3e1"
  },
  {
   "cell_type": "code",
   "execution_count": 118,
   "outputs": [
    {
     "data": {
      "text/plain": "['id', 'timestamp', 'action', 'persona', 'integration', 'prompt', 'response']"
     },
     "execution_count": 118,
     "metadata": {},
     "output_type": "execute_result"
    }
   ],
   "source": [
    "list(response.keys())"
   ],
   "metadata": {
    "collapsed": false,
    "ExecuteTime": {
     "end_time": "2023-12-12T17:00:08.019707Z",
     "start_time": "2023-12-12T17:00:08.012019Z"
    }
   },
   "id": "db9636e3d9f59e6a"
  },
  {
   "cell_type": "code",
   "execution_count": 119,
   "outputs": [
    {
     "name": "stdout",
     "output_type": "stream",
     "text": [
      "ID\n",
      "e759358c-990f-11ee-a387-16f3cb89d533\n",
      "################################################\n",
      "TIMESTAMP\n",
      "2023-12-12T17:00:08.000741\n",
      "################################################\n",
      "ACTION\n",
      "reply\n",
      "################################################\n",
      "PERSONA\n",
      "{'id': 'polarizer_memer', 'name': 'Polarizer Memer', 'type': ['social-media-archetype', 'social-media-archetype'], 'persona': 'Your online presence revolves around intensifying political divisions by amplifying extreme views and launching relentless attacks against those who hold opposing opinions. Your posts are strategically designed to deepen the divide, ensuring that discussions devolve into heated confrontations rather than fostering understanding. You contribute to an environment where genuine dialogue is stifled.\\n\\nYou are the curator of political memes, the virtuoso of satire, and the maestro of humor in the realm of social media. Your content is a blend of clever wordplay, sharp visual humor, and insightful critiques, all encapsulated within the confines of a meme. Your posts carry the weight of political commentary, yet they are wrapped in the delightful package of amusement.', 'summary': 'I exacerbate political divisions by amplifying extreme views, launching relentless attacks against opposing opinions. I use political memes and satire to craft content that combines wordplay and insightful critiques for amusement.'}\n",
      "################################################\n",
      "INTEGRATION\n",
      "{'provider': 'OpenAI', 'model': 'gpt-3.5-turbo'}\n",
      "################################################\n",
      "PROMPT\n",
      "I want you to act as a social media user. You will engage in political and social discussions using an informal tone and brief sentences.\n",
      "\n",
      "Your online presence revolves around intensifying political divisions by amplifying extreme views and launching relentless attacks against those who hold opposing opinions. Your posts are strategically designed to deepen the divide, ensuring that discussions devolve into heated confrontations rather than fostering understanding. You contribute to an environment where genuine dialogue is stifled.\n",
      "\n",
      "You are the curator of political memes, the virtuoso of satire, and the maestro of humor in the realm of social media. Your content is a blend of clever wordplay, sharp visual humor, and insightful critiques, all encapsulated within the confines of a meme. Your posts carry the weight of political commentary, yet they are wrapped in the delightful package of amusement.\n",
      "\n",
      "-----------------\n",
      "\n",
      "Your recent interactions in the network are as follows:\n",
      "\n",
      "You liked the message: Sweets make the world go round!\n",
      "You wrote the message: As a kid, I fell into a jar of honey.\n",
      "\n",
      "-----------------\n",
      "\n",
      "Reply to the following thread while considering your history and character. Your response must not exceed 255 characters.\n",
      "\n",
      "Post by @human_user: I like cookies!\n",
      "Post by @cookie_monster: Me Love to Eat Cookies.\n",
      "\n",
      "-----------------\n",
      "\n",
      "Response:\n",
      "\n",
      "################################################\n",
      "RESPONSE\n",
      "@cookie_monster: Me too! But let's not forget about diversity on the dessert menu. A sprinkle of cake, a dollop of ice cream, and some pie on the side can make life even sweeter. #dessertlover\n",
      "################################################\n"
     ]
    }
   ],
   "source": [
    "for key, value in response.items():\n",
    "    print(key.upper())\n",
    "    print(value)\n",
    "    print('#' * 48)"
   ],
   "metadata": {
    "collapsed": false,
    "ExecuteTime": {
     "end_time": "2023-12-12T17:00:08.024737Z",
     "start_time": "2023-12-12T17:00:08.018425Z"
    }
   },
   "id": "c78b06ad40771f6b"
  }
 ],
 "metadata": {
  "kernelspec": {
   "display_name": "Python 3",
   "language": "python",
   "name": "python3"
  },
  "language_info": {
   "codemirror_mode": {
    "name": "ipython",
    "version": 2
   },
   "file_extension": ".py",
   "mimetype": "text/x-python",
   "name": "python",
   "nbconvert_exporter": "python",
   "pygments_lexer": "ipython2",
   "version": "2.7.6"
  }
 },
 "nbformat": 4,
 "nbformat_minor": 5
}
