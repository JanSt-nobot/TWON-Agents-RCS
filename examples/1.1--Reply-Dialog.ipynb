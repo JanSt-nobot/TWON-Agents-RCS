{
 "cells": [
  {
   "cell_type": "code",
   "execution_count": 1,
   "outputs": [],
   "source": [
    "import requests"
   ],
   "metadata": {
    "collapsed": false,
    "ExecuteTime": {
     "end_time": "2023-12-21T12:16:34.912750Z",
     "start_time": "2023-12-21T12:16:34.836904Z"
    }
   },
   "id": "20f839266c8d340e"
  },
  {
   "cell_type": "code",
   "execution_count": 2,
   "outputs": [],
   "source": [
    "meta: dict = {\n",
    "    \"integration\": {\n",
    "        \"provider\": \"OpenAI\",\n",
    "        \"model\": \"gpt-3.5-turbo\"\n",
    "    },\n",
    "    \"action\": \"reply\"\n",
    "}"
   ],
   "metadata": {
    "collapsed": false,
    "ExecuteTime": {
     "end_time": "2023-12-21T12:16:34.926169Z",
     "start_time": "2023-12-21T12:16:34.916079Z"
    }
   },
   "id": "6363da77443da132"
  },
  {
   "cell_type": "code",
   "execution_count": 3,
   "outputs": [],
   "source": [
    "dialog_personas: list = [\n",
    "    [\"antifa\"],\n",
    "    [\"alt_right\"],\n",
    "    [\"polarizer\"],\n",
    "    [\"liberal\"]\n",
    "]"
   ],
   "metadata": {
    "collapsed": false,
    "ExecuteTime": {
     "end_time": "2023-12-21T12:16:34.936967Z",
     "start_time": "2023-12-21T12:16:34.923843Z"
    }
   },
   "id": "238c37683dcd4626"
  },
  {
   "cell_type": "code",
   "execution_count": 4,
   "outputs": [],
   "source": [
    "thread: dict = {\n",
    "    \"posts\": [\n",
    "        {\"author\": \"human_user\",\n",
    "         \"message\": \"This is a bad decision. Trump incited violence and should be banned. Shame on Colorado.\"},\n",
    "    ]\n",
    "}"
   ],
   "metadata": {
    "collapsed": false,
    "ExecuteTime": {
     "end_time": "2023-12-21T12:16:35.362555Z",
     "start_time": "2023-12-21T12:16:35.329727Z"
    }
   },
   "id": "7bea369b6891be9b"
  },
  {
   "cell_type": "code",
   "execution_count": 5,
   "outputs": [],
   "source": [
    "history: dict = {\n",
    "    \"interactions\": []\n",
    "}"
   ],
   "metadata": {
    "collapsed": false,
    "ExecuteTime": {
     "end_time": "2023-12-21T12:16:36.061664Z",
     "start_time": "2023-12-21T12:16:36.020494Z"
    }
   },
   "id": "5242c83cbddf6f82"
  },
  {
   "cell_type": "code",
   "execution_count": 6,
   "outputs": [],
   "source": [
    "for persona in dialog_personas:\n",
    "    \n",
    "    payload = meta | {\n",
    "        \"personas\": persona,\n",
    "        \"thread\": thread,\n",
    "        \"history\": history\n",
    "    }\n",
    "    \n",
    "    response = requests.post(\n",
    "        \"https://api.twon.uni-trier.de/agents/\",\n",
    "        json=payload\n",
    "    ).json()\n",
    "    \n",
    "    thread[\"posts\"].append({\n",
    "        \"author\": response[\"persona\"][\"id\"],\n",
    "        \"message\": response[\"response\"]\n",
    "    })"
   ],
   "metadata": {
    "collapsed": false,
    "ExecuteTime": {
     "end_time": "2023-12-21T12:16:48.234421Z",
     "start_time": "2023-12-21T12:16:36.414499Z"
    }
   },
   "id": "b7f74c40c1cf3e1"
  },
  {
   "cell_type": "code",
   "execution_count": 7,
   "outputs": [
    {
     "name": "stdout",
     "output_type": "stream",
     "text": [
      "@human_user: This is a bad decision. Trump incited violence and should be banned. Shame on Colorado.\n",
      "\n",
      "@antifa: Couldn't agree more! Trump's rhetoric has long fueled hatred and violence, and it's disheartening to see Colorado fail to address this. We need leaders who prioritize peace and unity, not division and chaos. #NoMoreHate #FightAgainstFascism\n",
      "\n",
      "@alt_right: Don't be so quick to judge! Trump speaks for hardworking Americans, defending their values and interests. Colorado's decision is an attack on free speech. #SupportThePeople #StandUpForFreedom\n",
      "\n",
      "@polarizer: @antifa You're living in a fantasy if you think banning Trump will solve anything. He's a fighter for the working class and stands up to the elites who ignore their needs. Colorado's decision is just another example of the left's attempts to silence dissenting voices. #FreedomOfSpeechMatters #Trump2024\n",
      "\n",
      "@liberal: @polarizer I share your concerns. Banning Trump won't address the underlying issues but rather stifle debate. It's important to promote constructive dialogue while safeguarding freedom of speech. #OpenDiscussions #ProgressiveValues\n"
     ]
    }
   ],
   "source": [
    "for post in thread[\"posts\"]:\n",
    "    print(f'@{post[\"author\"]}: {post[\"message\"]}\\n')"
   ],
   "metadata": {
    "collapsed": false,
    "ExecuteTime": {
     "end_time": "2023-12-21T12:16:48.246061Z",
     "start_time": "2023-12-21T12:16:48.236584Z"
    }
   },
   "id": "6a3713b02895d57c"
  },
  {
   "cell_type": "code",
   "execution_count": 8,
   "outputs": [
    {
     "data": {
      "text/plain": "[{'author': 'human_user',\n  'message': 'This is a bad decision. Trump incited violence and should be banned. Shame on Colorado.'},\n {'author': 'antifa',\n  'message': \"Couldn't agree more! Trump's rhetoric has long fueled hatred and violence, and it's disheartening to see Colorado fail to address this. We need leaders who prioritize peace and unity, not division and chaos. #NoMoreHate #FightAgainstFascism\"},\n {'author': 'alt_right',\n  'message': \"Don't be so quick to judge! Trump speaks for hardworking Americans, defending their values and interests. Colorado's decision is an attack on free speech. #SupportThePeople #StandUpForFreedom\"},\n {'author': 'polarizer',\n  'message': \"@antifa You're living in a fantasy if you think banning Trump will solve anything. He's a fighter for the working class and stands up to the elites who ignore their needs. Colorado's decision is just another example of the left's attempts to silence dissenting voices. #FreedomOfSpeechMatters #Trump2024\"},\n {'author': 'liberal',\n  'message': \"@polarizer I share your concerns. Banning Trump won't address the underlying issues but rather stifle debate. It's important to promote constructive dialogue while safeguarding freedom of speech. #OpenDiscussions #ProgressiveValues\"}]"
     },
     "execution_count": 8,
     "metadata": {},
     "output_type": "execute_result"
    }
   ],
   "source": [
    "thread[\"posts\"]"
   ],
   "metadata": {
    "collapsed": false,
    "ExecuteTime": {
     "end_time": "2023-12-21T12:16:48.258156Z",
     "start_time": "2023-12-21T12:16:48.243812Z"
    }
   },
   "id": "6cb3b2b8d3bc392b"
  },
  {
   "cell_type": "code",
   "execution_count": null,
   "outputs": [],
   "source": [],
   "metadata": {
    "collapsed": false
   },
   "id": "da5ee1df90414f3f"
  }
 ],
 "metadata": {
  "kernelspec": {
   "display_name": "Python 3",
   "language": "python",
   "name": "python3"
  },
  "language_info": {
   "codemirror_mode": {
    "name": "ipython",
    "version": 2
   },
   "file_extension": ".py",
   "mimetype": "text/x-python",
   "name": "python",
   "nbconvert_exporter": "python",
   "pygments_lexer": "ipython2",
   "version": "2.7.6"
  }
 },
 "nbformat": 4,
 "nbformat_minor": 5
}
