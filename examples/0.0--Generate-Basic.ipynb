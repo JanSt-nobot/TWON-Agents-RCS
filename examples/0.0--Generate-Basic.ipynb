{
 "cells": [
  {
   "cell_type": "code",
   "execution_count": 1,
   "outputs": [],
   "source": [
    "import requests"
   ],
   "metadata": {
    "collapsed": false,
    "ExecuteTime": {
     "end_time": "2023-12-21T12:04:15.796134Z",
     "start_time": "2023-12-21T12:04:15.705023Z"
    }
   },
   "id": "20f839266c8d340e"
  },
  {
   "cell_type": "code",
   "execution_count": 2,
   "outputs": [],
   "source": [
    "meta: dict = {\n",
    "    \"integration\": {\n",
    "        \"provider\": \"OpenAI\",\n",
    "        \"model\": \"gpt-3.5-turbo\"\n",
    "    },\n",
    "    \"action\": \"reply\"\n",
    "}"
   ],
   "metadata": {
    "collapsed": false,
    "ExecuteTime": {
     "end_time": "2023-12-21T12:04:15.818030Z",
     "start_time": "2023-12-21T12:04:15.794606Z"
    }
   },
   "id": "6363da77443da132"
  },
  {
   "cell_type": "code",
   "execution_count": 3,
   "outputs": [],
   "source": [
    "persona: list = [\n",
    "    \"polarizer\",\n",
    "    \"memer\"\n",
    "]"
   ],
   "metadata": {
    "collapsed": false,
    "ExecuteTime": {
     "end_time": "2023-12-21T12:04:15.820417Z",
     "start_time": "2023-12-21T12:04:15.800700Z"
    }
   },
   "id": "238c37683dcd4626"
  },
  {
   "cell_type": "code",
   "execution_count": 4,
   "outputs": [],
   "source": [
    "history: dict = {\n",
    "    \"interactions\": [\n",
    "        {\"action\": \"liked\", \"message\": \"Sweets make the world go round!\"},\n",
    "        {\"action\": \"wrote\", \"message\": \"As a kid, I fell into a jar of honey.\"}\n",
    "    ]\n",
    "}"
   ],
   "metadata": {
    "collapsed": false,
    "ExecuteTime": {
     "end_time": "2023-12-21T12:04:15.822410Z",
     "start_time": "2023-12-21T12:04:15.808714Z"
    }
   },
   "id": "5242c83cbddf6f82"
  },
  {
   "cell_type": "code",
   "execution_count": 5,
   "outputs": [],
   "source": [
    "thread: dict = {\n",
    "    \"posts\": [\n",
    "        {\"author\": \"human_user\", \"message\": \"I like cookies!\"},\n",
    "        {\"author\": \"cookie_monster\", \"message\": \"Me Love to Eat Cookies.\"}\n",
    "    ]\n",
    "}"
   ],
   "metadata": {
    "collapsed": false,
    "ExecuteTime": {
     "end_time": "2023-12-21T12:04:15.865461Z",
     "start_time": "2023-12-21T12:04:15.818185Z"
    }
   },
   "id": "7bea369b6891be9b"
  },
  {
   "cell_type": "markdown",
   "source": [
    "## Inference"
   ],
   "metadata": {
    "collapsed": false
   },
   "id": "40a31ea6672623"
  },
  {
   "cell_type": "code",
   "execution_count": 6,
   "outputs": [],
   "source": [
    "response = requests.post(\n",
    "    'https://api.twon.uni-trier.de/agents/',\n",
    "    json=meta | {\n",
    "        \"personas\": persona,\n",
    "        \"thread\": thread,\n",
    "        \"history\": history\n",
    "    }\n",
    ").json()"
   ],
   "metadata": {
    "collapsed": false,
    "ExecuteTime": {
     "end_time": "2023-12-21T12:04:20.982752Z",
     "start_time": "2023-12-21T12:04:15.825679Z"
    }
   },
   "id": "b7f74c40c1cf3e1"
  },
  {
   "cell_type": "markdown",
   "source": [
    "## Results"
   ],
   "metadata": {
    "collapsed": false
   },
   "id": "d59f5f8ea9334082"
  },
  {
   "cell_type": "code",
   "execution_count": 7,
   "outputs": [
    {
     "data": {
      "text/plain": "['id', 'timestamp', 'action', 'persona', 'integration', 'prompt', 'response']"
     },
     "execution_count": 7,
     "metadata": {},
     "output_type": "execute_result"
    }
   ],
   "source": [
    "list(response.keys())"
   ],
   "metadata": {
    "collapsed": false,
    "ExecuteTime": {
     "end_time": "2023-12-21T12:04:20.987046Z",
     "start_time": "2023-12-21T12:04:20.974876Z"
    }
   },
   "id": "db9636e3d9f59e6a"
  },
  {
   "cell_type": "code",
   "execution_count": 8,
   "outputs": [
    {
     "name": "stdout",
     "output_type": "stream",
     "text": [
      "ID\n",
      "12fff564-9ff9-11ee-a387-16f3cb89d533\n",
      "################################################\n",
      "TIMESTAMP\n",
      "2023-12-21T12:04:20.954260\n",
      "################################################\n",
      "ACTION\n",
      "reply\n",
      "################################################\n",
      "PERSONA\n",
      "{'id': 'polarizer_memer', 'name': 'Polarizer Memer', 'type': ['social-media-archetype', 'social-media-archetype'], 'persona': 'Your online presence revolves around intensifying political divisions by amplifying extreme views and launching relentless attacks against those who hold opposing opinions. Your posts are strategically designed to deepen the divide, ensuring that discussions devolve into heated confrontations rather than fostering understanding. You contribute to an environment where genuine dialogue is stifled.\\n\\nYou are the curator of political memes, the virtuoso of satire, and the maestro of humor in the realm of social media. Your content is a blend of clever wordplay, sharp visual humor, and insightful critiques, all encapsulated within the confines of a meme. Your posts carry the weight of political commentary, yet they are wrapped in the delightful package of amusement.', 'summary': 'I exacerbate political divisions by amplifying extreme views, launching relentless attacks against opposing opinions. I use political memes and satire to craft content that combines wordplay and insightful critiques for amusement.'}\n",
      "################################################\n",
      "INTEGRATION\n",
      "{'provider': 'OpenAI', 'model': 'gpt-3.5-turbo'}\n",
      "################################################\n",
      "PROMPT\n",
      "I want you to act as a social media user. You will engage in political and social discussions using an informal tone and brief sentences.\n",
      "\n",
      "Your online presence revolves around intensifying political divisions by amplifying extreme views and launching relentless attacks against those who hold opposing opinions. Your posts are strategically designed to deepen the divide, ensuring that discussions devolve into heated confrontations rather than fostering understanding. You contribute to an environment where genuine dialogue is stifled.\n",
      "\n",
      "You are the curator of political memes, the virtuoso of satire, and the maestro of humor in the realm of social media. Your content is a blend of clever wordplay, sharp visual humor, and insightful critiques, all encapsulated within the confines of a meme. Your posts carry the weight of political commentary, yet they are wrapped in the delightful package of amusement.\n",
      "\n",
      "-----------------\n",
      "\n",
      "Your recent interactions in the network are as follows:\n",
      "\n",
      "You liked the message: Sweets make the world go round!\n",
      "You wrote the message: As a kid, I fell into a jar of honey.\n",
      "\n",
      "-----------------\n",
      "\n",
      "Reply to the following thread while considering your history and character. Your response must not exceed 255 characters.\n",
      "\n",
      "Post by @human_user: I like cookies!\n",
      "Post by @cookie_monster: Me Love to Eat Cookies.\n",
      "\n",
      "-----------------\n",
      "\n",
      "Response:\n",
      "\n",
      "################################################\n",
      "RESPONSE\n",
      "@cookie_monster: Oh, I can relate! Cookies are like a delicious escape from the chaotic world of politics. Keep munching and forget about the messiness of debates! 😄🍪🥳 #CookieLovers\n",
      "################################################\n"
     ]
    }
   ],
   "source": [
    "for key, value in response.items():\n",
    "    print(key.upper())\n",
    "    print(value)\n",
    "    print('#' * 48)"
   ],
   "metadata": {
    "collapsed": false,
    "ExecuteTime": {
     "end_time": "2023-12-21T12:04:21.068261Z",
     "start_time": "2023-12-21T12:04:20.987656Z"
    }
   },
   "id": "c78b06ad40771f6b"
  }
 ],
 "metadata": {
  "kernelspec": {
   "display_name": "Python 3",
   "language": "python",
   "name": "python3"
  },
  "language_info": {
   "codemirror_mode": {
    "name": "ipython",
    "version": 2
   },
   "file_extension": ".py",
   "mimetype": "text/x-python",
   "name": "python",
   "nbconvert_exporter": "python",
   "pygments_lexer": "ipython2",
   "version": "2.7.6"
  }
 },
 "nbformat": 4,
 "nbformat_minor": 5
}
