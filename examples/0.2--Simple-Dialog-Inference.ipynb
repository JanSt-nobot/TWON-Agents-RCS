{
 "cells": [
  {
   "cell_type": "code",
   "execution_count": 64,
   "outputs": [],
   "source": [
    "import requests"
   ],
   "metadata": {
    "collapsed": false,
    "ExecuteTime": {
     "end_time": "2023-12-12T17:03:20.758226Z",
     "start_time": "2023-12-12T17:03:20.727164Z"
    }
   },
   "id": "20f839266c8d340e"
  },
  {
   "cell_type": "code",
   "execution_count": 65,
   "outputs": [],
   "source": [
    "meta: dict = {\n",
    "    \"integration\": {\n",
    "        \"provider\": \"OpenAI\",\n",
    "        \"model\": \"gpt-3.5-turbo\"\n",
    "    },\n",
    "    \"action\": \"reply\"\n",
    "}"
   ],
   "metadata": {
    "collapsed": false,
    "ExecuteTime": {
     "end_time": "2023-12-12T17:03:21.152413Z",
     "start_time": "2023-12-12T17:03:21.127425Z"
    }
   },
   "id": "6363da77443da132"
  },
  {
   "cell_type": "code",
   "execution_count": 66,
   "outputs": [],
   "source": [
    "dialog_personas: list = [\n",
    "    [\"antifa\"],\n",
    "    [\"alt_right\"],\n",
    "    [\"polarizer\"],\n",
    "    [\"liberal\"]\n",
    "]"
   ],
   "metadata": {
    "collapsed": false,
    "ExecuteTime": {
     "end_time": "2023-12-12T17:03:21.655703Z",
     "start_time": "2023-12-12T17:03:21.628413Z"
    }
   },
   "id": "238c37683dcd4626"
  },
  {
   "cell_type": "code",
   "execution_count": 67,
   "outputs": [],
   "source": [
    "thread: dict = {\n",
    "    \"posts\": [\n",
    "        {\"author\": \"human_user\",\n",
    "         \"message\": \"This is a bad decision. Trump incited violence and should be banned. Shame on Colorado.\"},\n",
    "    ]\n",
    "}"
   ],
   "metadata": {
    "collapsed": false,
    "ExecuteTime": {
     "end_time": "2023-12-12T17:03:22.059527Z",
     "start_time": "2023-12-12T17:03:22.033187Z"
    }
   },
   "id": "7bea369b6891be9b"
  },
  {
   "cell_type": "code",
   "execution_count": 68,
   "outputs": [],
   "source": [
    "history: dict = {\n",
    "    \"interactions\": []\n",
    "}"
   ],
   "metadata": {
    "collapsed": false,
    "ExecuteTime": {
     "end_time": "2023-12-12T17:03:22.558573Z",
     "start_time": "2023-12-12T17:03:22.529561Z"
    }
   },
   "id": "5242c83cbddf6f82"
  },
  {
   "cell_type": "code",
   "execution_count": 69,
   "outputs": [],
   "source": [
    "for persona in dialog_personas:\n",
    "    \n",
    "    payload = meta | {\n",
    "        \"personas\": persona,\n",
    "        \"thread\": thread,\n",
    "        \"history\": history\n",
    "    }\n",
    "    \n",
    "    response = requests.post(\n",
    "        \"https://api.twon.uni-trier.de/agents/\",\n",
    "        json=payload\n",
    "    ).json()\n",
    "    \n",
    "    thread[\"posts\"].append({\n",
    "        \"author\": response[\"persona\"][\"id\"],\n",
    "        \"message\": response[\"response\"]\n",
    "    })"
   ],
   "metadata": {
    "collapsed": false,
    "ExecuteTime": {
     "end_time": "2023-12-12T17:03:34.639993Z",
     "start_time": "2023-12-12T17:03:23.009934Z"
    }
   },
   "id": "b7f74c40c1cf3e1"
  },
  {
   "cell_type": "code",
   "execution_count": 71,
   "outputs": [
    {
     "name": "stdout",
     "output_type": "stream",
     "text": [
      "@human_user: This is a bad decision. Trump incited violence and should be banned. Shame on Colorado.\n",
      "\n",
      "@antifa: Agreed! Trump's rhetoric and actions have stoked division and hatred. It's disappointing that Colorado didn't take a stronger stand against his incitement of violence. We need leaders who prioritize peace and unity, not promotion of aggression. #NoMoreHate\n",
      "\n",
      "@alt_right: Colorado made the right call. It's time to stop blaming Trump for everything. We need leaders who protect our borders, prioritize American interests, and don't kowtow to political correctness. #MakeAmericaGreatAgain🇺🇸\n",
      "\n",
      "@polarizer: @human_user and @antifa, typical leftist mindset. Always quick to blame Trump for everything. Colorado made the right call by not giving in to your divisive rhetoric. We need leaders who prioritize national security and don't bow down to liberal agendas. #AmericaFirst #MAGA\n",
      "\n",
      "@liberal: @polarizer, blaming Trump for everything is a bit simplistic. However, it's essential to acknowledge that leadership should prioritize inclusivity, protect borders, and address real concerns without fueling division. A balanced approach is necessary for progress. #SocialEquality #ProgressiveValues\n"
     ]
    }
   ],
   "source": [
    "for post in thread[\"posts\"]:\n",
    "    print(f'@{post[\"author\"]}: {post[\"message\"]}\\n')"
   ],
   "metadata": {
    "collapsed": false,
    "ExecuteTime": {
     "end_time": "2023-12-12T17:04:41.300316Z",
     "start_time": "2023-12-12T17:04:41.294457Z"
    }
   },
   "id": "6a3713b02895d57c"
  },
  {
   "cell_type": "code",
   "execution_count": null,
   "outputs": [],
   "source": [],
   "metadata": {
    "collapsed": false
   },
   "id": "6cb3b2b8d3bc392b"
  }
 ],
 "metadata": {
  "kernelspec": {
   "display_name": "Python 3",
   "language": "python",
   "name": "python3"
  },
  "language_info": {
   "codemirror_mode": {
    "name": "ipython",
    "version": 2
   },
   "file_extension": ".py",
   "mimetype": "text/x-python",
   "name": "python",
   "nbconvert_exporter": "python",
   "pygments_lexer": "ipython2",
   "version": "2.7.6"
  }
 },
 "nbformat": 4,
 "nbformat_minor": 5
}
