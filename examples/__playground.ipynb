{
 "cells": [
  {
   "cell_type": "code",
   "execution_count": 2,
   "outputs": [],
   "source": [
    "import requests"
   ],
   "metadata": {
    "collapsed": false,
    "ExecuteTime": {
     "end_time": "2023-12-21T13:13:11.050137Z",
     "start_time": "2023-12-21T13:13:11.026903Z"
    }
   },
   "id": "38470df148c3608e"
  },
  {
   "cell_type": "code",
   "execution_count": 13,
   "outputs": [],
   "source": [
    "response = requests.post(\n",
    "    'https://socialapp.ijs.si/auth/register',\n",
    "    json={\n",
    "        \"username\": \"test14\",\n",
    "        \"email\": \"test14@test14.de\",\n",
    "        \"password\": \"test14\",\n",
    "        \"profilePicture\": \"person/noCover.png\"\n",
    "    }\n",
    ").json()"
   ],
   "metadata": {
    "collapsed": false,
    "ExecuteTime": {
     "end_time": "2023-12-21T13:15:49.826810Z",
     "start_time": "2023-12-21T13:15:49.414371Z"
    }
   },
   "id": "c5772bb994a0010"
  },
  {
   "cell_type": "code",
   "execution_count": 14,
   "outputs": [
    {
     "data": {
      "text/plain": "{'profilePicture': '',\n 'coverPicture': '',\n 'followers': [],\n 'followings': [],\n 'isAdmin': False,\n 'feedValue': '0',\n '_id': '65843a85d6fd86cd542b13d1',\n 'username': 'test14',\n 'email': 'test14@test14.de',\n 'password': '$2b$10$CCSPN/BnrfBmmHY3wGe2COyV08cyfT5jMAYU0YeimnTeMsz4CXKOS',\n 'createdAt': '2023-12-21T13:15:49.628Z',\n 'updatedAt': '2023-12-21T13:15:49.628Z',\n '__v': 0}"
     },
     "execution_count": 14,
     "metadata": {},
     "output_type": "execute_result"
    }
   ],
   "source": [
    "response"
   ],
   "metadata": {
    "collapsed": false,
    "ExecuteTime": {
     "end_time": "2023-12-21T13:15:50.348247Z",
     "start_time": "2023-12-21T13:15:50.328443Z"
    }
   },
   "id": "65080cdde78f7321"
  },
  {
   "cell_type": "code",
   "execution_count": 25,
   "outputs": [],
   "source": [
    "response = requests.post(\n",
    "    'https://socialapp.ijs.si/posts',\n",
    "    json={ \n",
    "        \"userId\": \"Kai._id\", \n",
    "        \"username\": \"Kai.username\", \n",
    "        \"desc\": \"text\", \n",
    "        \"postId\": \"post._id\"\n",
    "    }\n",
    ").json()"
   ],
   "metadata": {
    "collapsed": false,
    "ExecuteTime": {
     "end_time": "2023-12-21T13:28:02.397849Z",
     "start_time": "2023-12-21T13:28:02.092618Z"
    }
   },
   "id": "62108fdde1ec18ff"
  },
  {
   "cell_type": "code",
   "execution_count": 26,
   "outputs": [
    {
     "data": {
      "text/plain": "{'likes': [],\n 'comments': [],\n '_id': '65843d62d6fd86cd542b1628',\n 'userId': 'Kai._id',\n 'desc': 'text',\n 'created': '2023-12-21T13:28:02.229Z',\n 'createdAt': '2023-12-21T13:28:02.230Z',\n 'updatedAt': '2023-12-21T13:28:02.230Z',\n '__v': 0}"
     },
     "execution_count": 26,
     "metadata": {},
     "output_type": "execute_result"
    }
   ],
   "source": [
    "response"
   ],
   "metadata": {
    "collapsed": false,
    "ExecuteTime": {
     "end_time": "2023-12-21T13:28:03.605446Z",
     "start_time": "2023-12-21T13:28:03.583611Z"
    }
   },
   "id": "4326c61aad6a54bf"
  },
  {
   "cell_type": "code",
   "execution_count": null,
   "outputs": [],
   "source": [],
   "metadata": {
    "collapsed": false
   },
   "id": "88bd40b804ee5484"
  }
 ],
 "metadata": {
  "kernelspec": {
   "display_name": "Python 3",
   "language": "python",
   "name": "python3"
  },
  "language_info": {
   "codemirror_mode": {
    "name": "ipython",
    "version": 2
   },
   "file_extension": ".py",
   "mimetype": "text/x-python",
   "name": "python",
   "nbconvert_exporter": "python",
   "pygments_lexer": "ipython2",
   "version": "2.7.6"
  }
 },
 "nbformat": 4,
 "nbformat_minor": 5
}
